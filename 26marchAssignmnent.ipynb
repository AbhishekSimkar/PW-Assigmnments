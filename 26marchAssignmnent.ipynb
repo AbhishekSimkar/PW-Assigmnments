{
 "cells": [
  {
   "cell_type": "code",
   "execution_count": 1,
   "id": "02baba78-b624-41dc-9be9-11f05a607694",
   "metadata": {},
   "outputs": [
    {
     "data": {
      "text/plain": [
       "'1. Explain the difference between simple linear regression and multiple linear regression. Provide an example of each.'"
      ]
     },
     "execution_count": 1,
     "metadata": {},
     "output_type": "execute_result"
    }
   ],
   "source": [
    "'1. Explain the difference between simple linear regression and multiple linear regression. Provide an example of each.'"
   ]
  },
  {
   "cell_type": "code",
   "execution_count": 2,
   "id": "a56011cd-05db-47c7-a31a-e57bdcbd1f40",
   "metadata": {},
   "outputs": [
    {
     "data": {
      "text/plain": [
       "'Simple Linear regression: A regression model that estimates the relationship between one independent variable and one dependent variable using a straight line.\\nMultiple Linear regression: A regression model that estimates the relationship between multiple independent variable and one dependent variable using a Plane.'"
      ]
     },
     "execution_count": 2,
     "metadata": {},
     "output_type": "execute_result"
    }
   ],
   "source": [
    "'''Simple Linear regression: A regression model that estimates the relationship between one independent variable and one dependent variable using a straight line.\n",
    "Multiple Linear regression: A regression model that estimates the relationship between multiple independent variable and one dependent variable using a Plane.'''"
   ]
  },
  {
   "cell_type": "code",
   "execution_count": 3,
   "id": "0389d888-61c5-47e9-915f-7fe79665036f",
   "metadata": {},
   "outputs": [
    {
     "data": {
      "text/plain": [
       "'2. Discuss the assumptions of linear regression. How can you check whether these assumptions hold in a given dataset?'"
      ]
     },
     "execution_count": 3,
     "metadata": {},
     "output_type": "execute_result"
    }
   ],
   "source": [
    "'2. Discuss the assumptions of linear regression. How can you check whether these assumptions hold in a given dataset?'"
   ]
  },
  {
   "cell_type": "code",
   "execution_count": 4,
   "id": "a60fd403-3bb0-49ba-8ecd-ea6d5bc6b2a4",
   "metadata": {},
   "outputs": [
    {
     "data": {
      "text/plain": [
       "'Following are the assumptions:\\n1) Linearity: The relationship between X and the mean of Y is linear.\\n2) Homoscedasticity: The variance of residual is the same for any value of X.\\n3) Independence: Observations are independent of each other.\\n4) Normality: For any fixed value of X, Y is normally distributed.\\nThe data we plot must be linear with least value of error.\\n'"
      ]
     },
     "execution_count": 4,
     "metadata": {},
     "output_type": "execute_result"
    }
   ],
   "source": [
    "'''Following are the assumptions:\n",
    "1) Linearity: The relationship between X and the mean of Y is linear.\n",
    "2) Homoscedasticity: The variance of residual is the same for any value of X.\n",
    "3) Independence: Observations are independent of each other.\n",
    "4) Normality: For any fixed value of X, Y is normally distributed.\n",
    "The data we plot must be linear with least value of error.\n",
    "'''"
   ]
  },
  {
   "cell_type": "code",
   "execution_count": 5,
   "id": "3e58721a-7304-4c7c-95f0-3a02b2ed6f25",
   "metadata": {},
   "outputs": [
    {
     "data": {
      "text/plain": [
       "'3. How do you interpret the slope and intercept in a linear regression model? Provide an example using a real-world scenario.'"
      ]
     },
     "execution_count": 5,
     "metadata": {},
     "output_type": "execute_result"
    }
   ],
   "source": [
    "'3. How do you interpret the slope and intercept in a linear regression model? Provide an example using a real-world scenario.'"
   ]
  },
  {
   "cell_type": "code",
   "execution_count": 6,
   "id": "fdd32109-4f81-45b0-8ba2-9d1ca743f486",
   "metadata": {},
   "outputs": [
    {
     "data": {
      "text/plain": [
       "'Slop is the rate of change of Y quantity wrt X quantity. and Intercept is the point where line cuts Y axis.\\n'"
      ]
     },
     "execution_count": 6,
     "metadata": {},
     "output_type": "execute_result"
    }
   ],
   "source": [
    "'''Slop is the rate of change of Y quantity wrt X quantity. and Intercept is the point where line cuts Y axis.\n",
    "'''"
   ]
  },
  {
   "cell_type": "code",
   "execution_count": 7,
   "id": "7d79dce3-2c98-4fc3-b6a9-7f06fdfc1ab6",
   "metadata": {},
   "outputs": [
    {
     "data": {
      "text/plain": [
       "'4. Explain the concept of gradient descent. How is it used in machine learning?'"
      ]
     },
     "execution_count": 7,
     "metadata": {},
     "output_type": "execute_result"
    }
   ],
   "source": [
    "'4. Explain the concept of gradient descent. How is it used in machine learning?'"
   ]
  },
  {
   "cell_type": "code",
   "execution_count": 8,
   "id": "694d83ad-2e7e-4996-a44c-86b25e27500c",
   "metadata": {},
   "outputs": [
    {
     "data": {
      "text/plain": [
       "'Gradient descent is an iterative first-order optimisation algorithm used to find a local minimum/maximum of a given function.\\nUsing covergence theorem we can calculate gradient descent in machine learning.'"
      ]
     },
     "execution_count": 8,
     "metadata": {},
     "output_type": "execute_result"
    }
   ],
   "source": [
    "'''Gradient descent is an iterative first-order optimisation algorithm used to find a local minimum/maximum of a given function.\n",
    "Using covergence theorem we can calculate gradient descent in machine learning.'''"
   ]
  },
  {
   "cell_type": "code",
   "execution_count": 9,
   "id": "7a5a920f-4c75-4342-be43-0f267c776618",
   "metadata": {},
   "outputs": [
    {
     "data": {
      "text/plain": [
       "'5. Describe the multiple linear regression model. How does it differ from simple linear regression?'"
      ]
     },
     "execution_count": 9,
     "metadata": {},
     "output_type": "execute_result"
    }
   ],
   "source": [
    "'5. Describe the multiple linear regression model. How does it differ from simple linear regression?'"
   ]
  },
  {
   "cell_type": "code",
   "execution_count": 10,
   "id": "77492001-d836-42df-a0bc-2302088aa184",
   "metadata": {},
   "outputs": [
    {
     "data": {
      "text/plain": [
       "'A regression model that estimates the relationship between multiple independent variable and one dependent variable using a Plane.\\nMultiple regression is a broader class of regressions that encompasses linear and nonlinear regressions with multiple explanatory variables. Whereas linear regress only has one independent variable impacting the slope of the relationship, multiple regression incorporates multiple independent variables.'"
      ]
     },
     "execution_count": 10,
     "metadata": {},
     "output_type": "execute_result"
    }
   ],
   "source": [
    "'''A regression model that estimates the relationship between multiple independent variable and one dependent variable using a Plane.\n",
    "Multiple regression is a broader class of regressions that encompasses linear and nonlinear regressions with multiple explanatory variables. Whereas linear regress only has one independent variable impacting the slope of the relationship, multiple regression incorporates multiple independent variables.'''"
   ]
  },
  {
   "cell_type": "code",
   "execution_count": 11,
   "id": "b1143129-fc89-470c-8e82-167f0c0410fb",
   "metadata": {},
   "outputs": [
    {
     "data": {
      "text/plain": [
       "'6. Explain the concept of multicollinearity in multiple linear regression. How can you detect and address this issue?'"
      ]
     },
     "execution_count": 11,
     "metadata": {},
     "output_type": "execute_result"
    }
   ],
   "source": [
    "'6. Explain the concept of multicollinearity in multiple linear regression. How can you detect and address this issue?'"
   ]
  },
  {
   "cell_type": "code",
   "execution_count": 12,
   "id": "81375f82-2d71-4a6f-a614-841caac63a88",
   "metadata": {},
   "outputs": [
    {
     "data": {
      "text/plain": [
       "\"Multicollinearity occurs when two or more independent variables in a data frame have a high correlation with one another in a regression model. This means that one independent variable can be predicted from another in a regression model.\\nIf you have two or more factors with a high VIF, remove one from the model. Because they supply redundant information, removing one of the correlated factors usually doesn't drastically reduce the R-squared.\""
      ]
     },
     "execution_count": 12,
     "metadata": {},
     "output_type": "execute_result"
    }
   ],
   "source": [
    "'''Multicollinearity occurs when two or more independent variables in a data frame have a high correlation with one another in a regression model. This means that one independent variable can be predicted from another in a regression model.\n",
    "If you have two or more factors with a high VIF, remove one from the model. Because they supply redundant information, removing one of the correlated factors usually doesn't drastically reduce the R-squared.'''"
   ]
  },
  {
   "cell_type": "code",
   "execution_count": 13,
   "id": "2b3daec4-a25d-446c-a273-2efeebc5e8b9",
   "metadata": {},
   "outputs": [
    {
     "data": {
      "text/plain": [
       "'7. Describe the polynomial regression model. How is it different from linear regression?'"
      ]
     },
     "execution_count": 13,
     "metadata": {},
     "output_type": "execute_result"
    }
   ],
   "source": [
    "'7. Describe the polynomial regression model. How is it different from linear regression?'"
   ]
  },
  {
   "cell_type": "code",
   "execution_count": 14,
   "id": "d29bdd75-6161-4b8d-aca4-bc5c5a88b05c",
   "metadata": {},
   "outputs": [
    {
     "data": {
      "text/plain": [
       "'Polynomial regression model: A algorithem in which one or multiple indepentent features are used to predict the one dependent output feature which fits parabola like line.\\nIn linear regression output feature is obtained in a straight line whereas in polynomial regression it is obtained in parabola. Also the sum of errors is less in polynomial regression model.'"
      ]
     },
     "execution_count": 14,
     "metadata": {},
     "output_type": "execute_result"
    }
   ],
   "source": [
    "'''Polynomial regression model: A algorithem in which one or multiple indepentent features are used to predict the one dependent output feature which fits parabola like line.\n",
    "In linear regression output feature is obtained in a straight line whereas in polynomial regression it is obtained in parabola. Also the sum of errors is less in polynomial regression model.'''"
   ]
  },
  {
   "cell_type": "code",
   "execution_count": 15,
   "id": "4626a02f-9b32-4202-a216-d829acb759e2",
   "metadata": {},
   "outputs": [
    {
     "data": {
      "text/plain": [
       "'8. What are the advantages and disadvantages of polynomial regression compared to linear regression? In what situations would you prefer to use polynomial regression?'"
      ]
     },
     "execution_count": 15,
     "metadata": {},
     "output_type": "execute_result"
    }
   ],
   "source": [
    "'8. What are the advantages and disadvantages of polynomial regression compared to linear regression? In what situations would you prefer to use polynomial regression?'"
   ]
  },
  {
   "cell_type": "code",
   "execution_count": 16,
   "id": "dfab0e2e-942a-4819-9228-a88be0a4d199",
   "metadata": {},
   "outputs": [
    {
     "data": {
      "text/plain": [
       "'Advantages: 1)Polynomial provides the best approximation of the relationship between the dependent and independent variable.\\n2)Broad range of function can be fit under it. It basically fits a wide range of curvature.\\nDisadvantages: 1)The presence of one or two outliers in the data can seriously affect the results of the nonlinear analysis.\\n2)These are too sensitive to the outliers.\\n3)There are unfortunately fewer model validation tools for the detection of outliers in nonlinear regression than there are for linear regression.\\n\\nWe will use polynomial regression whenever there is a chances of high error values in linear regression and there should be very less outliers.'"
      ]
     },
     "execution_count": 16,
     "metadata": {},
     "output_type": "execute_result"
    }
   ],
   "source": [
    "'''Advantages: 1)Polynomial provides the best approximation of the relationship between the dependent and independent variable.\n",
    "2)Broad range of function can be fit under it. It basically fits a wide range of curvature.\n",
    "Disadvantages: 1)The presence of one or two outliers in the data can seriously affect the results of the nonlinear analysis.\n",
    "2)These are too sensitive to the outliers.\n",
    "3)There are unfortunately fewer model validation tools for the detection of outliers in nonlinear regression than there are for linear regression.\n",
    "\n",
    "We will use polynomial regression whenever there is a chances of high error values in linear regression and there should be very less outliers.'''"
   ]
  },
  {
   "cell_type": "code",
   "execution_count": null,
   "id": "ef9d487f-9c16-4e8a-b4d2-0b49239c5124",
   "metadata": {},
   "outputs": [],
   "source": []
  }
 ],
 "metadata": {
  "kernelspec": {
   "display_name": "Python 3 (ipykernel)",
   "language": "python",
   "name": "python3"
  },
  "language_info": {
   "codemirror_mode": {
    "name": "ipython",
    "version": 3
   },
   "file_extension": ".py",
   "mimetype": "text/x-python",
   "name": "python",
   "nbconvert_exporter": "python",
   "pygments_lexer": "ipython3",
   "version": "3.10.8"
  }
 },
 "nbformat": 4,
 "nbformat_minor": 5
}
