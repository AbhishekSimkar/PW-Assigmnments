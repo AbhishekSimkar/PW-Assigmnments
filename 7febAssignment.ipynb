{
 "cells": [
  {
   "cell_type": "code",
   "execution_count": 2,
   "id": "48b9fd16-537c-43a5-bcde-a093f9bb71d7",
   "metadata": {},
   "outputs": [
    {
     "data": {
      "text/plain": [
       "' 1. You are writing code for a company. The requirement of the company is that you create a python\\nfunction that will check whether the password entered by the user is correct or not. The function should\\ntake the password as input and return the string “Valid Password” if the entered password follows the\\nbelow-given password guidelines else it should return “Invalid Password”.\\n\\nNote: 1. The Password should contain at least two uppercase letters and at least two lowercase letters.\\n2. The Password should contain at least a number and three special characters.\\n3. The length of the password should be 10 characters long.\\n'"
      ]
     },
     "execution_count": 2,
     "metadata": {},
     "output_type": "execute_result"
    }
   ],
   "source": [
    "''' 1. You are writing code for a company. The requirement of the company is that you create a python\n",
    "function that will check whether the password entered by the user is correct or not. The function should\n",
    "take the password as input and return the string “Valid Password” if the entered password follows the\n",
    "below-given password guidelines else it should return “Invalid Password”.\n",
    "\n",
    "Note: 1. The Password should contain at least two uppercase letters and at least two lowercase letters.\n",
    "2. The Password should contain at least a number and three special characters.\n",
    "3. The length of the password should be 10 characters long.\n",
    "'''"
   ]
  },
  {
   "cell_type": "code",
   "execution_count": 46,
   "id": "70713694-5963-485a-b020-439c64003351",
   "metadata": {},
   "outputs": [
    {
     "name": "stdout",
     "output_type": "stream",
     "text": [
      "Invalid Password\n",
      "Valid password\n",
      "Valid password\n"
     ]
    }
   ],
   "source": [
    "def password(p):\n",
    "    lst=[]\n",
    "    for i in p:\n",
    "        lst.append(i)\n",
    "    a,b,c,d=0,0,0,0\n",
    "    for j in lst:\n",
    "        if j.isupper()==True:\n",
    "            a+=1\n",
    "        elif j.islower()==True:\n",
    "            b+=1\n",
    "        elif j== '@':\n",
    "            c+=1\n",
    "        elif j.isdigit()==True:\n",
    "            d+=1\n",
    "    if len(lst)>=10 and a>=2 and b>=2 and c>=3 and d>=1:\n",
    "        print(\"Valid password\")\n",
    "    else:\n",
    "        print(\"Invalid Password\")\n",
    "password(\"dhghHUHYWF@9@jl\")\n",
    "password(\"44@FRDhgffg@Fgh@\")\n",
    "password(\"dhghH@UnjF@9@j\")"
   ]
  },
  {
   "cell_type": "code",
   "execution_count": null,
   "id": "492494c2-37d2-4527-857f-6b444b7ce0fc",
   "metadata": {},
   "outputs": [],
   "source": [
    "''' 2. Solve the below-given questions using at least one of the following: \n",
    "1. Lambda function\n",
    "2. Filter function\n",
    "3. map function\n",
    "4. List Comprehension\n",
    "'''"
   ]
  },
  {
   "cell_type": "code",
   "execution_count": 35,
   "id": "6c382c53-8c4f-42eb-ad36-ef373aa6ce2e",
   "metadata": {},
   "outputs": [
    {
     "name": "stdin",
     "output_type": "stream",
     "text": [
      "Please enter the string: abhishek\n"
     ]
    },
    {
     "name": "stdout",
     "output_type": "stream",
     "text": [
      "String does not start with A\n"
     ]
    }
   ],
   "source": [
    "#Check if the string starts with a particular letter\n",
    "x=str(input(\"Please enter the string:\"))\n",
    "lst=[]\n",
    "for i in x:\n",
    "    lst.append(i)\n",
    "if lst[0]== \"A\":\n",
    "    print(\"String starts with A\")\n",
    "else:\n",
    "    print(\"String does not start with A\")"
   ]
  },
  {
   "cell_type": "code",
   "execution_count": 52,
   "id": "6515f4c7-62c7-41b0-8248-5d8cabd48ef8",
   "metadata": {},
   "outputs": [
    {
     "name": "stdin",
     "output_type": "stream",
     "text": [
      "Please enter the string: 675\n"
     ]
    },
    {
     "name": "stdout",
     "output_type": "stream",
     "text": [
      "['6', '7', '5']\n",
      "String is numeric\n"
     ]
    }
   ],
   "source": [
    "#Check if the string is numeric\n",
    "x=str(input(\"Please enter the string:\"))\n",
    "lst=[]\n",
    "for i in x:\n",
    "    lst.append(i)\n",
    "print(lst)\n",
    "a=0\n",
    "for j in lst:\n",
    "    if j.isdigit()== True:\n",
    "        a+=1\n",
    "if a== len(lst):\n",
    "    print(\"String is numeric\")\n",
    "else:\n",
    "    print(\"String is not numeric\",a)"
   ]
  },
  {
   "cell_type": "code",
   "execution_count": 54,
   "id": "193bf306-cf4c-45fe-8875-9b319a164a7b",
   "metadata": {},
   "outputs": [
    {
     "name": "stdout",
     "output_type": "stream",
     "text": [
      "[('orange', 80), ('mango', 99), ('grapes', 1000)]\n"
     ]
    }
   ],
   "source": [
    "#Sort a list of tuples having fruit names and their quantity. [(\"mango\",99),(\"orange\",80), (\"grapes\", 1000)\n",
    "lst=[(\"mango\",99),(\"orange\",80), (\"grapes\", 1000)]\n",
    "lst.sort(key= lambda x: x[1])\n",
    "print(lst)"
   ]
  },
  {
   "cell_type": "code",
   "execution_count": 55,
   "id": "1185a7e8-8374-4078-94a5-f0f916b7d2be",
   "metadata": {},
   "outputs": [
    {
     "data": {
      "text/plain": [
       "[1, 4, 9, 16, 25, 36, 49, 64, 81, 100]"
      ]
     },
     "execution_count": 55,
     "metadata": {},
     "output_type": "execute_result"
    }
   ],
   "source": [
    "#Find the squares of numbers from 1 to 10\n",
    "def sq(x):\n",
    "    return x**2\n",
    "l=[1,2,3,4,5,6,7,8,9,10]\n",
    "list(map(sq,l))"
   ]
  },
  {
   "cell_type": "code",
   "execution_count": 56,
   "id": "15159d4f-2730-4f88-8666-31c79c2a5792",
   "metadata": {},
   "outputs": [
    {
     "data": {
      "text/plain": [
       "[1.0,\n",
       " 1.2599210498948732,\n",
       " 1.4422495703074083,\n",
       " 1.5874010519681994,\n",
       " 1.7099759466766968,\n",
       " 1.8171205928321397,\n",
       " 1.912931182772389,\n",
       " 2.0,\n",
       " 2.080083823051904,\n",
       " 2.154434690031884]"
      ]
     },
     "execution_count": 56,
     "metadata": {},
     "output_type": "execute_result"
    }
   ],
   "source": [
    "#Find the cube root of numbers from 1 to 10\n",
    "def cr(x):\n",
    "    return (x**(1/3))\n",
    "l=[1,2,3,4,5,6,7,8,9,10]\n",
    "list(map(cr,l))"
   ]
  },
  {
   "cell_type": "code",
   "execution_count": 64,
   "id": "85205004-e7c8-42e2-9979-dbea2b6b0ba3",
   "metadata": {},
   "outputs": [
    {
     "data": {
      "text/plain": [
       "[2, 4, 6, 8, 10]"
      ]
     },
     "execution_count": 64,
     "metadata": {},
     "output_type": "execute_result"
    }
   ],
   "source": [
    "#Check if a given number is even\n",
    "l=[1,2,3,4,5,6,7,8,9,10]\n",
    "list(filter(lambda x: (x%2==0),l))"
   ]
  },
  {
   "cell_type": "code",
   "execution_count": 65,
   "id": "0324a3ff-5842-4749-b07e-df8205ed9df4",
   "metadata": {},
   "outputs": [
    {
     "data": {
      "text/plain": [
       "[1, 3, 5, 7, 9]"
      ]
     },
     "execution_count": 65,
     "metadata": {},
     "output_type": "execute_result"
    }
   ],
   "source": [
    "#Filter odd numbers from the given list.\n",
    "l=[1,2,3,4,5,6,7,8,9,10]\n",
    "list(filter(lambda x: (x%2!=0),l))"
   ]
  },
  {
   "cell_type": "code",
   "execution_count": 72,
   "id": "6bf9a944-659b-490f-ac12-ea0d159a91b4",
   "metadata": {},
   "outputs": [
    {
     "name": "stdout",
     "output_type": "stream",
     "text": [
      "[1, 2, 3, 4, 5, 6, 0]\n",
      "[-1, -2, -3, -4, -5]\n"
     ]
    }
   ],
   "source": [
    "# Sort a list of integers into positive and negative integers lists.\n",
    "\n",
    "l=[1,2,3,4,5,6,-1,-2,-3,-4,-5,0]\n",
    "pos=list(filter(lambda x: x>=0 ,l))\n",
    "neg=list(filter(lambda x: x<0 ,l)) \n",
    "print(pos)\n",
    "print(neg)"
   ]
  },
  {
   "cell_type": "code",
   "execution_count": null,
   "id": "30fa5cc8-a27b-4671-a663-8656129a03bd",
   "metadata": {},
   "outputs": [],
   "source": []
  }
 ],
 "metadata": {
  "kernelspec": {
   "display_name": "Python 3 (ipykernel)",
   "language": "python",
   "name": "python3"
  },
  "language_info": {
   "codemirror_mode": {
    "name": "ipython",
    "version": 3
   },
   "file_extension": ".py",
   "mimetype": "text/x-python",
   "name": "python",
   "nbconvert_exporter": "python",
   "pygments_lexer": "ipython3",
   "version": "3.10.8"
  }
 },
 "nbformat": 4,
 "nbformat_minor": 5
}
