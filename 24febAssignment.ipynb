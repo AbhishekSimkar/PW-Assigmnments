{
 "cells": [
  {
   "cell_type": "code",
   "execution_count": 1,
   "id": "e9f44fbd-ce14-4acb-9068-c069a0ea73f6",
   "metadata": {},
   "outputs": [
    {
     "data": {
      "text/plain": [
       "'1. List any five functions of the pandas library with execution.'"
      ]
     },
     "execution_count": 1,
     "metadata": {},
     "output_type": "execute_result"
    }
   ],
   "source": [
    "'''1. List any five functions of the pandas library with execution.'''"
   ]
  },
  {
   "cell_type": "code",
   "execution_count": 2,
   "id": "803521bf-dafd-4b60-961b-e60404ad059c",
   "metadata": {},
   "outputs": [
    {
     "data": {
      "text/plain": [
       "'The functions in Pandas library are:\\nhead()\\ntail()\\nSeries()\\nDataFrame()\\nread_csv()'"
      ]
     },
     "execution_count": 2,
     "metadata": {},
     "output_type": "execute_result"
    }
   ],
   "source": [
    "'''The functions in Pandas library are:\n",
    "head()\n",
    "tail()\n",
    "Series()\n",
    "DataFrame()\n",
    "read_csv()'''"
   ]
  },
  {
   "cell_type": "code",
   "execution_count": 3,
   "id": "cc0115ea-ca12-45c8-9905-2097ba2d8d05",
   "metadata": {},
   "outputs": [
    {
     "data": {
      "text/plain": [
       "\"2. Given a Pandas DataFrame df with columns 'A', 'B', and 'C', write a Python function to re-index the DataFrame with a new index that starts from 1 and increments by 2 for each row\""
      ]
     },
     "execution_count": 3,
     "metadata": {},
     "output_type": "execute_result"
    }
   ],
   "source": [
    "'''2. Given a Pandas DataFrame df with columns 'A', 'B', and 'C', write a Python function to re-index the DataFrame with a new index that starts from 1 and increments by 2 for each row'''"
   ]
  },
  {
   "cell_type": "code",
   "execution_count": 4,
   "id": "3c23058a-98f4-4e8d-bf93-f0b23a1b4c47",
   "metadata": {},
   "outputs": [
    {
     "name": "stdout",
     "output_type": "stream",
     "text": [
      "   A  B   C\n",
      "1  1  4   6\n",
      "3  2  8   9\n",
      "5  3  5  20\n"
     ]
    }
   ],
   "source": [
    "import pandas as pd\n",
    "data={'A':[1,2,3],'B':[4,8,5],'C':[6,9,20]}\n",
    "df=pd.DataFrame(data, index=[1,3,5])\n",
    "print(df)"
   ]
  },
  {
   "cell_type": "code",
   "execution_count": 5,
   "id": "7bebd337-bab7-431a-981c-afea85b13f8f",
   "metadata": {},
   "outputs": [
    {
     "data": {
      "text/plain": [
       "\"3. You have a Pandas DataFrame df with a column named 'Values'. Write a Python function that iterates over the DataFrame and calculates the sum of the first three values in the 'Values' column. The function should print the sum to the console.\""
      ]
     },
     "execution_count": 5,
     "metadata": {},
     "output_type": "execute_result"
    }
   ],
   "source": [
    "'''3. You have a Pandas DataFrame df with a column named 'Values'. Write a Python function that iterates over the DataFrame and calculates the sum of the first three values in the 'Values' column. The function should print the sum to the console.'''"
   ]
  },
  {
   "cell_type": "code",
   "execution_count": 6,
   "id": "b1f78544-50f4-4454-8c63-9ae3c33a4f7f",
   "metadata": {},
   "outputs": [
    {
     "data": {
      "text/plain": [
       "60"
      ]
     },
     "execution_count": 6,
     "metadata": {},
     "output_type": "execute_result"
    }
   ],
   "source": [
    "data1={'Values':[10, 20, 30, 40, 50]}\n",
    "df1=pd.DataFrame(data1)\n",
    "l=[]\n",
    "for i in df1['Values']:\n",
    "    l.append(i)\n",
    "def sum1():\n",
    "    return l[0]+l[1]+l[2]\n",
    "sum1()\n"
   ]
  },
  {
   "cell_type": "code",
   "execution_count": 7,
   "id": "d1c6ac5a-9b7b-4c81-a2f3-6b1f57679b78",
   "metadata": {},
   "outputs": [
    {
     "data": {
      "text/plain": [
       "\"4. Given a Pandas DataFrame df with a column 'Text', write a Python function to create a new column 'Word_Count' that contains the number of words in each row of the 'Text' column.\""
      ]
     },
     "execution_count": 7,
     "metadata": {},
     "output_type": "execute_result"
    }
   ],
   "source": [
    "'''4. Given a Pandas DataFrame df with a column 'Text', write a Python function to create a new column 'Word_Count' that contains the number of words in each row of the 'Text' column.'''"
   ]
  },
  {
   "cell_type": "code",
   "execution_count": 8,
   "id": "1a3b22da-a75e-4c0e-ac2c-6e31a6ca8ba1",
   "metadata": {},
   "outputs": [
    {
     "name": "stdout",
     "output_type": "stream",
     "text": [
      "                                           Text\n",
      "0                       Braund, Mr. Owen Harris\n",
      "1                    Cumings, Mrs. John Bradley\n",
      "2                        Heikkinen, Miss. Laina\n",
      "3  Futrelle, Mrs. Jacques Heath (Lily May Peel)\n",
      "4                      Allen, Mr. William Henry\n",
      "5                  Graham, Miss. Margaret Edith\n",
      "6      Johnston, Miss. Catherine Helen \"Carrie\"\n",
      "7                         Behr, Mr. Karl Howell\n",
      "8                           Dooley, Mr. Patrick\n"
     ]
    }
   ],
   "source": [
    "data={'Text':['Braund, Mr. Owen Harris','Cumings, Mrs. John Bradley','Heikkinen, Miss. Laina','Futrelle, Mrs. Jacques Heath (Lily May Peel)','Allen, Mr. William Henry','Graham, Miss. Margaret Edith','Johnston, Miss. Catherine Helen \"Carrie\"','Behr, Mr. Karl Howell','Dooley, Mr. Patrick']}\n",
    "df2=pd.DataFrame(data)\n",
    "print(df2)"
   ]
  },
  {
   "cell_type": "code",
   "execution_count": 9,
   "id": "6ee57cd1-38d7-4743-898a-ba0c19bf3d50",
   "metadata": {},
   "outputs": [
    {
     "name": "stdout",
     "output_type": "stream",
     "text": [
      "                                           Text  Word_count\n",
      "0                       Braund, Mr. Owen Harris     Braund,\n",
      "1                    Cumings, Mrs. John Bradley    Cumings,\n",
      "2                        Heikkinen, Miss. Laina  Heikkinen,\n",
      "3  Futrelle, Mrs. Jacques Heath (Lily May Peel)   Futrelle,\n",
      "4                      Allen, Mr. William Henry      Allen,\n",
      "5                  Graham, Miss. Margaret Edith     Graham,\n",
      "6      Johnston, Miss. Catherine Helen \"Carrie\"   Johnston,\n",
      "7                         Behr, Mr. Karl Howell       Behr,\n",
      "8                           Dooley, Mr. Patrick     Dooley,\n"
     ]
    }
   ],
   "source": [
    "l=[]\n",
    "def count(x):\n",
    "    l=x.split()\n",
    "    return l[0]\n",
    "df2['Word_count']=df2['Text'].apply(lambda x: count(x))\n",
    "print(df2)"
   ]
  },
  {
   "cell_type": "code",
   "execution_count": 10,
   "id": "db6441e8-46d9-466f-a413-6ee2b86eaa0f",
   "metadata": {},
   "outputs": [
    {
     "data": {
      "text/plain": [
       "'5. How are DataFrame.size() and DataFrame.shape() different?'"
      ]
     },
     "execution_count": 10,
     "metadata": {},
     "output_type": "execute_result"
    }
   ],
   "source": [
    "'''5. How are DataFrame.size() and DataFrame.shape() different?'''"
   ]
  },
  {
   "cell_type": "code",
   "execution_count": 11,
   "id": "81a58250-2bad-413f-bbe3-15c07b728cf6",
   "metadata": {},
   "outputs": [
    {
     "data": {
      "text/plain": [
       "'DataFrame.size(): The size property is used to get an int representing the number of elements in this object and Return the number of rows if Series. Otherwise, return the number of rows times the number of columns if DataFrame.\\nDataFrame.shape(): The shape property is used to get a tuple representing the dimensionality of the Pandas DataFrame.'"
      ]
     },
     "execution_count": 11,
     "metadata": {},
     "output_type": "execute_result"
    }
   ],
   "source": [
    "'''DataFrame.size(): The size property is used to get an int representing the number of elements in this object and Return the number of rows if Series. Otherwise, return the number of rows times the number of columns if DataFrame.\n",
    "DataFrame.shape(): The shape property is used to get a tuple representing the dimensionality of the Pandas DataFrame.'''"
   ]
  },
  {
   "cell_type": "code",
   "execution_count": 12,
   "id": "f494bfb4-307c-463b-8125-c63a5ec9a402",
   "metadata": {},
   "outputs": [
    {
     "data": {
      "text/plain": [
       "'6. Which function of pandas do we use to read an excel file?'"
      ]
     },
     "execution_count": 12,
     "metadata": {},
     "output_type": "execute_result"
    }
   ],
   "source": [
    "'''6. Which function of pandas do we use to read an excel file?'''"
   ]
  },
  {
   "cell_type": "code",
   "execution_count": 13,
   "id": "f37c6489-1d4e-452a-8a73-cdce4b1a08c9",
   "metadata": {},
   "outputs": [
    {
     "data": {
      "text/plain": [
       "'read_excel() function is used to open an excel file.'"
      ]
     },
     "execution_count": 13,
     "metadata": {},
     "output_type": "execute_result"
    }
   ],
   "source": [
    "'''read_excel() function is used to open an excel file.'''"
   ]
  },
  {
   "cell_type": "code",
   "execution_count": 14,
   "id": "c49b83c3-5a46-45a2-bfce-99deb61cda6e",
   "metadata": {},
   "outputs": [
    {
     "data": {
      "text/plain": [
       "\"7. You have a Pandas DataFrame df that contains a column named 'Email' that contains email addresses in the format 'username@domain.com'. Write a Python function that creates a new column 'Username' in df that contains only the username part of each email address.\""
      ]
     },
     "execution_count": 14,
     "metadata": {},
     "output_type": "execute_result"
    }
   ],
   "source": [
    "'''7. You have a Pandas DataFrame df that contains a column named 'Email' that contains email addresses in the format 'username@domain.com'. Write a Python function that creates a new column 'Username' in df that contains only the username part of each email address.'''"
   ]
  },
  {
   "cell_type": "code",
   "execution_count": 15,
   "id": "cc7410cd-b125-4c59-8eba-52b21e1be7be",
   "metadata": {},
   "outputs": [
    {
     "name": "stdout",
     "output_type": "stream",
     "text": [
      "                  Email    Username\n",
      "0    abhishek@gmail.com    abhishek\n",
      "1     deeksha@gmail.com     deeksha\n",
      "2  siddhartha@gmail.com  siddhartha\n",
      "3        mahi@gmail.com        mahi\n",
      "4     shubham@gmail.com     shubham\n"
     ]
    }
   ],
   "source": [
    "data3={'Email':['abhishek@gmail.com','deeksha@gmail.com','siddhartha@gmail.com','mahi@gmail.com','shubham@gmail.com']}\n",
    "df3=pd.DataFrame(data3)\n",
    "def user_name(x):\n",
    "    l=x.split('@')\n",
    "    return l[0]\n",
    "df3['Username']=df3['Email'].apply(lambda x: user_name(x))\n",
    "print(df3)"
   ]
  },
  {
   "cell_type": "code",
   "execution_count": 16,
   "id": "06e9cec2-dbf7-4510-b37e-dfa051ee432e",
   "metadata": {},
   "outputs": [
    {
     "data": {
      "text/plain": [
       "\"8. You have a Pandas DataFrame df with columns 'A', 'B', and 'C'. Write a Python function that selects\\nall rows where the value in column 'A' is greater than 5 and the value in column 'B' is less than 10. The\\nfunction should return a new DataFrame that contains only the selected rows.\\n\\nFor example, if df contains the following values:\\n\\n   A   B   C\\n\\n0  3   5   1\\n\\n1  8   2   7\\n\\n2  6   9   4\\n\\n3  2   3   5\\n\\n4  9   1   2\\nYour function should select the following rows:  \\n   A   B   C\\n\\n1  8   2   7\\n\\n4  9   1   2\\n\\nThe function should return a new DataFrame that contains only the selected rows.\""
      ]
     },
     "execution_count": 16,
     "metadata": {},
     "output_type": "execute_result"
    }
   ],
   "source": [
    "'''8. You have a Pandas DataFrame df with columns 'A', 'B', and 'C'. Write a Python function that selects\n",
    "all rows where the value in column 'A' is greater than 5 and the value in column 'B' is less than 10. The\n",
    "function should return a new DataFrame that contains only the selected rows.\n",
    "\n",
    "For example, if df contains the following values:\n",
    "\n",
    "   A   B   C\n",
    "\n",
    "0  3   5   1\n",
    "\n",
    "1  8   2   7\n",
    "\n",
    "2  6   9   4\n",
    "\n",
    "3  2   3   5\n",
    "\n",
    "4  9   1   2\n",
    "Your function should select the following rows:  \n",
    "   A   B   C\n",
    "\n",
    "1  8   2   7\n",
    "\n",
    "4  9   1   2\n",
    "\n",
    "The function should return a new DataFrame that contains only the selected rows.'''"
   ]
  },
  {
   "cell_type": "code",
   "execution_count": 17,
   "id": "d7a47180-8c63-4a37-868f-18cd78d8251d",
   "metadata": {},
   "outputs": [
    {
     "name": "stdout",
     "output_type": "stream",
     "text": [
      "original Dataframe \n",
      "    A  B   C\n",
      "1  1  4   6\n",
      "3  2  8   9\n",
      "5  3  5  20\n",
      "\n",
      "New Dataframe \n",
      "    A  B  C\n",
      "1  8  2  7\n",
      "2  6  9  4\n",
      "4  9  1  2\n"
     ]
    }
   ],
   "source": [
    "data4={'A':[3,8,6,2,9],'B':[5,2,9,3,1],'C':[1,7,4,5,2]}\n",
    "df4=pd.DataFrame(data4)\n",
    "print('original Dataframe \\n', df)\n",
    "newdf=df4[(df4['A']>5) & (df4['B']<10)]\n",
    "print('\\nNew Dataframe \\n',newdf)"
   ]
  },
  {
   "cell_type": "code",
   "execution_count": 18,
   "id": "ff1811a6-6d9a-47fe-bf48-3490232d65ab",
   "metadata": {},
   "outputs": [
    {
     "data": {
      "text/plain": [
       "\"9. Given a Pandas DataFrame df with a column 'Values', write a Python function to calculate the mean, median, and standard deviation of the values in the 'Values' column.\""
      ]
     },
     "execution_count": 18,
     "metadata": {},
     "output_type": "execute_result"
    }
   ],
   "source": [
    "'''9. Given a Pandas DataFrame df with a column 'Values', write a Python function to calculate the mean, median, and standard deviation of the values in the 'Values' column.'''"
   ]
  },
  {
   "cell_type": "code",
   "execution_count": 19,
   "id": "26f95960-078f-4f10-98a1-9123840d5170",
   "metadata": {},
   "outputs": [
    {
     "name": "stdout",
     "output_type": "stream",
     "text": [
      "Mean of values is:  12.461538461538462\n",
      "Median of values is:  6.0\n",
      "Standard deviation  of values is:  15.425170904592838\n"
     ]
    }
   ],
   "source": [
    "data5={'Values':[1,4,3,5,7,9,6,3,6,7,35,53,23,]}\n",
    "df5=pd.DataFrame(data5)\n",
    "print('Mean of values is: ',df5['Values'].mean())\n",
    "print('Median of values is: ',df5['Values'].median())\n",
    "print('Standard deviation  of values is: ',df5['Values'].std())"
   ]
  },
  {
   "cell_type": "code",
   "execution_count": 20,
   "id": "5f7dcf3f-0a12-4885-b698-52b8c869b95d",
   "metadata": {},
   "outputs": [
    {
     "data": {
      "text/plain": [
       "\"10. Given a Pandas DataFrame df with a column 'Sales' and a column 'Date', write a Python function to create a new column 'MovingAverage' that contains the moving average of the sales for the past 7 days for each row in the DataFrame. The moving average should be calculated using a window of size 7 and should include the current day.\""
      ]
     },
     "execution_count": 20,
     "metadata": {},
     "output_type": "execute_result"
    }
   ],
   "source": [
    "'''10. Given a Pandas DataFrame df with a column 'Sales' and a column 'Date', write a Python function to create a new column 'MovingAverage' that contains the moving average of the sales for the past 7 days for each row in the DataFrame. The moving average should be calculated using a window of size 7 and should include the current day.'''"
   ]
  },
  {
   "cell_type": "code",
   "execution_count": 21,
   "id": "69845218-c7d0-4e05-ac60-058914386299",
   "metadata": {},
   "outputs": [
    {
     "name": "stdout",
     "output_type": "stream",
     "text": [
      "    Sales       Date  MovingAverage\n",
      "0    1000 2022-04-11            NaN\n",
      "1    3090 2022-04-12            NaN\n",
      "2     940 2022-04-13            NaN\n",
      "3    3555 2022-04-14            NaN\n",
      "4    2557 2022-04-15            NaN\n",
      "5    1029 2022-04-16            NaN\n",
      "6    4535 2022-04-17    2386.571429\n",
      "7    6464 2022-04-18    3167.142857\n",
      "8    5531 2022-04-19    3515.857143\n",
      "9    1324 2022-04-20    3570.714286\n",
      "10   5664 2022-04-21    3872.000000\n",
      "11    765 2022-04-22    3616.000000\n",
      "12   7976 2022-04-23    4608.428571\n",
      "13   3324 2022-04-24    4435.428571\n",
      "14   4580 2022-04-25    4166.285714\n"
     ]
    }
   ],
   "source": [
    "date =pd.date_range(start='2022-04-11', end='2022-04-25')\n",
    "data6={'Sales':[1000,3090,940,3555,2557,1029,4535,6464,5531,1324,5664,765,7976,3324,4580],\n",
    "       'Date':date}\n",
    "df6=pd.DataFrame(data6)\n",
    "df6['MovingAverage']=df6['Sales'].rolling(7).mean()\n",
    "print(df6)"
   ]
  },
  {
   "cell_type": "code",
   "execution_count": 22,
   "id": "d22f00f5-1048-4323-aa57-64b2558c556c",
   "metadata": {},
   "outputs": [
    {
     "data": {
      "text/plain": [
       "\"11. You have a Pandas DataFrame df with a column 'Date'. Write a Python function that creates a new column 'Weekday' in the DataFrame. The 'Weekday' column should contain the weekday name (e.g. Monday, Tuesday) corresponding to each date in the 'Date' column.\\n\\nFor example, if df contains the following values:\\n\\n         Date\\n\\n0  2023-01-01\\n\\n1  2023-01-02\\n\\n2  2023-01-03\\n\\n3  2023-01-04\\n\\n4  2023-01-05\\n\\nYour function should create the following DataFrame:\\n\\n\\n         Date    Weekday\\n\\n0  2023-01-01    Sunday\\n\\n1  2023-01-02     Monday\\n\\n2  2023-01-03    Tuesday\\n\\n3  2023-01-04    Wednesday\\n\\n4  2023-01-05    Thursday\\n\\nThe function should return the modified DataFrame.\""
      ]
     },
     "execution_count": 22,
     "metadata": {},
     "output_type": "execute_result"
    }
   ],
   "source": [
    "'''11. You have a Pandas DataFrame df with a column 'Date'. Write a Python function that creates a new column 'Weekday' in the DataFrame. The 'Weekday' column should contain the weekday name (e.g. Monday, Tuesday) corresponding to each date in the 'Date' column.\n",
    "\n",
    "For example, if df contains the following values:\n",
    "\n",
    "         Date\n",
    "\n",
    "0  2023-01-01\n",
    "\n",
    "1  2023-01-02\n",
    "\n",
    "2  2023-01-03\n",
    "\n",
    "3  2023-01-04\n",
    "\n",
    "4  2023-01-05\n",
    "\n",
    "Your function should create the following DataFrame:\n",
    "\n",
    "\n",
    "         Date    Weekday\n",
    "\n",
    "0  2023-01-01    Sunday\n",
    "\n",
    "1  2023-01-02     Monday\n",
    "\n",
    "2  2023-01-03    Tuesday\n",
    "\n",
    "3  2023-01-04    Wednesday\n",
    "\n",
    "4  2023-01-05    Thursday\n",
    "\n",
    "The function should return the modified DataFrame.'''"
   ]
  },
  {
   "cell_type": "code",
   "execution_count": 23,
   "id": "530624b9-1f3f-44ec-b7f8-38cf5c08c05d",
   "metadata": {},
   "outputs": [
    {
     "name": "stdout",
     "output_type": "stream",
     "text": [
      "         Date    Weekday\n",
      "0  2022-04-11     Monday\n",
      "1  2022-04-12    Tuesday\n",
      "2  2022-04-13  Wednesday\n",
      "3  2022-04-14   Thursday\n",
      "4  2022-04-15     Friday\n",
      "5  2022-04-16   Saturday\n",
      "6  2022-04-17     Sunday\n",
      "7  2022-04-18     Monday\n",
      "8  2022-04-19    Tuesday\n",
      "9  2022-04-20  Wednesday\n",
      "10 2022-04-21   Thursday\n",
      "11 2022-04-22     Friday\n",
      "12 2022-04-23   Saturday\n",
      "13 2022-04-24     Sunday\n",
      "14 2022-04-25     Monday\n"
     ]
    }
   ],
   "source": [
    "df7=pd.DataFrame({'Date':date})\n",
    "df7['Weekday']=df7['Date'].dt.day_name()\n",
    "print(df7)"
   ]
  },
  {
   "cell_type": "code",
   "execution_count": 32,
   "id": "b45c284f-4316-4b5c-851a-eb69500e8e56",
   "metadata": {},
   "outputs": [
    {
     "data": {
      "text/plain": [
       "\"12. Given a Pandas DataFrame df with a column 'Date' that contains timestamps, write a Python function to select all rows where the date is between '2023-01-01' and '2023-01-31'.\""
      ]
     },
     "execution_count": 32,
     "metadata": {},
     "output_type": "execute_result"
    }
   ],
   "source": [
    "'''12. Given a Pandas DataFrame df with a column 'Date' that contains timestamps, write a Python function to select all rows where the date is between '2023-01-01' and '2023-01-31'.'''"
   ]
  },
  {
   "cell_type": "code",
   "execution_count": 41,
   "id": "0f4e4d99-559f-4689-8171-29d3969d8e6c",
   "metadata": {},
   "outputs": [
    {
     "name": "stdout",
     "output_type": "stream",
     "text": [
      "Empty DataFrame\n",
      "Columns: [Date]\n",
      "Index: []\n"
     ]
    }
   ],
   "source": [
    "date1 =pd.date_range(start='2022-12-11', end='2023-02-25')\n",
    "df8=pd.DataFrame({'Date':date1})\n",
    "df8['Date'] = pd.to_datetime(df8['Date'], format='%Y-%m-%d')\n",
    "new_df = df8.loc[(df8['Date'] >= '2020-09-01') & (df8['Date'] < '2020-09-15')]\n",
    "print(new_df)"
   ]
  },
  {
   "cell_type": "code",
   "execution_count": null,
   "id": "a7e018c2-f96c-46ed-bbfe-a619cbb4c346",
   "metadata": {},
   "outputs": [],
   "source": []
  }
 ],
 "metadata": {
  "kernelspec": {
   "display_name": "Python 3 (ipykernel)",
   "language": "python",
   "name": "python3"
  },
  "language_info": {
   "codemirror_mode": {
    "name": "ipython",
    "version": 3
   },
   "file_extension": ".py",
   "mimetype": "text/x-python",
   "name": "python",
   "nbconvert_exporter": "python",
   "pygments_lexer": "ipython3",
   "version": "3.10.8"
  }
 },
 "nbformat": 4,
 "nbformat_minor": 5
}
