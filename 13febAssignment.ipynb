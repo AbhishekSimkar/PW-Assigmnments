{
 "cells": [
  {
   "cell_type": "code",
   "execution_count": 1,
   "id": "0687a92e-4b2b-4cc3-98df-dd6be03612a5",
   "metadata": {},
   "outputs": [
    {
     "data": {
      "text/plain": [
       "'1. Explain why we have to use the Exception class while creating a Custom Exception.\\nNote: Here Exception class refers to the base class for all the exceptions.'"
      ]
     },
     "execution_count": 1,
     "metadata": {},
     "output_type": "execute_result"
    }
   ],
   "source": [
    "'''1. Explain why we have to use the Exception class while creating a Custom Exception.\n",
    "Note: Here Exception class refers to the base class for all the exceptions.'''"
   ]
  },
  {
   "cell_type": "code",
   "execution_count": 2,
   "id": "ead23545-6b1c-4723-acec-1097455d590a",
   "metadata": {},
   "outputs": [
    {
     "data": {
      "text/plain": [
       "\" Since we don't know which kind of exception may arise during creating a program we need to use the Exception class while creating a custom exception\""
      ]
     },
     "execution_count": 2,
     "metadata": {},
     "output_type": "execute_result"
    }
   ],
   "source": [
    "''' Since we don't know which kind of exception may arise during creating a program we need to use the Exception class while creating a custom exception'''"
   ]
  },
  {
   "cell_type": "code",
   "execution_count": 3,
   "id": "5aee418d-e392-4eaa-8017-812f0711cebe",
   "metadata": {},
   "outputs": [
    {
     "data": {
      "text/plain": [
       "'2. Write a python program to print Python Exception Hierarchy.'"
      ]
     },
     "execution_count": 3,
     "metadata": {},
     "output_type": "execute_result"
    }
   ],
   "source": [
    "'''2. Write a python program to print Python Exception Hierarchy.'''"
   ]
  },
  {
   "cell_type": "code",
   "execution_count": 5,
   "id": "5e885546-7294-4616-b14a-b7d606d5ecb9",
   "metadata": {},
   "outputs": [
    {
     "name": "stdout",
     "output_type": "stream",
     "text": [
      "The class hierarchy for built-in exceptions is:\n",
      " Exception\n",
      "... TypeError\n",
      "...... FloatOperation\n",
      "...... MultipartConversionError\n",
      "... StopAsyncIteration\n",
      "... StopIteration\n",
      "... ImportError\n",
      "...... ModuleNotFoundError\n",
      "...... ZipImportError\n",
      "... OSError\n",
      "...... ConnectionError\n",
      "......... BrokenPipeError\n",
      "......... ConnectionAbortedError\n",
      "......... ConnectionRefusedError\n",
      "......... ConnectionResetError\n",
      "............ RemoteDisconnected\n",
      "...... BlockingIOError\n",
      "...... ChildProcessError\n",
      "...... FileExistsError\n",
      "...... FileNotFoundError\n",
      "...... IsADirectoryError\n",
      "...... NotADirectoryError\n",
      "...... InterruptedError\n",
      "......... InterruptedSystemCall\n",
      "...... PermissionError\n",
      "...... ProcessLookupError\n",
      "...... TimeoutError\n",
      "...... UnsupportedOperation\n",
      "...... itimer_error\n",
      "...... herror\n",
      "...... gaierror\n",
      "...... SSLError\n",
      "......... SSLCertVerificationError\n",
      "......... SSLZeroReturnError\n",
      "......... SSLWantWriteError\n",
      "......... SSLWantReadError\n",
      "......... SSLSyscallError\n",
      "......... SSLEOFError\n",
      "...... Error\n",
      "......... SameFileError\n",
      "...... SpecialFileError\n",
      "...... ExecError\n",
      "...... ReadError\n",
      "...... URLError\n",
      "......... HTTPError\n",
      "......... ContentTooShortError\n",
      "...... BadGzipFile\n",
      "... EOFError\n",
      "...... IncompleteReadError\n",
      "... RuntimeError\n",
      "...... RecursionError\n",
      "...... NotImplementedError\n",
      "......... ZMQVersionError\n",
      "......... StdinNotImplementedError\n",
      "...... _DeadlockError\n",
      "...... BrokenBarrierError\n",
      "...... BrokenExecutor\n",
      "......... BrokenThreadPool\n",
      "...... SendfileNotAvailableError\n",
      "...... ExtractionError\n",
      "...... VariableError\n",
      "... NameError\n",
      "...... UnboundLocalError\n",
      "... AttributeError\n",
      "...... FrozenInstanceError\n",
      "... SyntaxError\n",
      "...... IndentationError\n",
      "......... TabError\n",
      "... LookupError\n",
      "...... IndexError\n",
      "...... KeyError\n",
      "......... NoSuchKernel\n",
      "......... UnknownBackend\n",
      "...... CodecRegistryError\n",
      "... ValueError\n",
      "...... UnicodeError\n",
      "......... UnicodeEncodeError\n",
      "......... UnicodeDecodeError\n",
      "......... UnicodeTranslateError\n",
      "...... UnsupportedOperation\n",
      "...... JSONDecodeError\n",
      "...... SSLCertVerificationError\n",
      "...... Error\n",
      "...... UnsupportedDigestmodError\n",
      "...... IllegalMonthError\n",
      "...... IllegalWeekdayError\n",
      "...... ParserError\n",
      "...... ClassNotFound\n",
      "...... ClipboardEmpty\n",
      "...... MessageDefect\n",
      "......... NoBoundaryInMultipartDefect\n",
      "......... StartBoundaryNotFoundDefect\n",
      "......... CloseBoundaryNotFoundDefect\n",
      "......... FirstHeaderLineIsContinuationDefect\n",
      "......... MisplacedEnvelopeHeaderDefect\n",
      "......... MissingHeaderBodySeparatorDefect\n",
      "......... MultipartInvariantViolationDefect\n",
      "......... InvalidMultipartContentTransferEncodingDefect\n",
      "......... UndecodableBytesDefect\n",
      "......... InvalidBase64PaddingDefect\n",
      "......... InvalidBase64CharactersDefect\n",
      "......... InvalidBase64LengthDefect\n",
      "......... HeaderDefect\n",
      "............ InvalidHeaderDefect\n",
      "............ HeaderMissingRequiredValue\n",
      "............ NonPrintableDefect\n",
      "............ ObsoleteHeaderDefect\n",
      "............ NonASCIILocalPartDefect\n",
      "............ InvalidDateDefect\n",
      "...... MacroToEdit\n",
      "...... InvalidFileException\n",
      "...... UnequalIterablesError\n",
      "...... InvalidVersion\n",
      "...... _InvalidELFFileHeader\n",
      "...... InvalidWheelFilename\n",
      "...... InvalidSdistFilename\n",
      "...... InvalidSpecifier\n",
      "...... InvalidMarker\n",
      "...... UndefinedComparison\n",
      "...... UndefinedEnvironmentName\n",
      "...... InvalidRequirement\n",
      "......... RequirementParseError\n",
      "...... InvalidVersion\n",
      "... AssertionError\n",
      "... ArithmeticError\n",
      "...... FloatingPointError\n",
      "...... OverflowError\n",
      "...... ZeroDivisionError\n",
      "......... DivisionByZero\n",
      "......... DivisionUndefined\n",
      "...... DecimalException\n",
      "......... Clamped\n",
      "......... Rounded\n",
      "............ Underflow\n",
      "............ Overflow\n",
      "......... Inexact\n",
      "............ Underflow\n",
      "............ Overflow\n",
      "......... Subnormal\n",
      "............ Underflow\n",
      "......... DivisionByZero\n",
      "......... FloatOperation\n",
      "......... InvalidOperation\n",
      "............ ConversionSyntax\n",
      "............ DivisionImpossible\n",
      "............ DivisionUndefined\n",
      "............ InvalidContext\n",
      "... SystemError\n",
      "...... CodecRegistryError\n",
      "... ReferenceError\n",
      "... MemoryError\n",
      "... BufferError\n",
      "... Warning\n",
      "...... UserWarning\n",
      "......... GetPassWarning\n",
      "......... FormatterWarning\n",
      "...... EncodingWarning\n",
      "...... DeprecationWarning\n",
      "......... ProvisionalWarning\n",
      "...... PendingDeprecationWarning\n",
      "...... SyntaxWarning\n",
      "...... RuntimeWarning\n",
      "......... ProactorSelectorThreadWarning\n",
      "......... UnknownTimezoneWarning\n",
      "......... PEP440Warning\n",
      "...... FutureWarning\n",
      "......... ProvisionalCompleterWarning\n",
      "...... ImportWarning\n",
      "...... UnicodeWarning\n",
      "...... BytesWarning\n",
      "...... ResourceWarning\n",
      "...... DeprecatedTzFormatWarning\n",
      "...... PkgResourcesDeprecationWarning\n",
      "... _OptionError\n",
      "... _Error\n",
      "... error\n",
      "... Verbose\n",
      "... Error\n",
      "... SubprocessError\n",
      "...... CalledProcessError\n",
      "...... TimeoutExpired\n",
      "... TokenError\n",
      "... StopTokenizing\n",
      "... ClassFoundException\n",
      "... EndOfBlock\n",
      "... TraitError\n",
      "... Error\n",
      "... Error\n",
      "...... CancelledError\n",
      "...... TimeoutError\n",
      "...... InvalidStateError\n",
      "... _GiveupOnSendfile\n",
      "... error\n",
      "... Incomplete\n",
      "... TimeoutError\n",
      "... InvalidStateError\n",
      "... LimitOverrunError\n",
      "... QueueEmpty\n",
      "... QueueFull\n",
      "... Empty\n",
      "... Full\n",
      "... ArgumentError\n",
      "... ZMQBaseError\n",
      "...... ZMQError\n",
      "......... ContextTerminated\n",
      "......... Again\n",
      "......... InterruptedSystemCall\n",
      "...... ZMQBindError\n",
      "...... NotDone\n",
      "... PickleError\n",
      "...... PicklingError\n",
      "...... UnpicklingError\n",
      "... _Stop\n",
      "... ArgumentError\n",
      "... ArgumentTypeError\n",
      "... ConfigError\n",
      "...... ConfigLoaderError\n",
      "......... ArgumentError\n",
      "...... ConfigFileNotFound\n",
      "... ConfigurableError\n",
      "...... MultipleInstanceError\n",
      "... ApplicationError\n",
      "... error\n",
      "... TimeoutError\n",
      "... error\n",
      "... ReturnValueIgnoredError\n",
      "... KeyReuseError\n",
      "... UnknownKeyError\n",
      "... LeakedCallbackError\n",
      "... BadYieldError\n",
      "... ReturnValueIgnoredError\n",
      "... Return\n",
      "... InvalidPortNumber\n",
      "... error\n",
      "... LZMAError\n",
      "... RegistryError\n",
      "... _GiveupOnFastCopy\n",
      "... Error\n",
      "...... NoSectionError\n",
      "...... DuplicateSectionError\n",
      "...... DuplicateOptionError\n",
      "...... NoOptionError\n",
      "...... InterpolationError\n",
      "......... InterpolationMissingOptionError\n",
      "......... InterpolationSyntaxError\n",
      "......... InterpolationDepthError\n",
      "...... ParsingError\n",
      "......... MissingSectionHeaderError\n",
      "... NoIPAddresses\n",
      "... BadZipFile\n",
      "... LargeZipFile\n",
      "... BadEntryPoint\n",
      "... NoSuchEntryPoint\n",
      "... DuplicateKernelError\n",
      "... ErrorDuringImport\n",
      "... NotOneValueFound\n",
      "... CannotEval\n",
      "... OptionError\n",
      "... BdbQuit\n",
      "... Restart\n",
      "... ExceptionPexpect\n",
      "...... EOF\n",
      "...... TIMEOUT\n",
      "... PtyProcessError\n",
      "... FindCmdError\n",
      "... HomeDirError\n",
      "... ProfileDirError\n",
      "... IPythonCoreError\n",
      "...... TryNext\n",
      "...... UsageError\n",
      "...... StdinNotImplementedError\n",
      "... InputRejected\n",
      "... GetoptError\n",
      "... ErrorToken\n",
      "... PrefilterError\n",
      "... AliasError\n",
      "...... InvalidAliasError\n",
      "... Error\n",
      "...... InterfaceError\n",
      "...... DatabaseError\n",
      "......... InternalError\n",
      "......... OperationalError\n",
      "......... ProgrammingError\n",
      "......... IntegrityError\n",
      "......... DataError\n",
      "......... NotSupportedError\n",
      "... Warning\n",
      "... SpaceInInput\n",
      "... DOMException\n",
      "...... IndexSizeErr\n",
      "...... DomstringSizeErr\n",
      "...... HierarchyRequestErr\n",
      "...... WrongDocumentErr\n",
      "...... InvalidCharacterErr\n",
      "...... NoDataAllowedErr\n",
      "...... NoModificationAllowedErr\n",
      "...... NotFoundErr\n",
      "...... NotSupportedErr\n",
      "...... InuseAttributeErr\n",
      "...... InvalidStateErr\n",
      "...... SyntaxErr\n",
      "...... InvalidModificationErr\n",
      "...... NamespaceErr\n",
      "...... InvalidAccessErr\n",
      "...... ValidationErr\n",
      "... ValidationError\n",
      "... EditReadOnlyBuffer\n",
      "... _Retry\n",
      "... InvalidLayoutError\n",
      "... HeightIsUnknownError\n",
      "... ParserSyntaxError\n",
      "... InternalParseError\n",
      "... _PositionUpdatingFinished\n",
      "... SimpleGetItemNotFound\n",
      "... UncaughtAttributeError\n",
      "... HasNoContext\n",
      "... ParamIssue\n",
      "... _JediError\n",
      "...... InternalError\n",
      "...... WrongVersion\n",
      "...... RefactoringError\n",
      "... OnErrorLeaf\n",
      "... InvalidPythonEnvironment\n",
      "... MessageError\n",
      "...... MessageParseError\n",
      "......... HeaderParseError\n",
      "......... BoundaryError\n",
      "...... MultipartConversionError\n",
      "...... CharsetError\n",
      "... Error\n",
      "... HTTPException\n",
      "...... NotConnected\n",
      "...... InvalidURL\n",
      "...... UnknownProtocol\n",
      "...... UnknownTransferEncoding\n",
      "...... UnimplementedFileMode\n",
      "...... IncompleteRead\n",
      "...... ImproperConnectionState\n",
      "......... CannotSendRequest\n",
      "......... CannotSendHeader\n",
      "......... ResponseNotReady\n",
      "...... BadStatusLine\n",
      "......... RemoteDisconnected\n",
      "...... LineTooLong\n",
      "... InteractivelyDefined\n",
      "... KillEmbedded\n",
      "... Error\n",
      "...... NoSuchProcess\n",
      "......... ZombieProcess\n",
      "...... AccessDenied\n",
      "...... TimeoutExpired\n",
      "... _Ipv6UnsupportedError\n",
      "... QueueEmpty\n",
      "... QueueFull\n",
      "... DebuggerInitializationError\n",
      "... ExpatError\n",
      "... Error\n",
      "...... ProtocolError\n",
      "...... ResponseError\n",
      "...... Fault\n",
      "... ParseBaseException\n",
      "...... ParseException\n",
      "...... ParseFatalException\n",
      "......... ParseSyntaxException\n",
      "... RecursiveGrammarException\n",
      "... ResolutionError\n",
      "...... VersionConflict\n",
      "......... ContextualVersionConflict\n",
      "...... DistributionNotFound\n",
      "...... UnknownExtra\n",
      "... _Error\n",
      "... UnableToResolveVariableException\n",
      "... InvalidTypeInArgsException\n"
     ]
    }
   ],
   "source": [
    "import inspect\n",
    "print(\"The class hierarchy for built-in exceptions is:\")\n",
    "inspect.getclasstree(inspect.getmro(Exception))\n",
    "def classtree(cls, indent=0):\n",
    "    print('.' * indent, cls.__name__)\n",
    "    for subcls in cls.__subclasses__():\n",
    "        classtree(subcls, indent + 3)\n",
    "classtree(Exception)"
   ]
  },
  {
   "cell_type": "code",
   "execution_count": 6,
   "id": "bf719f5e-a546-471b-9384-62fbb8a8d0a8",
   "metadata": {},
   "outputs": [
    {
     "data": {
      "text/plain": [
       "' 3. What errors are defined in the ArithmeticError class? Explain any two with an example.'"
      ]
     },
     "execution_count": 6,
     "metadata": {},
     "output_type": "execute_result"
    }
   ],
   "source": [
    "''' 3. What errors are defined in the ArithmeticError class? Explain any two with an example.'''"
   ]
  },
  {
   "cell_type": "code",
   "execution_count": 11,
   "id": "f3398e99-0e25-4e30-8fcc-21fbbd4cf761",
   "metadata": {},
   "outputs": [
    {
     "name": "stdout",
     "output_type": "stream",
     "text": [
      "division by zero\n"
     ]
    }
   ],
   "source": [
    "'''OverFlowError, FloatingPointError and ZeroDivisionError are defined in the ArithmeticError class'''\n",
    "#ZeroDivisionError\n",
    "try:\n",
    "    x= 1/0\n",
    "except ZeroDivisionError as e:\n",
    "    print(e)"
   ]
  },
  {
   "cell_type": "code",
   "execution_count": 20,
   "id": "f740559c-55b8-4f39-88df-dac5efb68215",
   "metadata": {},
   "outputs": [
    {
     "name": "stdout",
     "output_type": "stream",
     "text": [
      "The exponential value is\n",
      "After overflow math range error\n"
     ]
    }
   ],
   "source": [
    "import math\n",
    "try:\n",
    "    print(\"The exponential value is\")\n",
    "    print(math.exp(1000))\n",
    "    \n",
    "except OverflowError as oe:\n",
    "    print(\"After overflow\", oe)"
   ]
  },
  {
   "cell_type": "code",
   "execution_count": 21,
   "id": "fa009c25-1287-4957-97c1-68baae9e84aa",
   "metadata": {},
   "outputs": [
    {
     "data": {
      "text/plain": [
       "'4. Why LookupError class is used? Explain with an example KeyError and IndexError.'"
      ]
     },
     "execution_count": 21,
     "metadata": {},
     "output_type": "execute_result"
    }
   ],
   "source": [
    "'''4. Why LookupError class is used? Explain with an example KeyError and IndexError.'''"
   ]
  },
  {
   "cell_type": "code",
   "execution_count": 22,
   "id": "41711e0b-5ceb-4ae8-8781-769be4753dc2",
   "metadata": {},
   "outputs": [
    {
     "data": {
      "text/plain": [
       "\"LookupError Exception is the Base class for errors raised when something can't be found. The base class for the exceptions that are raised when a key or index used on a mapping or sequence is invalid: IndexError, KeyError. An IndexError is raised when a sequence reference is out of range.\""
      ]
     },
     "execution_count": 22,
     "metadata": {},
     "output_type": "execute_result"
    }
   ],
   "source": [
    "'''LookupError Exception is the Base class for errors raised when something can't be found. The base class for the exceptions that are raised when a key or index used on a mapping or sequence is invalid: IndexError, KeyError. An IndexError is raised when a sequence reference is out of range.'''"
   ]
  },
  {
   "cell_type": "code",
   "execution_count": 30,
   "id": "47480f39-18f8-4dad-bf12-b3c722098354",
   "metadata": {},
   "outputs": [
    {
     "name": "stdout",
     "output_type": "stream",
     "text": [
      "KeyError 0\n"
     ]
    }
   ],
   "source": [
    "try:\n",
    "    dic={'a':1, 'b': 2, 'c':3}\n",
    "    print(dic[0])\n",
    "except KeyError as e:\n",
    "    print('KeyError', e)"
   ]
  },
  {
   "cell_type": "code",
   "execution_count": 33,
   "id": "2a539498-448a-46ef-87c0-78aec6e9f8b8",
   "metadata": {},
   "outputs": [
    {
     "data": {
      "text/plain": [
       "'5. Explain ImportError. What is ModuleNotFoundError?'"
      ]
     },
     "execution_count": 33,
     "metadata": {},
     "output_type": "execute_result"
    }
   ],
   "source": [
    "'''5. Explain ImportError. What is ModuleNotFoundError?'''"
   ]
  },
  {
   "cell_type": "code",
   "execution_count": 35,
   "id": "a0332727-2a41-4ff4-8aa9-17e428242c86",
   "metadata": {},
   "outputs": [
    {
     "data": {
      "text/plain": [
       "'ImportError generally occurs when a class cannot be imported due to one of the following reasons: The imported class is in a circular dependency. The imported class is unavailable or was not created. The imported class name is misspelled. \\nAs the name implies, this error occurs when you\\'re trying to access or use a module that cannot be found. In the case of the title, the \"module named Python\" cannot be found'"
      ]
     },
     "execution_count": 35,
     "metadata": {},
     "output_type": "execute_result"
    }
   ],
   "source": [
    "'''ImportError generally occurs when a class cannot be imported due to one of the following reasons: The imported class is in a circular dependency. The imported class is unavailable or was not created. The imported class name is misspelled. \n",
    "As the name implies, this error occurs when you're trying to access or use a module that cannot be found. In the case of the title, the \"module named Python\" cannot be found'''"
   ]
  },
  {
   "cell_type": "code",
   "execution_count": 36,
   "id": "48c2395e-82c4-4968-9f5c-2643e3e8c2b7",
   "metadata": {},
   "outputs": [
    {
     "data": {
      "text/plain": [
       "'6. List down some best practices for exception handling in python.'"
      ]
     },
     "execution_count": 36,
     "metadata": {},
     "output_type": "execute_result"
    }
   ],
   "source": [
    "'''6. List down some best practices for exception handling in python.'''\n"
   ]
  },
  {
   "cell_type": "code",
   "execution_count": null,
   "id": "437cd646-b238-4299-895d-e760485f0f08",
   "metadata": {},
   "outputs": [],
   "source": [
    "'''a. use always a specific exception.\n",
    "b. Always print a valid and understoodable message.\n",
    "c. Try to use logging method.\n",
    "d. Do no use ex"
   ]
  }
 ],
 "metadata": {
  "kernelspec": {
   "display_name": "Python 3 (ipykernel)",
   "language": "python",
   "name": "python3"
  },
  "language_info": {
   "codemirror_mode": {
    "name": "ipython",
    "version": 3
   },
   "file_extension": ".py",
   "mimetype": "text/x-python",
   "name": "python",
   "nbconvert_exporter": "python",
   "pygments_lexer": "ipython3",
   "version": "3.10.8"
  }
 },
 "nbformat": 4,
 "nbformat_minor": 5
}
