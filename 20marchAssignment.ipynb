{
 "cells": [
  {
   "cell_type": "code",
   "execution_count": 1,
   "id": "fc9cea45-d2ef-45d4-b715-1768b11c950a",
   "metadata": {},
   "outputs": [
    {
     "data": {
      "text/plain": [
       "'1. What is data encoding? How is it useful in data science?'"
      ]
     },
     "execution_count": 1,
     "metadata": {},
     "output_type": "execute_result"
    }
   ],
   "source": [
    "'1. What is data encoding? How is it useful in data science?'"
   ]
  },
  {
   "cell_type": "code",
   "execution_count": 2,
   "id": "ab8404e5-a8bc-41dd-80bf-5d150538b876",
   "metadata": {},
   "outputs": [
    {
     "data": {
      "text/plain": [
       "'Data encoding is a process in which we convert non numerical data into numerical values. By this we can easily read and analyse the data which results in better performance of Machine learning models'"
      ]
     },
     "execution_count": 2,
     "metadata": {},
     "output_type": "execute_result"
    }
   ],
   "source": [
    "'Data encoding is a process in which we convert non numerical data into numerical values. By this we can easily read and analyse the data which results in better performance of Machine learning models'"
   ]
  },
  {
   "cell_type": "code",
   "execution_count": 3,
   "id": "e8690f39-41a7-46ad-ab47-04a23be3715a",
   "metadata": {},
   "outputs": [
    {
     "data": {
      "text/plain": [
       "'2. What is nominal encoding? Provide an example of how you would use it in a real-world scenario.'"
      ]
     },
     "execution_count": 3,
     "metadata": {},
     "output_type": "execute_result"
    }
   ],
   "source": [
    "'2. What is nominal encoding? Provide an example of how you would use it in a real-world scenario.'"
   ]
  },
  {
   "cell_type": "code",
   "execution_count": 4,
   "id": "b2ff560c-0a92-412f-b785-2130371abd58",
   "metadata": {},
   "outputs": [
    {
     "data": {
      "text/plain": [
       "'The type of encoding in which categorical datas are equally favorable are coverted into numerical value is called nominal encoding.\\nExample: Suppose we have color as a attribute in a data we need to analyse this categorical data.'"
      ]
     },
     "execution_count": 4,
     "metadata": {},
     "output_type": "execute_result"
    }
   ],
   "source": [
    "'''The type of encoding in which categorical datas are equally favorable are coverted into numerical value is called nominal encoding.\n",
    "Example: Suppose we have color as a attribute in a data we need to analyse this categorical data.'''"
   ]
  },
  {
   "cell_type": "code",
   "execution_count": 5,
   "id": "e4d5b20a-bd16-40bf-afc2-c535e4257d89",
   "metadata": {},
   "outputs": [
    {
     "data": {
      "text/plain": [
       "'3. In what situations is nominal encoding preferred over one-hot encoding? Provide a practical example.'"
      ]
     },
     "execution_count": 5,
     "metadata": {},
     "output_type": "execute_result"
    }
   ],
   "source": [
    "'3. In what situations is nominal encoding preferred over one-hot encoding? Provide a practical example.'"
   ]
  },
  {
   "cell_type": "code",
   "execution_count": 6,
   "id": "56f4b028-1c13-474a-a189-d2a12de0e9e5",
   "metadata": {},
   "outputs": [
    {
     "data": {
      "text/plain": [
       "'4. Suppose you have a dataset containing categorical data with 5 unique values. Which encoding technique would you use to transform this data into a format suitable for machine learning algorithms? Explain why you made this choice.'"
      ]
     },
     "execution_count": 6,
     "metadata": {},
     "output_type": "execute_result"
    }
   ],
   "source": [
    "'4. Suppose you have a dataset containing categorical data with 5 unique values. Which encoding technique would you use to transform this data into a format suitable for machine learning algorithms? Explain why you made this choice.'"
   ]
  },
  {
   "cell_type": "code",
   "execution_count": 7,
   "id": "3439ac4d-b236-43a1-89c1-941cb372ad1a",
   "metadata": {},
   "outputs": [
    {
     "data": {
      "text/plain": [
       "'Here we will use nominal or one-hot encoding. Since, we have less no of data and it will be easier for machine learning algorithm to understand and analyze the data.'"
      ]
     },
     "execution_count": 7,
     "metadata": {},
     "output_type": "execute_result"
    }
   ],
   "source": [
    "'''Here we will use nominal or one-hot encoding. Since, we have less no of data and it will be easier for machine learning algorithm to understand and analyze the data.'''"
   ]
  },
  {
   "cell_type": "code",
   "execution_count": 9,
   "id": "62cecd90-3c05-45c6-8924-21e720f8c087",
   "metadata": {},
   "outputs": [
    {
     "data": {
      "text/plain": [
       "'5. In a machine learning project, you have a dataset with 1000 rows and 5 columns. Two of the columns are categorical, and the remaining three columns are numerical. If you were to use nominal encoding to transform the categorical data, how many new columns would be created? Show your calculations.'"
      ]
     },
     "execution_count": 9,
     "metadata": {},
     "output_type": "execute_result"
    }
   ],
   "source": [
    "'5. In a machine learning project, you have a dataset with 1000 rows and 5 columns. Two of the columns are categorical, and the remaining three columns are numerical. If you were to use nominal encoding to transform the categorical data, how many new columns would be created? Show your calculations.'"
   ]
  },
  {
   "cell_type": "code",
   "execution_count": 21,
   "id": "05c2a982-a694-4d5d-875a-d725ee9144a0",
   "metadata": {},
   "outputs": [
    {
     "data": {
      "text/html": [
       "<div>\n",
       "<style scoped>\n",
       "    .dataframe tbody tr th:only-of-type {\n",
       "        vertical-align: middle;\n",
       "    }\n",
       "\n",
       "    .dataframe tbody tr th {\n",
       "        vertical-align: top;\n",
       "    }\n",
       "\n",
       "    .dataframe thead th {\n",
       "        text-align: right;\n",
       "    }\n",
       "</style>\n",
       "<table border=\"1\" class=\"dataframe\">\n",
       "  <thead>\n",
       "    <tr style=\"text-align: right;\">\n",
       "      <th></th>\n",
       "      <th>sepal_length</th>\n",
       "      <th>sepal_width</th>\n",
       "      <th>petal_length</th>\n",
       "      <th>petal_width</th>\n",
       "      <th>species</th>\n",
       "      <th>x0_species</th>\n",
       "    </tr>\n",
       "  </thead>\n",
       "  <tbody>\n",
       "    <tr>\n",
       "      <th>0</th>\n",
       "      <td>5.1</td>\n",
       "      <td>3.5</td>\n",
       "      <td>1.4</td>\n",
       "      <td>0.2</td>\n",
       "      <td>setosa</td>\n",
       "      <td>1.0</td>\n",
       "    </tr>\n",
       "    <tr>\n",
       "      <th>1</th>\n",
       "      <td>4.9</td>\n",
       "      <td>3.0</td>\n",
       "      <td>1.4</td>\n",
       "      <td>0.2</td>\n",
       "      <td>setosa</td>\n",
       "      <td>NaN</td>\n",
       "    </tr>\n",
       "    <tr>\n",
       "      <th>2</th>\n",
       "      <td>4.7</td>\n",
       "      <td>3.2</td>\n",
       "      <td>1.3</td>\n",
       "      <td>0.2</td>\n",
       "      <td>setosa</td>\n",
       "      <td>NaN</td>\n",
       "    </tr>\n",
       "    <tr>\n",
       "      <th>3</th>\n",
       "      <td>4.6</td>\n",
       "      <td>3.1</td>\n",
       "      <td>1.5</td>\n",
       "      <td>0.2</td>\n",
       "      <td>setosa</td>\n",
       "      <td>NaN</td>\n",
       "    </tr>\n",
       "    <tr>\n",
       "      <th>4</th>\n",
       "      <td>5.0</td>\n",
       "      <td>3.6</td>\n",
       "      <td>1.4</td>\n",
       "      <td>0.2</td>\n",
       "      <td>setosa</td>\n",
       "      <td>NaN</td>\n",
       "    </tr>\n",
       "    <tr>\n",
       "      <th>...</th>\n",
       "      <td>...</td>\n",
       "      <td>...</td>\n",
       "      <td>...</td>\n",
       "      <td>...</td>\n",
       "      <td>...</td>\n",
       "      <td>...</td>\n",
       "    </tr>\n",
       "    <tr>\n",
       "      <th>145</th>\n",
       "      <td>6.7</td>\n",
       "      <td>3.0</td>\n",
       "      <td>5.2</td>\n",
       "      <td>2.3</td>\n",
       "      <td>virginica</td>\n",
       "      <td>NaN</td>\n",
       "    </tr>\n",
       "    <tr>\n",
       "      <th>146</th>\n",
       "      <td>6.3</td>\n",
       "      <td>2.5</td>\n",
       "      <td>5.0</td>\n",
       "      <td>1.9</td>\n",
       "      <td>virginica</td>\n",
       "      <td>NaN</td>\n",
       "    </tr>\n",
       "    <tr>\n",
       "      <th>147</th>\n",
       "      <td>6.5</td>\n",
       "      <td>3.0</td>\n",
       "      <td>5.2</td>\n",
       "      <td>2.0</td>\n",
       "      <td>virginica</td>\n",
       "      <td>NaN</td>\n",
       "    </tr>\n",
       "    <tr>\n",
       "      <th>148</th>\n",
       "      <td>6.2</td>\n",
       "      <td>3.4</td>\n",
       "      <td>5.4</td>\n",
       "      <td>2.3</td>\n",
       "      <td>virginica</td>\n",
       "      <td>NaN</td>\n",
       "    </tr>\n",
       "    <tr>\n",
       "      <th>149</th>\n",
       "      <td>5.9</td>\n",
       "      <td>3.0</td>\n",
       "      <td>5.1</td>\n",
       "      <td>1.8</td>\n",
       "      <td>virginica</td>\n",
       "      <td>NaN</td>\n",
       "    </tr>\n",
       "  </tbody>\n",
       "</table>\n",
       "<p>150 rows × 6 columns</p>\n",
       "</div>"
      ],
      "text/plain": [
       "     sepal_length  sepal_width  petal_length  petal_width    species  \\\n",
       "0             5.1          3.5           1.4          0.2     setosa   \n",
       "1             4.9          3.0           1.4          0.2     setosa   \n",
       "2             4.7          3.2           1.3          0.2     setosa   \n",
       "3             4.6          3.1           1.5          0.2     setosa   \n",
       "4             5.0          3.6           1.4          0.2     setosa   \n",
       "..            ...          ...           ...          ...        ...   \n",
       "145           6.7          3.0           5.2          2.3  virginica   \n",
       "146           6.3          2.5           5.0          1.9  virginica   \n",
       "147           6.5          3.0           5.2          2.0  virginica   \n",
       "148           6.2          3.4           5.4          2.3  virginica   \n",
       "149           5.9          3.0           5.1          1.8  virginica   \n",
       "\n",
       "     x0_species  \n",
       "0           1.0  \n",
       "1           NaN  \n",
       "2           NaN  \n",
       "3           NaN  \n",
       "4           NaN  \n",
       "..          ...  \n",
       "145         NaN  \n",
       "146         NaN  \n",
       "147         NaN  \n",
       "148         NaN  \n",
       "149         NaN  \n",
       "\n",
       "[150 rows x 6 columns]"
      ]
     },
     "execution_count": 21,
     "metadata": {},
     "output_type": "execute_result"
    }
   ],
   "source": [
    "import seaborn as sns\n",
    "import pandas as pd\n",
    "from sklearn.preprocessing import OneHotEncoder\n",
    "data=sns.load_dataset('iris')\n",
    "df=pd.DataFrame(data)\n",
    "encoder=OneHotEncoder()\n",
    "encoded=encoder.fit_transform([['species']]).toarray()\n",
    "new_df=pd.DataFrame(encoded,columns=encoder.get_feature_names_out())\n",
    "pd.concat([df,new_df],axis=1)"
   ]
  }
 ],
 "metadata": {
  "kernelspec": {
   "display_name": "Python 3 (ipykernel)",
   "language": "python",
   "name": "python3"
  },
  "language_info": {
   "codemirror_mode": {
    "name": "ipython",
    "version": 3
   },
   "file_extension": ".py",
   "mimetype": "text/x-python",
   "name": "python",
   "nbconvert_exporter": "python",
   "pygments_lexer": "ipython3",
   "version": "3.10.8"
  }
 },
 "nbformat": 4,
 "nbformat_minor": 5
}
