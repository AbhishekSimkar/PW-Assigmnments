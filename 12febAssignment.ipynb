{
 "cells": [
  {
   "cell_type": "code",
   "execution_count": 1,
   "id": "da8579b2-db0b-4009-bdbe-66df6aafef37",
   "metadata": {},
   "outputs": [
    {
     "data": {
      "text/plain": [
       "' 1. What is an Exception in python? Write the difference between Exceptions and syntax errors?'"
      ]
     },
     "execution_count": 1,
     "metadata": {},
     "output_type": "execute_result"
    }
   ],
   "source": [
    "''' 1. What is an Exception in python? Write the difference between Exceptions and syntax errors?'''"
   ]
  },
  {
   "cell_type": "code",
   "execution_count": 3,
   "id": "a14ab341-35da-4744-b668-502e0bfb3a9c",
   "metadata": {},
   "outputs": [
    {
     "data": {
      "text/plain": [
       "\" An exception is an event, which occurs during the execution of a program that disrupts the normal flow of the program's instructions. In general, when a Python script encounters a situation that it cannot cope with, it raises an exception. An exception is a Python object that represents an error.\\nAn syntax error is an issue in a program that prevents the program from completing its task. In comparison, an exception is a condition that interrupts the normal flow of the program. Both errors and exceptions are a type of runtime error, which means they occur during the execution of a program.\""
      ]
     },
     "execution_count": 3,
     "metadata": {},
     "output_type": "execute_result"
    }
   ],
   "source": [
    "''' An exception is an event, which occurs during the execution of a program that disrupts the normal flow of the program's instructions. In general, when a Python script encounters a situation that it cannot cope with, it raises an exception. An exception is a Python object that represents an error.\n",
    "An syntax error is an issue in a program that prevents the program from completing its task. In comparison, an exception is a condition that interrupts the normal flow of the program. Both errors and exceptions are a type of runtime error, which means they occur during the execution of a program.'''"
   ]
  },
  {
   "cell_type": "code",
   "execution_count": 4,
   "id": "28edae54-8359-43b5-a3b8-14df29807001",
   "metadata": {},
   "outputs": [
    {
     "data": {
      "text/plain": [
       "' 2. What happens when an exception is not handled? Explain with an example'"
      ]
     },
     "execution_count": 4,
     "metadata": {},
     "output_type": "execute_result"
    }
   ],
   "source": [
    "''' 2. What happens when an exception is not handled? Explain with an example'''"
   ]
  },
  {
   "cell_type": "code",
   "execution_count": 5,
   "id": "742570d9-f5fa-4c3f-87ec-4ba7ea5c8fd9",
   "metadata": {},
   "outputs": [
    {
     "ename": "ZeroDivisionError",
     "evalue": "division by zero",
     "output_type": "error",
     "traceback": [
      "\u001b[0;31m---------------------------------------------------------------------------\u001b[0m",
      "\u001b[0;31mZeroDivisionError\u001b[0m                         Traceback (most recent call last)",
      "Cell \u001b[0;32mIn[5], line 2\u001b[0m\n\u001b[1;32m      1\u001b[0m \u001b[38;5;124;03m''' When exception is not handled we usually get errors or undesirable results whose syntax is correct but logically it is not acceptable.'''\u001b[39;00m\n\u001b[0;32m----> 2\u001b[0m x\u001b[38;5;241m=\u001b[39m \u001b[38;5;241;43m1\u001b[39;49m\u001b[38;5;241;43m/\u001b[39;49m\u001b[38;5;241;43m0\u001b[39;49m \n",
      "\u001b[0;31mZeroDivisionError\u001b[0m: division by zero"
     ]
    }
   ],
   "source": [
    "''' When exception is not handled we usually get errors or undesirable results whose syntax is correct but logically it is not acceptable.'''\n",
    "#code without exceptional handling\n",
    "x= 1/0 "
   ]
  },
  {
   "cell_type": "code",
   "execution_count": 7,
   "id": "c27a8cef-140b-492c-b089-7a86434988c8",
   "metadata": {},
   "outputs": [
    {
     "name": "stdout",
     "output_type": "stream",
     "text": [
      "division by zero\n"
     ]
    }
   ],
   "source": [
    "#code with exceptional handling\n",
    "try:\n",
    "    x= 1/0\n",
    "except ZeroDivisionError as e:\n",
    "    print( e)"
   ]
  },
  {
   "cell_type": "code",
   "execution_count": 8,
   "id": "1e82f1a7-605e-4311-9b91-43c5e1867237",
   "metadata": {},
   "outputs": [
    {
     "data": {
      "text/plain": [
       "' 3. Which python statements are used to catch and handle the exceptions. Explain with example.'"
      ]
     },
     "execution_count": 8,
     "metadata": {},
     "output_type": "execute_result"
    }
   ],
   "source": [
    "''' 3. Which python statements are used to catch and handle the exceptions. Explain with example.'''"
   ]
  },
  {
   "cell_type": "code",
   "execution_count": 11,
   "id": "59d42fcc-5ddc-4d35-bd44-6ba772040103",
   "metadata": {},
   "outputs": [
    {
     "name": "stdout",
     "output_type": "stream",
     "text": [
      "[Errno 2] No such file or directory: 'text.txt'\n"
     ]
    }
   ],
   "source": [
    "''' try and except statements are used to catch and handle the exception. '''\n",
    "try:\n",
    "    with open('text.txt','r') as f:\n",
    "        f.read()\n",
    "except FileNotFoundError as e:\n",
    "    print(e)\n",
    "    f.close()\n"
   ]
  },
  {
   "cell_type": "code",
   "execution_count": 14,
   "id": "5d6ee3fd-0697-4729-b8fa-9407001e7825",
   "metadata": {},
   "outputs": [
    {
     "data": {
      "text/plain": [
       "'4. Explain with an example:\\na. try and else\\nb. finally\\nc. raise '"
      ]
     },
     "execution_count": 14,
     "metadata": {},
     "output_type": "execute_result"
    }
   ],
   "source": [
    "'''4. Explain with an example:\n",
    "a. try and else\n",
    "b. finally\n",
    "c. raise '''"
   ]
  },
  {
   "cell_type": "code",
   "execution_count": 15,
   "id": "0fa9b94a-ae85-4a7e-aa22-7f8c6973bc7d",
   "metadata": {},
   "outputs": [
    {
     "name": "stdout",
     "output_type": "stream",
     "text": [
      "Try block do not have any exception\n"
     ]
    }
   ],
   "source": [
    "''' Try: This block will test the excepted error to occur\n",
    "Except:  Here you can handle the error\n",
    "Else: If there is no exception then this block will be executed\n",
    "Finally: Finally block always gets executed either exception is generated or not'''\n",
    "\n",
    "# Example\n",
    "try:\n",
    "    with open('text.txt','w') as f:\n",
    "        f.write('Hello! I am performing exception handling')\n",
    "except FileNotFoundError as e:\n",
    "    print(e)\n",
    "else:\n",
    "    print(\"Try block do not have any exception\")\n",
    "finally:\n",
    "    f.close()"
   ]
  },
  {
   "cell_type": "code",
   "execution_count": 1,
   "id": "21b8b29c-9336-4458-a355-6757662a4796",
   "metadata": {},
   "outputs": [
    {
     "data": {
      "text/plain": [
       "'5. What are custom exceptions in python? Why do we need custom exceptions? Explain with example. '"
      ]
     },
     "execution_count": 1,
     "metadata": {},
     "output_type": "execute_result"
    }
   ],
   "source": [
    "'''5. What are custom exceptions in python? Why do we need custom exceptions? Explain with example. '''"
   ]
  },
  {
   "cell_type": "code",
   "execution_count": 10,
   "id": "e7e3f11c-cbac-4178-ac0b-19a0b0da8bc2",
   "metadata": {},
   "outputs": [
    {
     "name": "stdin",
     "output_type": "stream",
     "text": [
      "Enter marks:  -5\n"
     ]
    },
    {
     "name": "stdout",
     "output_type": "stream",
     "text": [
      "Invalid age \n"
     ]
    }
   ],
   "source": [
    "''' custom exceptions are the class which is derieved from the built-in exception class. Custom exceptions will add information about project-related problems. That way, you can design your code (and traceback, if an exception is raised) in a way that combines Python code with the language of the project'''\n",
    "class invalidmarks(Exception):\n",
    "    'Enter valid marks'\n",
    "try:\n",
    "    marks=int(input('Enter marks: '))\n",
    "    if marks<0:\n",
    "        raise invalidmarks\n",
    "    else:\n",
    "        print('Valid marks')\n",
    "except invalidmarks as e:\n",
    "    print('Invalid age',e)"
   ]
  },
  {
   "cell_type": "code",
   "execution_count": 12,
   "id": "89b33938-09c6-4b79-b9ca-b1d0957a664b",
   "metadata": {},
   "outputs": [
    {
     "data": {
      "text/plain": [
       "' 6. Create a custom exception class. Use this class to handle an excepection.'"
      ]
     },
     "execution_count": 12,
     "metadata": {},
     "output_type": "execute_result"
    }
   ],
   "source": [
    "''' 6. Create a custom exception class. Use this class to handle an excepection.'''"
   ]
  },
  {
   "cell_type": "code",
   "execution_count": 4,
   "id": "239eda76-5a5a-4d24-8e0d-24464635349d",
   "metadata": {},
   "outputs": [
    {
     "name": "stdin",
     "output_type": "stream",
     "text": [
      "Enter your weight:  52\n"
     ]
    },
    {
     "name": "stdout",
     "output_type": "stream",
     "text": [
      "You need to take care of your weight\n"
     ]
    }
   ],
   "source": [
    "class weight(Exception):\n",
    "    'You need to take care of your weight'\n",
    "try:\n",
    "    weight1= int(input(\"Enter your weight: \"))\n",
    "    if weight1<55:\n",
    "        raise weight\n",
    "    elif weight1>80:\n",
    "        raise weight\n",
    "    else:\n",
    "        print('Your weight is normal')\n",
    "except weight as e:\n",
    "    print('You need to take care of your weight')"
   ]
  },
  {
   "cell_type": "code",
   "execution_count": null,
   "id": "e87ad678-f8e5-4926-b5aa-4c3b2791bc36",
   "metadata": {},
   "outputs": [],
   "source": []
  }
 ],
 "metadata": {
  "kernelspec": {
   "display_name": "Python 3 (ipykernel)",
   "language": "python",
   "name": "python3"
  },
  "language_info": {
   "codemirror_mode": {
    "name": "ipython",
    "version": 3
   },
   "file_extension": ".py",
   "mimetype": "text/x-python",
   "name": "python",
   "nbconvert_exporter": "python",
   "pygments_lexer": "ipython3",
   "version": "3.10.8"
  }
 },
 "nbformat": 4,
 "nbformat_minor": 5
}
