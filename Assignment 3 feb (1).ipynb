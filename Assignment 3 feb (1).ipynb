{
 "cells": [
  {
   "cell_type": "code",
   "execution_count": null,
   "id": "89d7dd8c-3a7f-452d-93f2-993c7f41b4b6",
   "metadata": {},
   "outputs": [],
   "source": [
    "''' 1. Which keyword is used to create a function? Create a function to return a list of odd numbers in the range of 1 to 25.\n",
    "\n",
    "def keyword is used to create a function.'''"
   ]
  },
  {
   "cell_type": "code",
   "execution_count": 7,
   "id": "84ea7b32-00ba-4da8-a162-52c048681416",
   "metadata": {},
   "outputs": [
    {
     "name": "stdout",
     "output_type": "stream",
     "text": [
      "1\n",
      "3\n",
      "5\n",
      "7\n",
      "9\n",
      "11\n",
      "13\n",
      "15\n",
      "17\n",
      "19\n",
      "21\n",
      "23\n",
      "25\n"
     ]
    }
   ],
   "source": [
    "def odd(n):\n",
    "    for i in range(1,n+1):\n",
    "        if i%2 !=0:\n",
    "            print(i)\n",
    "odd(25)"
   ]
  },
  {
   "cell_type": "code",
   "execution_count": null,
   "id": "7f932522-66f2-442d-ad0b-e3c0cf63c3a5",
   "metadata": {},
   "outputs": [],
   "source": [
    "'''2. Why *args and **kwargs is used in some functions? Create a function each for *args and **kwargs to demonstrate their use.\n",
    "\n",
    "\"*args\" is used to enter multiple values in a user defined function defination as per the requirement.It returns output as tuple. Whereas \"**kwargs\" is used enter multiple key values pairs in a user defined function defination. It's output is dictionary.'''"
   ]
  },
  {
   "cell_type": "code",
   "execution_count": 11,
   "id": "73cbaa54-ea14-4967-878a-3b8e15a0acf9",
   "metadata": {},
   "outputs": [
    {
     "data": {
      "text/plain": [
       "(2, 4, 3, 5, 6)"
      ]
     },
     "execution_count": 11,
     "metadata": {},
     "output_type": "execute_result"
    }
   ],
   "source": [
    " def num(*n):\n",
    "        return n\n",
    "num(2,4,3,5,6)"
   ]
  },
  {
   "cell_type": "code",
   "execution_count": 12,
   "id": "0e854da2-3ecd-4f0d-9ca5-f953c299ea9b",
   "metadata": {},
   "outputs": [
    {
     "data": {
      "text/plain": [
       "{'a': 1, 'b': 2, 'c': 3, 'd': 4}"
      ]
     },
     "execution_count": 12,
     "metadata": {},
     "output_type": "execute_result"
    }
   ],
   "source": [
    "def dict1(**n):\n",
    "    return n\n",
    "dict1(a=1,b=2,c=3,d=4)"
   ]
  },
  {
   "cell_type": "code",
   "execution_count": null,
   "id": "356738e2-4e41-4cd2-b751-bb10ee7b9d51",
   "metadata": {},
   "outputs": [],
   "source": [
    "''' 3. What is an iterator in python? Name the method used to initialise the iterator object and the method used for iteration. Use these methods to print the first five elements of the given list [2, 4, 6, 8, 10, 12, 14,16,18, 20].\n",
    "\n",
    "an iterator is an object that allows you to iterate over collections of data, such as lists, tuples, dictionaries, and sets. Iter() method is used to initialize the iterator object so that the instance of this object can be used for iterating. The next() method is used to iterate over the iterable objects. The next() method returns the next value in the iterable object.'''"
   ]
  },
  {
   "cell_type": "code",
   "execution_count": 15,
   "id": "9c42ceaa-c010-4796-8c90-4d7e8baec262",
   "metadata": {},
   "outputs": [
    {
     "name": "stdout",
     "output_type": "stream",
     "text": [
      "2\n",
      "4\n",
      "6\n",
      "8\n",
      "10\n"
     ]
    }
   ],
   "source": [
    "l=[2,4,6,8,10,12,14,16,18,20]\n",
    "\n",
    "lst=iter(l)\n",
    "print(next(lst))\n",
    "print(next(lst))\n",
    "print(next(lst))\n",
    "print(next(lst))\n",
    "print(next(lst))"
   ]
  },
  {
   "cell_type": "code",
   "execution_count": null,
   "id": "ebcc1625-c563-41a3-9e53-bac580fc0ae7",
   "metadata": {},
   "outputs": [],
   "source": [
    "''' 4. What is a generator function in python? Why yield keyword is used? Give an example of a generator function.\n",
    "\n",
    "A Python generator function allows you to declare a function that behaves like an iterator, providing a faster and easier way to create iterators. They can be used on an abstract container of data to turn it into an iterable object like lists, dictionaries and strings.\n",
    "The yield keyword pauses generator function execution and the value of the expression following the yield keyword is returned to the generator's caller. It can be thought of as a generator-based version of the return keyword. yield can only be used directly within the generator function that contains it.'''"
   ]
  },
  {
   "cell_type": "code",
   "execution_count": 4,
   "id": "5123a8fc-5c73-433c-8e0b-bbc06eca1164",
   "metadata": {},
   "outputs": [
    {
     "data": {
      "text/plain": [
       "<generator object fibo at 0x7f1b01e821f0>"
      ]
     },
     "execution_count": 4,
     "metadata": {},
     "output_type": "execute_result"
    }
   ],
   "source": [
    "#Fibonacci series\n",
    "def fibo(n):\n",
    "    a,b= 0,1\n",
    "    for i in range(n):\n",
    "        yield a\n",
    "        a,b= b,a+b\n",
    "fibo(5)"
   ]
  },
  {
   "cell_type": "code",
   "execution_count": 6,
   "id": "95cfee5f-dbb9-4f54-a554-9b9311b60788",
   "metadata": {},
   "outputs": [
    {
     "name": "stdout",
     "output_type": "stream",
     "text": [
      "0\n",
      "1\n",
      "1\n",
      "2\n",
      "3\n"
     ]
    }
   ],
   "source": [
    "for i in fibo(5):\n",
    "    print(i)"
   ]
  },
  {
   "cell_type": "code",
   "execution_count": null,
   "id": "eff5df05-8f9d-43d3-b665-639217a0d409",
   "metadata": {},
   "outputs": [],
   "source": [
    "'''5. Create a generator function for prime numbers less than 1000. Use the next() method to print the first 20 prime numbers.'''"
   ]
  },
  {
   "cell_type": "code",
   "execution_count": 1,
   "id": "a6285a6c-0b0a-4b9e-9a7f-64c85d093c4f",
   "metadata": {},
   "outputs": [
    {
     "data": {
      "text/plain": [
       "<generator object prime at 0x7fca56e01700>"
      ]
     },
     "execution_count": 1,
     "metadata": {},
     "output_type": "execute_result"
    }
   ],
   "source": [
    "def prime():\n",
    "    for i in range(1,1001):\n",
    "        for j in range(2,i):\n",
    "            if (i%j)==0:\n",
    "                break\n",
    "        else:\n",
    "            yield i   \n",
    "prime()"
   ]
  },
  {
   "cell_type": "code",
   "execution_count": 2,
   "id": "94d6e13e-71bc-4a5e-85e9-0c02ee53b1db",
   "metadata": {},
   "outputs": [
    {
     "name": "stdout",
     "output_type": "stream",
     "text": [
      "1\n",
      "2\n",
      "3\n",
      "5\n",
      "7\n",
      "11\n",
      "13\n",
      "17\n",
      "19\n",
      "23\n",
      "29\n",
      "31\n",
      "37\n",
      "41\n",
      "43\n",
      "47\n",
      "53\n",
      "59\n",
      "61\n",
      "67\n",
      "71\n",
      "73\n",
      "79\n",
      "83\n",
      "89\n",
      "97\n",
      "101\n",
      "103\n",
      "107\n",
      "109\n",
      "113\n",
      "127\n",
      "131\n",
      "137\n",
      "139\n",
      "149\n",
      "151\n",
      "157\n",
      "163\n",
      "167\n",
      "173\n",
      "179\n",
      "181\n",
      "191\n",
      "193\n",
      "197\n",
      "199\n",
      "211\n",
      "223\n",
      "227\n",
      "229\n",
      "233\n",
      "239\n",
      "241\n",
      "251\n",
      "257\n",
      "263\n",
      "269\n",
      "271\n",
      "277\n",
      "281\n",
      "283\n",
      "293\n",
      "307\n",
      "311\n",
      "313\n",
      "317\n",
      "331\n",
      "337\n",
      "347\n",
      "349\n",
      "353\n",
      "359\n",
      "367\n",
      "373\n",
      "379\n",
      "383\n",
      "389\n",
      "397\n",
      "401\n",
      "409\n",
      "419\n",
      "421\n",
      "431\n",
      "433\n",
      "439\n",
      "443\n",
      "449\n",
      "457\n",
      "461\n",
      "463\n",
      "467\n",
      "479\n",
      "487\n",
      "491\n",
      "499\n",
      "503\n",
      "509\n",
      "521\n",
      "523\n",
      "541\n",
      "547\n",
      "557\n",
      "563\n",
      "569\n",
      "571\n",
      "577\n",
      "587\n",
      "593\n",
      "599\n",
      "601\n",
      "607\n",
      "613\n",
      "617\n",
      "619\n",
      "631\n",
      "641\n",
      "643\n",
      "647\n",
      "653\n",
      "659\n",
      "661\n",
      "673\n",
      "677\n",
      "683\n",
      "691\n",
      "701\n",
      "709\n",
      "719\n",
      "727\n",
      "733\n",
      "739\n",
      "743\n",
      "751\n",
      "757\n",
      "761\n",
      "769\n",
      "773\n",
      "787\n",
      "797\n",
      "809\n",
      "811\n",
      "821\n",
      "823\n",
      "827\n",
      "829\n",
      "839\n",
      "853\n",
      "857\n",
      "859\n",
      "863\n",
      "877\n",
      "881\n",
      "883\n",
      "887\n",
      "907\n",
      "911\n",
      "919\n",
      "929\n",
      "937\n",
      "941\n",
      "947\n",
      "953\n",
      "967\n",
      "971\n",
      "977\n",
      "983\n",
      "991\n",
      "997\n"
     ]
    }
   ],
   "source": [
    "for i in prime():\n",
    "    print(i)"
   ]
  },
  {
   "cell_type": "code",
   "execution_count": null,
   "id": "b58fc0a4-86be-4be4-ae39-babbdc88fb70",
   "metadata": {},
   "outputs": [],
   "source": []
  },
  {
   "cell_type": "code",
   "execution_count": null,
   "id": "1946bb9a-d4d2-4478-b66e-24e1a69df846",
   "metadata": {},
   "outputs": [],
   "source": []
  },
  {
   "cell_type": "code",
   "execution_count": null,
   "id": "8fab4070-ef47-441c-a5d0-da2716bcca66",
   "metadata": {},
   "outputs": [],
   "source": []
  }
 ],
 "metadata": {
  "kernelspec": {
   "display_name": "Python 3 (ipykernel)",
   "language": "python",
   "name": "python3"
  },
  "language_info": {
   "codemirror_mode": {
    "name": "ipython",
    "version": 3
   },
   "file_extension": ".py",
   "mimetype": "text/x-python",
   "name": "python",
   "nbconvert_exporter": "python",
   "pygments_lexer": "ipython3",
   "version": "3.10.8"
  }
 },
 "nbformat": 4,
 "nbformat_minor": 5
}
