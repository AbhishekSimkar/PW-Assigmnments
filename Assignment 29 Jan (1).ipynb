{
 "cells": [
  {
   "cell_type": "code",
   "execution_count": null,
   "id": "0a7ba4c8-733a-4def-af4b-3ece86dd1dec",
   "metadata": {},
   "outputs": [],
   "source": [
    "''' 1. Who developed python programming language?\n",
    "Guido Van Rossum.'''"
   ]
  },
  {
   "cell_type": "code",
   "execution_count": null,
   "id": "c9408a9a-188b-4977-902b-cfc4690c4321",
   "metadata": {},
   "outputs": [],
   "source": [
    "''' 2. Which type of programming does python Support?\n",
    "Dynamic type.'''"
   ]
  },
  {
   "cell_type": "code",
   "execution_count": null,
   "id": "d3484954-17c2-4ba2-a4e0-ea9d7686b3c4",
   "metadata": {},
   "outputs": [],
   "source": [
    "''' 3. Is pyhon case sensitive when dealing with identifiers?\n",
    "Yes.'''"
   ]
  },
  {
   "cell_type": "code",
   "execution_count": null,
   "id": "6800c804-a349-4b08-9b22-fa9f4abf856f",
   "metadata": {},
   "outputs": [],
   "source": [
    "''' 4. What is the correct extension of python file?\n",
    ".py'''"
   ]
  },
  {
   "cell_type": "code",
   "execution_count": null,
   "id": "049027ae-96b2-4355-8632-73a12018eda2",
   "metadata": {},
   "outputs": [],
   "source": [
    "'''5. Is python code compiled or interpreted?\n",
    "Interpreted.'''"
   ]
  },
  {
   "cell_type": "code",
   "execution_count": null,
   "id": "862965ae-d68e-43d9-8135-97e722a6c4db",
   "metadata": {},
   "outputs": [],
   "source": [
    "'''6. Name a few blocks of code used to define in python language?\n",
    "Indentation is Used.'''"
   ]
  },
  {
   "cell_type": "code",
   "execution_count": null,
   "id": "12956576-0331-48a8-a619-a9b80908598e",
   "metadata": {},
   "outputs": [],
   "source": [
    "'''7. State a character used to give single line comment in python?\n",
    "# '''"
   ]
  },
  {
   "cell_type": "code",
   "execution_count": null,
   "id": "dcb32fca-bc5d-4c37-a0ae-84a948cda376",
   "metadata": {},
   "outputs": [],
   "source": [
    "'''8. Mention functions which can help us to find the version of python that we are currently working on?\n",
    "a. sys,version\n",
    "b. python_version()\n",
    "c. python_v \n",
    "'''"
   ]
  },
  {
   "cell_type": "code",
   "execution_count": null,
   "id": "b5aea7c8-4de9-43ab-986b-5d6c6b91139b",
   "metadata": {},
   "outputs": [],
   "source": [
    "''' 9. python supports ythe creation of anonymous function at runtime, using a constant called?\n",
    "def '''"
   ]
  },
  {
   "cell_type": "code",
   "execution_count": null,
   "id": "b8afbd4b-f9cf-4260-8248-274d9444c10b",
   "metadata": {},
   "outputs": [],
   "source": [
    "''' 10. What is pip stand for in python?\n",
    "Preffered installer program. '''"
   ]
  },
  {
   "cell_type": "code",
   "execution_count": null,
   "id": "c0b64997-933e-424f-9c92-66345bd607d8",
   "metadata": {},
   "outputs": [],
   "source": [
    "''' 11. Mention a few built-in functions in python?\n",
    "bool(),len(),print(),type(),input(),max(),etc. '''"
   ]
  },
  {
   "cell_type": "code",
   "execution_count": null,
   "id": "ff292994-5f89-4658-b1c1-bd9a00ed75b3",
   "metadata": {},
   "outputs": [],
   "source": [
    "''' 12. What is the maximum possible lenth of an identifier in python?\n",
    "79 characters'''"
   ]
  },
  {
   "cell_type": "code",
   "execution_count": null,
   "id": "9909aaa2-77b9-46d1-a714-e1a18ee39704",
   "metadata": {},
   "outputs": [],
   "source": [
    "'''13. What are the benefits of using python?\n",
    "a. Easy to use.\n",
    "b. Dynamically typed.\n",
    "c. Free and open source.\n",
    "d. Interpreted language.\n",
    "e. Extensive library.\n",
    "f. Supportive community.\n",
    "g. Has good portability.'''"
   ]
  },
  {
   "cell_type": "code",
   "execution_count": null,
   "id": "1ee7ac3a-3fd6-42c9-bd73-ff8e45585404",
   "metadata": {},
   "outputs": [],
   "source": [
    "'''14. How is memory managed in python?\n",
    "Memory in python is managed by python private heap space.'''"
   ]
  },
  {
   "cell_type": "code",
   "execution_count": null,
   "id": "dc50d3c6-bd29-4b0a-a50d-5b3790511c68",
   "metadata": {},
   "outputs": [],
   "source": [
    "'''15. how to install python on windows and set path variables?\n",
    "\n",
    "    For installing \n",
    "1: Select the Python's version to download.\n",
    "2: Click on the Install Now.\n",
    "3: Installation in Process.\n",
    "\n",
    "   For setting path variables\n",
    "1. Right click on My Computer and click on properties.\n",
    "2. Click on Advanced System settings.\n",
    "3. Click on Environment Variable tab.\n",
    "4. Click on new tab of user variables.\n",
    "5. Write path in variable name.\n",
    "6. Copy the path of Python folder.\n",
    "7. Paste path of Python in variable value.\n",
    "8. Click on Ok button."
   ]
  },
  {
   "cell_type": "code",
   "execution_count": null,
   "id": "0fe210db-978f-4936-8467-23e9f10e5d27",
   "metadata": {},
   "outputs": [],
   "source": [
    "16. Is indentation required in python?\n",
    "Yes"
   ]
  }
 ],
 "metadata": {
  "kernelspec": {
   "display_name": "Python 3 (ipykernel)",
   "language": "python",
   "name": "python3"
  },
  "language_info": {
   "codemirror_mode": {
    "name": "ipython",
    "version": 3
   },
   "file_extension": ".py",
   "mimetype": "text/x-python",
   "name": "python",
   "nbconvert_exporter": "python",
   "pygments_lexer": "ipython3",
   "version": "3.10.8"
  }
 },
 "nbformat": 4,
 "nbformat_minor": 5
}
