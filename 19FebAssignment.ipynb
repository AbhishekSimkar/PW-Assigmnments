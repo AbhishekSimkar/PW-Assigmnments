{
 "cells": [
  {
   "cell_type": "code",
   "execution_count": 1,
   "id": "2320893a-cf6f-41b3-bafc-a201a854c8f3",
   "metadata": {},
   "outputs": [
    {
     "data": {
      "text/plain": [
       "'1. What is Flask Framework? What are the advantages of Flask Framework?'"
      ]
     },
     "execution_count": 1,
     "metadata": {},
     "output_type": "execute_result"
    }
   ],
   "source": [
    "'''1. What is Flask Framework? What are the advantages of Flask Framework?'''"
   ]
  },
  {
   "cell_type": "code",
   "execution_count": 2,
   "id": "c5f01c3e-5a06-4a77-9dcd-a17883c42d95",
   "metadata": {},
   "outputs": [
    {
     "data": {
      "text/plain": [
       "'Flask is a micro web framework written in Python. It is classified as a microframework because it does not require particular tools or libraries. It has no database abstraction layer, form validation, or any other components where pre-existing third-party libraries provide common functions.\\n* It is a lightweight framework that offers hassle-free development.\\n* Provide flexibility to the developer to experiment with their modules or architecture.\\n* It is suitable for small projects.\\n* Offers a built-in development server and fast debugger.\\n* Easily scalable for the applications.\\n* Support for secure cookies.'"
      ]
     },
     "execution_count": 2,
     "metadata": {},
     "output_type": "execute_result"
    }
   ],
   "source": [
    "'''Flask is a micro web framework written in Python. It is classified as a microframework because it does not require particular tools or libraries. It has no database abstraction layer, form validation, or any other components where pre-existing third-party libraries provide common functions.\n",
    "* It is a lightweight framework that offers hassle-free development.\n",
    "* Provide flexibility to the developer to experiment with their modules or architecture.\n",
    "* It is suitable for small projects.\n",
    "* Offers a built-in development server and fast debugger.\n",
    "* Easily scalable for the applications.\n",
    "* Support for secure cookies.'''"
   ]
  },
  {
   "cell_type": "code",
   "execution_count": 3,
   "id": "762ab98a-5da1-4809-b669-c5a973be4f8b",
   "metadata": {},
   "outputs": [
    {
     "data": {
      "text/plain": [
       "'2. Create a simple Flask application to display ‘Hello World!!’. Attach the screenshot of the output in Jupyter Notebook.'"
      ]
     },
     "execution_count": 3,
     "metadata": {},
     "output_type": "execute_result"
    }
   ],
   "source": [
    "'''2. Create a simple Flask application to display ‘Hello World!!’. Attach the screenshot of the output in Jupyter Notebook.'''"
   ]
  },
  {
   "cell_type": "code",
   "execution_count": 4,
   "id": "d50afb5b-b66a-4c95-a6e7-6c51e043cb53",
   "metadata": {},
   "outputs": [
    {
     "data": {
      "text/plain": [
       "'3. What is App routing in Flask? Why do we use app routes?'"
      ]
     },
     "execution_count": 4,
     "metadata": {},
     "output_type": "execute_result"
    }
   ],
   "source": [
    "'''3. What is App routing in Flask? Why do we use app routes?'''"
   ]
  },
  {
   "cell_type": "code",
   "execution_count": 1,
   "id": "ae6f7728-a57e-4a66-9ba5-ad9b79968129",
   "metadata": {},
   "outputs": [
    {
     "data": {
      "text/plain": [
       "'App routing is the technique used to map the specific URL with the associated function intended to perform some task.\\nIt is used to help users remember application URLs. It is helpful to access the desired page directly without navigating from the home page.'"
      ]
     },
     "execution_count": 1,
     "metadata": {},
     "output_type": "execute_result"
    }
   ],
   "source": [
    "'''App routing is the technique used to map the specific URL with the associated function intended to perform some task.\n",
    "It is used to help users remember application URLs. It is helpful to access the desired page directly without navigating from the home page.'''"
   ]
  },
  {
   "cell_type": "code",
   "execution_count": 2,
   "id": "5588426e-d871-414d-aac1-80fdd2355160",
   "metadata": {},
   "outputs": [
    {
     "data": {
      "text/plain": [
       "'4. Create a “/welcome” route to display the welcome message “Welcome to ABC Corporation” and a “/” route to show the following details:\\n\\n    Company Name: ABC Corporation\\n\\n    Location: India\\n\\n    Contact Detail: 999-999-9999 \\n\\n\\nAttach the screenshot of the output in Jupyter Notebook.'"
      ]
     },
     "execution_count": 2,
     "metadata": {},
     "output_type": "execute_result"
    }
   ],
   "source": [
    "'''4. Create a “/welcome” route to display the welcome message “Welcome to ABC Corporation” and a “/” route to show the following details:\n",
    "\n",
    "    Company Name: ABC Corporation\n",
    "\n",
    "    Location: India\n",
    "\n",
    "    Contact Detail: 999-999-9999 \n",
    "\n",
    "\n",
    "Attach the screenshot of the output in Jupyter Notebook.'''"
   ]
  },
  {
   "cell_type": "code",
   "execution_count": 1,
   "id": "c96e1de1-4361-4a21-b73c-10ec9053af20",
   "metadata": {},
   "outputs": [
    {
     "data": {
      "text/plain": [
       "'5. What function is used in Flask for URL Building? Write a Python code to demonstrate the working of the url_for() function.'"
      ]
     },
     "execution_count": 1,
     "metadata": {},
     "output_type": "execute_result"
    }
   ],
   "source": [
    "'''5. What function is used in Flask for URL Building? Write a Python code to demonstrate the working of the url_for() function.'''"
   ]
  },
  {
   "cell_type": "code",
   "execution_count": null,
   "id": "b3e4452a-7825-4503-a985-317417ce3bf1",
   "metadata": {},
   "outputs": [],
   "source": [
    "'''The url_for() function is used to build a URL to the specific function dynamically.'''"
   ]
  },
  {
   "cell_type": "code",
   "execution_count": null,
   "id": "985bcc47-f81e-4d26-8754-ede4d0e8174d",
   "metadata": {},
   "outputs": [],
   "source": [
    "from flask import Flask, redirect, url_for\n",
    "app = Flask(__name__)\n",
    "\n",
    "@app.route('/admin')\n",
    "def hello_admin():\n",
    "    return 'Hello Admin'\n",
    "\n",
    "@app.route('/guest/<guest>')\n",
    "def hello_guest(guest):\n",
    "    return 'Hello %s as Guest' % guest\n",
    "\n",
    "@app.route('/user/<name>')\n",
    "def hello_user(name):\n",
    "    if name =='admin':\n",
    "        return redirect(url_for('hello_admin'))\n",
    "    else:\n",
    "        return redirect(url_for('hello_guest',guest = name))\n",
    "\n",
    "if __name__ == '__main__':\n",
    "    app.run(debug = True)"
   ]
  }
 ],
 "metadata": {
  "kernelspec": {
   "display_name": "Python 3 (ipykernel)",
   "language": "python",
   "name": "python3"
  },
  "language_info": {
   "codemirror_mode": {
    "name": "ipython",
    "version": 3
   },
   "file_extension": ".py",
   "mimetype": "text/x-python",
   "name": "python",
   "nbconvert_exporter": "python",
   "pygments_lexer": "ipython3",
   "version": "3.10.8"
  }
 },
 "nbformat": 4,
 "nbformat_minor": 5
}
