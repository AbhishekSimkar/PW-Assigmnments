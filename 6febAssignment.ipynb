{
 "cells": [
  {
   "cell_type": "code",
   "execution_count": 1,
   "id": "aa2ca0df-8f08-47aa-9352-410fb9f11525",
   "metadata": {},
   "outputs": [
    {
     "data": {
      "text/plain": [
       "' 1. Create a function which will take a list as an argument and return the product of all the numbers\\nafter creating a flat list. Use the below-given list as an argument for your function.\\nlist1 = [1,2,3,4, [44,55,66, True], False, (34,56,78,89,34), {1,2,3,3,2,1}, {1:34, \"key2\": [55, 67, 78, 89], 4: (45,\\n22, 61, 34)}, [56, \\'data science\\'], \\'Machine Learning\\']\\n\\nNote: you must extract numeric keys and values of the dictionary also. '"
      ]
     },
     "execution_count": 1,
     "metadata": {},
     "output_type": "execute_result"
    }
   ],
   "source": [
    "''' 1. Create a function which will take a list as an argument and return the product of all the numbers\n",
    "after creating a flat list. Use the below-given list as an argument for your function.\n",
    "list1 = [1,2,3,4, [44,55,66, True], False, (34,56,78,89,34), {1,2,3,3,2,1}, {1:34, \"key2\": [55, 67, 78, 89], 4: (45,\n",
    "22, 61, 34)}, [56, 'data science'], 'Machine Learning']\n",
    "\n",
    "Note: you must extract numeric keys and values of the dictionary also. '''"
   ]
  },
  {
   "cell_type": "code",
   "execution_count": 24,
   "id": "b81dbc27-1a4c-43ad-8375-c5f325b71bd1",
   "metadata": {},
   "outputs": [
    {
     "name": "stdout",
     "output_type": "stream",
     "text": [
      "[1, 2, 3, 4, 44, 55, 66, 34, 56, 78, 89, 34, 1, 2, 3, 1, 4, 34, 55, 67, 78, 89, 45, 22, 61, 34, 56]\n",
      "product is: 4134711838987085478833841242112000\n"
     ]
    }
   ],
   "source": [
    "list1 = [1,2,3,4, [44,55,66, True], False, (34,56,78,89,34), {1,2,3,3,2,1},{1:34, \"key2\": [55, 67, 78, 89], 4: (45,22, 61, 34)}, [56, 'data science'], 'Machine Learning']\n",
    "def final_list(l):\n",
    "    lst=[]\n",
    "    for i in l:\n",
    "        if type(i)== int:\n",
    "            lst.append(i)\n",
    "        elif type(i)== list or type(i)== tuple or type(i)== set:\n",
    "            for j in i:\n",
    "                if type(j)==int:\n",
    "                    lst.append(j)\n",
    "            \n",
    "        elif type(i)== dict:\n",
    "            for x in list(i.keys()):\n",
    "                if type(x)== int:\n",
    "                    lst.append(x)\n",
    "                elif type(x)== list or type(x)== tuple or type(x)== set:\n",
    "                    for j in x:\n",
    "                        if type(j)==int:\n",
    "                            lst.append(j)\n",
    "            for x in list(i.values()):\n",
    "                if type(x)== int:\n",
    "                    lst.append(x)\n",
    "                elif type(x)== list or type(x)== tuple or type(x)== set:\n",
    "                    for j in x:\n",
    "                        if type(j)==int:\n",
    "                            lst.append(j)\n",
    "                \n",
    "        \n",
    "    return lst\n",
    "L=final_list(list1)\n",
    "print(L)\n",
    "prod=1\n",
    "for x in L:\n",
    "    prod*=x\n",
    "print('product is:' ,prod)"
   ]
  },
  {
   "cell_type": "code",
   "execution_count": 20,
   "id": "48cf70a1-b787-4b00-91e7-12e81355b80e",
   "metadata": {},
   "outputs": [
    {
     "data": {
      "text/plain": [
       "'\\nQ2. Write a python program for encrypting a message sent to you by your friend. The logic of encryption\\nshould be such that, for a the output should be z. For b, the output should be y. For c, the output should\\nbe x respectively. Also, the whitespace should be replaced with a dollar sign. Keep the punctuation\\nmarks unchanged.\\n\\nInput Sentence: I want to become a Data Scientist.\\nEncrypt the above input sentence using the program you just created.\\n\\nNote: Convert the given input sentence into lowercase before encrypting. The final output should be\\nlowercase.\\n'"
      ]
     },
     "execution_count": 20,
     "metadata": {},
     "output_type": "execute_result"
    }
   ],
   "source": [
    "'''\n",
    "Q2. Write a python program for encrypting a message sent to you by your friend. The logic of encryption\n",
    "should be such that, for a the output should be z. For b, the output should be y. For c, the output should\n",
    "be x respectively. Also, the whitespace should be replaced with a dollar sign. Keep the punctuation\n",
    "marks unchanged.\n",
    "\n",
    "Input Sentence: I want to become a Data Scientist.\n",
    "Encrypt the above input sentence using the program you just created.\n",
    "\n",
    "Note: Convert the given input sentence into lowercase before encrypting. The final output should be\n",
    "lowercase.\n",
    "'''"
   ]
  },
  {
   "cell_type": "code",
   "execution_count": 37,
   "id": "87ea1a64-f084-4ef6-a5db-43040ef014e2",
   "metadata": {},
   "outputs": [
    {
     "name": "stdout",
     "output_type": "stream",
     "text": [
      "r$dzmg$gl$yvxlnv$z$wzgz$hxrvmgrhg.\n"
     ]
    }
   ],
   "source": [
    "lst=[]\n",
    "def encrypt(s):\n",
    "    string1=s.lower()\n",
    "    for i in string1:\n",
    "        if i== 'a':\n",
    "            lst.append('z')\n",
    "        elif i=='b':\n",
    "            lst.append('y')\n",
    "        elif i=='c':\n",
    "            lst.append('x')\n",
    "        elif i=='d':\n",
    "            lst.append('w')\n",
    "        elif i=='e':\n",
    "            lst.append('v')\n",
    "        elif i=='f':\n",
    "            lst.append('u')\n",
    "        elif i=='g':\n",
    "            lst.append('t')\n",
    "        elif i=='h':\n",
    "            lst.append('s')\n",
    "        elif i=='i':\n",
    "            lst.append('r')\n",
    "        elif i=='j':\n",
    "            lst.append('q')\n",
    "        elif i=='k':\n",
    "            lst.append('p')\n",
    "        elif i=='l':\n",
    "            lst.append('o')\n",
    "        elif i=='m':\n",
    "            lst.append('n')\n",
    "        elif i=='n':\n",
    "            lst.append('m')\n",
    "        elif i=='o':\n",
    "            lst.append('l')\n",
    "        elif i=='p':\n",
    "            lst.append('k')\n",
    "        elif i=='q':\n",
    "            lst.append('j')\n",
    "        elif i=='r':\n",
    "            lst.append('i')\n",
    "        elif i=='s':\n",
    "            lst.append('h')\n",
    "        elif i=='t':\n",
    "            lst.append('g')\n",
    "        elif i=='u':\n",
    "            lst.append('f')\n",
    "        elif i=='v':\n",
    "            lst.append('e')\n",
    "        elif i=='w':\n",
    "            lst.append('d')\n",
    "        elif i=='x':\n",
    "            lst.append('c')\n",
    "        elif i=='y':\n",
    "            lst.append('b')\n",
    "        elif i=='z':\n",
    "            lst.append('a')\n",
    "        elif i==' ':\n",
    "            lst.append('$')\n",
    "        else:\n",
    "            lst.append(i)\n",
    "    return lst\n",
    "encrypt('I want to become a Data Scientist.')\n",
    "string=\"\"\n",
    "for x in lst:\n",
    "    string=string+x\n",
    "print(string)\n"
   ]
  },
  {
   "cell_type": "code",
   "execution_count": null,
   "id": "797a9c4e-4211-4a39-b23b-c3ceed315c81",
   "metadata": {},
   "outputs": [],
   "source": []
  },
  {
   "cell_type": "code",
   "execution_count": null,
   "id": "b56cfcff-4e85-4ae1-bcdc-6fb880238b6e",
   "metadata": {},
   "outputs": [],
   "source": []
  },
  {
   "cell_type": "code",
   "execution_count": null,
   "id": "c63dd1b2-c564-42e6-a07b-63bff8056a25",
   "metadata": {},
   "outputs": [],
   "source": []
  },
  {
   "cell_type": "code",
   "execution_count": null,
   "id": "4ba7fbc9-50c1-4e3a-84ec-5d2c08918706",
   "metadata": {},
   "outputs": [],
   "source": []
  }
 ],
 "metadata": {
  "kernelspec": {
   "display_name": "Python 3 (ipykernel)",
   "language": "python",
   "name": "python3"
  },
  "language_info": {
   "codemirror_mode": {
    "name": "ipython",
    "version": 3
   },
   "file_extension": ".py",
   "mimetype": "text/x-python",
   "name": "python",
   "nbconvert_exporter": "python",
   "pygments_lexer": "ipython3",
   "version": "3.10.8"
  }
 },
 "nbformat": 4,
 "nbformat_minor": 5
}
