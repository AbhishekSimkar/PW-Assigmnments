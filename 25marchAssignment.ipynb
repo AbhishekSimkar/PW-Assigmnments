{
 "cells": [
  {
   "cell_type": "markdown",
   "id": "9af7dbd4-43da-4e61-8d79-e58673ca5b6f",
   "metadata": {},
   "source": [
    "### Flight Price"
   ]
  },
  {
   "cell_type": "code",
   "execution_count": 1,
   "id": "964011a5-8994-493f-bf1c-2e580147c9e7",
   "metadata": {},
   "outputs": [
    {
     "data": {
      "text/plain": [
       "'1. Load the flight price dataset and examine its dimensions. How many rows and columns does the dataset have?'"
      ]
     },
     "execution_count": 1,
     "metadata": {},
     "output_type": "execute_result"
    }
   ],
   "source": [
    "'1. Load the flight price dataset and examine its dimensions. How many rows and columns does the dataset have?'"
   ]
  },
  {
   "cell_type": "code",
   "execution_count": 2,
   "id": "389c5b0f-2b38-42a3-96e0-7cf9d71ccb54",
   "metadata": {},
   "outputs": [],
   "source": [
    "import pandas as pd\n",
    "import matplotlib.pyplot as plt\n",
    "import numpy as np\n",
    "import seaborn as sns"
   ]
  },
  {
   "cell_type": "code",
   "execution_count": 3,
   "id": "1810f5c9-c4a5-4695-ae8a-599c2fd995c2",
   "metadata": {},
   "outputs": [],
   "source": [
    "df=pd.read_excel('flight_price.xlsx')"
   ]
  },
  {
   "cell_type": "code",
   "execution_count": 4,
   "id": "00d95a92-04fd-4232-a9a6-8a8a8c7acf93",
   "metadata": {},
   "outputs": [
    {
     "data": {
      "text/html": [
       "<div>\n",
       "<style scoped>\n",
       "    .dataframe tbody tr th:only-of-type {\n",
       "        vertical-align: middle;\n",
       "    }\n",
       "\n",
       "    .dataframe tbody tr th {\n",
       "        vertical-align: top;\n",
       "    }\n",
       "\n",
       "    .dataframe thead th {\n",
       "        text-align: right;\n",
       "    }\n",
       "</style>\n",
       "<table border=\"1\" class=\"dataframe\">\n",
       "  <thead>\n",
       "    <tr style=\"text-align: right;\">\n",
       "      <th></th>\n",
       "      <th>Airline</th>\n",
       "      <th>Date_of_Journey</th>\n",
       "      <th>Source</th>\n",
       "      <th>Destination</th>\n",
       "      <th>Route</th>\n",
       "      <th>Dep_Time</th>\n",
       "      <th>Arrival_Time</th>\n",
       "      <th>Duration</th>\n",
       "      <th>Total_Stops</th>\n",
       "      <th>Additional_Info</th>\n",
       "      <th>Price</th>\n",
       "    </tr>\n",
       "  </thead>\n",
       "  <tbody>\n",
       "    <tr>\n",
       "      <th>0</th>\n",
       "      <td>IndiGo</td>\n",
       "      <td>24/03/2019</td>\n",
       "      <td>Banglore</td>\n",
       "      <td>New Delhi</td>\n",
       "      <td>BLR → DEL</td>\n",
       "      <td>22:20</td>\n",
       "      <td>01:10 22 Mar</td>\n",
       "      <td>2h 50m</td>\n",
       "      <td>non-stop</td>\n",
       "      <td>No info</td>\n",
       "      <td>3897</td>\n",
       "    </tr>\n",
       "    <tr>\n",
       "      <th>1</th>\n",
       "      <td>Air India</td>\n",
       "      <td>1/05/2019</td>\n",
       "      <td>Kolkata</td>\n",
       "      <td>Banglore</td>\n",
       "      <td>CCU → IXR → BBI → BLR</td>\n",
       "      <td>05:50</td>\n",
       "      <td>13:15</td>\n",
       "      <td>7h 25m</td>\n",
       "      <td>2 stops</td>\n",
       "      <td>No info</td>\n",
       "      <td>7662</td>\n",
       "    </tr>\n",
       "    <tr>\n",
       "      <th>2</th>\n",
       "      <td>Jet Airways</td>\n",
       "      <td>9/06/2019</td>\n",
       "      <td>Delhi</td>\n",
       "      <td>Cochin</td>\n",
       "      <td>DEL → LKO → BOM → COK</td>\n",
       "      <td>09:25</td>\n",
       "      <td>04:25 10 Jun</td>\n",
       "      <td>19h</td>\n",
       "      <td>2 stops</td>\n",
       "      <td>No info</td>\n",
       "      <td>13882</td>\n",
       "    </tr>\n",
       "    <tr>\n",
       "      <th>3</th>\n",
       "      <td>IndiGo</td>\n",
       "      <td>12/05/2019</td>\n",
       "      <td>Kolkata</td>\n",
       "      <td>Banglore</td>\n",
       "      <td>CCU → NAG → BLR</td>\n",
       "      <td>18:05</td>\n",
       "      <td>23:30</td>\n",
       "      <td>5h 25m</td>\n",
       "      <td>1 stop</td>\n",
       "      <td>No info</td>\n",
       "      <td>6218</td>\n",
       "    </tr>\n",
       "    <tr>\n",
       "      <th>4</th>\n",
       "      <td>IndiGo</td>\n",
       "      <td>01/03/2019</td>\n",
       "      <td>Banglore</td>\n",
       "      <td>New Delhi</td>\n",
       "      <td>BLR → NAG → DEL</td>\n",
       "      <td>16:50</td>\n",
       "      <td>21:35</td>\n",
       "      <td>4h 45m</td>\n",
       "      <td>1 stop</td>\n",
       "      <td>No info</td>\n",
       "      <td>13302</td>\n",
       "    </tr>\n",
       "  </tbody>\n",
       "</table>\n",
       "</div>"
      ],
      "text/plain": [
       "       Airline Date_of_Journey    Source Destination                  Route  \\\n",
       "0       IndiGo      24/03/2019  Banglore   New Delhi              BLR → DEL   \n",
       "1    Air India       1/05/2019   Kolkata    Banglore  CCU → IXR → BBI → BLR   \n",
       "2  Jet Airways       9/06/2019     Delhi      Cochin  DEL → LKO → BOM → COK   \n",
       "3       IndiGo      12/05/2019   Kolkata    Banglore        CCU → NAG → BLR   \n",
       "4       IndiGo      01/03/2019  Banglore   New Delhi        BLR → NAG → DEL   \n",
       "\n",
       "  Dep_Time  Arrival_Time Duration Total_Stops Additional_Info  Price  \n",
       "0    22:20  01:10 22 Mar   2h 50m    non-stop         No info   3897  \n",
       "1    05:50         13:15   7h 25m     2 stops         No info   7662  \n",
       "2    09:25  04:25 10 Jun      19h     2 stops         No info  13882  \n",
       "3    18:05         23:30   5h 25m      1 stop         No info   6218  \n",
       "4    16:50         21:35   4h 45m      1 stop         No info  13302  "
      ]
     },
     "execution_count": 4,
     "metadata": {},
     "output_type": "execute_result"
    }
   ],
   "source": [
    "df.head()"
   ]
  },
  {
   "cell_type": "code",
   "execution_count": 5,
   "id": "73c3fa11-6f5f-42a6-ad88-be7ffdb07389",
   "metadata": {},
   "outputs": [
    {
     "data": {
      "text/plain": [
       "(10683, 11)"
      ]
     },
     "execution_count": 5,
     "metadata": {},
     "output_type": "execute_result"
    }
   ],
   "source": [
    "df.shape"
   ]
  },
  {
   "cell_type": "code",
   "execution_count": 6,
   "id": "b1fa221e-7167-45ec-b02f-d3fa57034483",
   "metadata": {},
   "outputs": [
    {
     "data": {
      "text/plain": [
       "'There are total 11 columns and 10683 columns in flight_price dataset'"
      ]
     },
     "execution_count": 6,
     "metadata": {},
     "output_type": "execute_result"
    }
   ],
   "source": [
    "'There are total 11 columns and 10683 columns in flight_price dataset'"
   ]
  },
  {
   "cell_type": "code",
   "execution_count": 7,
   "id": "9d7f2ce0-b370-49d4-8fe0-940d7be29f20",
   "metadata": {},
   "outputs": [
    {
     "data": {
      "text/plain": [
       "'2. What is the distribution of flight prices in the dataset? Create a histogram to visualize the distribution.'"
      ]
     },
     "execution_count": 7,
     "metadata": {},
     "output_type": "execute_result"
    }
   ],
   "source": [
    "'2. What is the distribution of flight prices in the dataset? Create a histogram to visualize the distribution.'"
   ]
  },
  {
   "cell_type": "code",
   "execution_count": 8,
   "id": "87dce2a4-5403-43ea-9b3d-e6f0e6f1f5f5",
   "metadata": {},
   "outputs": [
    {
     "data": {
      "text/plain": [
       "<AxesSubplot: xlabel='Price', ylabel='Density'>"
      ]
     },
     "execution_count": 8,
     "metadata": {},
     "output_type": "execute_result"
    },
    {
     "data": {
      "image/png": "[encoded data removed]",
      "text/plain": [
       "<Figure size 640x480 with 1 Axes>"
      ]
     },
     "metadata": {},
     "output_type": "display_data"
    }
   ],
   "source": [
    "sns.kdeplot(x=df['Price'])"
   ]
  },
  {
   "cell_type": "code",
   "execution_count": 9,
   "id": "bc423795-5457-4577-be8a-29088d81c195",
   "metadata": {},
   "outputs": [
    {
     "data": {
      "text/plain": [
       "(array([6.029e+03, 4.390e+03, 1.820e+02, 6.600e+01, 7.000e+00, 1.000e+00,\n",
       "        5.000e+00, 2.000e+00, 0.000e+00, 1.000e+00]),\n",
       " array([ 1759. ,  9534.3, 17309.6, 25084.9, 32860.2, 40635.5, 48410.8,\n",
       "        56186.1, 63961.4, 71736.7, 79512. ]),\n",
       " <BarContainer object of 10 artists>)"
      ]
     },
     "execution_count": 9,
     "metadata": {},
     "output_type": "execute_result"
    },
    {
     "data": {
      "image/png": "[encoded data removed]",
      "text/plain": [
       "<Figure size 640x480 with 1 Axes>"
      ]
     },
     "metadata": {},
     "output_type": "display_data"
    }
   ],
   "source": [
    "plt.hist(df['Price'])"
   ]
  },
  {
   "cell_type": "code",
   "execution_count": 10,
   "id": "65f38161-2582-4eed-8301-9976a8929757",
   "metadata": {},
   "outputs": [
    {
     "data": {
      "text/plain": [
       "'3. What is the range of prices in the dataset? What is the minimum and maximum price?'"
      ]
     },
     "execution_count": 10,
     "metadata": {},
     "output_type": "execute_result"
    }
   ],
   "source": [
    "'3. What is the range of prices in the dataset? What is the minimum and maximum price?'"
   ]
  },
  {
   "cell_type": "code",
   "execution_count": 11,
   "id": "ebdac4d1-1578-4025-955a-4f6827995b8b",
   "metadata": {},
   "outputs": [
    {
     "data": {
      "text/html": [
       "<div>\n",
       "<style scoped>\n",
       "    .dataframe tbody tr th:only-of-type {\n",
       "        vertical-align: middle;\n",
       "    }\n",
       "\n",
       "    .dataframe tbody tr th {\n",
       "        vertical-align: top;\n",
       "    }\n",
       "\n",
       "    .dataframe thead th {\n",
       "        text-align: right;\n",
       "    }\n",
       "</style>\n",
       "<table border=\"1\" class=\"dataframe\">\n",
       "  <thead>\n",
       "    <tr style=\"text-align: right;\">\n",
       "      <th></th>\n",
       "      <th>Price</th>\n",
       "    </tr>\n",
       "  </thead>\n",
       "  <tbody>\n",
       "    <tr>\n",
       "      <th>count</th>\n",
       "      <td>10683.000000</td>\n",
       "    </tr>\n",
       "    <tr>\n",
       "      <th>mean</th>\n",
       "      <td>9087.064121</td>\n",
       "    </tr>\n",
       "    <tr>\n",
       "      <th>std</th>\n",
       "      <td>4611.359167</td>\n",
       "    </tr>\n",
       "    <tr>\n",
       "      <th>min</th>\n",
       "      <td>1759.000000</td>\n",
       "    </tr>\n",
       "    <tr>\n",
       "      <th>25%</th>\n",
       "      <td>5277.000000</td>\n",
       "    </tr>\n",
       "    <tr>\n",
       "      <th>50%</th>\n",
       "      <td>8372.000000</td>\n",
       "    </tr>\n",
       "    <tr>\n",
       "      <th>75%</th>\n",
       "      <td>12373.000000</td>\n",
       "    </tr>\n",
       "    <tr>\n",
       "      <th>max</th>\n",
       "      <td>79512.000000</td>\n",
       "    </tr>\n",
       "  </tbody>\n",
       "</table>\n",
       "</div>"
      ],
      "text/plain": [
       "              Price\n",
       "count  10683.000000\n",
       "mean    9087.064121\n",
       "std     4611.359167\n",
       "min     1759.000000\n",
       "25%     5277.000000\n",
       "50%     8372.000000\n",
       "75%    12373.000000\n",
       "max    79512.000000"
      ]
     },
     "execution_count": 11,
     "metadata": {},
     "output_type": "execute_result"
    }
   ],
   "source": [
    "df.describe()"
   ]
  },
  {
   "cell_type": "code",
   "execution_count": 12,
   "id": "da96a438-7280-4a1a-8eb4-8cf223171a50",
   "metadata": {},
   "outputs": [
    {
     "data": {
      "text/plain": [
       "'1. The range of price in dataset is (1759,79512)\\n2. Minimum: 1759\\n3. Maximum: 79512'"
      ]
     },
     "execution_count": 12,
     "metadata": {},
     "output_type": "execute_result"
    }
   ],
   "source": [
    "'''1. The range of price in dataset is (1759,79512)\n",
    "2. Minimum: 1759\n",
    "3. Maximum: 79512'''"
   ]
  },
  {
   "cell_type": "code",
   "execution_count": 13,
   "id": "60e994b2-3c2b-41a2-961b-89f0c009dff2",
   "metadata": {},
   "outputs": [
    {
     "data": {
      "text/plain": [
       "'4. How does the price of flights vary by airline? Create a boxplot to compare the prices of different airlines.'"
      ]
     },
     "execution_count": 13,
     "metadata": {},
     "output_type": "execute_result"
    }
   ],
   "source": [
    "'4. How does the price of flights vary by airline? Create a boxplot to compare the prices of different airlines.'"
   ]
  },
  {
   "cell_type": "code",
   "execution_count": 14,
   "id": "2b1f7d46-ef04-4811-b9ea-8300cb021b03",
   "metadata": {},
   "outputs": [
    {
     "data": {
      "text/plain": [
       "<AxesSubplot: xlabel='Price'>"
      ]
     },
     "execution_count": 14,
     "metadata": {},
     "output_type": "execute_result"
    },
    {
     "data": {
      "image/png": "[encoded data removed]",
      "text/plain": [
       "<Figure size 640x480 with 1 Axes>"
      ]
     },
     "metadata": {},
     "output_type": "display_data"
    }
   ],
   "source": [
    "sns.boxplot(x='Price', data= df)"
   ]
  },
  {
   "cell_type": "code",
   "execution_count": 15,
   "id": "df697a70-3861-4136-b07f-cb9167de8c39",
   "metadata": {},
   "outputs": [
    {
     "data": {
      "text/plain": [
       "'5. Are there any outliers in the dataset? Identify any potential outliers using a boxplot and describe how they may impact your analysis.'"
      ]
     },
     "execution_count": 15,
     "metadata": {},
     "output_type": "execute_result"
    }
   ],
   "source": [
    "'5. Are there any outliers in the dataset? Identify any potential outliers using a boxplot and describe how they may impact your analysis.'"
   ]
  },
  {
   "cell_type": "code",
   "execution_count": 16,
   "id": "83c2497a-f513-44c2-ba47-5bc51e624169",
   "metadata": {},
   "outputs": [
    {
     "data": {
      "text/plain": [
       "'Yes there are outliers in the dataset. They can change the values by huge amount. Also this will interfere in the properties like mean, median etc.'"
      ]
     },
     "execution_count": 16,
     "metadata": {},
     "output_type": "execute_result"
    }
   ],
   "source": [
    "'''Yes there are outliers in the dataset. They can change the values by huge amount. Also this will interfere in the properties like mean, median etc.'''"
   ]
  },
  {
   "cell_type": "code",
   "execution_count": 17,
   "id": "e0edabd4-3c91-4779-8cab-8c4ec750220a",
   "metadata": {},
   "outputs": [
    {
     "data": {
      "text/plain": [
       "{'whiskers': [<matplotlib.lines.Line2D at 0x7f4b83b9b490>,\n",
       "  <matplotlib.lines.Line2D at 0x7f4b83b9b730>],\n",
       " 'caps': [<matplotlib.lines.Line2D at 0x7f4b83b9b9d0>,\n",
       "  <matplotlib.lines.Line2D at 0x7f4b83b9bc70>],\n",
       " 'boxes': [<matplotlib.lines.Line2D at 0x7f4b83b9b1f0>],\n",
       " 'medians': [<matplotlib.lines.Line2D at 0x7f4b83b9bf10>],\n",
       " 'fliers': [<matplotlib.lines.Line2D at 0x7f4b83c041f0>],\n",
       " 'means': []}"
      ]
     },
     "execution_count": 17,
     "metadata": {},
     "output_type": "execute_result"
    },
    {
     "data": {
      "image/png": "[encoded data removed]",
      "text/plain": [
       "<Figure size 640x480 with 1 Axes>"
      ]
     },
     "metadata": {},
     "output_type": "display_data"
    }
   ],
   "source": [
    "plt.boxplot(df['Price'])"
   ]
  },
  {
   "cell_type": "code",
   "execution_count": 18,
   "id": "6b346e17-9c35-4d1b-8c2f-51bdccbca21f",
   "metadata": {},
   "outputs": [
    {
     "data": {
      "text/plain": [
       "'6. You are working for a travel agency, and your boss has asked you to analyze the Flight Price dataset to identify the peak travel season. What features would you analyze to identify the peak season, and how would you present your findings to your boss?'"
      ]
     },
     "execution_count": 18,
     "metadata": {},
     "output_type": "execute_result"
    }
   ],
   "source": [
    "'6. You are working for a travel agency, and your boss has asked you to analyze the Flight Price dataset to identify the peak travel season. What features would you analyze to identify the peak season, and how would you present your findings to your boss?'"
   ]
  },
  {
   "cell_type": "code",
   "execution_count": 19,
   "id": "8ca2300f-44b0-422f-b426-10abef106fd4",
   "metadata": {},
   "outputs": [
    {
     "data": {
      "text/plain": [
       "\"Here we will look into 'Date_of_Journey' feature for the purpose\""
      ]
     },
     "execution_count": 19,
     "metadata": {},
     "output_type": "execute_result"
    }
   ],
   "source": [
    "'''Here we will look into 'Date_of_Journey' feature for the purpose'''"
   ]
  },
  {
   "cell_type": "code",
   "execution_count": 20,
   "id": "dfc70652-c70a-4b6a-8f6b-11a25f7155a4",
   "metadata": {},
   "outputs": [],
   "source": [
    "df_copy= df.copy()"
   ]
  },
  {
   "cell_type": "code",
   "execution_count": 21,
   "id": "f5477ac7-b41e-4500-b001-09369afed0b9",
   "metadata": {},
   "outputs": [],
   "source": [
    "df_copy['Month']= df_copy['Date_of_Journey'].str.split('/').str[1]"
   ]
  },
  {
   "cell_type": "code",
   "execution_count": 22,
   "id": "4a1397c3-3d0a-4241-a4de-5ba9a96eae7c",
   "metadata": {},
   "outputs": [],
   "source": [
    "df_copy['Month']=df_copy['Month'].astype('int')"
   ]
  },
  {
   "cell_type": "code",
   "execution_count": 23,
   "id": "d63ea259-3988-4d91-9b52-ac65832bce36",
   "metadata": {},
   "outputs": [
    {
     "data": {
      "text/plain": [
       "0    5\n",
       "Name: Month, dtype: int64"
      ]
     },
     "execution_count": 23,
     "metadata": {},
     "output_type": "execute_result"
    }
   ],
   "source": [
    "df_copy['Month'].mode()"
   ]
  },
  {
   "cell_type": "code",
   "execution_count": 24,
   "id": "3b8a8876-98f8-42f9-aa2d-3da68ad4e2a6",
   "metadata": {},
   "outputs": [
    {
     "data": {
      "text/plain": [
       "\"Since, 5th month occur the most times in 'flight_price' dataset. So, the peak month is May.\""
      ]
     },
     "execution_count": 24,
     "metadata": {},
     "output_type": "execute_result"
    }
   ],
   "source": [
    "'''Since, 5th month occur the most times in 'flight_price' dataset. So, the peak month is May.'''"
   ]
  },
  {
   "cell_type": "code",
   "execution_count": 25,
   "id": "2dadae61-859f-4d2e-989a-929e32575bc0",
   "metadata": {},
   "outputs": [
    {
     "data": {
      "text/plain": [
       "'7. You are a data analyst for a flight booking website, and you have been asked to analyze the Flight Price dataset to identify any trends in flight prices. What features would you analyze to identify these trends, and what visualizations would you use to present your findings to your team?'"
      ]
     },
     "execution_count": 25,
     "metadata": {},
     "output_type": "execute_result"
    }
   ],
   "source": [
    "'7. You are a data analyst for a flight booking website, and you have been asked to analyze the Flight Price dataset to identify any trends in flight prices. What features would you analyze to identify these trends, and what visualizations would you use to present your findings to your team?'"
   ]
  },
  {
   "cell_type": "code",
   "execution_count": 26,
   "id": "452d0c13-a39b-42ed-bb4f-be430562bdb9",
   "metadata": {},
   "outputs": [
    {
     "name": "stdout",
     "output_type": "stream",
     "text": [
      "<class 'pandas.core.frame.DataFrame'>\n",
      "RangeIndex: 10683 entries, 0 to 10682\n",
      "Data columns (total 12 columns):\n",
      " #   Column           Non-Null Count  Dtype \n",
      "---  ------           --------------  ----- \n",
      " 0   Airline          10683 non-null  object\n",
      " 1   Date_of_Journey  10683 non-null  object\n",
      " 2   Source           10683 non-null  object\n",
      " 3   Destination      10683 non-null  object\n",
      " 4   Route            10682 non-null  object\n",
      " 5   Dep_Time         10683 non-null  object\n",
      " 6   Arrival_Time     10683 non-null  object\n",
      " 7   Duration         10683 non-null  object\n",
      " 8   Total_Stops      10682 non-null  object\n",
      " 9   Additional_Info  10683 non-null  object\n",
      " 10  Price            10683 non-null  int64 \n",
      " 11  Month            10683 non-null  int64 \n",
      "dtypes: int64(2), object(10)\n",
      "memory usage: 1001.7+ KB\n"
     ]
    }
   ],
   "source": [
    "df_copy.info()"
   ]
  },
  {
   "cell_type": "code",
   "execution_count": 27,
   "id": "aed2ac29-0951-48af-9405-b2333ccdd312",
   "metadata": {},
   "outputs": [
    {
     "data": {
      "text/html": [
       "<div>\n",
       "<style scoped>\n",
       "    .dataframe tbody tr th:only-of-type {\n",
       "        vertical-align: middle;\n",
       "    }\n",
       "\n",
       "    .dataframe tbody tr th {\n",
       "        vertical-align: top;\n",
       "    }\n",
       "\n",
       "    .dataframe thead th {\n",
       "        text-align: right;\n",
       "    }\n",
       "</style>\n",
       "<table border=\"1\" class=\"dataframe\">\n",
       "  <thead>\n",
       "    <tr style=\"text-align: right;\">\n",
       "      <th></th>\n",
       "      <th>Airline</th>\n",
       "      <th>Date_of_Journey</th>\n",
       "      <th>Source</th>\n",
       "      <th>Destination</th>\n",
       "      <th>Route</th>\n",
       "      <th>Dep_Time</th>\n",
       "      <th>Arrival_Time</th>\n",
       "      <th>Duration</th>\n",
       "      <th>Total_Stops</th>\n",
       "      <th>Additional_Info</th>\n",
       "      <th>Price</th>\n",
       "      <th>Month</th>\n",
       "    </tr>\n",
       "  </thead>\n",
       "  <tbody>\n",
       "    <tr>\n",
       "      <th>0</th>\n",
       "      <td>IndiGo</td>\n",
       "      <td>24/03/2019</td>\n",
       "      <td>Banglore</td>\n",
       "      <td>New Delhi</td>\n",
       "      <td>BLR → DEL</td>\n",
       "      <td>22:20</td>\n",
       "      <td>01:10 22 Mar</td>\n",
       "      <td>2h 50m</td>\n",
       "      <td>non-stop</td>\n",
       "      <td>No info</td>\n",
       "      <td>3897</td>\n",
       "      <td>3</td>\n",
       "    </tr>\n",
       "  </tbody>\n",
       "</table>\n",
       "</div>"
      ],
      "text/plain": [
       "  Airline Date_of_Journey    Source Destination      Route Dep_Time  \\\n",
       "0  IndiGo      24/03/2019  Banglore   New Delhi  BLR → DEL    22:20   \n",
       "\n",
       "   Arrival_Time Duration Total_Stops Additional_Info  Price  Month  \n",
       "0  01:10 22 Mar   2h 50m    non-stop         No info   3897      3  "
      ]
     },
     "execution_count": 27,
     "metadata": {},
     "output_type": "execute_result"
    }
   ],
   "source": [
    "df_copy.head(1)"
   ]
  },
  {
   "cell_type": "code",
   "execution_count": 28,
   "id": "acae01de-c20c-4e53-877e-cde4267f0b52",
   "metadata": {},
   "outputs": [
    {
     "data": {
      "text/plain": [
       "\"As a data analyst i will analyse the following feature: 'Airline', 'Date_of_Journey', 'Duration', 'Total_Stops'.\""
      ]
     },
     "execution_count": 28,
     "metadata": {},
     "output_type": "execute_result"
    }
   ],
   "source": [
    "'''As a data analyst i will analyse the following feature: 'Airline', 'Date_of_Journey', 'Duration', 'Total_Stops'.'''"
   ]
  },
  {
   "cell_type": "code",
   "execution_count": 29,
   "id": "2f56e62f-c14c-439c-9441-83c1444c4069",
   "metadata": {},
   "outputs": [],
   "source": [
    "df_copy['Duration_hours']= df_copy['Duration'].str.split('h').str[0]\n",
    "df_copy['Duration_min']= df_copy['Duration'].str.split('h').str[1].str.split('m').str[0]"
   ]
  },
  {
   "cell_type": "code",
   "execution_count": 30,
   "id": "d119b691-ff30-4aff-b8e7-9124e1779b73",
   "metadata": {},
   "outputs": [
    {
     "data": {
      "text/plain": [
       "array(['2', '7', '19', '5', '4', '15', '21', '25', '13', '12', '26', '22',\n",
       "       '23', '20', '10', '6', '11', '8', '16', '3', '27', '1', '14', '9',\n",
       "       '18', '17', '24', '30', '28', '29', '37', '34', '38', '35', '36',\n",
       "       '47', '33', '32', '31', '42', '39', '5m', '41', '40'], dtype=object)"
      ]
     },
     "execution_count": 30,
     "metadata": {},
     "output_type": "execute_result"
    }
   ],
   "source": [
    "df_copy['Duration_hours'].unique()"
   ]
  },
  {
   "cell_type": "code",
   "execution_count": 31,
   "id": "0a03fe46-d980-4cdf-8f0f-3953db9dd9d7",
   "metadata": {},
   "outputs": [],
   "source": [
    "df_copy['Duration_hours'].replace('5m', '0.8333', inplace=True)"
   ]
  },
  {
   "cell_type": "code",
   "execution_count": 32,
   "id": "b672a7d5-d4ba-48ea-9f57-1dd923f06c90",
   "metadata": {},
   "outputs": [],
   "source": [
    "df_copy['Duration_hours']=df_copy['Duration_hours'].astype(float)\n",
    "df_copy['Duration_hours_min'] = df_copy['Duration_hours'] * 60"
   ]
  },
  {
   "cell_type": "code",
   "execution_count": 33,
   "id": "ad449af7-9ad9-4ae6-b7d6-33be810a1a1f",
   "metadata": {},
   "outputs": [
    {
     "data": {
      "text/plain": [
       "array([' 50', ' 25', '', ' 45', ' 30', ' 5', ' 15', ' 35', ' 10', ' 20',\n",
       "       ' 55', ' 40', nan], dtype=object)"
      ]
     },
     "execution_count": 33,
     "metadata": {},
     "output_type": "execute_result"
    }
   ],
   "source": [
    "df_copy['Duration_min'].unique()"
   ]
  },
  {
   "cell_type": "code",
   "execution_count": 34,
   "id": "3ce2b89d-d635-4d10-ba9f-a988dfb3752a",
   "metadata": {},
   "outputs": [
    {
     "data": {
      "text/html": [
       "<div>\n",
       "<style scoped>\n",
       "    .dataframe tbody tr th:only-of-type {\n",
       "        vertical-align: middle;\n",
       "    }\n",
       "\n",
       "    .dataframe tbody tr th {\n",
       "        vertical-align: top;\n",
       "    }\n",
       "\n",
       "    .dataframe thead th {\n",
       "        text-align: right;\n",
       "    }\n",
       "</style>\n",
       "<table border=\"1\" class=\"dataframe\">\n",
       "  <thead>\n",
       "    <tr style=\"text-align: right;\">\n",
       "      <th></th>\n",
       "      <th>Airline</th>\n",
       "      <th>Date_of_Journey</th>\n",
       "      <th>Source</th>\n",
       "      <th>Destination</th>\n",
       "      <th>Route</th>\n",
       "      <th>Dep_Time</th>\n",
       "      <th>Arrival_Time</th>\n",
       "      <th>Duration</th>\n",
       "      <th>Total_Stops</th>\n",
       "      <th>Additional_Info</th>\n",
       "      <th>Price</th>\n",
       "      <th>Month</th>\n",
       "      <th>Duration_hours</th>\n",
       "      <th>Duration_min</th>\n",
       "      <th>Duration_hours_min</th>\n",
       "    </tr>\n",
       "  </thead>\n",
       "  <tbody>\n",
       "    <tr>\n",
       "      <th>0</th>\n",
       "      <td>IndiGo</td>\n",
       "      <td>24/03/2019</td>\n",
       "      <td>Banglore</td>\n",
       "      <td>New Delhi</td>\n",
       "      <td>BLR → DEL</td>\n",
       "      <td>22:20</td>\n",
       "      <td>01:10 22 Mar</td>\n",
       "      <td>2h 50m</td>\n",
       "      <td>non-stop</td>\n",
       "      <td>No info</td>\n",
       "      <td>3897</td>\n",
       "      <td>3</td>\n",
       "      <td>2.0</td>\n",
       "      <td>50</td>\n",
       "      <td>120.0</td>\n",
       "    </tr>\n",
       "    <tr>\n",
       "      <th>1</th>\n",
       "      <td>Air India</td>\n",
       "      <td>1/05/2019</td>\n",
       "      <td>Kolkata</td>\n",
       "      <td>Banglore</td>\n",
       "      <td>CCU → IXR → BBI → BLR</td>\n",
       "      <td>05:50</td>\n",
       "      <td>13:15</td>\n",
       "      <td>7h 25m</td>\n",
       "      <td>2 stops</td>\n",
       "      <td>No info</td>\n",
       "      <td>7662</td>\n",
       "      <td>5</td>\n",
       "      <td>7.0</td>\n",
       "      <td>25</td>\n",
       "      <td>420.0</td>\n",
       "    </tr>\n",
       "    <tr>\n",
       "      <th>2</th>\n",
       "      <td>Jet Airways</td>\n",
       "      <td>9/06/2019</td>\n",
       "      <td>Delhi</td>\n",
       "      <td>Cochin</td>\n",
       "      <td>DEL → LKO → BOM → COK</td>\n",
       "      <td>09:25</td>\n",
       "      <td>04:25 10 Jun</td>\n",
       "      <td>19h</td>\n",
       "      <td>2 stops</td>\n",
       "      <td>No info</td>\n",
       "      <td>13882</td>\n",
       "      <td>6</td>\n",
       "      <td>19.0</td>\n",
       "      <td>0</td>\n",
       "      <td>1140.0</td>\n",
       "    </tr>\n",
       "    <tr>\n",
       "      <th>3</th>\n",
       "      <td>IndiGo</td>\n",
       "      <td>12/05/2019</td>\n",
       "      <td>Kolkata</td>\n",
       "      <td>Banglore</td>\n",
       "      <td>CCU → NAG → BLR</td>\n",
       "      <td>18:05</td>\n",
       "      <td>23:30</td>\n",
       "      <td>5h 25m</td>\n",
       "      <td>1 stop</td>\n",
       "      <td>No info</td>\n",
       "      <td>6218</td>\n",
       "      <td>5</td>\n",
       "      <td>5.0</td>\n",
       "      <td>25</td>\n",
       "      <td>300.0</td>\n",
       "    </tr>\n",
       "    <tr>\n",
       "      <th>4</th>\n",
       "      <td>IndiGo</td>\n",
       "      <td>01/03/2019</td>\n",
       "      <td>Banglore</td>\n",
       "      <td>New Delhi</td>\n",
       "      <td>BLR → NAG → DEL</td>\n",
       "      <td>16:50</td>\n",
       "      <td>21:35</td>\n",
       "      <td>4h 45m</td>\n",
       "      <td>1 stop</td>\n",
       "      <td>No info</td>\n",
       "      <td>13302</td>\n",
       "      <td>3</td>\n",
       "      <td>4.0</td>\n",
       "      <td>45</td>\n",
       "      <td>240.0</td>\n",
       "    </tr>\n",
       "    <tr>\n",
       "      <th>...</th>\n",
       "      <td>...</td>\n",
       "      <td>...</td>\n",
       "      <td>...</td>\n",
       "      <td>...</td>\n",
       "      <td>...</td>\n",
       "      <td>...</td>\n",
       "      <td>...</td>\n",
       "      <td>...</td>\n",
       "      <td>...</td>\n",
       "      <td>...</td>\n",
       "      <td>...</td>\n",
       "      <td>...</td>\n",
       "      <td>...</td>\n",
       "      <td>...</td>\n",
       "      <td>...</td>\n",
       "    </tr>\n",
       "    <tr>\n",
       "      <th>10678</th>\n",
       "      <td>Air Asia</td>\n",
       "      <td>9/04/2019</td>\n",
       "      <td>Kolkata</td>\n",
       "      <td>Banglore</td>\n",
       "      <td>CCU → BLR</td>\n",
       "      <td>19:55</td>\n",
       "      <td>22:25</td>\n",
       "      <td>2h 30m</td>\n",
       "      <td>non-stop</td>\n",
       "      <td>No info</td>\n",
       "      <td>4107</td>\n",
       "      <td>4</td>\n",
       "      <td>2.0</td>\n",
       "      <td>30</td>\n",
       "      <td>120.0</td>\n",
       "    </tr>\n",
       "    <tr>\n",
       "      <th>10679</th>\n",
       "      <td>Air India</td>\n",
       "      <td>27/04/2019</td>\n",
       "      <td>Kolkata</td>\n",
       "      <td>Banglore</td>\n",
       "      <td>CCU → BLR</td>\n",
       "      <td>20:45</td>\n",
       "      <td>23:20</td>\n",
       "      <td>2h 35m</td>\n",
       "      <td>non-stop</td>\n",
       "      <td>No info</td>\n",
       "      <td>4145</td>\n",
       "      <td>4</td>\n",
       "      <td>2.0</td>\n",
       "      <td>35</td>\n",
       "      <td>120.0</td>\n",
       "    </tr>\n",
       "    <tr>\n",
       "      <th>10680</th>\n",
       "      <td>Jet Airways</td>\n",
       "      <td>27/04/2019</td>\n",
       "      <td>Banglore</td>\n",
       "      <td>Delhi</td>\n",
       "      <td>BLR → DEL</td>\n",
       "      <td>08:20</td>\n",
       "      <td>11:20</td>\n",
       "      <td>3h</td>\n",
       "      <td>non-stop</td>\n",
       "      <td>No info</td>\n",
       "      <td>7229</td>\n",
       "      <td>4</td>\n",
       "      <td>3.0</td>\n",
       "      <td>0</td>\n",
       "      <td>180.0</td>\n",
       "    </tr>\n",
       "    <tr>\n",
       "      <th>10681</th>\n",
       "      <td>Vistara</td>\n",
       "      <td>01/03/2019</td>\n",
       "      <td>Banglore</td>\n",
       "      <td>New Delhi</td>\n",
       "      <td>BLR → DEL</td>\n",
       "      <td>11:30</td>\n",
       "      <td>14:10</td>\n",
       "      <td>2h 40m</td>\n",
       "      <td>non-stop</td>\n",
       "      <td>No info</td>\n",
       "      <td>12648</td>\n",
       "      <td>3</td>\n",
       "      <td>2.0</td>\n",
       "      <td>40</td>\n",
       "      <td>120.0</td>\n",
       "    </tr>\n",
       "    <tr>\n",
       "      <th>10682</th>\n",
       "      <td>Air India</td>\n",
       "      <td>9/05/2019</td>\n",
       "      <td>Delhi</td>\n",
       "      <td>Cochin</td>\n",
       "      <td>DEL → GOI → BOM → COK</td>\n",
       "      <td>10:55</td>\n",
       "      <td>19:15</td>\n",
       "      <td>8h 20m</td>\n",
       "      <td>2 stops</td>\n",
       "      <td>No info</td>\n",
       "      <td>11753</td>\n",
       "      <td>5</td>\n",
       "      <td>8.0</td>\n",
       "      <td>20</td>\n",
       "      <td>480.0</td>\n",
       "    </tr>\n",
       "  </tbody>\n",
       "</table>\n",
       "<p>10683 rows × 15 columns</p>\n",
       "</div>"
      ],
      "text/plain": [
       "           Airline Date_of_Journey    Source Destination  \\\n",
       "0           IndiGo      24/03/2019  Banglore   New Delhi   \n",
       "1        Air India       1/05/2019   Kolkata    Banglore   \n",
       "2      Jet Airways       9/06/2019     Delhi      Cochin   \n",
       "3           IndiGo      12/05/2019   Kolkata    Banglore   \n",
       "4           IndiGo      01/03/2019  Banglore   New Delhi   \n",
       "...            ...             ...       ...         ...   \n",
       "10678     Air Asia       9/04/2019   Kolkata    Banglore   \n",
       "10679    Air India      27/04/2019   Kolkata    Banglore   \n",
       "10680  Jet Airways      27/04/2019  Banglore       Delhi   \n",
       "10681      Vistara      01/03/2019  Banglore   New Delhi   \n",
       "10682    Air India       9/05/2019     Delhi      Cochin   \n",
       "\n",
       "                       Route Dep_Time  Arrival_Time Duration Total_Stops  \\\n",
       "0                  BLR → DEL    22:20  01:10 22 Mar   2h 50m    non-stop   \n",
       "1      CCU → IXR → BBI → BLR    05:50         13:15   7h 25m     2 stops   \n",
       "2      DEL → LKO → BOM → COK    09:25  04:25 10 Jun      19h     2 stops   \n",
       "3            CCU → NAG → BLR    18:05         23:30   5h 25m      1 stop   \n",
       "4            BLR → NAG → DEL    16:50         21:35   4h 45m      1 stop   \n",
       "...                      ...      ...           ...      ...         ...   \n",
       "10678              CCU → BLR    19:55         22:25   2h 30m    non-stop   \n",
       "10679              CCU → BLR    20:45         23:20   2h 35m    non-stop   \n",
       "10680              BLR → DEL    08:20         11:20       3h    non-stop   \n",
       "10681              BLR → DEL    11:30         14:10   2h 40m    non-stop   \n",
       "10682  DEL → GOI → BOM → COK    10:55         19:15   8h 20m     2 stops   \n",
       "\n",
       "      Additional_Info  Price  Month  Duration_hours Duration_min  \\\n",
       "0             No info   3897      3             2.0           50   \n",
       "1             No info   7662      5             7.0           25   \n",
       "2             No info  13882      6            19.0            0   \n",
       "3             No info   6218      5             5.0           25   \n",
       "4             No info  13302      3             4.0           45   \n",
       "...               ...    ...    ...             ...          ...   \n",
       "10678         No info   4107      4             2.0           30   \n",
       "10679         No info   4145      4             2.0           35   \n",
       "10680         No info   7229      4             3.0            0   \n",
       "10681         No info  12648      3             2.0           40   \n",
       "10682         No info  11753      5             8.0           20   \n",
       "\n",
       "       Duration_hours_min  \n",
       "0                   120.0  \n",
       "1                   420.0  \n",
       "2                  1140.0  \n",
       "3                   300.0  \n",
       "4                   240.0  \n",
       "...                   ...  \n",
       "10678               120.0  \n",
       "10679               120.0  \n",
       "10680               180.0  \n",
       "10681               120.0  \n",
       "10682               480.0  \n",
       "\n",
       "[10683 rows x 15 columns]"
      ]
     },
     "execution_count": 34,
     "metadata": {},
     "output_type": "execute_result"
    }
   ],
   "source": [
    "df_copy['Duration_min'].replace('', '0', inplace=True)\n",
    "df_copy.replace(to_replace = np.nan, value='0')"
   ]
  },
  {
   "cell_type": "code",
   "execution_count": 35,
   "id": "33af93fd-d4f0-4509-babd-51e64e459812",
   "metadata": {},
   "outputs": [],
   "source": [
    "df_copy['Duration_min']=df_copy['Duration_min'].astype(float)"
   ]
  },
  {
   "cell_type": "code",
   "execution_count": 36,
   "id": "dbecbf8d-9adb-416b-95cb-c79e5280f178",
   "metadata": {},
   "outputs": [],
   "source": [
    "df_copy['Duration']= df_copy['Duration_min'] + df_copy['Duration_hours_min']"
   ]
  },
  {
   "cell_type": "code",
   "execution_count": 37,
   "id": "dbeb1115-24c7-4e7d-84ce-3a6896cb140e",
   "metadata": {},
   "outputs": [
    {
     "data": {
      "text/plain": [
       "count    10682.000000\n",
       "mean       643.152968\n",
       "std        507.848241\n",
       "min         75.000000\n",
       "25%        170.000000\n",
       "50%        520.000000\n",
       "75%        930.000000\n",
       "max       2860.000000\n",
       "Name: Duration, dtype: float64"
      ]
     },
     "execution_count": 37,
     "metadata": {},
     "output_type": "execute_result"
    }
   ],
   "source": [
    "df_copy['Duration'].describe()"
   ]
  },
  {
   "cell_type": "code",
   "execution_count": 38,
   "id": "7b00f5f6-67a1-4c91-a0f3-e0ab87625d88",
   "metadata": {},
   "outputs": [
    {
     "name": "stderr",
     "output_type": "stream",
     "text": [
      "/tmp/ipykernel_2073/1497382761.py:1: UserWarning: Parsing dates in DD/MM/YYYY format when dayfirst=False (the default) was specified. This may lead to inconsistently parsed dates! Specify a format to ensure consistent parsing.\n",
      "  df_copy['Date_of_Journey']=pd.to_datetime(df_copy['Date_of_Journey'])\n"
     ]
    }
   ],
   "source": [
    "df_copy['Date_of_Journey']=pd.to_datetime(df_copy['Date_of_Journey'])"
   ]
  },
  {
   "cell_type": "code",
   "execution_count": 39,
   "id": "35ba5f76-60d3-4f89-a6cb-a6f45b66bb51",
   "metadata": {},
   "outputs": [
    {
     "data": {
      "text/plain": [
       "<AxesSubplot: xlabel='Duration', ylabel='Density'>"
      ]
     },
     "execution_count": 39,
     "metadata": {},
     "output_type": "execute_result"
    },
    {
     "data": {
      "image/png": "[encoded data removed]",
      "text/plain": [
       "<Figure size 640x480 with 1 Axes>"
      ]
     },
     "metadata": {},
     "output_type": "display_data"
    }
   ],
   "source": [
    "sns.kdeplot(df_copy['Duration'])"
   ]
  },
  {
   "cell_type": "code",
   "execution_count": 40,
   "id": "7d42fef4-4b6a-445c-b7ab-b273c2d86e8f",
   "metadata": {},
   "outputs": [
    {
     "data": {
      "text/plain": [
       "'8. You are a data scientist working for an airline company, and you have been asked to analyze the Flight Price dataset to identify the factors that affect flight prices. What features would you analyze to identify these factors, and how would you present your findings to the management team?'"
      ]
     },
     "execution_count": 40,
     "metadata": {},
     "output_type": "execute_result"
    }
   ],
   "source": [
    "'8. You are a data scientist working for an airline company, and you have been asked to analyze the Flight Price dataset to identify the factors that affect flight prices. What features would you analyze to identify these factors, and how would you present your findings to the management team?'"
   ]
  },
  {
   "cell_type": "code",
   "execution_count": 41,
   "id": "d168c52a-62d7-4b36-bacd-5b1491d6ca3f",
   "metadata": {},
   "outputs": [
    {
     "data": {
      "text/plain": [
       "\"We will look into account of each and every feature. From which we will get 'Route', 'Duration', 'Total_Stops' mainly affect the flight price factor. We will show this with the description about how the trend is goind on\""
      ]
     },
     "execution_count": 41,
     "metadata": {},
     "output_type": "execute_result"
    }
   ],
   "source": [
    "'''We will look into account of each and every feature. From which we will get 'Route', 'Duration', 'Total_Stops' mainly affect the flight price factor. We will show this with the description about how the trend is goind on'''"
   ]
  },
  {
   "cell_type": "markdown",
   "id": "dcd9bd2a-0878-42e9-b5b4-44d45b40ab05",
   "metadata": {},
   "source": [
    "### Google Playstore"
   ]
  },
  {
   "cell_type": "code",
   "execution_count": 42,
   "id": "801837bf-11c7-42b1-8959-7f37ff6a20f1",
   "metadata": {},
   "outputs": [
    {
     "data": {
      "text/plain": [
       "'9. Load the Google Playstore dataset and examine its dimensions. How many rows and columns does the dataset have?'"
      ]
     },
     "execution_count": 42,
     "metadata": {},
     "output_type": "execute_result"
    }
   ],
   "source": [
    "'9. Load the Google Playstore dataset and examine its dimensions. How many rows and columns does the dataset have?'"
   ]
  },
  {
   "cell_type": "code",
   "execution_count": 43,
   "id": "2c7557a4-764c-42a9-9c0a-9ecdbdee2e0b",
   "metadata": {},
   "outputs": [
    {
     "data": {
      "text/plain": [
       "(10841, 13)"
      ]
     },
     "execution_count": 43,
     "metadata": {},
     "output_type": "execute_result"
    }
   ],
   "source": [
    "df1= pd.read_csv('https://raw.githubusercontent.com/krishnaik06/playstore-Dataset/main/googleplaystore.csv')\n",
    "df1.shape"
   ]
  },
  {
   "cell_type": "code",
   "execution_count": 44,
   "id": "5fdb6c1d-5cb6-458c-8ef5-ef1d5f11f6ff",
   "metadata": {},
   "outputs": [
    {
     "data": {
      "text/plain": [
       "'There are 10841 rows and 13 columns in the Google playstore dataset.'"
      ]
     },
     "execution_count": 44,
     "metadata": {},
     "output_type": "execute_result"
    }
   ],
   "source": [
    "'There are 10841 rows and 13 columns in the Google playstore dataset.'"
   ]
  },
  {
   "cell_type": "code",
   "execution_count": 45,
   "id": "c4e16164-a071-4347-b4ae-3ca1d87a6193",
   "metadata": {},
   "outputs": [
    {
     "data": {
      "text/plain": [
       "'10. How does the rating of apps vary by category? Create a boxplot to compare the ratings of different app categories.'"
      ]
     },
     "execution_count": 45,
     "metadata": {},
     "output_type": "execute_result"
    }
   ],
   "source": [
    "'10. How does the rating of apps vary by category? Create a boxplot to compare the ratings of different app categories.'"
   ]
  },
  {
   "cell_type": "code",
   "execution_count": 46,
   "id": "7f2e2be9-2685-45a5-ab63-c3ccbb79c3b0",
   "metadata": {},
   "outputs": [
    {
     "name": "stdout",
     "output_type": "stream",
     "text": [
      "<class 'pandas.core.frame.DataFrame'>\n",
      "RangeIndex: 10841 entries, 0 to 10840\n",
      "Data columns (total 13 columns):\n",
      " #   Column          Non-Null Count  Dtype  \n",
      "---  ------          --------------  -----  \n",
      " 0   App             10841 non-null  object \n",
      " 1   Category        10841 non-null  object \n",
      " 2   Rating          9367 non-null   float64\n",
      " 3   Reviews         10841 non-null  object \n",
      " 4   Size            10841 non-null  object \n",
      " 5   Installs        10841 non-null  object \n",
      " 6   Type            10840 non-null  object \n",
      " 7   Price           10841 non-null  object \n",
      " 8   Content Rating  10840 non-null  object \n",
      " 9   Genres          10841 non-null  object \n",
      " 10  Last Updated    10841 non-null  object \n",
      " 11  Current Ver     10833 non-null  object \n",
      " 12  Android Ver     10838 non-null  object \n",
      "dtypes: float64(1), object(12)\n",
      "memory usage: 1.1+ MB\n"
     ]
    }
   ],
   "source": [
    "df1.info()"
   ]
  },
  {
   "cell_type": "code",
   "execution_count": 47,
   "id": "e3be7dd2-d4cc-4b47-9119-be8b6f01918a",
   "metadata": {},
   "outputs": [
    {
     "data": {
      "text/html": [
       "<div>\n",
       "<style scoped>\n",
       "    .dataframe tbody tr th:only-of-type {\n",
       "        vertical-align: middle;\n",
       "    }\n",
       "\n",
       "    .dataframe tbody tr th {\n",
       "        vertical-align: top;\n",
       "    }\n",
       "\n",
       "    .dataframe thead th {\n",
       "        text-align: right;\n",
       "    }\n",
       "</style>\n",
       "<table border=\"1\" class=\"dataframe\">\n",
       "  <thead>\n",
       "    <tr style=\"text-align: right;\">\n",
       "      <th></th>\n",
       "      <th>Rating</th>\n",
       "    </tr>\n",
       "  </thead>\n",
       "  <tbody>\n",
       "    <tr>\n",
       "      <th>count</th>\n",
       "      <td>9367.000000</td>\n",
       "    </tr>\n",
       "    <tr>\n",
       "      <th>mean</th>\n",
       "      <td>4.193338</td>\n",
       "    </tr>\n",
       "    <tr>\n",
       "      <th>std</th>\n",
       "      <td>0.537431</td>\n",
       "    </tr>\n",
       "    <tr>\n",
       "      <th>min</th>\n",
       "      <td>1.000000</td>\n",
       "    </tr>\n",
       "    <tr>\n",
       "      <th>25%</th>\n",
       "      <td>4.000000</td>\n",
       "    </tr>\n",
       "    <tr>\n",
       "      <th>50%</th>\n",
       "      <td>4.300000</td>\n",
       "    </tr>\n",
       "    <tr>\n",
       "      <th>75%</th>\n",
       "      <td>4.500000</td>\n",
       "    </tr>\n",
       "    <tr>\n",
       "      <th>max</th>\n",
       "      <td>19.000000</td>\n",
       "    </tr>\n",
       "  </tbody>\n",
       "</table>\n",
       "</div>"
      ],
      "text/plain": [
       "            Rating\n",
       "count  9367.000000\n",
       "mean      4.193338\n",
       "std       0.537431\n",
       "min       1.000000\n",
       "25%       4.000000\n",
       "50%       4.300000\n",
       "75%       4.500000\n",
       "max      19.000000"
      ]
     },
     "execution_count": 47,
     "metadata": {},
     "output_type": "execute_result"
    }
   ],
   "source": [
    "df1.describe()"
   ]
  },
  {
   "cell_type": "code",
   "execution_count": 48,
   "id": "bc4ef3b9-ee38-4e51-8f86-c4fa9225f418",
   "metadata": {},
   "outputs": [
    {
     "data": {
      "text/plain": [
       "<AxesSubplot: xlabel='Rating', ylabel='Density'>"
      ]
     },
     "execution_count": 48,
     "metadata": {},
     "output_type": "execute_result"
    },
    {
     "data": {
      "image/png": "[encoded data removed]",
      "text/plain": [
       "<Figure size 640x480 with 1 Axes>"
      ]
     },
     "metadata": {},
     "output_type": "display_data"
    }
   ],
   "source": [
    "sns.kdeplot(df1['Rating'])"
   ]
  },
  {
   "cell_type": "code",
   "execution_count": 49,
   "id": "921b347e-b5f0-416e-a005-38c31b7af6d2",
   "metadata": {},
   "outputs": [
    {
     "data": {
      "text/plain": [
       "<AxesSubplot: xlabel='Rating'>"
      ]
     },
     "execution_count": 49,
     "metadata": {},
     "output_type": "execute_result"
    },
    {
     "data": {
      "image/png": "[encoded data removed]",
      "text/plain": [
       "<Figure size 640x480 with 1 Axes>"
      ]
     },
     "metadata": {},
     "output_type": "display_data"
    }
   ],
   "source": [
    "sns.boxplot(x='Rating',data=df1)"
   ]
  },
  {
   "cell_type": "code",
   "execution_count": 50,
   "id": "c10a66a1-96d6-4668-9860-60d27322621a",
   "metadata": {},
   "outputs": [
    {
     "data": {
      "text/plain": [
       "'11. Are there any missing values in the dataset? Identify any missing values and describe how they may impact your analysis.'"
      ]
     },
     "execution_count": 50,
     "metadata": {},
     "output_type": "execute_result"
    }
   ],
   "source": [
    "'11. Are there any missing values in the dataset? Identify any missing values and describe how they may impact your analysis.'"
   ]
  },
  {
   "cell_type": "code",
   "execution_count": 51,
   "id": "757de27f-65e7-4511-89f1-3c7fae9a1502",
   "metadata": {},
   "outputs": [
    {
     "data": {
      "text/plain": [
       "App                  0\n",
       "Category             0\n",
       "Rating            1474\n",
       "Reviews              0\n",
       "Size                 0\n",
       "Installs             0\n",
       "Type                 1\n",
       "Price                0\n",
       "Content Rating       1\n",
       "Genres               0\n",
       "Last Updated         0\n",
       "Current Ver          8\n",
       "Android Ver          3\n",
       "dtype: int64"
      ]
     },
     "execution_count": 51,
     "metadata": {},
     "output_type": "execute_result"
    }
   ],
   "source": [
    "df1.isnull().sum()"
   ]
  },
  {
   "cell_type": "code",
   "execution_count": 52,
   "id": "325ce2df-5130-4858-a452-0dba8654ffba",
   "metadata": {},
   "outputs": [
    {
     "data": {
      "text/plain": [
       "'Yes there are 1474, 1, 1, 8, 3 null values in Rating, Type, Content Rating, Current ver and Android ver respectively.\\nThese missing values can be obstacles for our analysis, we should handle it.'"
      ]
     },
     "execution_count": 52,
     "metadata": {},
     "output_type": "execute_result"
    }
   ],
   "source": [
    "'''Yes there are 1474, 1, 1, 8, 3 null values in Rating, Type, Content Rating, Current ver and Android ver respectively.\n",
    "These missing values can be obstacles for our analysis, we should handle it.'''"
   ]
  },
  {
   "cell_type": "code",
   "execution_count": 53,
   "id": "281eedc9-a111-4360-b00c-0b26f8fdc47f",
   "metadata": {},
   "outputs": [
    {
     "data": {
      "text/plain": [
       "'12. What is the relationship between the size of an app and its rating? Create a scatter plot to visualize the relationship.'"
      ]
     },
     "execution_count": 53,
     "metadata": {},
     "output_type": "execute_result"
    }
   ],
   "source": [
    "'12. What is the relationship between the size of an app and its rating? Create a scatter plot to visualize the relationship.'"
   ]
  },
  {
   "cell_type": "code",
   "execution_count": 54,
   "id": "58ba73d7-ff78-4044-ac47-cedfc10b80ba",
   "metadata": {},
   "outputs": [
    {
     "data": {
      "text/plain": [
       "array(['19M', '14M', '8.7M', '25M', '2.8M', '5.6M', '29M', '33M', '3.1M',\n",
       "       '28M', '12M', '20M', '21M', '37M', '2.7M', '5.5M', '17M', '39M',\n",
       "       '31M', '4.2M', '7.0M', '23M', '6.0M', '6.1M', '4.6M', '9.2M',\n",
       "       '5.2M', '11M', '24M', 'Varies with device', '9.4M', '15M', '10M',\n",
       "       '1.2M', '26M', '8.0M', '7.9M', '56M', '57M', '35M', '54M', '201k',\n",
       "       '3.6M', '5.7M', '8.6M', '2.4M', '27M', '2.5M', '16M', '3.4M',\n",
       "       '8.9M', '3.9M', '2.9M', '38M', '32M', '5.4M', '18M', '1.1M',\n",
       "       '2.2M', '4.5M', '9.8M', '52M', '9.0M', '6.7M', '30M', '2.6M',\n",
       "       '7.1M', '3.7M', '22M', '7.4M', '6.4M', '3.2M', '8.2M', '9.9M',\n",
       "       '4.9M', '9.5M', '5.0M', '5.9M', '13M', '73M', '6.8M', '3.5M',\n",
       "       '4.0M', '2.3M', '7.2M', '2.1M', '42M', '7.3M', '9.1M', '55M',\n",
       "       '23k', '6.5M', '1.5M', '7.5M', '51M', '41M', '48M', '8.5M', '46M',\n",
       "       '8.3M', '4.3M', '4.7M', '3.3M', '40M', '7.8M', '8.8M', '6.6M',\n",
       "       '5.1M', '61M', '66M', '79k', '8.4M', '118k', '44M', '695k', '1.6M',\n",
       "       '6.2M', '18k', '53M', '1.4M', '3.0M', '5.8M', '3.8M', '9.6M',\n",
       "       '45M', '63M', '49M', '77M', '4.4M', '4.8M', '70M', '6.9M', '9.3M',\n",
       "       '10.0M', '8.1M', '36M', '84M', '97M', '2.0M', '1.9M', '1.8M',\n",
       "       '5.3M', '47M', '556k', '526k', '76M', '7.6M', '59M', '9.7M', '78M',\n",
       "       '72M', '43M', '7.7M', '6.3M', '334k', '34M', '93M', '65M', '79M',\n",
       "       '100M', '58M', '50M', '68M', '64M', '67M', '60M', '94M', '232k',\n",
       "       '99M', '624k', '95M', '8.5k', '41k', '292k', '11k', '80M', '1.7M',\n",
       "       '74M', '62M', '69M', '75M', '98M', '85M', '82M', '96M', '87M',\n",
       "       '71M', '86M', '91M', '81M', '92M', '83M', '88M', '704k', '862k',\n",
       "       '899k', '378k', '266k', '375k', '1.3M', '975k', '980k', '4.1M',\n",
       "       '89M', '696k', '544k', '525k', '920k', '779k', '853k', '720k',\n",
       "       '713k', '772k', '318k', '58k', '241k', '196k', '857k', '51k',\n",
       "       '953k', '865k', '251k', '930k', '540k', '313k', '746k', '203k',\n",
       "       '26k', '314k', '239k', '371k', '220k', '730k', '756k', '91k',\n",
       "       '293k', '17k', '74k', '14k', '317k', '78k', '924k', '902k', '818k',\n",
       "       '81k', '939k', '169k', '45k', '475k', '965k', '90M', '545k', '61k',\n",
       "       '283k', '655k', '714k', '93k', '872k', '121k', '322k', '1.0M',\n",
       "       '976k', '172k', '238k', '549k', '206k', '954k', '444k', '717k',\n",
       "       '210k', '609k', '308k', '705k', '306k', '904k', '473k', '175k',\n",
       "       '350k', '383k', '454k', '421k', '70k', '812k', '442k', '842k',\n",
       "       '417k', '412k', '459k', '478k', '335k', '782k', '721k', '430k',\n",
       "       '429k', '192k', '200k', '460k', '728k', '496k', '816k', '414k',\n",
       "       '506k', '887k', '613k', '243k', '569k', '778k', '683k', '592k',\n",
       "       '319k', '186k', '840k', '647k', '191k', '373k', '437k', '598k',\n",
       "       '716k', '585k', '982k', '222k', '219k', '55k', '948k', '323k',\n",
       "       '691k', '511k', '951k', '963k', '25k', '554k', '351k', '27k',\n",
       "       '82k', '208k', '913k', '514k', '551k', '29k', '103k', '898k',\n",
       "       '743k', '116k', '153k', '209k', '353k', '499k', '173k', '597k',\n",
       "       '809k', '122k', '411k', '400k', '801k', '787k', '237k', '50k',\n",
       "       '643k', '986k', '97k', '516k', '837k', '780k', '961k', '269k',\n",
       "       '20k', '498k', '600k', '749k', '642k', '881k', '72k', '656k',\n",
       "       '601k', '221k', '228k', '108k', '940k', '176k', '33k', '663k',\n",
       "       '34k', '942k', '259k', '164k', '458k', '245k', '629k', '28k',\n",
       "       '288k', '775k', '785k', '636k', '916k', '994k', '309k', '485k',\n",
       "       '914k', '903k', '608k', '500k', '54k', '562k', '847k', '957k',\n",
       "       '688k', '811k', '270k', '48k', '329k', '523k', '921k', '874k',\n",
       "       '981k', '784k', '280k', '24k', '518k', '754k', '892k', '154k',\n",
       "       '860k', '364k', '387k', '626k', '161k', '879k', '39k', '970k',\n",
       "       '170k', '141k', '160k', '144k', '143k', '190k', '376k', '193k',\n",
       "       '246k', '73k', '658k', '992k', '253k', '420k', '404k', '1,000+',\n",
       "       '470k', '226k', '240k', '89k', '234k', '257k', '861k', '467k',\n",
       "       '157k', '44k', '676k', '67k', '552k', '885k', '1020k', '582k',\n",
       "       '619k'], dtype=object)"
      ]
     },
     "execution_count": 54,
     "metadata": {},
     "output_type": "execute_result"
    }
   ],
   "source": [
    "df1['Size'].unique()"
   ]
  },
  {
   "cell_type": "code",
   "execution_count": 55,
   "id": "6edf4d54-2e9f-4e0f-bc47-d25e219a5a14",
   "metadata": {},
   "outputs": [
    {
     "name": "stderr",
     "output_type": "stream",
     "text": [
      "/tmp/ipykernel_2073/2311624556.py:5: FutureWarning: The default value of regex will change from True to False in a future version. In addition, single character regular expressions will *not* be treated as literal strings when regex=True.\n",
      "  df1_copy['Size']=df1_copy['Size'].str.replace('+','')\n"
     ]
    }
   ],
   "source": [
    "df1_copy= df1.copy()\n",
    "df1_copy['Size']=df1_copy['Size'].str.replace('M','000')\n",
    "df1_copy['Size']=df1_copy['Size'].str.replace('k','')\n",
    "df1_copy['Size']=df1_copy['Size'].str.replace('1,000','1')\n",
    "df1_copy['Size']=df1_copy['Size'].str.replace('+','')\n",
    "df1_copy['Size']=df1_copy['Size'].replace('Varies with device',np.nan)"
   ]
  },
  {
   "cell_type": "code",
   "execution_count": 56,
   "id": "11f3caeb-f146-40da-85b3-f7deb3d1cf28",
   "metadata": {},
   "outputs": [
    {
     "data": {
      "text/plain": [
       "0     19000\n",
       "1     14000\n",
       "2    8.7000\n",
       "3     25000\n",
       "4    2.8000\n",
       "Name: Size, dtype: object"
      ]
     },
     "execution_count": 56,
     "metadata": {},
     "output_type": "execute_result"
    }
   ],
   "source": [
    "df1_copy['Size'].head()"
   ]
  },
  {
   "cell_type": "code",
   "execution_count": 57,
   "id": "86e3ce6d-5a88-41ee-990f-408f45aaee6e",
   "metadata": {},
   "outputs": [
    {
     "data": {
      "text/plain": [
       "array(['19000', '14000', '8.7000', '25000', '2.8000', '5.6000', '29000',\n",
       "       '33000', '3.1000', '28000', '12000', '20000', '21000', '37000',\n",
       "       '2.7000', '5.5000', '17000', '39000', '31000', '4.2000', '7.0000',\n",
       "       '23000', '6.0000', '6.1000', '4.6000', '9.2000', '5.2000', '11000',\n",
       "       '24000', nan, '9.4000', '15000', '10000', '1.2000', '26000',\n",
       "       '8.0000', '7.9000', '56000', '57000', '35000', '54000', '201',\n",
       "       '3.6000', '5.7000', '8.6000', '2.4000', '27000', '2.5000', '16000',\n",
       "       '3.4000', '8.9000', '3.9000', '2.9000', '38000', '32000', '5.4000',\n",
       "       '18000', '1.1000', '2.2000', '4.5000', '9.8000', '52000', '9.0000',\n",
       "       '6.7000', '30000', '2.6000', '7.1000', '3.7000', '22000', '7.4000',\n",
       "       '6.4000', '3.2000', '8.2000', '9.9000', '4.9000', '9.5000',\n",
       "       '5.0000', '5.9000', '13000', '73000', '6.8000', '3.5000', '4.0000',\n",
       "       '2.3000', '7.2000', '2.1000', '42000', '7.3000', '9.1000', '55000',\n",
       "       '23', '6.5000', '1.5000', '7.5000', '51000', '41000', '48000',\n",
       "       '8.5000', '46000', '8.3000', '4.3000', '4.7000', '3.3000', '40000',\n",
       "       '7.8000', '8.8000', '6.6000', '5.1000', '61000', '66000', '79',\n",
       "       '8.4000', '118', '44000', '695', '1.6000', '6.2000', '18', '53000',\n",
       "       '1.4000', '3.0000', '5.8000', '3.8000', '9.6000', '45000', '63000',\n",
       "       '49000', '77000', '4.4000', '4.8000', '70000', '6.9000', '9.3000',\n",
       "       '10.0000', '8.1000', '36000', '84000', '97000', '2.0000', '1.9000',\n",
       "       '1.8000', '5.3000', '47000', '556', '526', '76000', '7.6000',\n",
       "       '59000', '9.7000', '78000', '72000', '43000', '7.7000', '6.3000',\n",
       "       '334', '34000', '93000', '65000', '79000', '100000', '58000',\n",
       "       '50000', '68000', '64000', '67000', '60000', '94000', '232',\n",
       "       '99000', '624', '95000', '8.5', '41', '292', '11', '80000',\n",
       "       '1.7000', '74000', '62000', '69000', '75000', '98000', '85000',\n",
       "       '82000', '96000', '87000', '71000', '86000', '91000', '81000',\n",
       "       '92000', '83000', '88000', '704', '862', '899', '378', '266',\n",
       "       '375', '1.3000', '975', '980', '4.1000', '89000', '696', '544',\n",
       "       '525', '920', '779', '853', '720', '713', '772', '318', '58',\n",
       "       '241', '196', '857', '51', '953', '865', '251', '930', '540',\n",
       "       '313', '746', '203', '26', '314', '239', '371', '220', '730',\n",
       "       '756', '91', '293', '17', '74', '14', '317', '78', '924', '902',\n",
       "       '818', '81', '939', '169', '45', '475', '965', '90000', '545',\n",
       "       '61', '283', '655', '714', '93', '872', '121', '322', '1.0000',\n",
       "       '976', '172', '238', '549', '206', '954', '444', '717', '210',\n",
       "       '609', '308', '705', '306', '904', '473', '175', '350', '383',\n",
       "       '454', '421', '70', '812', '442', '842', '417', '412', '459',\n",
       "       '478', '335', '782', '721', '430', '429', '192', '200', '460',\n",
       "       '728', '496', '816', '414', '506', '887', '613', '243', '569',\n",
       "       '778', '683', '592', '319', '186', '840', '647', '191', '373',\n",
       "       '437', '598', '716', '585', '982', '222', '219', '55', '948',\n",
       "       '323', '691', '511', '951', '963', '25', '554', '351', '27', '82',\n",
       "       '208', '913', '514', '551', '29', '103', '898', '743', '116',\n",
       "       '153', '209', '353', '499', '173', '597', '809', '122', '411',\n",
       "       '400', '801', '787', '237', '50', '643', '986', '97', '516', '837',\n",
       "       '780', '961', '269', '20', '498', '600', '749', '642', '881', '72',\n",
       "       '656', '601', '221', '228', '108', '940', '176', '33', '663', '34',\n",
       "       '942', '259', '164', '458', '245', '629', '28', '288', '775',\n",
       "       '785', '636', '916', '994', '309', '485', '914', '903', '608',\n",
       "       '500', '54', '562', '847', '957', '688', '811', '270', '48', '329',\n",
       "       '523', '921', '874', '981', '784', '280', '24', '518', '754',\n",
       "       '892', '154', '860', '364', '387', '626', '161', '879', '39',\n",
       "       '970', '170', '141', '160', '144', '143', '190', '376', '193',\n",
       "       '246', '73', '658', '992', '253', '420', '404', '1', '470', '226',\n",
       "       '240', '89', '234', '257', '861', '467', '157', '44', '676', '67',\n",
       "       '552', '885', '1020', '582', '619'], dtype=object)"
      ]
     },
     "execution_count": 57,
     "metadata": {},
     "output_type": "execute_result"
    }
   ],
   "source": [
    "df1_copy['Size'].unique()"
   ]
  },
  {
   "cell_type": "code",
   "execution_count": 58,
   "id": "077729e2-c734-4dd9-89cc-13da9140838e",
   "metadata": {},
   "outputs": [],
   "source": [
    "df1_copy['Size']=df1_copy['Size'].astype(float)"
   ]
  },
  {
   "cell_type": "code",
   "execution_count": 59,
   "id": "2f58f548-a82b-42b0-bcb9-76897479ad84",
   "metadata": {},
   "outputs": [
    {
     "data": {
      "text/plain": [
       "<matplotlib.collections.PathCollection at 0x7f4b7b2ed690>"
      ]
     },
     "execution_count": 59,
     "metadata": {},
     "output_type": "execute_result"
    },
    {
     "data": {
      "image/png": "[encoded data removed]",
      "text/plain": [
       "<Figure size 640x480 with 1 Axes>"
      ]
     },
     "metadata": {},
     "output_type": "display_data"
    }
   ],
   "source": [
    "plt.scatter(x=df1_copy['Rating'], y=df1_copy['Size'])"
   ]
  },
  {
   "cell_type": "code",
   "execution_count": 60,
   "id": "57291b0a-6413-4c99-8be1-1e5fcb3dc65d",
   "metadata": {},
   "outputs": [
    {
     "data": {
      "text/plain": [
       "'13. How does the type of app affect its price? Create a bar chart to compare average prices by app type.'"
      ]
     },
     "execution_count": 60,
     "metadata": {},
     "output_type": "execute_result"
    }
   ],
   "source": [
    "'13. How does the type of app affect its price? Create a bar chart to compare average prices by app type.'"
   ]
  },
  {
   "cell_type": "code",
   "execution_count": 61,
   "id": "e112bd10-f3a6-468e-9cef-37e49a201ca4",
   "metadata": {},
   "outputs": [
    {
     "data": {
      "text/plain": [
       "array(['0', '$4.99', '$3.99', '$6.99', '$1.49', '$2.99', '$7.99', '$5.99',\n",
       "       '$3.49', '$1.99', '$9.99', '$7.49', '$0.99', '$9.00', '$5.49',\n",
       "       '$10.00', '$24.99', '$11.99', '$79.99', '$16.99', '$14.99',\n",
       "       '$1.00', '$29.99', '$12.99', '$2.49', '$10.99', '$1.50', '$19.99',\n",
       "       '$15.99', '$33.99', '$74.99', '$39.99', '$3.95', '$4.49', '$1.70',\n",
       "       '$8.99', '$2.00', '$3.88', '$25.99', '$399.99', '$17.99',\n",
       "       '$400.00', '$3.02', '$1.76', '$4.84', '$4.77', '$1.61', '$2.50',\n",
       "       '$1.59', '$6.49', '$1.29', '$5.00', '$13.99', '$299.99', '$379.99',\n",
       "       '$37.99', '$18.99', '$389.99', '$19.90', '$8.49', '$1.75',\n",
       "       '$14.00', '$4.85', '$46.99', '$109.99', '$154.99', '$3.08',\n",
       "       '$2.59', '$4.80', '$1.96', '$19.40', '$3.90', '$4.59', '$15.46',\n",
       "       '$3.04', '$4.29', '$2.60', '$3.28', '$4.60', '$28.99', '$2.95',\n",
       "       '$2.90', '$1.97', '$200.00', '$89.99', '$2.56', '$30.99', '$3.61',\n",
       "       '$394.99', '$1.26', 'Everyone', '$1.20', '$1.04'], dtype=object)"
      ]
     },
     "execution_count": 61,
     "metadata": {},
     "output_type": "execute_result"
    }
   ],
   "source": [
    "df1_copy['Price'].unique()"
   ]
  },
  {
   "cell_type": "code",
   "execution_count": 62,
   "id": "fed3b893-97b5-4a15-9169-3b5cfccba23b",
   "metadata": {},
   "outputs": [
    {
     "name": "stderr",
     "output_type": "stream",
     "text": [
      "/tmp/ipykernel_2073/2742208524.py:1: FutureWarning: The default value of regex will change from True to False in a future version. In addition, single character regular expressions will *not* be treated as literal strings when regex=True.\n",
      "  df1_copy['Price']=df1_copy['Price'].str.replace('$','')\n"
     ]
    }
   ],
   "source": [
    "df1_copy['Price']=df1_copy['Price'].str.replace('$','')\n",
    "df1_copy['Price']=df1_copy['Price'].str.replace('Everyone','0')\n",
    "df1_copy['Price']=df1_copy['Price'].astype(float)"
   ]
  },
  {
   "cell_type": "code",
   "execution_count": 63,
   "id": "c2810495-fe29-426a-b25a-c63554f823a1",
   "metadata": {},
   "outputs": [
    {
     "data": {
      "text/plain": [
       "array(['Free', 'Paid', nan, '0'], dtype=object)"
      ]
     },
     "execution_count": 63,
     "metadata": {},
     "output_type": "execute_result"
    }
   ],
   "source": [
    "df1_copy['Type'].unique()"
   ]
  },
  {
   "cell_type": "code",
   "execution_count": 64,
   "id": "b9685443-adde-4f26-bdf0-dc64a9447f0a",
   "metadata": {},
   "outputs": [
    {
     "data": {
      "text/plain": [
       "<AxesSubplot: ylabel='Type'>"
      ]
     },
     "execution_count": 64,
     "metadata": {},
     "output_type": "execute_result"
    },
    {
     "data": {
      "image/png": "[encoded data removed]",
      "text/plain": [
       "<Figure size 640x480 with 1 Axes>"
      ]
     },
     "metadata": {},
     "output_type": "display_data"
    }
   ],
   "source": [
    "cat = df1_copy['Type'].value_counts()\n",
    "sns.barplot( x = cat.index, y= cat, data = df1_copy)"
   ]
  },
  {
   "cell_type": "code",
   "execution_count": 65,
   "id": "4f86d9fa-34e7-4a41-90da-a103cdfdd300",
   "metadata": {},
   "outputs": [
    {
     "data": {
      "text/plain": [
       "'14. What are the top 10 most popular apps in the dataset? Create a frequency table to identify the apps with the highest number of installs.'"
      ]
     },
     "execution_count": 65,
     "metadata": {},
     "output_type": "execute_result"
    }
   ],
   "source": [
    "'14. What are the top 10 most popular apps in the dataset? Create a frequency table to identify the apps with the highest number of installs.'"
   ]
  },
  {
   "cell_type": "code",
   "execution_count": 66,
   "id": "41b0aac1-cb6f-4987-bf1a-2d1fa936b351",
   "metadata": {},
   "outputs": [
    {
     "data": {
      "text/plain": [
       "array(['10,000+', '500,000+', '5,000,000+', '50,000,000+', '100,000+',\n",
       "       '50,000+', '1,000,000+', '10,000,000+', '5,000+', '100,000,000+',\n",
       "       '1,000,000,000+', '1,000+', '500,000,000+', '50+', '100+', '500+',\n",
       "       '10+', '1+', '5+', '0+', '0', 'Free'], dtype=object)"
      ]
     },
     "execution_count": 66,
     "metadata": {},
     "output_type": "execute_result"
    }
   ],
   "source": [
    "df1_copy['Installs'].unique()"
   ]
  },
  {
   "cell_type": "code",
   "execution_count": 67,
   "id": "b7e83800-742a-4648-b0ab-3c4eaa83d07e",
   "metadata": {},
   "outputs": [],
   "source": [
    "df1_copy['Installs']= df1_copy['Installs'].str.replace('Free','0')"
   ]
  },
  {
   "cell_type": "code",
   "execution_count": 68,
   "id": "ad226cdf-6215-4014-bf79-d90eb761dc8f",
   "metadata": {},
   "outputs": [
    {
     "name": "stderr",
     "output_type": "stream",
     "text": [
      "/tmp/ipykernel_2073/4042963304.py:1: FutureWarning: The default value of regex will change from True to False in a future version. In addition, single character regular expressions will *not* be treated as literal strings when regex=True.\n",
      "  df1_copy['Installs']= df1_copy['Installs'].str.replace('+','')\n"
     ]
    }
   ],
   "source": [
    "df1_copy['Installs']= df1_copy['Installs'].str.replace('+','')\n",
    "df1_copy['Installs']= df1_copy['Installs'].str.replace(',','')"
   ]
  },
  {
   "cell_type": "code",
   "execution_count": 69,
   "id": "c7db73ad-aa7a-4d08-b1c1-7c8105c5a6b0",
   "metadata": {},
   "outputs": [
    {
     "data": {
      "text/plain": [
       "array(['10000', '500000', '5000000', '50000000', '100000', '50000',\n",
       "       '1000000', '10000000', '5000', '100000000', '1000000000', '1000',\n",
       "       '500000000', '50', '100', '500', '10', '1', '5', '0'], dtype=object)"
      ]
     },
     "execution_count": 69,
     "metadata": {},
     "output_type": "execute_result"
    }
   ],
   "source": [
    "df1_copy['Installs'].unique()"
   ]
  },
  {
   "cell_type": "code",
   "execution_count": 70,
   "id": "ee18039e-51e1-499a-a421-bbecd607fb77",
   "metadata": {},
   "outputs": [],
   "source": [
    "df1_copy['Installs']=df1_copy['Installs'].astype('int')"
   ]
  },
  {
   "cell_type": "code",
   "execution_count": 71,
   "id": "6331120d-f9c6-4866-89b4-c2d760222bb0",
   "metadata": {},
   "outputs": [
    {
     "name": "stdout",
     "output_type": "stream",
     "text": [
      "                                App       Category  Rating   Reviews  Size  \\\n",
      "468   Skype - free IM & video calls  COMMUNICATION     4.1  10484169   NaN   \n",
      "3454                   Google Drive   PRODUCTIVITY     4.4   2731171   NaN   \n",
      "5856              Google Play Games         FAMILY     4.3   7168735   NaN   \n",
      "2611                      Instagram         SOCIAL     4.5  66577313   NaN   \n",
      "2604                      Instagram         SOCIAL     4.5  66577446   NaN   \n",
      "3523                   Google Drive   PRODUCTIVITY     4.4   2731211   NaN   \n",
      "865               Google Play Games  ENTERTAINMENT     4.3   7165362   NaN   \n",
      "3565                   Google Drive   PRODUCTIVITY     4.4   2731211   NaN   \n",
      "2554                        Google+         SOCIAL     4.2   4831125   NaN   \n",
      "3234                         Google          TOOLS     4.4   8033493   NaN   \n",
      "\n",
      "        Installs  Type  Price Content Rating         Genres    Last Updated  \\\n",
      "468   1000000000  Free    0.0       Everyone  Communication  August 3, 2018   \n",
      "3454  1000000000  Free    0.0       Everyone   Productivity  August 6, 2018   \n",
      "5856  1000000000  Free    0.0           Teen  Entertainment   July 16, 2018   \n",
      "2611  1000000000  Free    0.0           Teen         Social   July 31, 2018   \n",
      "2604  1000000000  Free    0.0           Teen         Social   July 31, 2018   \n",
      "3523  1000000000  Free    0.0       Everyone   Productivity  August 6, 2018   \n",
      "865   1000000000  Free    0.0           Teen  Entertainment   July 16, 2018   \n",
      "3565  1000000000  Free    0.0       Everyone   Productivity  August 6, 2018   \n",
      "2554  1000000000  Free    0.0           Teen         Social   July 26, 2018   \n",
      "3234  1000000000  Free    0.0       Everyone          Tools  August 3, 2018   \n",
      "\n",
      "             Current Ver         Android Ver  \n",
      "468   Varies with device  Varies with device  \n",
      "3454  Varies with device  Varies with device  \n",
      "5856  Varies with device  Varies with device  \n",
      "2611  Varies with device  Varies with device  \n",
      "2604  Varies with device  Varies with device  \n",
      "3523  Varies with device  Varies with device  \n",
      "865   Varies with device  Varies with device  \n",
      "3565  Varies with device  Varies with device  \n",
      "2554  Varies with device  Varies with device  \n",
      "3234  Varies with device  Varies with device  \n"
     ]
    },
    {
     "data": {
      "text/plain": [
       "'These are the 10 most popular apps.'"
      ]
     },
     "execution_count": 71,
     "metadata": {},
     "output_type": "execute_result"
    }
   ],
   "source": [
    "print(df1_copy.sort_values('Installs')[-11:-1])\n",
    "'These are the 10 most popular apps.'"
   ]
  },
  {
   "cell_type": "code",
   "execution_count": 72,
   "id": "963a9cc1-a87c-48d1-92aa-36efb4b4f67b",
   "metadata": {},
   "outputs": [
    {
     "data": {
      "text/plain": [
       "<AxesSubplot: xlabel='Installs', ylabel='Density'>"
      ]
     },
     "execution_count": 72,
     "metadata": {},
     "output_type": "execute_result"
    },
    {
     "data": {
      "image/png": "[encoded data removed]",
      "text/plain": [
       "<Figure size 640x480 with 1 Axes>"
      ]
     },
     "metadata": {},
     "output_type": "display_data"
    }
   ],
   "source": [
    "sns.kdeplot(df1_copy['Installs'])"
   ]
  },
  {
   "cell_type": "code",
   "execution_count": 73,
   "id": "de275743-8943-41f7-9f5e-6eff8f5d334b",
   "metadata": {},
   "outputs": [
    {
     "data": {
      "text/plain": [
       "'15. A company wants to launch a new app on the Google Playstore and has asked you to analyze the Google Playstore dataset to identify the most popular app categories. How would you approach this task, and what features would you analyze to make recommendations to the company?'"
      ]
     },
     "execution_count": 73,
     "metadata": {},
     "output_type": "execute_result"
    }
   ],
   "source": [
    "'15. A company wants to launch a new app on the Google Playstore and has asked you to analyze the Google Playstore dataset to identify the most popular app categories. How would you approach this task, and what features would you analyze to make recommendations to the company?'"
   ]
  },
  {
   "cell_type": "code",
   "execution_count": 74,
   "id": "90704621-c331-4941-9bc7-3838924d97e9",
   "metadata": {},
   "outputs": [
    {
     "data": {
      "text/plain": [
       "'Here the main feature will be rating and number of installs which will help us to assume which category will be best for launching'"
      ]
     },
     "execution_count": 74,
     "metadata": {},
     "output_type": "execute_result"
    }
   ],
   "source": [
    "'''Here the main feature will be rating and number of installs which will help us to assume which category will be best for launching'''"
   ]
  },
  {
   "cell_type": "code",
   "execution_count": 75,
   "id": "6f165118-5447-44f5-abf8-d2b589956175",
   "metadata": {},
   "outputs": [
    {
     "data": {
      "text/plain": [
       "array(['ART_AND_DESIGN', 'AUTO_AND_VEHICLES', 'BEAUTY',\n",
       "       'BOOKS_AND_REFERENCE', 'BUSINESS', 'COMICS', 'COMMUNICATION',\n",
       "       'DATING', 'EDUCATION', 'ENTERTAINMENT', 'EVENTS', 'FINANCE',\n",
       "       'FOOD_AND_DRINK', 'HEALTH_AND_FITNESS', 'HOUSE_AND_HOME',\n",
       "       'LIBRARIES_AND_DEMO', 'LIFESTYLE', 'GAME', 'FAMILY', 'MEDICAL',\n",
       "       'SOCIAL', 'SHOPPING', 'PHOTOGRAPHY', 'SPORTS', 'TRAVEL_AND_LOCAL',\n",
       "       'TOOLS', 'PERSONALIZATION', 'PRODUCTIVITY', 'PARENTING', 'WEATHER',\n",
       "       'VIDEO_PLAYERS', 'NEWS_AND_MAGAZINES', 'MAPS_AND_NAVIGATION',\n",
       "       '1.9'], dtype=object)"
      ]
     },
     "execution_count": 75,
     "metadata": {},
     "output_type": "execute_result"
    }
   ],
   "source": [
    "df1_copy['Category'].unique()"
   ]
  },
  {
   "cell_type": "code",
   "execution_count": 76,
   "id": "c0a6e166-13c4-4fea-a495-0dc66a697bcb",
   "metadata": {},
   "outputs": [
    {
     "data": {
      "text/plain": [
       "array([ 4.1,  3.9,  4.7,  4.5,  4.3,  4.4,  3.8,  4.2,  4.6,  3.2,  4. ,\n",
       "        nan,  4.8,  4.9,  3.6,  3.7,  3.3,  3.4,  3.5,  3.1,  5. ,  2.6,\n",
       "        3. ,  1.9,  2.5,  2.8,  2.7,  1. ,  2.9,  2.3,  2.2,  1.7,  2. ,\n",
       "        1.8,  2.4,  1.6,  2.1,  1.4,  1.5,  1.2, 19. ])"
      ]
     },
     "execution_count": 76,
     "metadata": {},
     "output_type": "execute_result"
    }
   ],
   "source": [
    "df1_copy['Rating'].unique()"
   ]
  },
  {
   "cell_type": "code",
   "execution_count": 77,
   "id": "7f1b617a-2602-4092-a6c3-546210ddc733",
   "metadata": {},
   "outputs": [],
   "source": [
    "df1_copy['Rating']=df1_copy['Rating'].fillna(df1_copy['Rating'].mean())"
   ]
  },
  {
   "cell_type": "code",
   "execution_count": 78,
   "id": "64432106-85a7-483b-8d05-6aff1a6c1011",
   "metadata": {},
   "outputs": [
    {
     "data": {
      "text/plain": [
       "0        4.100000\n",
       "1        3.900000\n",
       "2        4.700000\n",
       "3        4.500000\n",
       "4        4.300000\n",
       "           ...   \n",
       "10836    4.500000\n",
       "10837    5.000000\n",
       "10838    4.193338\n",
       "10839    4.500000\n",
       "10840    4.500000\n",
       "Name: Rating, Length: 10841, dtype: float64"
      ]
     },
     "execution_count": 78,
     "metadata": {},
     "output_type": "execute_result"
    }
   ],
   "source": [
    "df1_copy['Rating'].astype(float)"
   ]
  },
  {
   "cell_type": "code",
   "execution_count": 79,
   "id": "5df7efe3-afc1-4fc4-83a0-ed0ad80209d5",
   "metadata": {},
   "outputs": [],
   "source": [
    "df1_rating=df1_copy.sort_values('Rating')[-21:-1]"
   ]
  },
  {
   "cell_type": "code",
   "execution_count": 80,
   "id": "6ace8013-4b75-47e4-bbb3-6ab4e7b4a95b",
   "metadata": {},
   "outputs": [
    {
     "data": {
      "text/html": [
       "<div>\n",
       "<style scoped>\n",
       "    .dataframe tbody tr th:only-of-type {\n",
       "        vertical-align: middle;\n",
       "    }\n",
       "\n",
       "    .dataframe tbody tr th {\n",
       "        vertical-align: top;\n",
       "    }\n",
       "\n",
       "    .dataframe thead th {\n",
       "        text-align: right;\n",
       "    }\n",
       "</style>\n",
       "<table border=\"1\" class=\"dataframe\">\n",
       "  <thead>\n",
       "    <tr style=\"text-align: right;\">\n",
       "      <th></th>\n",
       "      <th>App</th>\n",
       "      <th>Category</th>\n",
       "      <th>Rating</th>\n",
       "      <th>Reviews</th>\n",
       "      <th>Size</th>\n",
       "      <th>Installs</th>\n",
       "      <th>Type</th>\n",
       "      <th>Price</th>\n",
       "      <th>Content Rating</th>\n",
       "      <th>Genres</th>\n",
       "      <th>Last Updated</th>\n",
       "      <th>Current Ver</th>\n",
       "      <th>Android Ver</th>\n",
       "    </tr>\n",
       "  </thead>\n",
       "  <tbody>\n",
       "    <tr>\n",
       "      <th>7477</th>\n",
       "      <td>USMLE Step 2 CK Flashcards</td>\n",
       "      <td>FAMILY</td>\n",
       "      <td>5.0</td>\n",
       "      <td>1</td>\n",
       "      <td>40000.0</td>\n",
       "      <td>10</td>\n",
       "      <td>Paid</td>\n",
       "      <td>19.99</td>\n",
       "      <td>Everyone</td>\n",
       "      <td>Education</td>\n",
       "      <td>May 26, 2014</td>\n",
       "      <td>2.47</td>\n",
       "      <td>2.2 and up</td>\n",
       "    </tr>\n",
       "    <tr>\n",
       "      <th>10621</th>\n",
       "      <td>Florida Beach Wallpapers HD</td>\n",
       "      <td>TRAVEL_AND_LOCAL</td>\n",
       "      <td>5.0</td>\n",
       "      <td>3</td>\n",
       "      <td>12000.0</td>\n",
       "      <td>100</td>\n",
       "      <td>Free</td>\n",
       "      <td>0.00</td>\n",
       "      <td>Everyone</td>\n",
       "      <td>Travel &amp; Local</td>\n",
       "      <td>December 30, 2015</td>\n",
       "      <td>1.8.1</td>\n",
       "      <td>4.1 and up</td>\n",
       "    </tr>\n",
       "    <tr>\n",
       "      <th>10297</th>\n",
       "      <td>Story Time FD</td>\n",
       "      <td>FAMILY</td>\n",
       "      <td>5.0</td>\n",
       "      <td>2</td>\n",
       "      <td>4.2</td>\n",
       "      <td>10</td>\n",
       "      <td>Free</td>\n",
       "      <td>0.00</td>\n",
       "      <td>Everyone 10+</td>\n",
       "      <td>Simulation</td>\n",
       "      <td>March 25, 2016</td>\n",
       "      <td>1.1</td>\n",
       "      <td>1.6 and up</td>\n",
       "    </tr>\n",
       "    <tr>\n",
       "      <th>9247</th>\n",
       "      <td>EC SPORTS</td>\n",
       "      <td>SPORTS</td>\n",
       "      <td>5.0</td>\n",
       "      <td>1</td>\n",
       "      <td>6.3</td>\n",
       "      <td>10</td>\n",
       "      <td>Free</td>\n",
       "      <td>0.00</td>\n",
       "      <td>Everyone</td>\n",
       "      <td>Sports</td>\n",
       "      <td>May 26, 2015</td>\n",
       "      <td>4.1.1</td>\n",
       "      <td>2.3.3 and up</td>\n",
       "    </tr>\n",
       "    <tr>\n",
       "      <th>7466</th>\n",
       "      <td>211:CK</td>\n",
       "      <td>GAME</td>\n",
       "      <td>5.0</td>\n",
       "      <td>8</td>\n",
       "      <td>38000.0</td>\n",
       "      <td>10</td>\n",
       "      <td>Paid</td>\n",
       "      <td>0.99</td>\n",
       "      <td>Teen</td>\n",
       "      <td>Arcade</td>\n",
       "      <td>April 11, 2018</td>\n",
       "      <td>1.3</td>\n",
       "      <td>4.1 and up</td>\n",
       "    </tr>\n",
       "    <tr>\n",
       "      <th>9246</th>\n",
       "      <td>Victoria EC</td>\n",
       "      <td>TOOLS</td>\n",
       "      <td>5.0</td>\n",
       "      <td>5</td>\n",
       "      <td>3.8</td>\n",
       "      <td>500</td>\n",
       "      <td>Free</td>\n",
       "      <td>0.00</td>\n",
       "      <td>Everyone</td>\n",
       "      <td>Tools</td>\n",
       "      <td>March 30, 2018</td>\n",
       "      <td>1.283.0037</td>\n",
       "      <td>2.3.3 and up</td>\n",
       "    </tr>\n",
       "    <tr>\n",
       "      <th>8596</th>\n",
       "      <td>DN Employee</td>\n",
       "      <td>FAMILY</td>\n",
       "      <td>5.0</td>\n",
       "      <td>1</td>\n",
       "      <td>3.8</td>\n",
       "      <td>10</td>\n",
       "      <td>Free</td>\n",
       "      <td>0.00</td>\n",
       "      <td>Everyone</td>\n",
       "      <td>Education</td>\n",
       "      <td>June 25, 2018</td>\n",
       "      <td>1.4</td>\n",
       "      <td>4.4 and up</td>\n",
       "    </tr>\n",
       "    <tr>\n",
       "      <th>9245</th>\n",
       "      <td>EC Calgary</td>\n",
       "      <td>FAMILY</td>\n",
       "      <td>5.0</td>\n",
       "      <td>6</td>\n",
       "      <td>8.1</td>\n",
       "      <td>100</td>\n",
       "      <td>Free</td>\n",
       "      <td>0.00</td>\n",
       "      <td>Teen</td>\n",
       "      <td>Education</td>\n",
       "      <td>June 26, 2018</td>\n",
       "      <td>3.8.0</td>\n",
       "      <td>4.1 and up</td>\n",
       "    </tr>\n",
       "    <tr>\n",
       "      <th>6232</th>\n",
       "      <td>Bh Public School</td>\n",
       "      <td>FAMILY</td>\n",
       "      <td>5.0</td>\n",
       "      <td>2</td>\n",
       "      <td>8.7</td>\n",
       "      <td>10</td>\n",
       "      <td>Free</td>\n",
       "      <td>0.00</td>\n",
       "      <td>Everyone</td>\n",
       "      <td>Education</td>\n",
       "      <td>March 21, 2018</td>\n",
       "      <td>1.2</td>\n",
       "      <td>4.0.3 and up</td>\n",
       "    </tr>\n",
       "    <tr>\n",
       "      <th>8601</th>\n",
       "      <td>DN Calculators</td>\n",
       "      <td>FINANCE</td>\n",
       "      <td>5.0</td>\n",
       "      <td>12</td>\n",
       "      <td>775.0</td>\n",
       "      <td>100</td>\n",
       "      <td>Free</td>\n",
       "      <td>0.00</td>\n",
       "      <td>Everyone</td>\n",
       "      <td>Finance</td>\n",
       "      <td>September 5, 2013</td>\n",
       "      <td>1.11</td>\n",
       "      <td>3.0 and up</td>\n",
       "    </tr>\n",
       "    <tr>\n",
       "      <th>6266</th>\n",
       "      <td>BI News</td>\n",
       "      <td>NEWS_AND_MAGAZINES</td>\n",
       "      <td>5.0</td>\n",
       "      <td>22</td>\n",
       "      <td>25000.0</td>\n",
       "      <td>1000</td>\n",
       "      <td>Free</td>\n",
       "      <td>0.00</td>\n",
       "      <td>Everyone</td>\n",
       "      <td>News &amp; Magazines</td>\n",
       "      <td>June 10, 2018</td>\n",
       "      <td>1.5.0</td>\n",
       "      <td>4.1 and up</td>\n",
       "    </tr>\n",
       "    <tr>\n",
       "      <th>7444</th>\n",
       "      <td>CJ the REALTOR</td>\n",
       "      <td>BUSINESS</td>\n",
       "      <td>5.0</td>\n",
       "      <td>1</td>\n",
       "      <td>4.2</td>\n",
       "      <td>10</td>\n",
       "      <td>Free</td>\n",
       "      <td>0.00</td>\n",
       "      <td>Everyone</td>\n",
       "      <td>Business</td>\n",
       "      <td>May 31, 2017</td>\n",
       "      <td>1.0.8</td>\n",
       "      <td>4.0.3 and up</td>\n",
       "    </tr>\n",
       "    <tr>\n",
       "      <th>10629</th>\n",
       "      <td>Florida Wildflowers</td>\n",
       "      <td>FAMILY</td>\n",
       "      <td>5.0</td>\n",
       "      <td>5</td>\n",
       "      <td>69000.0</td>\n",
       "      <td>1000</td>\n",
       "      <td>Free</td>\n",
       "      <td>0.00</td>\n",
       "      <td>Everyone</td>\n",
       "      <td>Education</td>\n",
       "      <td>July 10, 2017</td>\n",
       "      <td>1.5</td>\n",
       "      <td>4.1 and up</td>\n",
       "    </tr>\n",
       "    <tr>\n",
       "      <th>7435</th>\n",
       "      <td>CJ's Coffee Cafe</td>\n",
       "      <td>TRAVEL_AND_LOCAL</td>\n",
       "      <td>5.0</td>\n",
       "      <td>6</td>\n",
       "      <td>2.4</td>\n",
       "      <td>500</td>\n",
       "      <td>Free</td>\n",
       "      <td>0.00</td>\n",
       "      <td>Everyone</td>\n",
       "      <td>Travel &amp; Local</td>\n",
       "      <td>August 21, 2017</td>\n",
       "      <td>7.5.0</td>\n",
       "      <td>4.0.3 and up</td>\n",
       "    </tr>\n",
       "    <tr>\n",
       "      <th>7433</th>\n",
       "      <td>The CJ Rubric</td>\n",
       "      <td>HEALTH_AND_FITNESS</td>\n",
       "      <td>5.0</td>\n",
       "      <td>5</td>\n",
       "      <td>43000.0</td>\n",
       "      <td>100</td>\n",
       "      <td>Free</td>\n",
       "      <td>0.00</td>\n",
       "      <td>Everyone</td>\n",
       "      <td>Health &amp; Fitness</td>\n",
       "      <td>December 5, 2017</td>\n",
       "      <td>The CJ Rubric 7.12.0</td>\n",
       "      <td>4.1 and up</td>\n",
       "    </tr>\n",
       "    <tr>\n",
       "      <th>6238</th>\n",
       "      <td>Barbers.BH</td>\n",
       "      <td>LIFESTYLE</td>\n",
       "      <td>5.0</td>\n",
       "      <td>2</td>\n",
       "      <td>6.0</td>\n",
       "      <td>10</td>\n",
       "      <td>Free</td>\n",
       "      <td>0.00</td>\n",
       "      <td>Everyone</td>\n",
       "      <td>Lifestyle</td>\n",
       "      <td>May 24, 2018</td>\n",
       "      <td>2.1</td>\n",
       "      <td>4.0.3 and up</td>\n",
       "    </tr>\n",
       "    <tr>\n",
       "      <th>7422</th>\n",
       "      <td>CJ'S TIRE AND AUTO INC.</td>\n",
       "      <td>PRODUCTIVITY</td>\n",
       "      <td>5.0</td>\n",
       "      <td>5</td>\n",
       "      <td>11000.0</td>\n",
       "      <td>100</td>\n",
       "      <td>Free</td>\n",
       "      <td>0.00</td>\n",
       "      <td>Everyone</td>\n",
       "      <td>Productivity</td>\n",
       "      <td>May 30, 2018</td>\n",
       "      <td>1.0.1</td>\n",
       "      <td>4.1 and up</td>\n",
       "    </tr>\n",
       "    <tr>\n",
       "      <th>9218</th>\n",
       "      <td>EB Cash Collections</td>\n",
       "      <td>BUSINESS</td>\n",
       "      <td>5.0</td>\n",
       "      <td>1</td>\n",
       "      <td>4.3</td>\n",
       "      <td>5</td>\n",
       "      <td>Free</td>\n",
       "      <td>0.00</td>\n",
       "      <td>Everyone</td>\n",
       "      <td>Business</td>\n",
       "      <td>July 31, 2018</td>\n",
       "      <td>1.10</td>\n",
       "      <td>4.4 and up</td>\n",
       "    </tr>\n",
       "    <tr>\n",
       "      <th>7442</th>\n",
       "      <td>Sir C J New Primary School</td>\n",
       "      <td>FAMILY</td>\n",
       "      <td>5.0</td>\n",
       "      <td>3</td>\n",
       "      <td>9.2</td>\n",
       "      <td>100</td>\n",
       "      <td>Free</td>\n",
       "      <td>0.00</td>\n",
       "      <td>Everyone</td>\n",
       "      <td>Education</td>\n",
       "      <td>July 25, 2018</td>\n",
       "      <td>1.0.10</td>\n",
       "      <td>4.0 and up</td>\n",
       "    </tr>\n",
       "    <tr>\n",
       "      <th>3957</th>\n",
       "      <td>ADS-B Driver</td>\n",
       "      <td>TOOLS</td>\n",
       "      <td>5.0</td>\n",
       "      <td>2</td>\n",
       "      <td>6.3</td>\n",
       "      <td>100</td>\n",
       "      <td>Paid</td>\n",
       "      <td>1.99</td>\n",
       "      <td>Everyone</td>\n",
       "      <td>Tools</td>\n",
       "      <td>May 15, 2018</td>\n",
       "      <td>1.19</td>\n",
       "      <td>4.4 and up</td>\n",
       "    </tr>\n",
       "  </tbody>\n",
       "</table>\n",
       "</div>"
      ],
      "text/plain": [
       "                               App            Category  Rating Reviews  \\\n",
       "7477    USMLE Step 2 CK Flashcards              FAMILY     5.0       1   \n",
       "10621  Florida Beach Wallpapers HD    TRAVEL_AND_LOCAL     5.0       3   \n",
       "10297                Story Time FD              FAMILY     5.0       2   \n",
       "9247                     EC SPORTS              SPORTS     5.0       1   \n",
       "7466                        211:CK                GAME     5.0       8   \n",
       "9246                   Victoria EC               TOOLS     5.0       5   \n",
       "8596                   DN Employee              FAMILY     5.0       1   \n",
       "9245                    EC Calgary              FAMILY     5.0       6   \n",
       "6232              Bh Public School              FAMILY     5.0       2   \n",
       "8601                DN Calculators             FINANCE     5.0      12   \n",
       "6266                       BI News  NEWS_AND_MAGAZINES     5.0      22   \n",
       "7444                CJ the REALTOR            BUSINESS     5.0       1   \n",
       "10629          Florida Wildflowers              FAMILY     5.0       5   \n",
       "7435              CJ's Coffee Cafe    TRAVEL_AND_LOCAL     5.0       6   \n",
       "7433                 The CJ Rubric  HEALTH_AND_FITNESS     5.0       5   \n",
       "6238                    Barbers.BH           LIFESTYLE     5.0       2   \n",
       "7422       CJ'S TIRE AND AUTO INC.        PRODUCTIVITY     5.0       5   \n",
       "9218           EB Cash Collections            BUSINESS     5.0       1   \n",
       "7442    Sir C J New Primary School              FAMILY     5.0       3   \n",
       "3957                  ADS-B Driver               TOOLS     5.0       2   \n",
       "\n",
       "          Size  Installs  Type  Price Content Rating            Genres  \\\n",
       "7477   40000.0        10  Paid  19.99       Everyone         Education   \n",
       "10621  12000.0       100  Free   0.00       Everyone    Travel & Local   \n",
       "10297      4.2        10  Free   0.00   Everyone 10+        Simulation   \n",
       "9247       6.3        10  Free   0.00       Everyone            Sports   \n",
       "7466   38000.0        10  Paid   0.99           Teen            Arcade   \n",
       "9246       3.8       500  Free   0.00       Everyone             Tools   \n",
       "8596       3.8        10  Free   0.00       Everyone         Education   \n",
       "9245       8.1       100  Free   0.00           Teen         Education   \n",
       "6232       8.7        10  Free   0.00       Everyone         Education   \n",
       "8601     775.0       100  Free   0.00       Everyone           Finance   \n",
       "6266   25000.0      1000  Free   0.00       Everyone  News & Magazines   \n",
       "7444       4.2        10  Free   0.00       Everyone          Business   \n",
       "10629  69000.0      1000  Free   0.00       Everyone         Education   \n",
       "7435       2.4       500  Free   0.00       Everyone    Travel & Local   \n",
       "7433   43000.0       100  Free   0.00       Everyone  Health & Fitness   \n",
       "6238       6.0        10  Free   0.00       Everyone         Lifestyle   \n",
       "7422   11000.0       100  Free   0.00       Everyone      Productivity   \n",
       "9218       4.3         5  Free   0.00       Everyone          Business   \n",
       "7442       9.2       100  Free   0.00       Everyone         Education   \n",
       "3957       6.3       100  Paid   1.99       Everyone             Tools   \n",
       "\n",
       "            Last Updated           Current Ver   Android Ver  \n",
       "7477        May 26, 2014                  2.47    2.2 and up  \n",
       "10621  December 30, 2015                 1.8.1    4.1 and up  \n",
       "10297     March 25, 2016                   1.1    1.6 and up  \n",
       "9247        May 26, 2015                 4.1.1  2.3.3 and up  \n",
       "7466      April 11, 2018                   1.3    4.1 and up  \n",
       "9246      March 30, 2018            1.283.0037  2.3.3 and up  \n",
       "8596       June 25, 2018                   1.4    4.4 and up  \n",
       "9245       June 26, 2018                 3.8.0    4.1 and up  \n",
       "6232      March 21, 2018                   1.2  4.0.3 and up  \n",
       "8601   September 5, 2013                  1.11    3.0 and up  \n",
       "6266       June 10, 2018                 1.5.0    4.1 and up  \n",
       "7444        May 31, 2017                 1.0.8  4.0.3 and up  \n",
       "10629      July 10, 2017                   1.5    4.1 and up  \n",
       "7435     August 21, 2017                 7.5.0  4.0.3 and up  \n",
       "7433    December 5, 2017  The CJ Rubric 7.12.0    4.1 and up  \n",
       "6238        May 24, 2018                   2.1  4.0.3 and up  \n",
       "7422        May 30, 2018                 1.0.1    4.1 and up  \n",
       "9218       July 31, 2018                  1.10    4.4 and up  \n",
       "7442       July 25, 2018                1.0.10    4.0 and up  \n",
       "3957        May 15, 2018                  1.19    4.4 and up  "
      ]
     },
     "execution_count": 80,
     "metadata": {},
     "output_type": "execute_result"
    }
   ],
   "source": [
    "df1_rating"
   ]
  },
  {
   "cell_type": "code",
   "execution_count": 81,
   "id": "467532cf-ef1a-41e3-a42f-fb09a66b64bc",
   "metadata": {},
   "outputs": [],
   "source": [
    "df1_installs=df1_copy.sort_values('Installs')[-21:-1]"
   ]
  },
  {
   "cell_type": "code",
   "execution_count": 82,
   "id": "8c07e26d-c409-4c6b-a199-d7aadba169f8",
   "metadata": {},
   "outputs": [],
   "source": [
    "new_df1= pd.merge(df1_rating,df1_installs, how='inner', on=['Category'])"
   ]
  },
  {
   "cell_type": "code",
   "execution_count": 83,
   "id": "70f6b343-ad8d-44e4-8bbc-e20c50288154",
   "metadata": {},
   "outputs": [
    {
     "data": {
      "text/html": [
       "<div>\n",
       "<style scoped>\n",
       "    .dataframe tbody tr th:only-of-type {\n",
       "        vertical-align: middle;\n",
       "    }\n",
       "\n",
       "    .dataframe tbody tr th {\n",
       "        vertical-align: top;\n",
       "    }\n",
       "\n",
       "    .dataframe thead th {\n",
       "        text-align: right;\n",
       "    }\n",
       "</style>\n",
       "<table border=\"1\" class=\"dataframe\">\n",
       "  <thead>\n",
       "    <tr style=\"text-align: right;\">\n",
       "      <th></th>\n",
       "      <th>App_x</th>\n",
       "      <th>Category</th>\n",
       "      <th>Rating_x</th>\n",
       "      <th>Reviews_x</th>\n",
       "      <th>Size_x</th>\n",
       "      <th>Installs_x</th>\n",
       "      <th>Type_x</th>\n",
       "      <th>Price_x</th>\n",
       "      <th>Content Rating_x</th>\n",
       "      <th>Genres_x</th>\n",
       "      <th>...</th>\n",
       "      <th>Reviews_y</th>\n",
       "      <th>Size_y</th>\n",
       "      <th>Installs_y</th>\n",
       "      <th>Type_y</th>\n",
       "      <th>Price_y</th>\n",
       "      <th>Content Rating_y</th>\n",
       "      <th>Genres_y</th>\n",
       "      <th>Last Updated_y</th>\n",
       "      <th>Current Ver_y</th>\n",
       "      <th>Android Ver_y</th>\n",
       "    </tr>\n",
       "  </thead>\n",
       "  <tbody>\n",
       "    <tr>\n",
       "      <th>0</th>\n",
       "      <td>USMLE Step 2 CK Flashcards</td>\n",
       "      <td>FAMILY</td>\n",
       "      <td>5.0</td>\n",
       "      <td>1</td>\n",
       "      <td>40000.0</td>\n",
       "      <td>10</td>\n",
       "      <td>Paid</td>\n",
       "      <td>19.99</td>\n",
       "      <td>Everyone</td>\n",
       "      <td>Education</td>\n",
       "      <td>...</td>\n",
       "      <td>7168735</td>\n",
       "      <td>NaN</td>\n",
       "      <td>1000000000</td>\n",
       "      <td>Free</td>\n",
       "      <td>0.0</td>\n",
       "      <td>Teen</td>\n",
       "      <td>Entertainment</td>\n",
       "      <td>July 16, 2018</td>\n",
       "      <td>Varies with device</td>\n",
       "      <td>Varies with device</td>\n",
       "    </tr>\n",
       "    <tr>\n",
       "      <th>1</th>\n",
       "      <td>Story Time FD</td>\n",
       "      <td>FAMILY</td>\n",
       "      <td>5.0</td>\n",
       "      <td>2</td>\n",
       "      <td>4.2</td>\n",
       "      <td>10</td>\n",
       "      <td>Free</td>\n",
       "      <td>0.00</td>\n",
       "      <td>Everyone 10+</td>\n",
       "      <td>Simulation</td>\n",
       "      <td>...</td>\n",
       "      <td>7168735</td>\n",
       "      <td>NaN</td>\n",
       "      <td>1000000000</td>\n",
       "      <td>Free</td>\n",
       "      <td>0.0</td>\n",
       "      <td>Teen</td>\n",
       "      <td>Entertainment</td>\n",
       "      <td>July 16, 2018</td>\n",
       "      <td>Varies with device</td>\n",
       "      <td>Varies with device</td>\n",
       "    </tr>\n",
       "    <tr>\n",
       "      <th>2</th>\n",
       "      <td>DN Employee</td>\n",
       "      <td>FAMILY</td>\n",
       "      <td>5.0</td>\n",
       "      <td>1</td>\n",
       "      <td>3.8</td>\n",
       "      <td>10</td>\n",
       "      <td>Free</td>\n",
       "      <td>0.00</td>\n",
       "      <td>Everyone</td>\n",
       "      <td>Education</td>\n",
       "      <td>...</td>\n",
       "      <td>7168735</td>\n",
       "      <td>NaN</td>\n",
       "      <td>1000000000</td>\n",
       "      <td>Free</td>\n",
       "      <td>0.0</td>\n",
       "      <td>Teen</td>\n",
       "      <td>Entertainment</td>\n",
       "      <td>July 16, 2018</td>\n",
       "      <td>Varies with device</td>\n",
       "      <td>Varies with device</td>\n",
       "    </tr>\n",
       "    <tr>\n",
       "      <th>3</th>\n",
       "      <td>EC Calgary</td>\n",
       "      <td>FAMILY</td>\n",
       "      <td>5.0</td>\n",
       "      <td>6</td>\n",
       "      <td>8.1</td>\n",
       "      <td>100</td>\n",
       "      <td>Free</td>\n",
       "      <td>0.00</td>\n",
       "      <td>Teen</td>\n",
       "      <td>Education</td>\n",
       "      <td>...</td>\n",
       "      <td>7168735</td>\n",
       "      <td>NaN</td>\n",
       "      <td>1000000000</td>\n",
       "      <td>Free</td>\n",
       "      <td>0.0</td>\n",
       "      <td>Teen</td>\n",
       "      <td>Entertainment</td>\n",
       "      <td>July 16, 2018</td>\n",
       "      <td>Varies with device</td>\n",
       "      <td>Varies with device</td>\n",
       "    </tr>\n",
       "    <tr>\n",
       "      <th>4</th>\n",
       "      <td>Bh Public School</td>\n",
       "      <td>FAMILY</td>\n",
       "      <td>5.0</td>\n",
       "      <td>2</td>\n",
       "      <td>8.7</td>\n",
       "      <td>10</td>\n",
       "      <td>Free</td>\n",
       "      <td>0.00</td>\n",
       "      <td>Everyone</td>\n",
       "      <td>Education</td>\n",
       "      <td>...</td>\n",
       "      <td>7168735</td>\n",
       "      <td>NaN</td>\n",
       "      <td>1000000000</td>\n",
       "      <td>Free</td>\n",
       "      <td>0.0</td>\n",
       "      <td>Teen</td>\n",
       "      <td>Entertainment</td>\n",
       "      <td>July 16, 2018</td>\n",
       "      <td>Varies with device</td>\n",
       "      <td>Varies with device</td>\n",
       "    </tr>\n",
       "    <tr>\n",
       "      <th>5</th>\n",
       "      <td>Florida Wildflowers</td>\n",
       "      <td>FAMILY</td>\n",
       "      <td>5.0</td>\n",
       "      <td>5</td>\n",
       "      <td>69000.0</td>\n",
       "      <td>1000</td>\n",
       "      <td>Free</td>\n",
       "      <td>0.00</td>\n",
       "      <td>Everyone</td>\n",
       "      <td>Education</td>\n",
       "      <td>...</td>\n",
       "      <td>7168735</td>\n",
       "      <td>NaN</td>\n",
       "      <td>1000000000</td>\n",
       "      <td>Free</td>\n",
       "      <td>0.0</td>\n",
       "      <td>Teen</td>\n",
       "      <td>Entertainment</td>\n",
       "      <td>July 16, 2018</td>\n",
       "      <td>Varies with device</td>\n",
       "      <td>Varies with device</td>\n",
       "    </tr>\n",
       "    <tr>\n",
       "      <th>6</th>\n",
       "      <td>Sir C J New Primary School</td>\n",
       "      <td>FAMILY</td>\n",
       "      <td>5.0</td>\n",
       "      <td>3</td>\n",
       "      <td>9.2</td>\n",
       "      <td>100</td>\n",
       "      <td>Free</td>\n",
       "      <td>0.00</td>\n",
       "      <td>Everyone</td>\n",
       "      <td>Education</td>\n",
       "      <td>...</td>\n",
       "      <td>7168735</td>\n",
       "      <td>NaN</td>\n",
       "      <td>1000000000</td>\n",
       "      <td>Free</td>\n",
       "      <td>0.0</td>\n",
       "      <td>Teen</td>\n",
       "      <td>Entertainment</td>\n",
       "      <td>July 16, 2018</td>\n",
       "      <td>Varies with device</td>\n",
       "      <td>Varies with device</td>\n",
       "    </tr>\n",
       "    <tr>\n",
       "      <th>7</th>\n",
       "      <td>Victoria EC</td>\n",
       "      <td>TOOLS</td>\n",
       "      <td>5.0</td>\n",
       "      <td>5</td>\n",
       "      <td>3.8</td>\n",
       "      <td>500</td>\n",
       "      <td>Free</td>\n",
       "      <td>0.00</td>\n",
       "      <td>Everyone</td>\n",
       "      <td>Tools</td>\n",
       "      <td>...</td>\n",
       "      <td>8033493</td>\n",
       "      <td>NaN</td>\n",
       "      <td>1000000000</td>\n",
       "      <td>Free</td>\n",
       "      <td>0.0</td>\n",
       "      <td>Everyone</td>\n",
       "      <td>Tools</td>\n",
       "      <td>August 3, 2018</td>\n",
       "      <td>Varies with device</td>\n",
       "      <td>Varies with device</td>\n",
       "    </tr>\n",
       "    <tr>\n",
       "      <th>8</th>\n",
       "      <td>ADS-B Driver</td>\n",
       "      <td>TOOLS</td>\n",
       "      <td>5.0</td>\n",
       "      <td>2</td>\n",
       "      <td>6.3</td>\n",
       "      <td>100</td>\n",
       "      <td>Paid</td>\n",
       "      <td>1.99</td>\n",
       "      <td>Everyone</td>\n",
       "      <td>Tools</td>\n",
       "      <td>...</td>\n",
       "      <td>8033493</td>\n",
       "      <td>NaN</td>\n",
       "      <td>1000000000</td>\n",
       "      <td>Free</td>\n",
       "      <td>0.0</td>\n",
       "      <td>Everyone</td>\n",
       "      <td>Tools</td>\n",
       "      <td>August 3, 2018</td>\n",
       "      <td>Varies with device</td>\n",
       "      <td>Varies with device</td>\n",
       "    </tr>\n",
       "    <tr>\n",
       "      <th>9</th>\n",
       "      <td>CJ'S TIRE AND AUTO INC.</td>\n",
       "      <td>PRODUCTIVITY</td>\n",
       "      <td>5.0</td>\n",
       "      <td>5</td>\n",
       "      <td>11000.0</td>\n",
       "      <td>100</td>\n",
       "      <td>Free</td>\n",
       "      <td>0.00</td>\n",
       "      <td>Everyone</td>\n",
       "      <td>Productivity</td>\n",
       "      <td>...</td>\n",
       "      <td>2731171</td>\n",
       "      <td>NaN</td>\n",
       "      <td>1000000000</td>\n",
       "      <td>Free</td>\n",
       "      <td>0.0</td>\n",
       "      <td>Everyone</td>\n",
       "      <td>Productivity</td>\n",
       "      <td>August 6, 2018</td>\n",
       "      <td>Varies with device</td>\n",
       "      <td>Varies with device</td>\n",
       "    </tr>\n",
       "    <tr>\n",
       "      <th>10</th>\n",
       "      <td>CJ'S TIRE AND AUTO INC.</td>\n",
       "      <td>PRODUCTIVITY</td>\n",
       "      <td>5.0</td>\n",
       "      <td>5</td>\n",
       "      <td>11000.0</td>\n",
       "      <td>100</td>\n",
       "      <td>Free</td>\n",
       "      <td>0.00</td>\n",
       "      <td>Everyone</td>\n",
       "      <td>Productivity</td>\n",
       "      <td>...</td>\n",
       "      <td>2731211</td>\n",
       "      <td>NaN</td>\n",
       "      <td>1000000000</td>\n",
       "      <td>Free</td>\n",
       "      <td>0.0</td>\n",
       "      <td>Everyone</td>\n",
       "      <td>Productivity</td>\n",
       "      <td>August 6, 2018</td>\n",
       "      <td>Varies with device</td>\n",
       "      <td>Varies with device</td>\n",
       "    </tr>\n",
       "    <tr>\n",
       "      <th>11</th>\n",
       "      <td>CJ'S TIRE AND AUTO INC.</td>\n",
       "      <td>PRODUCTIVITY</td>\n",
       "      <td>5.0</td>\n",
       "      <td>5</td>\n",
       "      <td>11000.0</td>\n",
       "      <td>100</td>\n",
       "      <td>Free</td>\n",
       "      <td>0.00</td>\n",
       "      <td>Everyone</td>\n",
       "      <td>Productivity</td>\n",
       "      <td>...</td>\n",
       "      <td>2731211</td>\n",
       "      <td>NaN</td>\n",
       "      <td>1000000000</td>\n",
       "      <td>Free</td>\n",
       "      <td>0.0</td>\n",
       "      <td>Everyone</td>\n",
       "      <td>Productivity</td>\n",
       "      <td>August 6, 2018</td>\n",
       "      <td>Varies with device</td>\n",
       "      <td>Varies with device</td>\n",
       "    </tr>\n",
       "  </tbody>\n",
       "</table>\n",
       "<p>12 rows × 25 columns</p>\n",
       "</div>"
      ],
      "text/plain": [
       "                         App_x      Category  Rating_x Reviews_x   Size_x  \\\n",
       "0   USMLE Step 2 CK Flashcards        FAMILY       5.0         1  40000.0   \n",
       "1                Story Time FD        FAMILY       5.0         2      4.2   \n",
       "2                  DN Employee        FAMILY       5.0         1      3.8   \n",
       "3                   EC Calgary        FAMILY       5.0         6      8.1   \n",
       "4             Bh Public School        FAMILY       5.0         2      8.7   \n",
       "5          Florida Wildflowers        FAMILY       5.0         5  69000.0   \n",
       "6   Sir C J New Primary School        FAMILY       5.0         3      9.2   \n",
       "7                  Victoria EC         TOOLS       5.0         5      3.8   \n",
       "8                 ADS-B Driver         TOOLS       5.0         2      6.3   \n",
       "9      CJ'S TIRE AND AUTO INC.  PRODUCTIVITY       5.0         5  11000.0   \n",
       "10     CJ'S TIRE AND AUTO INC.  PRODUCTIVITY       5.0         5  11000.0   \n",
       "11     CJ'S TIRE AND AUTO INC.  PRODUCTIVITY       5.0         5  11000.0   \n",
       "\n",
       "    Installs_x Type_x  Price_x Content Rating_x      Genres_x  ... Reviews_y  \\\n",
       "0           10   Paid    19.99         Everyone     Education  ...   7168735   \n",
       "1           10   Free     0.00     Everyone 10+    Simulation  ...   7168735   \n",
       "2           10   Free     0.00         Everyone     Education  ...   7168735   \n",
       "3          100   Free     0.00             Teen     Education  ...   7168735   \n",
       "4           10   Free     0.00         Everyone     Education  ...   7168735   \n",
       "5         1000   Free     0.00         Everyone     Education  ...   7168735   \n",
       "6          100   Free     0.00         Everyone     Education  ...   7168735   \n",
       "7          500   Free     0.00         Everyone         Tools  ...   8033493   \n",
       "8          100   Paid     1.99         Everyone         Tools  ...   8033493   \n",
       "9          100   Free     0.00         Everyone  Productivity  ...   2731171   \n",
       "10         100   Free     0.00         Everyone  Productivity  ...   2731211   \n",
       "11         100   Free     0.00         Everyone  Productivity  ...   2731211   \n",
       "\n",
       "   Size_y  Installs_y Type_y  Price_y Content Rating_y       Genres_y  \\\n",
       "0     NaN  1000000000   Free      0.0             Teen  Entertainment   \n",
       "1     NaN  1000000000   Free      0.0             Teen  Entertainment   \n",
       "2     NaN  1000000000   Free      0.0             Teen  Entertainment   \n",
       "3     NaN  1000000000   Free      0.0             Teen  Entertainment   \n",
       "4     NaN  1000000000   Free      0.0             Teen  Entertainment   \n",
       "5     NaN  1000000000   Free      0.0             Teen  Entertainment   \n",
       "6     NaN  1000000000   Free      0.0             Teen  Entertainment   \n",
       "7     NaN  1000000000   Free      0.0         Everyone          Tools   \n",
       "8     NaN  1000000000   Free      0.0         Everyone          Tools   \n",
       "9     NaN  1000000000   Free      0.0         Everyone   Productivity   \n",
       "10    NaN  1000000000   Free      0.0         Everyone   Productivity   \n",
       "11    NaN  1000000000   Free      0.0         Everyone   Productivity   \n",
       "\n",
       "    Last Updated_y       Current Ver_y       Android Ver_y  \n",
       "0    July 16, 2018  Varies with device  Varies with device  \n",
       "1    July 16, 2018  Varies with device  Varies with device  \n",
       "2    July 16, 2018  Varies with device  Varies with device  \n",
       "3    July 16, 2018  Varies with device  Varies with device  \n",
       "4    July 16, 2018  Varies with device  Varies with device  \n",
       "5    July 16, 2018  Varies with device  Varies with device  \n",
       "6    July 16, 2018  Varies with device  Varies with device  \n",
       "7   August 3, 2018  Varies with device  Varies with device  \n",
       "8   August 3, 2018  Varies with device  Varies with device  \n",
       "9   August 6, 2018  Varies with device  Varies with device  \n",
       "10  August 6, 2018  Varies with device  Varies with device  \n",
       "11  August 6, 2018  Varies with device  Varies with device  \n",
       "\n",
       "[12 rows x 25 columns]"
      ]
     },
     "execution_count": 83,
     "metadata": {},
     "output_type": "execute_result"
    }
   ],
   "source": [
    "new_df1"
   ]
  },
  {
   "cell_type": "code",
   "execution_count": 84,
   "id": "db7ceba2-c57e-480f-8644-8d8c165a3613",
   "metadata": {},
   "outputs": [
    {
     "data": {
      "text/plain": [
       "'So Most rated apps and maximum number of installs is done on Family category of apps.'"
      ]
     },
     "execution_count": 84,
     "metadata": {},
     "output_type": "execute_result"
    }
   ],
   "source": [
    "'So Most rated apps and maximum number of installs is done on Family category of apps.'"
   ]
  },
  {
   "cell_type": "code",
   "execution_count": 85,
   "id": "01f5ed50-04c6-43f4-ab9b-dd7669aac94b",
   "metadata": {},
   "outputs": [
    {
     "data": {
      "text/plain": [
       "'16. A mobile app development company wants to analyze the Google Playstore dataset to identify the most successful app developers. What features would you analyze to make recommendations to the company, and what data visualizations would you use to present your findings?'"
      ]
     },
     "execution_count": 85,
     "metadata": {},
     "output_type": "execute_result"
    }
   ],
   "source": [
    "'''16. A mobile app development company wants to analyze the Google Playstore dataset to identify the most successful app developers. What features would you analyze to make recommendations to the company, and what data visualizations would you use to present your findings?'''"
   ]
  },
  {
   "cell_type": "code",
   "execution_count": 86,
   "id": "9565b7aa-43f9-4f47-96b3-cd5452f98301",
   "metadata": {},
   "outputs": [
    {
     "data": {
      "text/plain": [
       "\"In these case we wil analyse the 'Rating', 'Category'and 'Installs' columns of google playstore dataset.\""
      ]
     },
     "execution_count": 86,
     "metadata": {},
     "output_type": "execute_result"
    }
   ],
   "source": [
    "'''In these case we wil analyse the 'Rating', 'Category'and 'Installs' columns of google playstore dataset.'''"
   ]
  },
  {
   "cell_type": "code",
   "execution_count": 87,
   "id": "3269d655-b142-4ada-9960-2ede1e50d0bc",
   "metadata": {},
   "outputs": [
    {
     "data": {
      "text/plain": [
       "<matplotlib.collections.PathCollection at 0x7f4b7b2e4190>"
      ]
     },
     "execution_count": 87,
     "metadata": {},
     "output_type": "execute_result"
    },
    {
     "data": {
      "image/png": "[encoded data removed]",
      "text/plain": [
       "<Figure size 1000x200 with 1 Axes>"
      ]
     },
     "metadata": {},
     "output_type": "display_data"
    }
   ],
   "source": [
    "plt.figure(figsize=(10,2))\n",
    "plt.scatter(x=df1_copy['Rating'],y= df1_copy['Installs'])"
   ]
  },
  {
   "cell_type": "code",
   "execution_count": null,
   "id": "be32304b-a5a2-47c1-9f3a-f7d0587b6137",
   "metadata": {},
   "outputs": [],
   "source": []
  },
  {
   "cell_type": "code",
   "execution_count": null,
   "id": "7914a966-c878-4d12-8f3f-8adf18b8cdf0",
   "metadata": {},
   "outputs": [],
   "source": []
  }
 ],
 "metadata": {
  "kernelspec": {
   "display_name": "Python 3 (ipykernel)",
   "language": "python",
   "name": "python3"
  },
  "language_info": {
   "codemirror_mode": {
    "name": "ipython",
    "version": 3
   },
   "file_extension": ".py",
   "mimetype": "text/x-python",
   "name": "python",
   "nbconvert_exporter": "python",
   "pygments_lexer": "ipython3",
   "version": "3.10.8"
  }
 },
 "nbformat": 4,
 "nbformat_minor": 5
}
