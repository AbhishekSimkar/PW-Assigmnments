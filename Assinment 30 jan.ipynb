{
 "cells": [
  {
   "cell_type": "raw",
   "id": "812c93ff-3e87-44c2-8d81-df2bf2c1fb74",
   "metadata": {},
   "source": [
    "1. Write a program to accept percentage from the user and display the grades according to the following criteria:\n",
    "    Marks                  Grade\n",
    "    >90                     A\n",
    "    >80 and <=90            B\n",
    "    >=60 and <=80           C\n",
    "    below 60                D"
   ]
  },
  {
   "cell_type": "code",
   "execution_count": 19,
   "id": "27287aaf-8615-4fb0-a480-fba77065479a",
   "metadata": {},
   "outputs": [
    {
     "name": "stdin",
     "output_type": "stream",
     "text": [
      "Enter your percentage as integer:  25\n"
     ]
    },
    {
     "name": "stdout",
     "output_type": "stream",
     "text": [
      "your grade is D and percentage is  25\n"
     ]
    }
   ],
   "source": [
    "n=int(input(\"Enter your percentage as integer: \"))\n",
    "if n>90:\n",
    "    print(\"your grade is A and percentage is \",n)\n",
    "elif n>80 and n<=90:\n",
    "    print(\"your grade is B and percentage is \",n)\n",
    "elif n>=60 and n<=80:\n",
    "    print(\"your grade is C and percentage is \",n)\n",
    "else:\n",
    "    print(\"your grade is D and percentage is \",n)"
   ]
  },
  {
   "cell_type": "raw",
   "id": "dda8aecc-97d6-4334-9431-771d42ff8559",
   "metadata": {},
   "source": [
    "2. Write a program to accept the cost price of a bike and display the road tax to be paid according to the following criteria:\n",
    "    Tax              Cost price(in rs)\n",
    "    15%              >100000\n",
    "    10%              >50000 and <=100000\n",
    "    5%               <=50000"
   ]
  },
  {
   "cell_type": "code",
   "execution_count": 22,
   "id": "ac0fdc81-47ef-4a38-ac0e-ef206f05a3aa",
   "metadata": {},
   "outputs": [
    {
     "name": "stdin",
     "output_type": "stream",
     "text": [
      "Enter the cost price of bike(in rs):  60000\n"
     ]
    },
    {
     "name": "stdout",
     "output_type": "stream",
     "text": [
      "The road tax to be paid is  6000.0\n"
     ]
    }
   ],
   "source": [
    "bike_cost=int(input(\"Enter the cost price of bike(in rs): \"))\n",
    "if bike_cost>100000:\n",
    "    tax=bike_cost *15/100\n",
    "    print(\"The road tax to be paid is \",tax)\n",
    "elif bike_cost<=100000 and bike_cost>50000:\n",
    "    tax=bike_cost*10/100\n",
    "    print(\"The road tax to be paid is \",tax)\n",
    "else:\n",
    "    tax=bike_cost*5/100\n",
    "    print(\"The road tax to be paid is \",tax)"
   ]
  },
  {
   "cell_type": "raw",
   "id": "a6f2adda-4137-4d09-b953-9ce20976e279",
   "metadata": {},
   "source": [
    "3. Accept any city from the user and display monuments of that city.\n",
    "    City         Monument\n",
    "    Delhi        Red fort\n",
    "    Agra         Taj Mahal\n",
    "    Jaipur       Jal Mahal"
   ]
  },
  {
   "cell_type": "code",
   "execution_count": 26,
   "id": "5c949ded-b004-463a-97bc-b1c2427f36c2",
   "metadata": {},
   "outputs": [
    {
     "name": "stdin",
     "output_type": "stream",
     "text": [
      "Enter the name of city:  Raipur\n"
     ]
    },
    {
     "name": "stdout",
     "output_type": "stream",
     "text": [
      "Enter a valid city from above list.\n"
     ]
    }
   ],
   "source": [
    "city=input(\"Enter the name of city: \")\n",
    "if city=='Delhi':\n",
    "    print(\"Red fort is the monument here.\")\n",
    "elif city=='Agra':\n",
    "    print(\"Taj Mahal is the monument here.\")\n",
    "elif city=='Jaipur':\n",
    "    print(\"Jal Mahal is the monument here.\")\n",
    "else:\n",
    "    print(\"Enter a valid city from above list.\")"
   ]
  },
  {
   "cell_type": "raw",
   "id": "ae664562-13d8-4220-8cf9-ac18254c0913",
   "metadata": {},
   "source": [
    "4. Check how many times a given number can be divided by 3 before it is less than or equal to 10."
   ]
  },
  {
   "cell_type": "code",
   "execution_count": 6,
   "id": "f57f82df-20b2-41e5-8103-201eb86ef38b",
   "metadata": {},
   "outputs": [
    {
     "name": "stdin",
     "output_type": "stream",
     "text": [
      "Enter the number:  100\n"
     ]
    },
    {
     "name": "stdout",
     "output_type": "stream",
     "text": [
      "3 times a number is divided by 3.\n"
     ]
    }
   ],
   "source": [
    "n=int(input(\"Enter the number: \"))\n",
    "count=0\n",
    "while n>=10:\n",
    "    n=n/3\n",
    "    count=count+1\n",
    "print(count,\"times a number is divided by 3.\")"
   ]
  },
  {
   "cell_type": "raw",
   "id": "6d7b1169-d17e-4452-a064-382db2d4eb08",
   "metadata": {},
   "source": [
    "5. Why and when to use while loop in python give a detailed description with example.\n",
    "\n",
    "Python while loop is used to run a block code until a certain condition is met. Here, a while loop evaluates the condition, if the condition is true, the code inside the while loop is executed. Condition is evaluated again. This process continues until the condition is false, when condition evaluates to false the loop stops."
   ]
  },
  {
   "cell_type": "code",
   "execution_count": 7,
   "id": "31e394e7-6b05-4488-9557-99e42b79eafb",
   "metadata": {},
   "outputs": [
    {
     "name": "stdin",
     "output_type": "stream",
     "text": [
      "Enter a number:  1\n",
      "Enter a number:  5\n",
      "Enter a number:  3\n",
      "Enter a number:  11\n",
      "Enter a number:  0\n"
     ]
    },
    {
     "name": "stdout",
     "output_type": "stream",
     "text": [
      "total = 20\n"
     ]
    }
   ],
   "source": [
    "#Example\n",
    "\n",
    "# program to calculate the sum of numbers until the user enters zero\n",
    "total = 0\n",
    "number = int(input('Enter a number: '))\n",
    "while number != 0:\n",
    "    total += number\n",
    "    number = int(input('Enter a number: '))\n",
    "print('total =', total)"
   ]
  },
  {
   "cell_type": "raw",
   "id": "c54d9ca8-40b4-4ead-a571-dc91eaed19d2",
   "metadata": {},
   "source": [
    "6. Use nested while loop to print 3 different pattern."
   ]
  },
  {
   "cell_type": "code",
   "execution_count": 8,
   "id": "2b9a0b28-63d8-4c5f-9294-c3ea6b1842dc",
   "metadata": {},
   "outputs": [
    {
     "name": "stdout",
     "output_type": "stream",
     "text": [
      "1 \n",
      "1 2 \n",
      "1 2 3 \n",
      "1 2 3 4 \n",
      "1 2 3 4 5 \n"
     ]
    }
   ],
   "source": [
    "#First pattern\n",
    "i=1\n",
    "while i<=5:\n",
    "    j=1\n",
    "    while j<=i:\n",
    "        print(j,end=\" \")\n",
    "        j=j+1\n",
    "    print(\"\")\n",
    "    i=i+1"
   ]
  },
  {
   "cell_type": "code",
   "execution_count": 18,
   "id": "3cd920c4-b62e-4f18-bfe9-45d2b06a5cb5",
   "metadata": {
    "tags": []
   },
   "outputs": [
    {
     "name": "stdout",
     "output_type": "stream",
     "text": [
      " 1\n",
      "  2\n",
      "   3\n",
      "    4\n",
      "     5\n"
     ]
    }
   ],
   "source": [
    "#Second pattern\n",
    "i=1\n",
    "while i<=5:\n",
    "    j=1\n",
    "    while j<=i:\n",
    "        print(\" \", end=\"\")\n",
    "        j+=1\n",
    "    print(i)\n",
    "    i+=1\n",
    "        "
   ]
  },
  {
   "cell_type": "code",
   "execution_count": 27,
   "id": "8f89492a-e183-48d1-a50e-e10c7740b7d0",
   "metadata": {},
   "outputs": [
    {
     "name": "stdout",
     "output_type": "stream",
     "text": [
      "1 \n",
      "2 2 \n",
      "3 3 3 \n",
      "4 4 4 4 \n",
      "5 5 5 5 5 \n"
     ]
    }
   ],
   "source": [
    "#Third pattern\n",
    "i=1\n",
    "while i<=5:\n",
    "    j=1\n",
    "    while j<=i:\n",
    "        print(i,end=\" \")\n",
    "        j=j+1\n",
    "    print(\"\")\n",
    "    i=i+1"
   ]
  },
  {
   "cell_type": "raw",
   "id": "54a59a7e-6c8e-4ad6-8075-e03ad4e8e1b2",
   "metadata": {},
   "source": [
    "7. Reverse a while loop to display numbers from 10 to 1."
   ]
  },
  {
   "cell_type": "code",
   "execution_count": 28,
   "id": "11789c17-121f-4d96-9598-5492b7ba9691",
   "metadata": {},
   "outputs": [
    {
     "name": "stdout",
     "output_type": "stream",
     "text": [
      "10\n",
      "9\n",
      "8\n",
      "7\n",
      "6\n",
      "5\n",
      "4\n",
      "3\n",
      "2\n",
      "1\n"
     ]
    }
   ],
   "source": [
    "i=10\n",
    "while i>=1:\n",
    "    print(i)\n",
    "    i-=1"
   ]
  }
 ],
 "metadata": {
  "kernelspec": {
   "display_name": "Python 3 (ipykernel)",
   "language": "python",
   "name": "python3"
  },
  "language_info": {
   "codemirror_mode": {
    "name": "ipython",
    "version": 3
   },
   "file_extension": ".py",
   "mimetype": "text/x-python",
   "name": "python",
   "nbconvert_exporter": "python",
   "pygments_lexer": "ipython3",
   "version": "3.10.8"
  }
 },
 "nbformat": 4,
 "nbformat_minor": 5
}
