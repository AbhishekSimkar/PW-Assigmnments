{
 "cells": [
  {
   "cell_type": "code",
   "execution_count": 1,
   "id": "7529867e-ff4d-4a4c-9900-20e01c0742fe",
   "metadata": {},
   "outputs": [
    {
     "data": {
      "text/plain": [
       "'1. What are the three measures of central tendency?'"
      ]
     },
     "execution_count": 1,
     "metadata": {},
     "output_type": "execute_result"
    }
   ],
   "source": [
    "'1. What are the three measures of central tendency?'"
   ]
  },
  {
   "cell_type": "code",
   "execution_count": 2,
   "id": "73d80d68-a75d-4bb5-8dd7-5110e35e7ea9",
   "metadata": {},
   "outputs": [
    {
     "data": {
      "text/plain": [
       "'Mean, Median and Mode are the three measures of central tendency'"
      ]
     },
     "execution_count": 2,
     "metadata": {},
     "output_type": "execute_result"
    }
   ],
   "source": [
    "'Mean, Median and Mode are the three measures of central tendency'"
   ]
  },
  {
   "cell_type": "code",
   "execution_count": 3,
   "id": "97713482-a588-4988-81b4-8a8f295709cf",
   "metadata": {},
   "outputs": [
    {
     "data": {
      "text/plain": [
       "'2. What is the difference between the mean, median, and mode? How are they used to measure the central tendency of a dataset?'"
      ]
     },
     "execution_count": 3,
     "metadata": {},
     "output_type": "execute_result"
    }
   ],
   "source": [
    "'2. What is the difference between the mean, median, and mode? How are they used to measure the central tendency of a dataset?'"
   ]
  },
  {
   "cell_type": "code",
   "execution_count": 4,
   "id": "51d2dd47-e397-4a6e-a4fc-2f03c10f4118",
   "metadata": {},
   "outputs": [
    {
     "data": {
      "text/plain": [
       "'1. Mean :- It is the average of dataset.\\n2. Median:- It is the middle value of sorted dataset. \\n3. Mode:- The value which is repeated most in a dataset.\\n\\nUsually we tend to find these three values to know the skewness of curve.'"
      ]
     },
     "execution_count": 4,
     "metadata": {},
     "output_type": "execute_result"
    }
   ],
   "source": [
    "'''1. Mean :- It is the average of dataset.\n",
    "2. Median:- It is the middle value of sorted dataset. \n",
    "3. Mode:- The value which is repeated most in a dataset.\n",
    "\n",
    "Usually we tend to find these three values to know the skewness of curve.'''"
   ]
  },
  {
   "cell_type": "code",
   "execution_count": 5,
   "id": "d7e70cef-edc6-431a-b97a-fbb4660debce",
   "metadata": {},
   "outputs": [
    {
     "data": {
      "text/plain": [
       "'3. Measure the three measures of central tendency for the given height data:\\n [178,177,176,177,178.2,178,175,179,180,175,178.9,176.2,177,172.5,178,176.5]'"
      ]
     },
     "execution_count": 5,
     "metadata": {},
     "output_type": "execute_result"
    }
   ],
   "source": [
    "'''3. Measure the three measures of central tendency for the given height data:\n",
    " [178,177,176,177,178.2,178,175,179,180,175,178.9,176.2,177,172.5,178,176.5]'''"
   ]
  },
  {
   "cell_type": "code",
   "execution_count": 6,
   "id": "5d90e356-06ac-43ec-9795-d5bba22dd0da",
   "metadata": {},
   "outputs": [
    {
     "name": "stdout",
     "output_type": "stream",
     "text": [
      "mean of the dataset is  177.01875\n",
      "median of the dataset is  177.0\n",
      "mode of the dataset is  ModeResult(mode=array([177.]), count=array([3]))\n"
     ]
    },
    {
     "name": "stderr",
     "output_type": "stream",
     "text": [
      "/tmp/ipykernel_306/184587973.py:6: FutureWarning: Unlike other reduction functions (e.g. `skew`, `kurtosis`), the default behavior of `mode` typically preserves the axis it acts along. In SciPy 1.11.0, this behavior will change: the default value of `keepdims` will become False, the `axis` over which the statistic is taken will be eliminated, and the value None will no longer be accepted. Set `keepdims` to True or False to avoid this warning.\n",
      "  mode=stats.mode(data)\n"
     ]
    }
   ],
   "source": [
    "import numpy as np\n",
    "from scipy import stats\n",
    "data=[178,177,176,177,178.2,178,175,179,180,175,178.9,176.2,177,172.5,178,176.5]\n",
    "mean=np.mean(data)\n",
    "med=np.median(data)\n",
    "mode=stats.mode(data)\n",
    "print('mean of the dataset is ',mean)\n",
    "print('median of the dataset is ',med)\n",
    "print('mode of the dataset is ',mode)"
   ]
  },
  {
   "cell_type": "code",
   "execution_count": 7,
   "id": "d81bf5f6-d12c-40e3-b36d-5af0473554bf",
   "metadata": {},
   "outputs": [
    {
     "data": {
      "text/plain": [
       "'4. Find the standard deviation for the given data:\\n[178,177,176,177,178.2,178,175,179,180,175,178.9,176.2,177,172.5,178,176.5]'"
      ]
     },
     "execution_count": 7,
     "metadata": {},
     "output_type": "execute_result"
    }
   ],
   "source": [
    "'''4. Find the standard deviation for the given data:\n",
    "[178,177,176,177,178.2,178,175,179,180,175,178.9,176.2,177,172.5,178,176.5]'''"
   ]
  },
  {
   "cell_type": "code",
   "execution_count": 8,
   "id": "8c926e75-7886-4dd5-a1a8-c9e1752d773f",
   "metadata": {},
   "outputs": [
    {
     "name": "stdout",
     "output_type": "stream",
     "text": [
      "Standard deviation of the dataset is  1.7885814036548633\n"
     ]
    }
   ],
   "source": [
    "data=[178,177,176,177,178.2,178,175,179,180,175,178.9,176.2,177,172.5,178,176.5]\n",
    "std=np.std(data)\n",
    "print('Standard deviation of the dataset is ',std)"
   ]
  },
  {
   "cell_type": "code",
   "execution_count": 9,
   "id": "a4fe3ad0-cc9e-4371-980f-5364d0c51820",
   "metadata": {},
   "outputs": [
    {
     "data": {
      "text/plain": [
       "'5. How are measures of dispersion such as range, variance, and standard deviation used to describe the spread of a dataset? Provide an example.'"
      ]
     },
     "execution_count": 9,
     "metadata": {},
     "output_type": "execute_result"
    }
   ],
   "source": [
    "'5. How are measures of dispersion such as range, variance, and standard deviation used to describe the spread of a dataset? Provide an example.'"
   ]
  },
  {
   "cell_type": "code",
   "execution_count": 10,
   "id": "338a3cdd-4582-4ae7-9257-e847039e8463",
   "metadata": {},
   "outputs": [
    {
     "data": {
      "text/plain": [
       "'Range is the x-axis values in which curve is contained, Variance is the measure of spread of graph, Whereas standard deviation give us idia about how much the values are deviated from mean.'"
      ]
     },
     "execution_count": 10,
     "metadata": {},
     "output_type": "execute_result"
    }
   ],
   "source": [
    "'Range is the x-axis values in which curve is contained, Variance is the measure of spread of graph, Whereas standard deviation give us idia about how much the values are deviated from mean.'"
   ]
  },
  {
   "cell_type": "code",
   "execution_count": 11,
   "id": "30c40077-1f93-41df-8bd5-a5c694cab203",
   "metadata": {},
   "outputs": [
    {
     "data": {
      "text/plain": [
       "'6. What is a Venn diagram?'"
      ]
     },
     "execution_count": 11,
     "metadata": {},
     "output_type": "execute_result"
    }
   ],
   "source": [
    "'6. What is a Venn diagram?'"
   ]
  },
  {
   "cell_type": "code",
   "execution_count": 12,
   "id": "1a3af2ba-b772-40de-b409-836af55ff599",
   "metadata": {},
   "outputs": [
    {
     "data": {
      "text/plain": [
       "'The diagram used to show sets and their operatons are called venn diagram.'"
      ]
     },
     "execution_count": 12,
     "metadata": {},
     "output_type": "execute_result"
    }
   ],
   "source": [
    "'The diagram used to show sets and their operatons are called venn diagram.'"
   ]
  },
  {
   "cell_type": "code",
   "execution_count": 13,
   "id": "068d1f86-1fa9-4418-b7b0-16ea7eb7b6d3",
   "metadata": {},
   "outputs": [
    {
     "data": {
      "text/plain": [
       "'7. For the two given sets A = (2,3,4,5,6,7) & B = (0,2,6,8,10). Find:\\n(i) \\tA B\\n(ii)\\tA ⋃ B'"
      ]
     },
     "execution_count": 13,
     "metadata": {},
     "output_type": "execute_result"
    }
   ],
   "source": [
    "'''7. For the two given sets A = (2,3,4,5,6,7) & B = (0,2,6,8,10). Find:\n",
    "(i) \tA B\n",
    "(ii)\tA ⋃ B'''"
   ]
  },
  {
   "cell_type": "code",
   "execution_count": 14,
   "id": "c71e9a31-30a2-4a9e-82e7-5944e2704e09",
   "metadata": {},
   "outputs": [
    {
     "data": {
      "text/plain": [
       "'A B={2,6}\\nA U B={0,2,3,4,5,6,7,8,10}'"
      ]
     },
     "execution_count": 14,
     "metadata": {},
     "output_type": "execute_result"
    }
   ],
   "source": [
    "'''A B={2,6}\n",
    "A U B={0,2,3,4,5,6,7,8,10}'''"
   ]
  },
  {
   "cell_type": "code",
   "execution_count": 15,
   "id": "db7889dd-8154-4ad0-9e32-f80f3693854d",
   "metadata": {},
   "outputs": [
    {
     "data": {
      "text/plain": [
       "'8. What do you understand about skewness in data?'"
      ]
     },
     "execution_count": 15,
     "metadata": {},
     "output_type": "execute_result"
    }
   ],
   "source": [
    "'8. What do you understand about skewness in data?'"
   ]
  },
  {
   "cell_type": "code",
   "execution_count": 16,
   "id": "544e27a3-88e6-4a1a-9f04-18679d6ecbbe",
   "metadata": {},
   "outputs": [
    {
     "data": {
      "text/plain": [
       "'Skewness is a measurement of the distortion of symmetrical distribution or asymmetry in a data set. '"
      ]
     },
     "execution_count": 16,
     "metadata": {},
     "output_type": "execute_result"
    }
   ],
   "source": [
    "'Skewness is a measurement of the distortion of symmetrical distribution or asymmetry in a data set. '"
   ]
  },
  {
   "cell_type": "code",
   "execution_count": 17,
   "id": "3df00254-8b44-40d3-b9c7-b4a6bd8f764d",
   "metadata": {},
   "outputs": [
    {
     "data": {
      "text/plain": [
       "'9. If a data is right skewed then what will be the position of median with respect to mean?'"
      ]
     },
     "execution_count": 17,
     "metadata": {},
     "output_type": "execute_result"
    }
   ],
   "source": [
    "'9. If a data is right skewed then what will be the position of median with respect to mean?'"
   ]
  },
  {
   "cell_type": "code",
   "execution_count": 18,
   "id": "c1efedbf-f8f1-4508-a38a-199a560fb1be",
   "metadata": {},
   "outputs": [
    {
     "data": {
      "text/plain": [
       "'Mean >= Median'"
      ]
     },
     "execution_count": 18,
     "metadata": {},
     "output_type": "execute_result"
    }
   ],
   "source": [
    "'Mean >= Median'"
   ]
  },
  {
   "cell_type": "code",
   "execution_count": 19,
   "id": "a3738773-a0fa-4cbe-b91e-677aa92a4448",
   "metadata": {},
   "outputs": [
    {
     "data": {
      "text/plain": [
       "'10. Explain the difference between covariance and correlation. How are these measures used in statistical analysis?'"
      ]
     },
     "execution_count": 19,
     "metadata": {},
     "output_type": "execute_result"
    }
   ],
   "source": [
    "'10. Explain the difference between covariance and correlation. How are these measures used in statistical analysis?'"
   ]
  },
  {
   "cell_type": "code",
   "execution_count": 20,
   "id": "ee343755-094b-434b-8e79-857745c966eb",
   "metadata": {},
   "outputs": [
    {
     "data": {
      "text/plain": [
       "'Covariance is an indicator of the extent to which 2 random variables are dependent on each other. A higher number denotes higher dependency. Correlation is a statistical measure that indicates how strongly two variables are related.\\nThese are used to predict the nature of curve whenever changes takes place'"
      ]
     },
     "execution_count": 20,
     "metadata": {},
     "output_type": "execute_result"
    }
   ],
   "source": [
    "'''Covariance is an indicator of the extent to which 2 random variables are dependent on each other. A higher number denotes higher dependency. Correlation is a statistical measure that indicates how strongly two variables are related.\n",
    "These are used to predict the nature of curve whenever changes takes place'''"
   ]
  },
  {
   "cell_type": "code",
   "execution_count": 21,
   "id": "16484c4e-1572-46b3-a6e6-dda09f128068",
   "metadata": {},
   "outputs": [
    {
     "data": {
      "text/plain": [
       "'11. What is the formula for calculating the sample mean? Provide an example calculation for a dataset.'"
      ]
     },
     "execution_count": 21,
     "metadata": {},
     "output_type": "execute_result"
    }
   ],
   "source": [
    "'11. What is the formula for calculating the sample mean? Provide an example calculation for a dataset.'"
   ]
  },
  {
   "cell_type": "code",
   "execution_count": 23,
   "id": "0aa53d99-4545-4c47-9256-8b70363b5fce",
   "metadata": {},
   "outputs": [
    {
     "data": {
      "text/plain": [
       "'x̄ = ( Σ xi ) / (n-1)'"
      ]
     },
     "execution_count": 23,
     "metadata": {},
     "output_type": "execute_result"
    }
   ],
   "source": [
    "'x̄ = ( Σ xi ) / (n-1)'"
   ]
  },
  {
   "cell_type": "code",
   "execution_count": 24,
   "id": "6cba48f8-4dce-46e7-ae1c-eff08a17f687",
   "metadata": {},
   "outputs": [
    {
     "data": {
      "text/plain": [
       "'12. For a normal distribution data what is the relationship between its measure of central tendency?'"
      ]
     },
     "execution_count": 24,
     "metadata": {},
     "output_type": "execute_result"
    }
   ],
   "source": [
    "'12. For a normal distribution data what is the relationship between its measure of central tendency?'"
   ]
  },
  {
   "cell_type": "code",
   "execution_count": 25,
   "id": "ba1dbcf5-975e-492f-8388-e9cb8e54a228",
   "metadata": {},
   "outputs": [
    {
     "data": {
      "text/plain": [
       "'Mean = Median = Mode'"
      ]
     },
     "execution_count": 25,
     "metadata": {},
     "output_type": "execute_result"
    }
   ],
   "source": [
    "'Mean = Median = Mode'"
   ]
  },
  {
   "cell_type": "code",
   "execution_count": 26,
   "id": "3c4f9d0a-9232-4682-9792-e134fa5bb61b",
   "metadata": {},
   "outputs": [
    {
     "data": {
      "text/plain": [
       "'13. How do outliers affect measures of central tendency and dispersion? Provide an example.'"
      ]
     },
     "execution_count": 26,
     "metadata": {},
     "output_type": "execute_result"
    }
   ],
   "source": [
    "'13. How do outliers affect measures of central tendency and dispersion? Provide an example.'"
   ]
  },
  {
   "cell_type": "code",
   "execution_count": 27,
   "id": "227a858d-df8b-42b8-9f04-df0c98765ff3",
   "metadata": {},
   "outputs": [
    {
     "data": {
      "text/plain": [
       "'Due to outlier the value of mean is more affected than the value of Median whereas value of mode is unaffected. Both Variance and Standard deviation is affected by it'"
      ]
     },
     "execution_count": 27,
     "metadata": {},
     "output_type": "execute_result"
    }
   ],
   "source": [
    "'Due to outlier the value of mean is more affected than the value of Median whereas value of mode is unaffected. Both Variance and Standard deviation is affected by it'"
   ]
  },
  {
   "cell_type": "code",
   "execution_count": null,
   "id": "684555b0-9fab-47c5-a02d-83fca57bab44",
   "metadata": {},
   "outputs": [],
   "source": []
  }
 ],
 "metadata": {
  "kernelspec": {
   "display_name": "Python 3 (ipykernel)",
   "language": "python",
   "name": "python3"
  },
  "language_info": {
   "codemirror_mode": {
    "name": "ipython",
    "version": 3
   },
   "file_extension": ".py",
   "mimetype": "text/x-python",
   "name": "python",
   "nbconvert_exporter": "python",
   "pygments_lexer": "ipython3",
   "version": "3.10.8"
  }
 },
 "nbformat": 4,
 "nbformat_minor": 5
}
