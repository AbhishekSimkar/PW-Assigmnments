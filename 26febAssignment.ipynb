{
 "cells": [
  {
   "cell_type": "code",
   "execution_count": 2,
   "id": "9a45313e-6a78-4b28-b6b9-05ab1c112d16",
   "metadata": {},
   "outputs": [],
   "source": [
    "#Consider the below code to answer further questions:\n",
    "\n",
    "import numpy as np\n",
    "list_ = [ '1' , '2' , '3' ,'4' ,'5' ]\n",
    "array_list = np.array(object = list_)"
   ]
  },
  {
   "cell_type": "code",
   "execution_count": 4,
   "id": "de799c3f-2ab9-40d5-8bfc-cd486f9ae583",
   "metadata": {},
   "outputs": [
    {
     "data": {
      "text/plain": [
       "'1. Is there any difference in the data type of variables list_ and array_list? If there is then write a code to print the data types of both the variables.'"
      ]
     },
     "execution_count": 4,
     "metadata": {},
     "output_type": "execute_result"
    }
   ],
   "source": [
    "'''1. Is there any difference in the data type of variables list_ and array_list? If there is then write a code to print the data types of both the variables.'''"
   ]
  },
  {
   "cell_type": "code",
   "execution_count": 9,
   "id": "728d628b-3ea3-4478-b163-b206aea1bc94",
   "metadata": {},
   "outputs": [
    {
     "data": {
      "text/plain": [
       "list"
      ]
     },
     "execution_count": 9,
     "metadata": {},
     "output_type": "execute_result"
    }
   ],
   "source": [
    "#Yes, there is a difference in datatype of both the variables.\n",
    "type(list_)"
   ]
  },
  {
   "cell_type": "code",
   "execution_count": 10,
   "id": "c535c6f0-43c1-4a97-8c04-17fcc1136908",
   "metadata": {},
   "outputs": [
    {
     "data": {
      "text/plain": [
       "numpy.ndarray"
      ]
     },
     "execution_count": 10,
     "metadata": {},
     "output_type": "execute_result"
    }
   ],
   "source": [
    "type(array_list)"
   ]
  },
  {
   "cell_type": "code",
   "execution_count": 12,
   "id": "93fd8279-0f65-4af3-9271-d453d6924de3",
   "metadata": {},
   "outputs": [
    {
     "data": {
      "text/plain": [
       "'2. Write a code to print the data type of each and every element of both the variables list_ and array_list.'"
      ]
     },
     "execution_count": 12,
     "metadata": {},
     "output_type": "execute_result"
    }
   ],
   "source": [
    "'''2. Write a code to print the data type of each and every element of both the variables list_ and array_list.'''"
   ]
  },
  {
   "cell_type": "code",
   "execution_count": 13,
   "id": "a1d5d6d5-34fd-4665-b20a-c59bdf2373e1",
   "metadata": {},
   "outputs": [
    {
     "name": "stdout",
     "output_type": "stream",
     "text": [
      "<class 'str'>\n",
      "<class 'str'>\n",
      "<class 'str'>\n",
      "<class 'str'>\n",
      "<class 'str'>\n"
     ]
    }
   ],
   "source": [
    "for i in list_:\n",
    "    print(type(i))"
   ]
  },
  {
   "cell_type": "code",
   "execution_count": 14,
   "id": "bf3165e7-d84b-4985-974d-b92d3fdd49c1",
   "metadata": {},
   "outputs": [
    {
     "name": "stdout",
     "output_type": "stream",
     "text": [
      "<class 'numpy.str_'>\n",
      "<class 'numpy.str_'>\n",
      "<class 'numpy.str_'>\n",
      "<class 'numpy.str_'>\n",
      "<class 'numpy.str_'>\n"
     ]
    }
   ],
   "source": [
    "for i in array_list:\n",
    "    print(type(i))"
   ]
  },
  {
   "cell_type": "code",
   "execution_count": 15,
   "id": "2058ad66-72fe-4a41-93bb-ad9e8be6dab3",
   "metadata": {},
   "outputs": [
    {
     "data": {
      "text/plain": [
       "'Will there be any difference in the data type of the elements present in both the variables, list_ and array_list? If so then print the data types of each and every element present in both the variables, list_ and array_list.'"
      ]
     },
     "execution_count": 15,
     "metadata": {},
     "output_type": "execute_result"
    }
   ],
   "source": [
    "'''3. Considering the following changes in the variable, array_list:'''\n",
    "\n",
    "array_list = np.array(object = list_, dtype = int)\n",
    "\n",
    "'''Will there be any difference in the data type of the elements present in both the variables, list_ and array_list? If so then print the data types of each and every element present in both the variables, list_ and array_list.'''"
   ]
  },
  {
   "cell_type": "code",
   "execution_count": 18,
   "id": "f7ee7563-3c10-45bf-a62a-8080273df7d1",
   "metadata": {},
   "outputs": [
    {
     "name": "stdout",
     "output_type": "stream",
     "text": [
      "<class 'numpy.int64'>\n",
      "<class 'numpy.int64'>\n",
      "<class 'numpy.int64'>\n",
      "<class 'numpy.int64'>\n",
      "<class 'numpy.int64'>\n"
     ]
    }
   ],
   "source": [
    "'''yes there will be difference in data types of each elements present in both the variables.'''\n",
    "for i in array_list:\n",
    "    print(type(i))"
   ]
  },
  {
   "cell_type": "code",
   "execution_count": 19,
   "id": "49c348df-e5c4-4606-b41f-b2e9ca7074ea",
   "metadata": {},
   "outputs": [],
   "source": [
    "#Consider the below code to answer further questions:\n",
    "\n",
    "import numpy as np\n",
    "num_list = [ [ 1 , 2 , 3 ] , [ 4 , 5 , 6 ] ]\n",
    "num_array = np.array(object = num_list)"
   ]
  },
  {
   "cell_type": "code",
   "execution_count": 20,
   "id": "ef8e63df-34b6-48c8-b42d-b0db868016b5",
   "metadata": {},
   "outputs": [
    {
     "data": {
      "text/plain": [
       "'4. Write a code to find the following characteristics of variable, num_array:\\n(i)\\t shape\\n(ii) size'"
      ]
     },
     "execution_count": 20,
     "metadata": {},
     "output_type": "execute_result"
    }
   ],
   "source": [
    "'''4. Write a code to find the following characteristics of variable, num_array:\n",
    "(i)\t shape\n",
    "(ii) size'''"
   ]
  },
  {
   "cell_type": "code",
   "execution_count": 21,
   "id": "6f20691d-a5b5-4f70-a63f-2cab9f682144",
   "metadata": {},
   "outputs": [
    {
     "data": {
      "text/plain": [
       "(2, 3)"
      ]
     },
     "execution_count": 21,
     "metadata": {},
     "output_type": "execute_result"
    }
   ],
   "source": [
    "np.shape(num_array)"
   ]
  },
  {
   "cell_type": "code",
   "execution_count": 22,
   "id": "77989e35-8b2e-40e1-8efb-aab8da04930b",
   "metadata": {},
   "outputs": [
    {
     "data": {
      "text/plain": [
       "6"
      ]
     },
     "execution_count": 22,
     "metadata": {},
     "output_type": "execute_result"
    }
   ],
   "source": [
    "np.size(num_array)"
   ]
  },
  {
   "cell_type": "code",
   "execution_count": 23,
   "id": "d495ddd7-c336-4bd6-bffc-eeaaafe544e8",
   "metadata": {},
   "outputs": [
    {
     "data": {
      "text/plain": [
       "'5. Write a code to create numpy array of 3*3 matrix containing zeros only, using a numpy array creation function.\\n[Hint: The size of the array will be 9 and the shape will be (3,3).]'"
      ]
     },
     "execution_count": 23,
     "metadata": {},
     "output_type": "execute_result"
    }
   ],
   "source": [
    "'''5. Write a code to create numpy array of 3*3 matrix containing zeros only, using a numpy array creation function.\n",
    "[Hint: The size of the array will be 9 and the shape will be (3,3).]'''"
   ]
  },
  {
   "cell_type": "code",
   "execution_count": 24,
   "id": "e4a52114-de84-405c-bc67-fa66af25c2e4",
   "metadata": {},
   "outputs": [],
   "source": [
    "arr= np.zeros((3,3))"
   ]
  },
  {
   "cell_type": "code",
   "execution_count": 25,
   "id": "f6278c11-2c17-4935-aaa3-b196adce4a9c",
   "metadata": {},
   "outputs": [
    {
     "data": {
      "text/plain": [
       "array([[0., 0., 0.],\n",
       "       [0., 0., 0.],\n",
       "       [0., 0., 0.]])"
      ]
     },
     "execution_count": 25,
     "metadata": {},
     "output_type": "execute_result"
    }
   ],
   "source": [
    "arr"
   ]
  },
  {
   "cell_type": "code",
   "execution_count": 26,
   "id": "79610ee4-88d6-41a3-9842-fc140a842d09",
   "metadata": {},
   "outputs": [
    {
     "data": {
      "text/plain": [
       "'6. Create an identity matrix of shape (5,5) using numpy functions?\\n[Hint: An identity matrix is a matrix containing 1 diagonally and other elements will be 0.]'"
      ]
     },
     "execution_count": 26,
     "metadata": {},
     "output_type": "execute_result"
    }
   ],
   "source": [
    "'''6. Create an identity matrix of shape (5,5) using numpy functions?\n",
    "[Hint: An identity matrix is a matrix containing 1 diagonally and other elements will be 0.]'''"
   ]
  },
  {
   "cell_type": "code",
   "execution_count": 27,
   "id": "401f921d-c4cd-4864-a23d-6e1ad207364d",
   "metadata": {},
   "outputs": [],
   "source": [
    "arr1= np.eye(5)"
   ]
  },
  {
   "cell_type": "code",
   "execution_count": 28,
   "id": "9d999481-1281-4011-8477-c514f3910895",
   "metadata": {},
   "outputs": [
    {
     "data": {
      "text/plain": [
       "array([[1., 0., 0., 0., 0.],\n",
       "       [0., 1., 0., 0., 0.],\n",
       "       [0., 0., 1., 0., 0.],\n",
       "       [0., 0., 0., 1., 0.],\n",
       "       [0., 0., 0., 0., 1.]])"
      ]
     },
     "execution_count": 28,
     "metadata": {},
     "output_type": "execute_result"
    }
   ],
   "source": [
    "arr1"
   ]
  },
  {
   "cell_type": "code",
   "execution_count": null,
   "id": "0aa13ed6-b71a-4b9c-9851-455da099a09a",
   "metadata": {},
   "outputs": [],
   "source": []
  }
 ],
 "metadata": {
  "kernelspec": {
   "display_name": "Python 3 (ipykernel)",
   "language": "python",
   "name": "python3"
  },
  "language_info": {
   "codemirror_mode": {
    "name": "ipython",
    "version": 3
   },
   "file_extension": ".py",
   "mimetype": "text/x-python",
   "name": "python",
   "nbconvert_exporter": "python",
   "pygments_lexer": "ipython3",
   "version": "3.10.8"
  }
 },
 "nbformat": 4,
 "nbformat_minor": 5
}
