{
 "cells": [
  {
   "cell_type": "code",
   "execution_count": 1,
   "id": "44ce3fe0-bd90-42be-b02a-ba62cc703e91",
   "metadata": {},
   "outputs": [
    {
     "data": {
      "text/plain": [
       "'1. What is Min-Max scaling, and how is it used in data preprocessing? Provide an example to illustrate its application.'"
      ]
     },
     "execution_count": 1,
     "metadata": {},
     "output_type": "execute_result"
    }
   ],
   "source": [
    "'1. What is Min-Max scaling, and how is it used in data preprocessing? Provide an example to illustrate its application.'"
   ]
  },
  {
   "cell_type": "code",
   "execution_count": 2,
   "id": "a7d3762c-4ee0-490c-a7bb-16bb757633e9",
   "metadata": {},
   "outputs": [
    {
     "data": {
      "text/plain": [
       "' Min-Max scaling is a type of scaling in which we use minimun and maximum value from the data set to nornamlize the values between 0 to 1.\\nIt is used using sklearn.processing library of python using MinMxScaler() function.'"
      ]
     },
     "execution_count": 2,
     "metadata": {},
     "output_type": "execute_result"
    }
   ],
   "source": [
    "''' Min-Max scaling is a type of scaling in which we use minimun and maximum value from the data set to nornamlize the values between 0 to 1.\n",
    "It is used using sklearn.processing library of python using MinMxScaler() function.'''"
   ]
  },
  {
   "cell_type": "code",
   "execution_count": 3,
   "id": "0fa35e83-03de-47f6-b615-15e5b2af3b39",
   "metadata": {},
   "outputs": [
    {
     "data": {
      "text/plain": [
       "'2. What is the Unit Vector technique in feature scaling, and how does it differ from Min-Max scaling? provide an example to illustrate its application.'"
      ]
     },
     "execution_count": 3,
     "metadata": {},
     "output_type": "execute_result"
    }
   ],
   "source": [
    "'2. What is the Unit Vector technique in feature scaling, and how does it differ from Min-Max scaling? provide an example to illustrate its application.'"
   ]
  },
  {
   "cell_type": "code",
   "execution_count": 4,
   "id": "bdc682cd-07e2-4f01-8adc-054214e7da32",
   "metadata": {},
   "outputs": [
    {
     "data": {
      "text/plain": [
       "'This usually means dividing each component by the Euclidean length of the vector (L2 Norm).\\nIn min-max normalization, we scale the values to a range of 0 to 1, in unit vector normalization, we scale the values to have a length of 1.'"
      ]
     },
     "execution_count": 4,
     "metadata": {},
     "output_type": "execute_result"
    }
   ],
   "source": [
    "'''This usually means dividing each component by the Euclidean length of the vector (L2 Norm).\n",
    "In min-max normalization, we scale the values to a range of 0 to 1, in unit vector normalization, we scale the values to have a length of 1.'''"
   ]
  },
  {
   "cell_type": "code",
   "execution_count": 5,
   "id": "376afd13-ddf0-4bb1-8aa4-bf853e95e121",
   "metadata": {},
   "outputs": [
    {
     "data": {
      "text/plain": [
       "'3. What is PCA (Principle Component Analysis), and how is it used in dimensionality reduction? Provide an example to illustrate its application.'"
      ]
     },
     "execution_count": 5,
     "metadata": {},
     "output_type": "execute_result"
    }
   ],
   "source": [
    "'3. What is PCA (Principle Component Analysis), and how is it used in dimensionality reduction? Provide an example to illustrate its application.'"
   ]
  },
  {
   "cell_type": "code",
   "execution_count": 6,
   "id": "5e6ef8cc-897a-4ee6-a55c-cfe9e7f7d05d",
   "metadata": {},
   "outputs": [
    {
     "data": {
      "text/plain": [
       "'In PCA we generally reduce the dimensions. Usually 2D is converted to 1D.\\nHere we draw a suitable line at 45 degrees from both the axis and project the respective data points.'"
      ]
     },
     "execution_count": 6,
     "metadata": {},
     "output_type": "execute_result"
    }
   ],
   "source": [
    "'''In PCA we generally reduce the dimensions. Usually 2D is converted to 1D.\n",
    "Here we draw a suitable line at 45 degrees from both the axis and project the respective data points.'''"
   ]
  },
  {
   "cell_type": "code",
   "execution_count": 7,
   "id": "ca476aaa-57e6-4cb6-bd40-64ab14e61683",
   "metadata": {},
   "outputs": [
    {
     "data": {
      "text/plain": [
       "'4. What is the relationship between PCA and Feature Extraction, and how can PCA be used for Feature Extraction? Provide an example to illustrate this concept.'"
      ]
     },
     "execution_count": 7,
     "metadata": {},
     "output_type": "execute_result"
    }
   ],
   "source": [
    "'4. What is the relationship between PCA and Feature Extraction, and how can PCA be used for Feature Extraction? Provide an example to illustrate this concept.'"
   ]
  },
  {
   "cell_type": "code",
   "execution_count": 8,
   "id": "884b2af7-dfa5-4308-aba8-d2cbbda47b91",
   "metadata": {},
   "outputs": [
    {
     "data": {
      "text/plain": [
       "'PCA can be used to identify the most important features in a dataset, which can be used to build predictive models.'"
      ]
     },
     "execution_count": 8,
     "metadata": {},
     "output_type": "execute_result"
    }
   ],
   "source": [
    "'''PCA can be used to identify the most important features in a dataset, which can be used to build predictive models.'''"
   ]
  },
  {
   "cell_type": "code",
   "execution_count": 9,
   "id": "1f781d55-ec64-4fb4-a067-8e42b402d760",
   "metadata": {},
   "outputs": [
    {
     "data": {
      "text/plain": [
       "'5. You are working on a project to build a recommendation system for a food delivery service. The dataset contains features such as price, rating, and delivery time. Explain how you would use Min-Max scaling to preprocess the data.'"
      ]
     },
     "execution_count": 9,
     "metadata": {},
     "output_type": "execute_result"
    }
   ],
   "source": [
    "'5. You are working on a project to build a recommendation system for a food delivery service. The dataset contains features such as price, rating, and delivery time. Explain how you would use Min-Max scaling to preprocess the data.'"
   ]
  },
  {
   "cell_type": "code",
   "execution_count": 10,
   "id": "a99a6ecc-ef5d-4b94-90ff-2d52dc15c3af",
   "metadata": {},
   "outputs": [
    {
     "data": {
      "text/plain": [
       "'Here we will normalize the data between the vales 0 to 1 using Min Max Scaling. We will find the minium and maximum value from respestive attribute and apply formaula for each value of that attribute to scale it out.'"
      ]
     },
     "execution_count": 10,
     "metadata": {},
     "output_type": "execute_result"
    }
   ],
   "source": [
    "'''Here we will normalize the data between the vales 0 to 1 using Min Max Scaling. We will find the minium and maximum value from respestive attribute and apply formaula for each value of that attribute to scale it out.'''"
   ]
  },
  {
   "cell_type": "code",
   "execution_count": 12,
   "id": "21380a1a-06c1-4fa2-a913-e14384b6b35e",
   "metadata": {},
   "outputs": [
    {
     "data": {
      "text/plain": [
       "'6. You are working on a project to build a model to predict stock prices. The dataset contains many features, such as company financial data and market trends. Explain how you would use PCA to reduce the  dimensionality of the dataset'"
      ]
     },
     "execution_count": 12,
     "metadata": {},
     "output_type": "execute_result"
    }
   ],
   "source": [
    "'6. You are working on a project to build a model to predict stock prices. The dataset contains many features, such as company financial data and market trends. Explain how you would use PCA to reduce the  dimensionality of the dataset'"
   ]
  },
  {
   "cell_type": "code",
   "execution_count": 13,
   "id": "b1ad5ff9-dd9f-4069-821a-ad7096fc29fa",
   "metadata": {},
   "outputs": [
    {
     "data": {
      "text/plain": [
       "'Here we will plot financial data and market trends in both the axis respectively. Now a line will be drawn at 45 degrees from both the axis and we wil project the data points on the new axis.'"
      ]
     },
     "execution_count": 13,
     "metadata": {},
     "output_type": "execute_result"
    }
   ],
   "source": [
    "'''Here we will plot financial data and market trends in both the axis respectively. Now a line will be drawn at 45 degrees from both the axis and we wil project the data points on the new axis.'''"
   ]
  },
  {
   "cell_type": "code",
   "execution_count": 14,
   "id": "b9ab5c4a-0c04-4cc2-bd43-51fa32a08bef",
   "metadata": {},
   "outputs": [
    {
     "data": {
      "text/plain": [
       "'7. For a dataset containing the following values: [1, 5, 10, 15, 20], perform Min-Max scaling to transform the values to a range of -1 to 1.'"
      ]
     },
     "execution_count": 14,
     "metadata": {},
     "output_type": "execute_result"
    }
   ],
   "source": [
    "'7. For a dataset containing the following values: [1, 5, 10, 15, 20], perform Min-Max scaling to transform the values to a range of -1 to 1.'"
   ]
  },
  {
   "cell_type": "code",
   "execution_count": 16,
   "id": "5493a994-0b73-498a-b278-c0ac62fbdc52",
   "metadata": {},
   "outputs": [
    {
     "data": {
      "text/plain": [
       "array([[0., 0., 0., 0., 0.]])"
      ]
     },
     "execution_count": 16,
     "metadata": {},
     "output_type": "execute_result"
    }
   ],
   "source": [
    "from sklearn.preprocessing import MinMaxScaler\n",
    "min_max= MinMaxScaler()\n",
    "min_max.fit_transform([[1,5,10,15,20]])"
   ]
  },
  {
   "cell_type": "code",
   "execution_count": null,
   "id": "fc4d3c0f-f4c8-45da-8fbb-dd977c66fe4c",
   "metadata": {},
   "outputs": [],
   "source": []
  }
 ],
 "metadata": {
  "kernelspec": {
   "display_name": "Python 3 (ipykernel)",
   "language": "python",
   "name": "python3"
  },
  "language_info": {
   "codemirror_mode": {
    "name": "ipython",
    "version": 3
   },
   "file_extension": ".py",
   "mimetype": "text/x-python",
   "name": "python",
   "nbconvert_exporter": "python",
   "pygments_lexer": "ipython3",
   "version": "3.10.8"
  }
 },
 "nbformat": 4,
 "nbformat_minor": 5
}
