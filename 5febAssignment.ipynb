{
 "cells": [
  {
   "cell_type": "code",
   "execution_count": 4,
   "id": "db6df99f-fd4f-4ba7-846e-c65e380bad85",
   "metadata": {},
   "outputs": [
    {
     "data": {
      "text/plain": [
       "' 1. Explain Class and Object with respect to Object-Oriented Programming. Give a suitable example.\\n\\nA class is considered as a blueprint of objects. We can think of the class as a sketch (prototype) of a house.It contains all the details about the floors, doors, windows, etc. Based on these descriptions we build the house.House is the object. An object is called an instance of a class. '"
      ]
     },
     "execution_count": 4,
     "metadata": {},
     "output_type": "execute_result"
    }
   ],
   "source": [
    "''' 1. Explain Class and Object with respect to Object-Oriented Programming. Give a suitable example.\n",
    "\n",
    "A class is considered as a blueprint of objects. We can think of the class as a sketch (prototype) of a house.It contains all the details about the floors, doors, windows, etc. Based on these descriptions we build the house.House is the object. An object is called an instance of a class. '''"
   ]
  },
  {
   "cell_type": "code",
   "execution_count": 2,
   "id": "e4155467-0289-468d-bc0e-a3ec01d17dd8",
   "metadata": {},
   "outputs": [
    {
     "name": "stdout",
     "output_type": "stream",
     "text": [
      "Name: Mountain Bike, Gears: 11 \n"
     ]
    }
   ],
   "source": [
    "# define a class\n",
    "class Bike:\n",
    "    name = \"\"\n",
    "    gear = 0\n",
    "# create object of class\n",
    "bike1 = Bike()\n",
    "# access attributes and assign new values\n",
    "bike1.gear = 11\n",
    "bike1.name = \"Mountain Bike\"\n",
    "\n",
    "print(f\"Name: {bike1.name}, Gears: {bike1.gear} \")"
   ]
  },
  {
   "cell_type": "code",
   "execution_count": 3,
   "id": "db36edb7-b20a-409b-b5e5-5481bd155cfa",
   "metadata": {},
   "outputs": [
    {
     "data": {
      "text/plain": [
       "' 2. Name the four pillars of OOPs.\\n\\nThe four pillars of Object Oriented Programming\\na. Abstraction.\\nb. Encapsulation.\\nc. Inheritance.\\nd. Polymorphism\\n'"
      ]
     },
     "execution_count": 3,
     "metadata": {},
     "output_type": "execute_result"
    }
   ],
   "source": [
    "''' 2. Name the four pillars of OOPs.\n",
    "\n",
    "The four pillars of Object Oriented Programming\n",
    "a. Abstraction.\n",
    "b. Encapsulation.\n",
    "c. Inheritance.\n",
    "d. Polymorphism\n",
    "'''"
   ]
  },
  {
   "cell_type": "code",
   "execution_count": 5,
   "id": "4a46f6d8-b64b-4c98-86ba-bfa2c809acd4",
   "metadata": {},
   "outputs": [
    {
     "data": {
      "text/plain": [
       "\" 3. Explain why the __init__() function is used. Give a suitable example.\\n\\nThe __init__ function is called every time an object is created from a class. The __init__ method lets the class initialize the object's attributes and serves no other purpose. It is only used within classes.\\n\""
      ]
     },
     "execution_count": 5,
     "metadata": {},
     "output_type": "execute_result"
    }
   ],
   "source": [
    "''' 3. Explain why the __init__() function is used. Give a suitable example.\n",
    "\n",
    "The __init__ function is called every time an object is created from a class. The __init__ method lets the class initialize the object's attributes and serves no other purpose. It is only used within classes.\n",
    "'''"
   ]
  },
  {
   "cell_type": "code",
   "execution_count": 6,
   "id": "9902ec76-6646-4646-a7fe-5b9871e91224",
   "metadata": {},
   "outputs": [],
   "source": [
    "class exam:\n",
    "    def __init__(self, name, roll_no, marks):\n",
    "        self.name= name\n",
    "        self.roll_no= roll_no\n",
    "        self.marks= marks\n",
    "    def student(self):\n",
    "        return self.name, self.roll_no, self.marks\n",
    "        "
   ]
  },
  {
   "cell_type": "code",
   "execution_count": 10,
   "id": "aae3e592-bdbd-4f68-9d0a-94c3ae903f00",
   "metadata": {},
   "outputs": [],
   "source": [
    "exam1= exam('Abhi', 1, 98)\n",
    "exam2= exam('Raj', 38, 68)"
   ]
  },
  {
   "cell_type": "code",
   "execution_count": 14,
   "id": "426b834f-eca4-4245-9408-9c0dd0810a7c",
   "metadata": {},
   "outputs": [
    {
     "data": {
      "text/plain": [
       "'Abhi'"
      ]
     },
     "execution_count": 14,
     "metadata": {},
     "output_type": "execute_result"
    }
   ],
   "source": [
    "exam1.name"
   ]
  },
  {
   "cell_type": "code",
   "execution_count": 16,
   "id": "4db090d0-e576-4768-abf3-00d7052b2aa1",
   "metadata": {},
   "outputs": [
    {
     "data": {
      "text/plain": [
       "1"
      ]
     },
     "execution_count": 16,
     "metadata": {},
     "output_type": "execute_result"
    }
   ],
   "source": [
    "exam1.roll_no"
   ]
  },
  {
   "cell_type": "code",
   "execution_count": 15,
   "id": "91cdec30-a61e-44c9-ae2b-42bb79ca0f59",
   "metadata": {},
   "outputs": [
    {
     "data": {
      "text/plain": [
       "98"
      ]
     },
     "execution_count": 15,
     "metadata": {},
     "output_type": "execute_result"
    }
   ],
   "source": [
    "exam1.marks"
   ]
  },
  {
   "cell_type": "code",
   "execution_count": 18,
   "id": "f02a7321-323c-49bf-871b-7cba129ee2de",
   "metadata": {},
   "outputs": [
    {
     "data": {
      "text/plain": [
       "'Raj'"
      ]
     },
     "execution_count": 18,
     "metadata": {},
     "output_type": "execute_result"
    }
   ],
   "source": [
    "exam2.name"
   ]
  },
  {
   "cell_type": "code",
   "execution_count": 20,
   "id": "be693e5b-8b55-47b5-bed7-d179d95ac92f",
   "metadata": {},
   "outputs": [
    {
     "data": {
      "text/plain": [
       "38"
      ]
     },
     "execution_count": 20,
     "metadata": {},
     "output_type": "execute_result"
    }
   ],
   "source": [
    "exam2.roll_no"
   ]
  },
  {
   "cell_type": "code",
   "execution_count": 19,
   "id": "7787b6a2-db87-4844-8dce-31bf916d9d22",
   "metadata": {},
   "outputs": [
    {
     "data": {
      "text/plain": [
       "68"
      ]
     },
     "execution_count": 19,
     "metadata": {},
     "output_type": "execute_result"
    }
   ],
   "source": [
    "exam2.marks"
   ]
  },
  {
   "cell_type": "code",
   "execution_count": 21,
   "id": "87ba4484-2ebe-475f-bb23-e8fdfd8d26cd",
   "metadata": {},
   "outputs": [
    {
     "data": {
      "text/plain": [
       "' 4. Why self is used in OOPs?\\n\\nThe self is used to represent the instance of the class. With this keyword, you can access the attributes and methods of the class in python. It binds the attributes with the given arguments.\\n'"
      ]
     },
     "execution_count": 21,
     "metadata": {},
     "output_type": "execute_result"
    }
   ],
   "source": [
    "''' 4. Why self is used in OOPs?\n",
    "\n",
    "The self is used to represent the instance of the class. With this keyword, you can access the attributes and methods of the class in python. It binds the attributes with the given arguments.\n",
    "'''"
   ]
  },
  {
   "cell_type": "code",
   "execution_count": 22,
   "id": "fe140e0a-6643-4169-90a9-6e410e88b6d1",
   "metadata": {},
   "outputs": [
    {
     "data": {
      "text/plain": [
       "'5. What is inheritance? Give an example for each type of inheritance.\\n\\nInheritance is a mechanism in which one class acquires the property of another class. For example, a child inherits the traits of his/her parents. With inheritance, we can reuse the fields and methods of the existing class.\\n'"
      ]
     },
     "execution_count": 22,
     "metadata": {},
     "output_type": "execute_result"
    }
   ],
   "source": [
    "'''5. What is inheritance? Give an example for each type of inheritance.\n",
    "\n",
    "Inheritance is a mechanism in which one class acquires the property of another class. For example, a child inherits the traits of his/her parents. With inheritance, we can reuse the fields and methods of the existing class.\n",
    "Types of Inheritance:\n",
    "a. Single Inheritance.\n",
    "b. Multiple Inheritance.\n",
    "c. Multilevel Inheritance.\n",
    "d. Hierarchal Inheritance.\n",
    "e. Hybrid Inheritance.\n",
    "'''"
   ]
  },
  {
   "cell_type": "code",
   "execution_count": 23,
   "id": "6ca5c63a-c6d1-4cb0-99a4-52f0531271b7",
   "metadata": {},
   "outputs": [
    {
     "name": "stdout",
     "output_type": "stream",
     "text": [
      "This function is in parent class.\n",
      "This function is in child class.\n"
     ]
    }
   ],
   "source": [
    "# single inheritance\n",
    "class Parent:\n",
    "\tdef func1(self):\n",
    "\t\tprint(\"This function is in parent class.\")\n",
    "class Child(Parent):\n",
    "\tdef func2(self):\n",
    "\t\tprint(\"This function is in child class.\")\n",
    "object = Child()\n",
    "object.func1()\n",
    "object.func2()"
   ]
  },
  {
   "cell_type": "code",
   "execution_count": null,
   "id": "bbe25621-76fe-4fda-bd0d-3d829d484ba4",
   "metadata": {},
   "outputs": [],
   "source": [
    "# multiple inheritance\n",
    "class Mother:\n",
    "\tdef mother(self):\n",
    "\t\tprint(self.mothername)\n",
    "class Father:\n",
    "\tdef father(self):\n",
    "\t\tprint(self.fathername)\n",
    "class Son(Mother, Father):\n",
    "\tdef parents(self):\n",
    "\t\tprint(\"Father :\", self.fathername)\n",
    "\t\tprint(\"Mother :\", self.mothername)\n",
    "s1 = Son()\n",
    "s1.fathername = \"RAM\"\n",
    "s1.mothername = \"SITA\"\n",
    "s1.parents()"
   ]
  },
  {
   "cell_type": "code",
   "execution_count": 25,
   "id": "6f96f9b2-bfad-4b37-9fcc-008b6000d037",
   "metadata": {},
   "outputs": [
    {
     "name": "stdout",
     "output_type": "stream",
     "text": [
      "Lal mani\n",
      "Grandfather name : Lal mani\n",
      "Father name : Rampal\n",
      "Son name : Prince\n"
     ]
    }
   ],
   "source": [
    "# multilevel inheritance\n",
    "class Grandfather:\n",
    "\tdef __init__(self, grandfathername):\n",
    "\t\tself.grandfathername = grandfathername\n",
    "class Father(Grandfather):\n",
    "\tdef __init__(self, fathername, grandfathername):\n",
    "\t\tself.fathername = fathername\n",
    "\t\tGrandfather.__init__(self, grandfathername)\n",
    "class Son(Father):\n",
    "\tdef __init__(self, sonname, fathername, grandfathername):\n",
    "\t\tself.sonname = sonname\n",
    "\t\tFather.__init__(self, fathername, grandfathername)\n",
    "\tdef print_name(self):\n",
    "\t\tprint('Grandfather name :', self.grandfathername)\n",
    "\t\tprint(\"Father name :\", self.fathername)\n",
    "\t\tprint(\"Son name :\", self.sonname)\n",
    "s1 = Son('Prince', 'Rampal', 'Lal mani')\n",
    "print(s1.grandfathername)\n",
    "s1.print_name()"
   ]
  },
  {
   "cell_type": "code",
   "execution_count": 26,
   "id": "43f6cb33-9f96-4715-8bf9-5eddacc1aa95",
   "metadata": {},
   "outputs": [
    {
     "name": "stdout",
     "output_type": "stream",
     "text": [
      "This function is in parent class.\n",
      "This function is in child 1.\n",
      "This function is in parent class.\n",
      "This function is in child 2.\n"
     ]
    }
   ],
   "source": [
    "# Hierarchical inheritance\n",
    "class Parent:\n",
    "\tdef func1(self):\n",
    "\t\tprint(\"This function is in parent class.\")\n",
    "class Child1(Parent):\n",
    "\tdef func2(self):\n",
    "\t\tprint(\"This function is in child 1.\")\n",
    "class Child2(Parent):\n",
    "\tdef func3(self):\n",
    "\t\tprint(\"This function is in child 2.\")\n",
    "object1 = Child1()\n",
    "object2 = Child2()\n",
    "object1.func1()\n",
    "object1.func2()\n",
    "object2.func1()\n",
    "object2.func3()"
   ]
  },
  {
   "cell_type": "code",
   "execution_count": 27,
   "id": "15b6f2aa-efcd-4d29-a3eb-79d9406ffc72",
   "metadata": {},
   "outputs": [
    {
     "name": "stdout",
     "output_type": "stream",
     "text": [
      "This function is in school.\n",
      "This function is in student 1. \n"
     ]
    }
   ],
   "source": [
    "# hybrid inheritance\n",
    "class School:\n",
    "\tdef func1(self):\n",
    "\t\tprint(\"This function is in school.\")\n",
    "class Student1(School):\n",
    "\tdef func2(self):\n",
    "\t\tprint(\"This function is in student 1. \")\n",
    "class Student2(School):\n",
    "\tdef func3(self):\n",
    "\t\tprint(\"This function is in student 2.\")\n",
    "class Student3(Student1, School):\n",
    "\tdef func4(self):\n",
    "\t\tprint(\"This function is in student 3.\")\n",
    "object = Student3()\n",
    "object.func1()\n",
    "object.func2()"
   ]
  },
  {
   "cell_type": "code",
   "execution_count": null,
   "id": "4dfb5cc5-b901-42b7-81fc-a07a0777c66f",
   "metadata": {},
   "outputs": [],
   "source": []
  },
  {
   "cell_type": "code",
   "execution_count": null,
   "id": "ec054db7-db0d-485c-85b0-a4b5410b310b",
   "metadata": {},
   "outputs": [],
   "source": []
  }
 ],
 "metadata": {
  "kernelspec": {
   "display_name": "Python 3 (ipykernel)",
   "language": "python",
   "name": "python3"
  },
  "language_info": {
   "codemirror_mode": {
    "name": "ipython",
    "version": 3
   },
   "file_extension": ".py",
   "mimetype": "text/x-python",
   "name": "python",
   "nbconvert_exporter": "python",
   "pygments_lexer": "ipython3",
   "version": "3.10.8"
  }
 },
 "nbformat": 4,
 "nbformat_minor": 5
}
