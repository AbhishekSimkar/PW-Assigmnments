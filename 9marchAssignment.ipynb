{
 "cells": [
  {
   "cell_type": "code",
   "execution_count": 1,
   "id": "693c96a1-3650-49c4-9463-521e3f8784e6",
   "metadata": {},
   "outputs": [
    {
     "data": {
      "text/plain": [
       "'1: What are the Probability Mass Function (PMF) and Probability Density Function (PDF)? Explain with an example.'"
      ]
     },
     "execution_count": 1,
     "metadata": {},
     "output_type": "execute_result"
    }
   ],
   "source": [
    "'1: What are the Probability Mass Function (PMF) and Probability Density Function (PDF)? Explain with an example.'"
   ]
  },
  {
   "cell_type": "code",
   "execution_count": 2,
   "id": "921d349d-6452-474a-a6e8-b01bc8e04f4c",
   "metadata": {},
   "outputs": [
    {
     "data": {
      "text/plain": [
       "'PMF: The function which uses discrete random variable to give probability. ex: height of students. \\nPDF: The function which uses continuous random variable to give probability. ex: rolling of dice.'"
      ]
     },
     "execution_count": 2,
     "metadata": {},
     "output_type": "execute_result"
    }
   ],
   "source": [
    "'''PMF: The function which uses discrete random variable to give probability. ex: height of students. \n",
    "PDF: The function which uses continuous random variable to give probability. ex: rolling of dice.'''"
   ]
  },
  {
   "cell_type": "code",
   "execution_count": 3,
   "id": "3c1b11c9-8c7f-4779-9f4d-8e33b52e7e61",
   "metadata": {},
   "outputs": [
    {
     "data": {
      "text/plain": [
       "'2: What is Cumulative Density Function (CDF)? Explain with an example. Why CDF is used?'"
      ]
     },
     "execution_count": 3,
     "metadata": {},
     "output_type": "execute_result"
    }
   ],
   "source": [
    "'2: What is Cumulative Density Function (CDF)? Explain with an example. Why CDF is used?'"
   ]
  },
  {
   "cell_type": "code",
   "execution_count": 4,
   "id": "8681dd2c-46ec-4b9d-850d-1d5dfeeebe23",
   "metadata": {},
   "outputs": [
    {
     "data": {
      "text/plain": [
       "'The cumulative distribution function is used to describe the probability distribution of random variables. It can be used to describe the probability for a discrete, continuous or mixed variable. It is obtained by summing up the probability density function and getting the cumulative probability for a random variable.\\nIt is used to describe the probability distribution of random variables in a table.'"
      ]
     },
     "execution_count": 4,
     "metadata": {},
     "output_type": "execute_result"
    }
   ],
   "source": [
    "'''The cumulative distribution function is used to describe the probability distribution of random variables. It can be used to describe the probability for a discrete, continuous or mixed variable. It is obtained by summing up the probability density function and getting the cumulative probability for a random variable.\n",
    "It is used to describe the probability distribution of random variables in a table.'''"
   ]
  },
  {
   "cell_type": "code",
   "execution_count": 5,
   "id": "fe29d5f6-0d1e-42a4-9e76-5decd88e7fca",
   "metadata": {},
   "outputs": [
    {
     "data": {
      "text/plain": [
       "'3: What are some examples of situations where the normal distribution might be used as a model? Explain how the parameters of the normal distribution relate to the shape of the distribution.'"
      ]
     },
     "execution_count": 5,
     "metadata": {},
     "output_type": "execute_result"
    }
   ],
   "source": [
    "'''3: What are some examples of situations where the normal distribution might be used as a model? Explain how the parameters of the normal distribution relate to the shape of the distribution.'''"
   ]
  },
  {
   "cell_type": "code",
   "execution_count": 6,
   "id": "b69f03ed-5a99-42e8-9520-0d00ce0e5dc2",
   "metadata": {},
   "outputs": [
    {
     "data": {
      "text/plain": [
       "' Height, birth weight, JEE Scores are some situations where normal distribution is used as a model. As the value of Standard Deviation increases the plot spreads.'"
      ]
     },
     "execution_count": 6,
     "metadata": {},
     "output_type": "execute_result"
    }
   ],
   "source": [
    "''' Height, birth weight, JEE Scores are some situations where normal distribution is used as a model. As the value of Standard Deviation increases the plot spreads.'''"
   ]
  },
  {
   "cell_type": "code",
   "execution_count": 7,
   "id": "6b7cdd13-b0d1-43af-aa5e-2bfa03bcd9a2",
   "metadata": {},
   "outputs": [
    {
     "data": {
      "text/plain": [
       "'4: Explain the importance of Normal Distribution. Give a few real-life examples of Normal Distribution. '"
      ]
     },
     "execution_count": 7,
     "metadata": {},
     "output_type": "execute_result"
    }
   ],
   "source": [
    "'4: Explain the importance of Normal Distribution. Give a few real-life examples of Normal Distribution. '"
   ]
  },
  {
   "cell_type": "code",
   "execution_count": 8,
   "id": "b2ad711e-08f0-4a74-83a5-42f6b7c9c48a",
   "metadata": {},
   "outputs": [
    {
     "data": {
      "text/plain": [
       "'Most of the events follows Normal Distribution so we need to look into it. Real-life examples:\\n1) Marks in a competative exam.\\n2) Height of students of class.\\n3)IQ of people.'"
      ]
     },
     "execution_count": 8,
     "metadata": {},
     "output_type": "execute_result"
    }
   ],
   "source": [
    "'''Most of the events follows Normal Distribution so we need to look into it. Real-life examples:\n",
    "1) Marks in a competative exam.\n",
    "2) Height of students of class.\n",
    "3)IQ of people.'''"
   ]
  },
  {
   "cell_type": "code",
   "execution_count": 9,
   "id": "1548ae56-2773-4042-bb35-48930244a0c5",
   "metadata": {},
   "outputs": [
    {
     "data": {
      "text/plain": [
       "'5: What is Bernaulli Distribution? Give an Example. What is the difference between Bernoulli Distribution and Binomial Distribution?'"
      ]
     },
     "execution_count": 9,
     "metadata": {},
     "output_type": "execute_result"
    }
   ],
   "source": [
    "'5: What is Bernaulli Distribution? Give an Example. What is the difference between Bernoulli Distribution and Binomial Distribution?'"
   ]
  },
  {
   "cell_type": "code",
   "execution_count": 10,
   "id": "61d20491-ab91-43a2-8a96-f5ed71b304c5",
   "metadata": {},
   "outputs": [
    {
     "data": {
      "text/plain": [
       "'The distributin in which a event has only 2 outcome as true or false.\\nExample: Tossing a coin.\\nIn Binomial Distribution, the events takes place multiple times whereas in bernaulli distribution the event takes place only once.'"
      ]
     },
     "execution_count": 10,
     "metadata": {},
     "output_type": "execute_result"
    }
   ],
   "source": [
    "'''The distributin in which a event has only 2 outcome as true or false.\n",
    "Example: Tossing a coin.\n",
    "In Binomial Distribution, the events takes place multiple times whereas in bernaulli distribution the event takes place only once.'''"
   ]
  },
  {
   "cell_type": "code",
   "execution_count": 11,
   "id": "ae8cb83b-f5cd-4094-8855-acbc0b6326d8",
   "metadata": {},
   "outputs": [
    {
     "data": {
      "text/plain": [
       "'6: Consider a dataset with a mean of 50 and a standard deviation of 10. If we assume that the dataset is normally distributed, what is the probability that a randomly selected observation will be greater than 60? Use the appropriate formula and show your calculations.'"
      ]
     },
     "execution_count": 11,
     "metadata": {},
     "output_type": "execute_result"
    }
   ],
   "source": [
    "'6: Consider a dataset with a mean of 50 and a standard deviation of 10. If we assume that the dataset is normally distributed, what is the probability that a randomly selected observation will be greater than 60? Use the appropriate formula and show your calculations.'"
   ]
  },
  {
   "cell_type": "code",
   "execution_count": 12,
   "id": "5e19af02-d6e8-4afb-80f9-c58e52bef531",
   "metadata": {},
   "outputs": [
    {
     "data": {
      "text/plain": [
       "'using Z-score: [(X-mean)/std] = [(60-50)/10] =1.00\\nusing Z-table: Probability of observation less than 60= 0.84134\\nSo, pr(X>=60)= 1-0.84134 = 0.15866 '"
      ]
     },
     "execution_count": 12,
     "metadata": {},
     "output_type": "execute_result"
    }
   ],
   "source": [
    "'''using Z-score: [(X-mean)/std] = [(60-50)/10] =1.00\n",
    "using Z-table: Probability of observation less than 60= 0.84134\n",
    "So, pr(X>=60)= 1-0.84134 = 0.15866 '''"
   ]
  },
  {
   "cell_type": "code",
   "execution_count": 13,
   "id": "04c2df1e-d75b-4a50-b701-c12545731c07",
   "metadata": {},
   "outputs": [
    {
     "data": {
      "text/plain": [
       "'7: Explain uniform Distribution with an example.'"
      ]
     },
     "execution_count": 13,
     "metadata": {},
     "output_type": "execute_result"
    }
   ],
   "source": [
    "'7: Explain uniform Distribution with an example.'"
   ]
  },
  {
   "cell_type": "code",
   "execution_count": 14,
   "id": "c514348e-ef62-40a3-b853-945f41e46747",
   "metadata": {},
   "outputs": [
    {
     "data": {
      "text/plain": [
       "' uniform distribution refers to a type of probability distribution in which all outcomes are equally likely. A deck of cards has within it uniform distributions because the likelihood of drawing a heart, a club, a diamond, or a spade is equally likely.'"
      ]
     },
     "execution_count": 14,
     "metadata": {},
     "output_type": "execute_result"
    }
   ],
   "source": [
    "' uniform distribution refers to a type of probability distribution in which all outcomes are equally likely. A deck of cards has within it uniform distributions because the likelihood of drawing a heart, a club, a diamond, or a spade is equally likely.'"
   ]
  },
  {
   "cell_type": "code",
   "execution_count": 15,
   "id": "2883ebbf-56ec-48bb-bbfa-018c9ffc3cc2",
   "metadata": {},
   "outputs": [
    {
     "data": {
      "text/plain": [
       "'8: What is the z score? State the importance of the z score.'"
      ]
     },
     "execution_count": 15,
     "metadata": {},
     "output_type": "execute_result"
    }
   ],
   "source": [
    "'8: What is the z score? State the importance of the z score.'"
   ]
  },
  {
   "cell_type": "code",
   "execution_count": 17,
   "id": "bafe1592-6ca8-415a-b992-ad29365cf8f4",
   "metadata": {},
   "outputs": [
    {
     "data": {
      "text/plain": [
       "' Z-score is a formula which is used to convert Normal distribution into Standard normal distribution. We can do Standardization of columns having different units .'"
      ]
     },
     "execution_count": 17,
     "metadata": {},
     "output_type": "execute_result"
    }
   ],
   "source": [
    "''' Z-score is a formula which is used to convert Normal distribution into Standard normal distribution. We can do Standardization of columns having different units .'''"
   ]
  },
  {
   "cell_type": "code",
   "execution_count": 18,
   "id": "af900597-fcb9-4b46-8c60-19246fcfd54d",
   "metadata": {},
   "outputs": [
    {
     "data": {
      "text/plain": [
       "'9: What is Central Limit Theorem? State the significance of the Central Limit Theorem.'"
      ]
     },
     "execution_count": 18,
     "metadata": {},
     "output_type": "execute_result"
    }
   ],
   "source": [
    "'9: What is Central Limit Theorem? State the significance of the Central Limit Theorem.'"
   ]
  },
  {
   "cell_type": "code",
   "execution_count": 19,
   "id": "23875ed7-eb8b-44c7-be07-8ccd6f3d9f27",
   "metadata": {},
   "outputs": [
    {
     "data": {
      "text/plain": [
       "'It says that the sampling distribution of mean will always be normally distributed, as long as sample size is large enough. \\nUsing Central limit theorem we can convert each type of distribution into Normal distribution'"
      ]
     },
     "execution_count": 19,
     "metadata": {},
     "output_type": "execute_result"
    }
   ],
   "source": [
    "'''It says that the sampling distribution of mean will always be normally distributed, as long as sample size is large enough. \n",
    "Using Central limit theorem we can convert each type of distribution into Normal distribution'''"
   ]
  },
  {
   "cell_type": "code",
   "execution_count": 20,
   "id": "3440a2df-617a-4ccd-be3c-6173a3c39ffd",
   "metadata": {},
   "outputs": [
    {
     "data": {
      "text/plain": [
       "'10: State the assumptions of the Central Limit Theorem.'"
      ]
     },
     "execution_count": 20,
     "metadata": {},
     "output_type": "execute_result"
    }
   ],
   "source": [
    "'10: State the assumptions of the Central Limit Theorem.'"
   ]
  },
  {
   "cell_type": "code",
   "execution_count": 21,
   "id": "57414f60-b1e8-44b8-9334-5c178f7c3b83",
   "metadata": {},
   "outputs": [
    {
     "data": {
      "text/plain": [
       "'It needs to be sampled at random. The samples should be unrelated to one another. One sample should not impact the others. When taking samples without replacement, the sample size should not exceed 10% of the population.'"
      ]
     },
     "execution_count": 21,
     "metadata": {},
     "output_type": "execute_result"
    }
   ],
   "source": [
    "'It needs to be sampled at random. The samples should be unrelated to one another. One sample should not impact the others. When taking samples without replacement, the sample size should not exceed 10% of the population.'"
   ]
  },
  {
   "cell_type": "code",
   "execution_count": null,
   "id": "e14de3df-126f-47cc-8132-599e5ae6b54c",
   "metadata": {},
   "outputs": [],
   "source": []
  }
 ],
 "metadata": {
  "kernelspec": {
   "display_name": "Python 3 (ipykernel)",
   "language": "python",
   "name": "python3"
  },
  "language_info": {
   "codemirror_mode": {
    "name": "ipython",
    "version": 3
   },
   "file_extension": ".py",
   "mimetype": "text/x-python",
   "name": "python",
   "nbconvert_exporter": "python",
   "pygments_lexer": "ipython3",
   "version": "3.10.8"
  }
 },
 "nbformat": 4,
 "nbformat_minor": 5
}
