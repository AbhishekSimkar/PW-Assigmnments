{
 "cells": [
  {
   "cell_type": "raw",
   "id": "a0ee979d-10a2-4101-8d5d-4b7ab5d88b5f",
   "metadata": {},
   "source": [
    "1. What are the Characteristics of the tuples? Is tuple immutable.\n",
    "a. They are indexed.\n",
    "b. Tuples are ordered.\n",
    "c. These are immutable.\n",
    "d. They can contain duplicate items.\n",
    "e. Parenthesis() are used."
   ]
  },
  {
   "cell_type": "raw",
   "id": "6917c03a-2af3-4f0e-bb19-5b321e497f13",
   "metadata": {},
   "source": [
    "2. What are the two tuples methods in python? Give and example of each method. Give a reason why tuples have only two in-built methods as compared to list.\n",
    "The two tuples methods are:\n",
    "a. count() -> Returns the number of times a specified value occurs in a tuple.\n",
    "b. index() -> Searches the tuple for a specified value and returns the position of where it was found.\n",
    "    Tuples have only two in-built methods due to it's immutibility and are memory efficient."
   ]
  },
  {
   "cell_type": "code",
   "execution_count": 2,
   "id": "767f4c70-bbce-42b3-ae9a-0e020aeff232",
   "metadata": {},
   "outputs": [
    {
     "name": "stdout",
     "output_type": "stream",
     "text": [
      "2\n",
      "1\n",
      "4\n",
      "1\n"
     ]
    }
   ],
   "source": [
    "tpl=(1,5,8,6,4,3,7,55,15,4,58,10)\n",
    "print(tpl.count(4))\n",
    "print(tpl.count(5))\n",
    "print(tpl.index(4))\n",
    "print(tpl.index(5))"
   ]
  },
  {
   "cell_type": "raw",
   "id": "024ba69d-e9a5-4ad9-a5df-9eb49df88251",
   "metadata": {},
   "source": [
    "3. Which collection datatypes in python do not allow duplicate items? Write a code using a set to remove duplicates from the given list.\n",
    "lst=[1,1,1,2,1,3,1,4,2,1,2,2,2,3,2,3,1,3,2,3,3,3,4,4,1,4,2,4,3,4,4]\n",
    "Set is the collection of datatypes in python which do not allow duplicate items."
   ]
  },
  {
   "cell_type": "code",
   "execution_count": 7,
   "id": "25281a72-4303-44b4-b8e3-dbb93c59cbec",
   "metadata": {},
   "outputs": [
    {
     "name": "stdout",
     "output_type": "stream",
     "text": [
      "{1, 2, 3, 4}\n"
     ]
    }
   ],
   "source": [
    "lst=[1,1,1,2,1,3,1,4,2,1,2,2,2,3,2,3,1,3,2,3,3,3,4,4,1,4,2,4,3,4,4]\n",
    "print(set(lst))"
   ]
  },
  {
   "cell_type": "raw",
   "id": "2a859a6b-e3ee-4bb7-9865-97b78b05d313",
   "metadata": {},
   "source": [
    "4. Explain the difference between the union() and update() methods for a set.Give an example of each method.\n",
    "\n",
    "update() adds all missing elements to the set on which it is called whereas set. union() creates a new set"
   ]
  },
  {
   "cell_type": "code",
   "execution_count": 10,
   "id": "17815900-346f-480d-b7ec-bc0421e118cf",
   "metadata": {},
   "outputs": [
    {
     "name": "stdout",
     "output_type": "stream",
     "text": [
      "{1, 66, 4, 5, 6, 36, 8, 71, 13, 46, 18, 19, 54, 55}\n",
      "{1, 4, 5, 6, 8, 13, 54, 55}\n",
      "{66, 4, 36, 6, 71, 8, 46, 18, 19}\n"
     ]
    }
   ],
   "source": [
    "set1={1,4,5,6,8,13,54,55}\n",
    "set2={4,6,8,18,19,36,46,66,71}\n",
    "print(set1.union(set2))\n",
    "print(set1)\n",
    "print(set2)\n"
   ]
  },
  {
   "cell_type": "code",
   "execution_count": 14,
   "id": "3d358a5a-e88c-474e-a730-3959d9a0543e",
   "metadata": {},
   "outputs": [
    {
     "name": "stdout",
     "output_type": "stream",
     "text": [
      "{1, 66, 4, 5, 6, 36, 8, 71, 13, 46, 18, 19, 54, 55}\n",
      "{1, 66, 4, 5, 6, 71, 8, 13, 18, 19, 36, 46, 54, 55}\n"
     ]
    }
   ],
   "source": [
    "set1={1,4,5,6,8,13,54,55}\n",
    "set2={4,6,8,18,19,36,46,66,71}\n",
    "set1.update(set2)\n",
    "set2.update(set1)\n",
    "print(set1)\n",
    "print(set2)"
   ]
  },
  {
   "cell_type": "raw",
   "id": "5503fa8e-8c3c-4551-81b2-acfaac0ebb54",
   "metadata": {},
   "source": [
    "5. What is a dictionary? Give an example. Also, state whether a dictionary is ordered or unordered.\n",
    "Dictionaries are used to store data values in key:value pairs. A dictionary is a collection which is ordered, changeable and do not allow duplicates.\n",
    "dic={\"brand\": \"Ford\",\"electric\": False,\"year\": 1964,\"colors\":[\"red\", \"white\", \"blue\"]} \n",
    "Dictionary is ordered."
   ]
  },
  {
   "cell_type": "raw",
   "id": "cc1a5b90-c70c-4bd2-bf70-36101cf1137e",
   "metadata": {},
   "source": [
    " 6. Can we create a nested dictionary? If so,please give an example by creating a simple one-level nested dictionary.\n",
    " Yes, we can create a nested dictionary. \n",
    " example:\n",
    " dic={\"class\":11,\"marks\":{\"Abhi\":95,\"Karan\":63,\"Purva\":93}}"
   ]
  },
  {
   "cell_type": "raw",
   "id": "7e1b73f0-eeb9-4881-a681-cbde50cca995",
   "metadata": {},
   "source": [
    "7. using setdefault() method, create key named topics in the given dictionary and also add the value of the key as this list [\"python\",\"Machine learning\",\"Deep learning\"]\n",
    "\n",
    "dict1 = {'language' : 'Python', 'course': 'Data Science Masters'}"
   ]
  },
  {
   "cell_type": "code",
   "execution_count": 5,
   "id": "739549f0-8a07-4fd2-823b-ea2c09f28ceb",
   "metadata": {},
   "outputs": [
    {
     "name": "stdout",
     "output_type": "stream",
     "text": [
      "{'language': 'Python', 'course': 'Data Science Masters', 'topics': ['python', 'Machine learning', 'Deep learning']}\n"
     ]
    }
   ],
   "source": [
    "dict1 = {'language' : 'Python', 'course': 'Data Science Masters'}\n",
    "dict1.setdefault(\"topics\",[\"python\",\"Machine learning\",\"Deep learning\"])\n",
    "print(dict1)"
   ]
  },
  {
   "cell_type": "raw",
   "id": "09d4e5ed-2d12-4884-8e69-29674c7c62e2",
   "metadata": {},
   "source": [
    "8. What are the three view objects in dictionaries? Use the three in-built methods in python to displaythese three view objects for the given dictionary.\n",
    "\n",
    "dict1 = {'Sport': 'Cricket' , 'Teams': ['India', 'Australia', 'England', 'South Africa', 'Sri Lanka', 'New Zealand']}\n",
    "\n",
    "Keys,Values and Items are the three view objects in dictionary. "
   ]
  },
  {
   "cell_type": "code",
   "execution_count": 6,
   "id": "40302fd0-c611-4841-87cc-5c76a32ca586",
   "metadata": {},
   "outputs": [
    {
     "name": "stdout",
     "output_type": "stream",
     "text": [
      "dict_keys(['Sport', 'Teams'])\n",
      "dict_values(['Cricket', ['India', 'Australia', 'England', 'South Africa', 'Sri Lanka', 'New Zealand']])\n",
      "dict_items([('Sport', 'Cricket'), ('Teams', ['India', 'Australia', 'England', 'South Africa', 'Sri Lanka', 'New Zealand'])])\n"
     ]
    }
   ],
   "source": [
    "dict1 = {'Sport': 'Cricket' , 'Teams': ['India', 'Australia', 'England', 'South Africa', 'Sri Lanka', 'New Zealand']}\n",
    "print(dict1.keys())\n",
    "print(dict1.values())\n",
    "print(dict1.items())"
   ]
  },
  {
   "cell_type": "code",
   "execution_count": null,
   "id": "7030f702-0012-44e4-b3f3-177bdca5ae45",
   "metadata": {},
   "outputs": [],
   "source": []
  }
 ],
 "metadata": {
  "kernelspec": {
   "display_name": "Python 3 (ipykernel)",
   "language": "python",
   "name": "python3"
  },
  "language_info": {
   "codemirror_mode": {
    "name": "ipython",
    "version": 3
   },
   "file_extension": ".py",
   "mimetype": "text/x-python",
   "name": "python",
   "nbconvert_exporter": "python",
   "pygments_lexer": "ipython3",
   "version": "3.10.8"
  }
 },
 "nbformat": 4,
 "nbformat_minor": 5
}
