{
 "cells": [
  {
   "cell_type": "code",
   "execution_count": 1,
   "id": "be14de7f-90f8-4827-b7b8-9ec75c6e42dc",
   "metadata": {},
   "outputs": [
    {
     "data": {
      "text/plain": [
       "'1. What is the Probability density function?'"
      ]
     },
     "execution_count": 1,
     "metadata": {},
     "output_type": "execute_result"
    }
   ],
   "source": [
    "'1. What is the Probability density function?'"
   ]
  },
  {
   "cell_type": "code",
   "execution_count": 2,
   "id": "418836a3-ba13-4897-ba2e-687e09ee45fa",
   "metadata": {},
   "outputs": [
    {
     "data": {
      "text/plain": [
       "'A function that defines the relationship between a random variable and its probability, such that you can find the probability of the variable using the function, is called a Probability Density Function (PDF) in statistics.'"
      ]
     },
     "execution_count": 2,
     "metadata": {},
     "output_type": "execute_result"
    }
   ],
   "source": [
    "'A function that defines the relationship between a random variable and its probability, such that you can find the probability of the variable using the function, is called a Probability Density Function (PDF) in statistics.'"
   ]
  },
  {
   "cell_type": "code",
   "execution_count": 3,
   "id": "179afea5-9d61-4c78-970b-fa80402b0688",
   "metadata": {},
   "outputs": [
    {
     "data": {
      "text/plain": [
       "'2. What are the types of Probability distribution?'"
      ]
     },
     "execution_count": 3,
     "metadata": {},
     "output_type": "execute_result"
    }
   ],
   "source": [
    "'2. What are the types of Probability distribution?'"
   ]
  },
  {
   "cell_type": "code",
   "execution_count": 4,
   "id": "5011db2c-15a7-4bb0-b664-7d98b6a35dae",
   "metadata": {},
   "outputs": [
    {
     "data": {
      "text/plain": [
       "'The types of probability distribution are:\\n1) Probability Density Function(PDF)\\n2) Probability Mass Function(PMF)\\n3) Cumilative Distribution Function(CDF)'"
      ]
     },
     "execution_count": 4,
     "metadata": {},
     "output_type": "execute_result"
    }
   ],
   "source": [
    "'''The types of probability distribution are:\n",
    "1) Probability Density Function(PDF)\n",
    "2) Probability Mass Function(PMF)\n",
    "3) Cumilative Distribution Function(CDF)'''"
   ]
  },
  {
   "cell_type": "code",
   "execution_count": 5,
   "id": "58baff21-78e7-4ca8-8e8f-0737c8d4a2d3",
   "metadata": {},
   "outputs": [
    {
     "data": {
      "text/plain": [
       "'3. Write a Python function to calculate the probability density function of a normal distribution with given mean and standard deviation at a given point.'"
      ]
     },
     "execution_count": 5,
     "metadata": {},
     "output_type": "execute_result"
    }
   ],
   "source": [
    "'3. Write a Python function to calculate the probability density function of a normal distribution with given mean and standard deviation at a given point.'"
   ]
  },
  {
   "cell_type": "code",
   "execution_count": 8,
   "id": "6202db3a-28b6-4f4b-a636-f8882f873c48",
   "metadata": {},
   "outputs": [
    {
     "name": "stdout",
     "output_type": "stream",
     "text": [
      "0.09509936257203264\n"
     ]
    }
   ],
   "source": [
    "from scipy.stats import norm\n",
    "import numpy as np\n",
    "data = [1,2,3,4,5,6,7,8,9,10]\n",
    "mean = np.mean(data)\n",
    "std = np.std(data)\n",
    "probability_pdf = norm.pdf(3, loc=mean, scale=std)\n",
    "print(probability_pdf)"
   ]
  },
  {
   "cell_type": "code",
   "execution_count": 10,
   "id": "c773251b-69fb-4b41-bd01-5e4c9e5f356c",
   "metadata": {},
   "outputs": [
    {
     "data": {
      "text/plain": [
       "'4. What are the properties of Binomial distribution? Give two examples of events where binomial distribution can be applied.'"
      ]
     },
     "execution_count": 10,
     "metadata": {},
     "output_type": "execute_result"
    }
   ],
   "source": [
    "'4. What are the properties of Binomial distribution? Give two examples of events where binomial distribution can be applied.'"
   ]
  },
  {
   "cell_type": "code",
   "execution_count": 11,
   "id": "bcc29373-bd4e-4b51-b7f1-9db557eb946a",
   "metadata": {},
   "outputs": [
    {
     "data": {
      "text/plain": [
       "\"The properties of the binomial distribution are: There are two possible outcomes: true or false, success or failure, yes or no. There is 'n' number of independent trials or a fixed number of n times repeated trials. The probability of success or failure remains the same for each trial.\\nExamples: \\n1)Tossing of fair coin 5 times\\n2) Probability of Student to pass or fail in 3 subjects.\""
      ]
     },
     "execution_count": 11,
     "metadata": {},
     "output_type": "execute_result"
    }
   ],
   "source": [
    "'''The properties of the binomial distribution are: There are two possible outcomes: true or false, success or failure, yes or no. There is 'n' number of independent trials or a fixed number of n times repeated trials. The probability of success or failure remains the same for each trial.\n",
    "Examples: \n",
    "1)Tossing of fair coin 5 times\n",
    "2) Probability of Student to pass or fail in 3 subjects.'''"
   ]
  },
  {
   "cell_type": "code",
   "execution_count": 12,
   "id": "53ca4676-d972-4184-a09e-8eeff2731af8",
   "metadata": {},
   "outputs": [
    {
     "data": {
      "text/plain": [
       "'5. Generate a random sample of size 1000 from a binomial distribution with probability of success 0.4 and plot a histogram of the results using matplotlib.'"
      ]
     },
     "execution_count": 12,
     "metadata": {},
     "output_type": "execute_result"
    }
   ],
   "source": [
    "'5. Generate a random sample of size 1000 from a binomial distribution with probability of success 0.4 and plot a histogram of the results using matplotlib.'"
   ]
  },
  {
   "cell_type": "code",
   "execution_count": 15,
   "id": "c7efc800-ae61-468b-bf41-790eeeaddf34",
   "metadata": {},
   "outputs": [
    {
     "data": {
      "image/png": "[encoded data removed]",
      "text/plain": [
       "<Figure size 640x480 with 1 Axes>"
      ]
     },
     "metadata": {},
     "output_type": "display_data"
    }
   ],
   "source": [
    "from scipy.stats import binom\n",
    "import matplotlib.pyplot as plt\n",
    "n = 1000\n",
    "p = 0.6\n",
    "r_values = list(range(n + 1))\n",
    "dist = [binom.pmf(r, n, p) for r in r_values ]\n",
    "plt.bar(r_values, dist)\n",
    "plt.show()\n"
   ]
  },
  {
   "cell_type": "code",
   "execution_count": 16,
   "id": "f08c23d2-4814-46ac-87f7-51a8fddfb669",
   "metadata": {},
   "outputs": [
    {
     "data": {
      "text/plain": [
       "'6. Write a Python function to calculate the cumulative distribution function of a Poisson distribution with given mean at a given point.'"
      ]
     },
     "execution_count": 16,
     "metadata": {},
     "output_type": "execute_result"
    }
   ],
   "source": [
    "'6. Write a Python function to calculate the cumulative distribution function of a Poisson distribution with given mean at a given point.'"
   ]
  },
  {
   "cell_type": "code",
   "execution_count": 17,
   "id": "1cc02433-f59a-493b-9784-1172b1ef7ee2",
   "metadata": {},
   "outputs": [
    {
     "data": {
      "text/plain": [
       "'7. How Binomial distribution different from Poisson distribution?'"
      ]
     },
     "execution_count": 17,
     "metadata": {},
     "output_type": "execute_result"
    }
   ],
   "source": [
    "'7. How Binomial distribution different from Poisson distribution?'"
   ]
  },
  {
   "cell_type": "code",
   "execution_count": 18,
   "id": "14ab2a80-e209-42d3-ad0e-e65b96a8278f",
   "metadata": {},
   "outputs": [
    {
     "data": {
      "text/plain": [
       "'In Binomial distribution, there are only 2 outcomes which is being repeated many times whereas Posson distribution has many outcomes in fixed interval of time'"
      ]
     },
     "execution_count": 18,
     "metadata": {},
     "output_type": "execute_result"
    }
   ],
   "source": [
    "'In Binomial distribution, there are only 2 outcomes which is being repeated many times whereas Posson distribution has many outcomes in fixed interval of time'"
   ]
  },
  {
   "cell_type": "code",
   "execution_count": null,
   "id": "f76ae35c-2c39-407e-96e0-dcca6a1a3c2f",
   "metadata": {},
   "outputs": [],
   "source": []
  }
 ],
 "metadata": {
  "kernelspec": {
   "display_name": "Python 3 (ipykernel)",
   "language": "python",
   "name": "python3"
  },
  "language_info": {
   "codemirror_mode": {
    "name": "ipython",
    "version": 3
   },
   "file_extension": ".py",
   "mimetype": "text/x-python",
   "name": "python",
   "nbconvert_exporter": "python",
   "pygments_lexer": "ipython3",
   "version": "3.10.8"
  }
 },
 "nbformat": 4,
 "nbformat_minor": 5
}
