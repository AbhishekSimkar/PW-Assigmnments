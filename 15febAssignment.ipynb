{
 "cells": [
  {
   "cell_type": "code",
   "execution_count": 1,
   "id": "6799fd97-3be8-4cd3-8b0a-d8efd01e2a2c",
   "metadata": {},
   "outputs": [
    {
     "data": {
      "text/plain": [
       "'1. What is multiprocessing in python? Why is it useful? '"
      ]
     },
     "execution_count": 1,
     "metadata": {},
     "output_type": "execute_result"
    }
   ],
   "source": [
    "'''1. What is multiprocessing in python? Why is it useful? '''"
   ]
  },
  {
   "cell_type": "code",
   "execution_count": 2,
   "id": "48de90b6-14a2-4885-b5c6-73b3a4bda307",
   "metadata": {},
   "outputs": [
    {
     "data": {
      "text/plain": [
       "'Multiprocessing in Python is a built-in package that allows the system to run multiple processes simultaneously. It will enable the breaking of applications into smaller threads that can run independently.'"
      ]
     },
     "execution_count": 2,
     "metadata": {},
     "output_type": "execute_result"
    }
   ],
   "source": [
    "'''Multiprocessing in Python is a built-in package that allows the system to run multiple processes simultaneously. It will enable the breaking of applications into smaller threads that can run independently.'''"
   ]
  },
  {
   "cell_type": "code",
   "execution_count": 3,
   "id": "c928f6a4-dbb4-4dff-bb1a-4efeccba4e0a",
   "metadata": {},
   "outputs": [
    {
     "data": {
      "text/plain": [
       "'2. What are the differences between multiprocessing and multithreading?'"
      ]
     },
     "execution_count": 3,
     "metadata": {},
     "output_type": "execute_result"
    }
   ],
   "source": [
    "'''2. What are the differences between multiprocessing and multithreading?'''"
   ]
  },
  {
   "cell_type": "code",
   "execution_count": 4,
   "id": "552ebf53-1dba-4126-9ff6-0fb978e292e8",
   "metadata": {},
   "outputs": [
    {
     "data": {
      "text/plain": [
       "'multithreading refers to the ability of a processor to execute multiple threads concurrently, where each thread runs a process. Whereas multiprocessing refers to the ability of a system to run multiple processors in parallel, where each processor can run one or more threads.'"
      ]
     },
     "execution_count": 4,
     "metadata": {},
     "output_type": "execute_result"
    }
   ],
   "source": [
    "'''multithreading refers to the ability of a processor to execute multiple threads concurrently, where each thread runs a process. Whereas multiprocessing refers to the ability of a system to run multiple processors in parallel, where each processor can run one or more threads.'''"
   ]
  },
  {
   "cell_type": "code",
   "execution_count": 5,
   "id": "7eea3d61-82d5-4ea6-ac94-e0c094116c86",
   "metadata": {},
   "outputs": [
    {
     "data": {
      "text/plain": [
       "'3. Write a python code to create a process using the multiprocessing module.'"
      ]
     },
     "execution_count": 5,
     "metadata": {},
     "output_type": "execute_result"
    }
   ],
   "source": [
    "'''3. Write a python code to create a process using the multiprocessing module.'''"
   ]
  },
  {
   "cell_type": "code",
   "execution_count": 13,
   "id": "7df099c0-1678-4d72-8574-f2693ead5e0f",
   "metadata": {},
   "outputs": [
    {
     "name": "stdout",
     "output_type": "stream",
     "text": [
      "This is a square function\n"
     ]
    }
   ],
   "source": [
    "import multiprocessing\n",
    "def sqrt():\n",
    "    print('This is a square function')\n",
    "if __name__ == '__main__':\n",
    "    m=multiprocessing.Process(target= sqrt )\n",
    "    m.start()\n",
    "    m.join()"
   ]
  },
  {
   "cell_type": "code",
   "execution_count": 14,
   "id": "b25d0a3d-18e6-4c9e-8f5a-f820e24b9056",
   "metadata": {},
   "outputs": [
    {
     "data": {
      "text/plain": [
       "'4. What is a multiprocessing pool in python? Why is it used?'"
      ]
     },
     "execution_count": 14,
     "metadata": {},
     "output_type": "execute_result"
    }
   ],
   "source": [
    "'''4. What is a multiprocessing pool in python? Why is it used?'''"
   ]
  },
  {
   "cell_type": "code",
   "execution_count": 15,
   "id": "5b92f426-e669-400a-82dd-e14be4a84a0c",
   "metadata": {},
   "outputs": [
    {
     "data": {
      "text/plain": [
       "'The Pool class in multiprocessing can handle an enormous number of processes. It allows you to run multiple jobs per process (due to its ability to queue the jobs). The memory is allocated only to the executing processes, unlike the Process class, which allocates memory to all the processes.'"
      ]
     },
     "execution_count": 15,
     "metadata": {},
     "output_type": "execute_result"
    }
   ],
   "source": [
    "'''The Pool class in multiprocessing can handle an enormous number of processes. It allows you to run multiple jobs per process (due to its ability to queue the jobs). The memory is allocated only to the executing processes, unlike the Process class, which allocates memory to all the processes.'''"
   ]
  },
  {
   "cell_type": "code",
   "execution_count": 16,
   "id": "d6dbbadd-36c9-43b7-aad2-38e4b8df5eaf",
   "metadata": {},
   "outputs": [
    {
     "data": {
      "text/plain": [
       "'5. How can we create a pool of worker processes in python using the multiprocessing module?'"
      ]
     },
     "execution_count": 16,
     "metadata": {},
     "output_type": "execute_result"
    }
   ],
   "source": [
    "'''5. How can we create a pool of worker processes in python using the multiprocessing module?'''"
   ]
  },
  {
   "cell_type": "code",
   "execution_count": 21,
   "id": "fecaa228-54f4-45d7-b134-7444b934012b",
   "metadata": {},
   "outputs": [
    {
     "name": "stdout",
     "output_type": "stream",
     "text": [
      "<multiprocessing.pool.Pool state=RUN pool_size=4>\n"
     ]
    }
   ],
   "source": [
    "import multiprocessing\n",
    "pool = multiprocessing.Pool(4)\n",
    "print(pool)"
   ]
  },
  {
   "cell_type": "code",
   "execution_count": 22,
   "id": "b1d91a08-d941-429c-ae92-c353a7d1b7f5",
   "metadata": {},
   "outputs": [
    {
     "data": {
      "text/plain": [
       "'6. Write a python program to create 4 processes, each process should print a different number using the multiprocessing module in python.'"
      ]
     },
     "execution_count": 22,
     "metadata": {},
     "output_type": "execute_result"
    }
   ],
   "source": [
    "'''6. Write a python program to create 4 processes, each process should print a different number using the multiprocessing module in python.'''"
   ]
  },
  {
   "cell_type": "code",
   "execution_count": 25,
   "id": "7ad0479d-b416-4fe6-9400-0f1d91cc8e69",
   "metadata": {},
   "outputs": [
    {
     "name": "stdout",
     "output_type": "stream",
     "text": [
      "[15, 48, 63, 99]\n"
     ]
    }
   ],
   "source": [
    "import multiprocessing, random\n",
    "def ran(x):\n",
    "    return x*(x+2)\n",
    "if __name__=='__main__':\n",
    "    with multiprocessing.Pool(4) as pool:\n",
    "        random_no= pool.map(ran,[3,6,7,9])\n",
    "        print(random_no)"
   ]
  },
  {
   "cell_type": "code",
   "execution_count": null,
   "id": "09dcfea5-0c67-4cb2-a947-cb784794e624",
   "metadata": {},
   "outputs": [],
   "source": []
  }
 ],
 "metadata": {
  "kernelspec": {
   "display_name": "Python 3 (ipykernel)",
   "language": "python",
   "name": "python3"
  },
  "language_info": {
   "codemirror_mode": {
    "name": "ipython",
    "version": 3
   },
   "file_extension": ".py",
   "mimetype": "text/x-python",
   "name": "python",
   "nbconvert_exporter": "python",
   "pygments_lexer": "ipython3",
   "version": "3.10.8"
  }
 },
 "nbformat": 4,
 "nbformat_minor": 5
}
