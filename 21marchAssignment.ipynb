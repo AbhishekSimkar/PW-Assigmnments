{
 "cells": [
  {
   "cell_type": "code",
   "execution_count": 1,
   "id": "71c37ec5-e9f3-4990-a170-658bd013b159",
   "metadata": {},
   "outputs": [
    {
     "data": {
      "text/plain": [
       "'1. What is the difference between Ordinal Encoding and Label Encoding? Provide an example of when you might choose one over the other.'"
      ]
     },
     "execution_count": 1,
     "metadata": {},
     "output_type": "execute_result"
    }
   ],
   "source": [
    "'1. What is the difference between Ordinal Encoding and Label Encoding? Provide an example of when you might choose one over the other.'"
   ]
  },
  {
   "cell_type": "code",
   "execution_count": 2,
   "id": "8994a511-50fc-4f2e-9f0d-a88cfcd78c9b",
   "metadata": {},
   "outputs": [
    {
     "data": {
      "text/plain": [
       "'In ordinal encoding numerical values are assigned to catogarical datas according to the level(preference) whereas in lable encoding it is done by the basis of alphaetical order or no of occurance of data.'"
      ]
     },
     "execution_count": 2,
     "metadata": {},
     "output_type": "execute_result"
    }
   ],
   "source": [
    "'''In ordinal encoding numerical values are assigned to catogarical datas according to the level(preference) whereas in lable encoding it is done by the basis of alphaetical order or no of occurance of data.'''"
   ]
  },
  {
   "cell_type": "code",
   "execution_count": 3,
   "id": "ab369822-a4d4-4b56-9f87-91df5746eb5d",
   "metadata": {},
   "outputs": [
    {
     "data": {
      "text/plain": [
       "'2. Explain how Target Guided Ordinal Encoding works and provide an example of when you might use it in a machine learning project.'"
      ]
     },
     "execution_count": 3,
     "metadata": {},
     "output_type": "execute_result"
    }
   ],
   "source": [
    "'2. Explain how Target Guided Ordinal Encoding works and provide an example of when you might use it in a machine learning project.'"
   ]
  },
  {
   "cell_type": "code",
   "execution_count": 4,
   "id": "f4315aa2-7e1d-4735-b68d-64516e9aa0f8",
   "metadata": {},
   "outputs": [
    {
     "data": {
      "text/plain": [
       "'In Target Guided Ordinal Encoding, we replace each category in the categorical variable with a numerical value based on the mean or median of the target variable for that category. This creates a monotonic relationship between the categorical variable and the target variable, which can improve the predictive power of our model.\\nExample: suppose we have three columns size, location, price and we need to check which location will be best for living on the basis of other two columns we can target location as target guided ordinal encoding.'"
      ]
     },
     "execution_count": 4,
     "metadata": {},
     "output_type": "execute_result"
    }
   ],
   "source": [
    "'''In Target Guided Ordinal Encoding, we replace each category in the categorical variable with a numerical value based on the mean or median of the target variable for that category. This creates a monotonic relationship between the categorical variable and the target variable, which can improve the predictive power of our model.\n",
    "Example: suppose we have three columns size, location, price and we need to check which location will be best for living on the basis of other two columns we can target location as target guided ordinal encoding.'''"
   ]
  },
  {
   "cell_type": "code",
   "execution_count": 5,
   "id": "7fbccf72-a0fc-48e1-906d-14208ccb9daf",
   "metadata": {},
   "outputs": [
    {
     "data": {
      "text/plain": [
       "'3. Define covariance and explain why it is important in statistical analysis. How is covariance calculated?'"
      ]
     },
     "execution_count": 5,
     "metadata": {},
     "output_type": "execute_result"
    }
   ],
   "source": [
    "'3. Define covariance and explain why it is important in statistical analysis. How is covariance calculated?'"
   ]
  },
  {
   "cell_type": "code",
   "execution_count": 6,
   "id": "bfa17e8d-b5cf-4ea4-aa62-0d0e181243f5",
   "metadata": {},
   "outputs": [
    {
     "data": {
      "text/plain": [
       "'Covariance measures the direction of the relationship between two variables. A positive covariance means that both variables tend to be high or low at the same time. A negative covariance means that when one variable is high, the other tends to be low. It is calculated by multiplying both the variables'"
      ]
     },
     "execution_count": 6,
     "metadata": {},
     "output_type": "execute_result"
    }
   ],
   "source": [
    "'Covariance measures the direction of the relationship between two variables. A positive covariance means that both variables tend to be high or low at the same time. A negative covariance means that when one variable is high, the other tends to be low. It is calculated by multiplying both the variables'"
   ]
  },
  {
   "cell_type": "code",
   "execution_count": 7,
   "id": "e7c646e4-3b91-4bc2-9980-d04e2c4546fd",
   "metadata": {},
   "outputs": [
    {
     "data": {
      "text/plain": [
       "\"4. For a dataset with the following categorical variables: Color (red, green, blue), Size (small, medium, large), and Material (wood, metal, plastic), perform label encoding using Python's scikit-learn library. Show your code and explain the output.\""
      ]
     },
     "execution_count": 7,
     "metadata": {},
     "output_type": "execute_result"
    }
   ],
   "source": [
    "'''4. For a dataset with the following categorical variables: Color (red, green, blue), Size (small, medium, large), and Material (wood, metal, plastic), perform label encoding using Python's scikit-learn library. Show your code and explain the output.'''"
   ]
  },
  {
   "cell_type": "code",
   "execution_count": 8,
   "id": "376a40e2-462b-4b0d-84c1-f5541efb431d",
   "metadata": {},
   "outputs": [
    {
     "data": {
      "text/html": [
       "<div>\n",
       "<style scoped>\n",
       "    .dataframe tbody tr th:only-of-type {\n",
       "        vertical-align: middle;\n",
       "    }\n",
       "\n",
       "    .dataframe tbody tr th {\n",
       "        vertical-align: top;\n",
       "    }\n",
       "\n",
       "    .dataframe thead th {\n",
       "        text-align: right;\n",
       "    }\n",
       "</style>\n",
       "<table border=\"1\" class=\"dataframe\">\n",
       "  <thead>\n",
       "    <tr style=\"text-align: right;\">\n",
       "      <th></th>\n",
       "      <th>color</th>\n",
       "      <th>Size</th>\n",
       "      <th>Material</th>\n",
       "    </tr>\n",
       "  </thead>\n",
       "  <tbody>\n",
       "    <tr>\n",
       "      <th>0</th>\n",
       "      <td>red</td>\n",
       "      <td>small</td>\n",
       "      <td>wood</td>\n",
       "    </tr>\n",
       "    <tr>\n",
       "      <th>1</th>\n",
       "      <td>green</td>\n",
       "      <td>medium</td>\n",
       "      <td>metal</td>\n",
       "    </tr>\n",
       "    <tr>\n",
       "      <th>2</th>\n",
       "      <td>blue</td>\n",
       "      <td>large</td>\n",
       "      <td>plastic</td>\n",
       "    </tr>\n",
       "  </tbody>\n",
       "</table>\n",
       "</div>"
      ],
      "text/plain": [
       "   color    Size Material\n",
       "0    red   small     wood\n",
       "1  green  medium    metal\n",
       "2   blue   large  plastic"
      ]
     },
     "execution_count": 8,
     "metadata": {},
     "output_type": "execute_result"
    }
   ],
   "source": [
    "from sklearn.preprocessing import LabelEncoder\n",
    "import pandas as pd\n",
    "df = pd.DataFrame({\n",
    "    'color': ['red', 'green', 'blue'],\n",
    "    'Size': ['small', 'medium', 'large'],\n",
    "    'Material': ['wood','metal','plastic']\n",
    "})\n",
    "df"
   ]
  },
  {
   "cell_type": "code",
   "execution_count": 9,
   "id": "886f9c69-3391-4e9d-a8f8-5f47b2229e40",
   "metadata": {},
   "outputs": [
    {
     "data": {
      "text/html": [
       "<div>\n",
       "<style scoped>\n",
       "    .dataframe tbody tr th:only-of-type {\n",
       "        vertical-align: middle;\n",
       "    }\n",
       "\n",
       "    .dataframe tbody tr th {\n",
       "        vertical-align: top;\n",
       "    }\n",
       "\n",
       "    .dataframe thead th {\n",
       "        text-align: right;\n",
       "    }\n",
       "</style>\n",
       "<table border=\"1\" class=\"dataframe\">\n",
       "  <thead>\n",
       "    <tr style=\"text-align: right;\">\n",
       "      <th></th>\n",
       "      <th>color</th>\n",
       "      <th>Size</th>\n",
       "      <th>Material</th>\n",
       "      <th>color_value</th>\n",
       "    </tr>\n",
       "  </thead>\n",
       "  <tbody>\n",
       "    <tr>\n",
       "      <th>0</th>\n",
       "      <td>red</td>\n",
       "      <td>small</td>\n",
       "      <td>wood</td>\n",
       "      <td>2</td>\n",
       "    </tr>\n",
       "    <tr>\n",
       "      <th>1</th>\n",
       "      <td>green</td>\n",
       "      <td>medium</td>\n",
       "      <td>metal</td>\n",
       "      <td>1</td>\n",
       "    </tr>\n",
       "    <tr>\n",
       "      <th>2</th>\n",
       "      <td>blue</td>\n",
       "      <td>large</td>\n",
       "      <td>plastic</td>\n",
       "      <td>0</td>\n",
       "    </tr>\n",
       "  </tbody>\n",
       "</table>\n",
       "</div>"
      ],
      "text/plain": [
       "   color    Size Material  color_value\n",
       "0    red   small     wood            2\n",
       "1  green  medium    metal            1\n",
       "2   blue   large  plastic            0"
      ]
     },
     "execution_count": 9,
     "metadata": {},
     "output_type": "execute_result"
    }
   ],
   "source": [
    "encoder=LabelEncoder()\n",
    "encoded=encoder.fit_transform(df['color'])\n",
    "new_df= pd.DataFrame(encoded, columns=['color_value'])\n",
    "pd.concat([df,new_df], axis=1)"
   ]
  },
  {
   "cell_type": "code",
   "execution_count": 10,
   "id": "b340dfd0-34ad-48f5-ad68-4115787ab7ca",
   "metadata": {},
   "outputs": [
    {
     "data": {
      "text/plain": [
       "'5. Calculate the covariance matrix for the following variables in a dataset: Age, Income, and Education level. Interpret the results.'"
      ]
     },
     "execution_count": 10,
     "metadata": {},
     "output_type": "execute_result"
    }
   ],
   "source": [
    "'5. Calculate the covariance matrix for the following variables in a dataset: Age, Income, and Education level. Interpret the results.'"
   ]
  },
  {
   "cell_type": "code",
   "execution_count": 11,
   "id": "8042695d-6eb3-4c7b-9565-6a452089bd7e",
   "metadata": {},
   "outputs": [
    {
     "name": "stderr",
     "output_type": "stream",
     "text": [
      "/tmp/ipykernel_978/364664732.py:6: FutureWarning: The default value of numeric_only in DataFrame.cov is deprecated. In a future version, it will default to False. Select only valid columns or specify the value of numeric_only to silence this warning.\n",
      "  df.cov()\n"
     ]
    },
    {
     "data": {
      "text/html": [
       "<div>\n",
       "<style scoped>\n",
       "    .dataframe tbody tr th:only-of-type {\n",
       "        vertical-align: middle;\n",
       "    }\n",
       "\n",
       "    .dataframe tbody tr th {\n",
       "        vertical-align: top;\n",
       "    }\n",
       "\n",
       "    .dataframe thead th {\n",
       "        text-align: right;\n",
       "    }\n",
       "</style>\n",
       "<table border=\"1\" class=\"dataframe\">\n",
       "  <thead>\n",
       "    <tr style=\"text-align: right;\">\n",
       "      <th></th>\n",
       "      <th>Age</th>\n",
       "      <th>Income</th>\n",
       "    </tr>\n",
       "  </thead>\n",
       "  <tbody>\n",
       "    <tr>\n",
       "      <th>Age</th>\n",
       "      <td>6.333333</td>\n",
       "      <td>-1.416667e+04</td>\n",
       "    </tr>\n",
       "    <tr>\n",
       "      <th>Income</th>\n",
       "      <td>-14166.666667</td>\n",
       "      <td>3.083333e+08</td>\n",
       "    </tr>\n",
       "  </tbody>\n",
       "</table>\n",
       "</div>"
      ],
      "text/plain": [
       "                 Age        Income\n",
       "Age         6.333333 -1.416667e+04\n",
       "Income -14166.666667  3.083333e+08"
      ]
     },
     "execution_count": 11,
     "metadata": {},
     "output_type": "execute_result"
    }
   ],
   "source": [
    "df = pd.DataFrame({\n",
    "    'Age': [25,30,28],\n",
    "    'Income': [50000,35000,70000],\n",
    "    'Educaion_level': ['Graduate','High school','Post-Graduate']\n",
    "})\n",
    "df.cov()"
   ]
  },
  {
   "cell_type": "code",
   "execution_count": 12,
   "id": "c34236e1-8d0d-468f-acd1-29da8399a092",
   "metadata": {},
   "outputs": [
    {
     "data": {
      "text/plain": [
       "'6. You are working on a machine learning project with a dataset containing several categorical variables, including \"Gender\" (Male/Female), \"Education Level\" (High School/Bachelor\\'s/Master\\'s/PhD), and \"Employment Status\" (Unemployed/Part-Time/Full-Time). Which encoding method would you use for each variable, and why?'"
      ]
     },
     "execution_count": 12,
     "metadata": {},
     "output_type": "execute_result"
    }
   ],
   "source": [
    "'''6. You are working on a machine learning project with a dataset containing several categorical variables, including \"Gender\" (Male/Female), \"Education Level\" (High School/Bachelor's/Master's/PhD), and \"Employment Status\" (Unemployed/Part-Time/Full-Time). Which encoding method would you use for each variable, and why?'''"
   ]
  },
  {
   "cell_type": "code",
   "execution_count": 13,
   "id": "867b9fc1-fa5c-4f91-b101-44836015afa1",
   "metadata": {},
   "outputs": [
    {
     "data": {
      "text/plain": [
       "'For Gender we will use One-Hot encoding. Because we have only two unique values.\\nFor Educational level and Employment status we will use Ordinal encoding.'"
      ]
     },
     "execution_count": 13,
     "metadata": {},
     "output_type": "execute_result"
    }
   ],
   "source": [
    "'''For Gender we will use One-Hot encoding. Because we have only two unique values.\n",
    "For Educational level and Employment status we will use Ordinal encoding.'''"
   ]
  },
  {
   "cell_type": "code",
   "execution_count": 14,
   "id": "45100f60-bc54-4cf9-aa7d-2f7bf1f0f1ab",
   "metadata": {},
   "outputs": [
    {
     "data": {
      "text/plain": [
       "'7. You are analyzing a dataset with two continuous variables, \"Temperature\" and \"Humidity\", and two categorical variables, \"Weather Condition\" (Sunny/Cloudy/Rainy) and \"Wind Direction\" (North/South/ East/West). Calculate the covariance between each pair of variables and interpret the results.'"
      ]
     },
     "execution_count": 14,
     "metadata": {},
     "output_type": "execute_result"
    }
   ],
   "source": [
    "'''7. You are analyzing a dataset with two continuous variables, \"Temperature\" and \"Humidity\", and two categorical variables, \"Weather Condition\" (Sunny/Cloudy/Rainy) and \"Wind Direction\" (North/South/ East/West). Calculate the covariance between each pair of variables and interpret the results.'''"
   ]
  },
  {
   "cell_type": "code",
   "execution_count": 15,
   "id": "9468281b-b991-4980-bf74-c7a6122543e9",
   "metadata": {},
   "outputs": [
    {
     "data": {
      "text/html": [
       "<div>\n",
       "<style scoped>\n",
       "    .dataframe tbody tr th:only-of-type {\n",
       "        vertical-align: middle;\n",
       "    }\n",
       "\n",
       "    .dataframe tbody tr th {\n",
       "        vertical-align: top;\n",
       "    }\n",
       "\n",
       "    .dataframe thead th {\n",
       "        text-align: right;\n",
       "    }\n",
       "</style>\n",
       "<table border=\"1\" class=\"dataframe\">\n",
       "  <thead>\n",
       "    <tr style=\"text-align: right;\">\n",
       "      <th></th>\n",
       "      <th>Temperature</th>\n",
       "      <th>Humidity</th>\n",
       "      <th>Weather_Condition</th>\n",
       "      <th>Wind_Direction</th>\n",
       "    </tr>\n",
       "  </thead>\n",
       "  <tbody>\n",
       "    <tr>\n",
       "      <th>0</th>\n",
       "      <td>30</td>\n",
       "      <td>50</td>\n",
       "      <td>Sunny</td>\n",
       "      <td>East</td>\n",
       "    </tr>\n",
       "    <tr>\n",
       "      <th>1</th>\n",
       "      <td>23</td>\n",
       "      <td>92</td>\n",
       "      <td>Rainy</td>\n",
       "      <td>South</td>\n",
       "    </tr>\n",
       "    <tr>\n",
       "      <th>2</th>\n",
       "      <td>28</td>\n",
       "      <td>78</td>\n",
       "      <td>cloudy</td>\n",
       "      <td>West</td>\n",
       "    </tr>\n",
       "  </tbody>\n",
       "</table>\n",
       "</div>"
      ],
      "text/plain": [
       "   Temperature  Humidity Weather_Condition Wind_Direction\n",
       "0           30        50             Sunny           East\n",
       "1           23        92             Rainy          South\n",
       "2           28        78            cloudy           West"
      ]
     },
     "execution_count": 15,
     "metadata": {},
     "output_type": "execute_result"
    }
   ],
   "source": [
    "df = pd.DataFrame({\n",
    "    'Temperature': [30,23,28],\n",
    "    'Humidity': [50,92,78],\n",
    "    'Weather_Condition': ['Sunny','Rainy','cloudy'],\n",
    "    'Wind_Direction': ['East','South','West']\n",
    "})\n",
    "df"
   ]
  },
  {
   "cell_type": "code",
   "execution_count": 16,
   "id": "188a7146-e00f-43f2-b33e-e76cc1d81511",
   "metadata": {},
   "outputs": [
    {
     "name": "stderr",
     "output_type": "stream",
     "text": [
      "/tmp/ipykernel_978/1545644723.py:1: FutureWarning: The default value of numeric_only in DataFrame.cov is deprecated. In a future version, it will default to False. Select only valid columns or specify the value of numeric_only to silence this warning.\n",
      "  df.cov()\n"
     ]
    },
    {
     "data": {
      "text/html": [
       "<div>\n",
       "<style scoped>\n",
       "    .dataframe tbody tr th:only-of-type {\n",
       "        vertical-align: middle;\n",
       "    }\n",
       "\n",
       "    .dataframe tbody tr th {\n",
       "        vertical-align: top;\n",
       "    }\n",
       "\n",
       "    .dataframe thead th {\n",
       "        text-align: right;\n",
       "    }\n",
       "</style>\n",
       "<table border=\"1\" class=\"dataframe\">\n",
       "  <thead>\n",
       "    <tr style=\"text-align: right;\">\n",
       "      <th></th>\n",
       "      <th>Temperature</th>\n",
       "      <th>Humidity</th>\n",
       "    </tr>\n",
       "  </thead>\n",
       "  <tbody>\n",
       "    <tr>\n",
       "      <th>Temperature</th>\n",
       "      <td>13.0</td>\n",
       "      <td>-70.000000</td>\n",
       "    </tr>\n",
       "    <tr>\n",
       "      <th>Humidity</th>\n",
       "      <td>-70.0</td>\n",
       "      <td>457.333333</td>\n",
       "    </tr>\n",
       "  </tbody>\n",
       "</table>\n",
       "</div>"
      ],
      "text/plain": [
       "             Temperature    Humidity\n",
       "Temperature         13.0  -70.000000\n",
       "Humidity           -70.0  457.333333"
      ]
     },
     "execution_count": 16,
     "metadata": {},
     "output_type": "execute_result"
    }
   ],
   "source": [
    "df.cov()"
   ]
  },
  {
   "cell_type": "code",
   "execution_count": null,
   "id": "5c5124bd-b30e-4b36-a20e-9ca91f9d5e57",
   "metadata": {},
   "outputs": [],
   "source": []
  }
 ],
 "metadata": {
  "kernelspec": {
   "display_name": "Python 3 (ipykernel)",
   "language": "python",
   "name": "python3"
  },
  "language_info": {
   "codemirror_mode": {
    "name": "ipython",
    "version": 3
   },
   "file_extension": ".py",
   "mimetype": "text/x-python",
   "name": "python",
   "nbconvert_exporter": "python",
   "pygments_lexer": "ipython3",
   "version": "3.10.8"
  }
 },
 "nbformat": 4,
 "nbformat_minor": 5
}
