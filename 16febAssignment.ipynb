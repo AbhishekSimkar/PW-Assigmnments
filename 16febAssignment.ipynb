{
 "cells": [
  {
   "cell_type": "code",
   "execution_count": 1,
   "id": "e94bd5f0-7143-4e42-abf4-0a053da96cef",
   "metadata": {},
   "outputs": [
    {
     "data": {
      "text/plain": [
       "'1. What is a database? Differentiate between SQL and NoSQL databases.'"
      ]
     },
     "execution_count": 1,
     "metadata": {},
     "output_type": "execute_result"
    }
   ],
   "source": [
    "'''1. What is a database? Differentiate between SQL and NoSQL databases.'''"
   ]
  },
  {
   "cell_type": "code",
   "execution_count": 2,
   "id": "d313df58-4b66-42e7-a2e2-6c7fc5563025",
   "metadata": {},
   "outputs": [
    {
     "data": {
      "text/plain": [
       "'A database is an organized collection of structured information, or data, typically stored electronically in a computer system. A database is usually controlled by a database management system (DBMS). \\nSQL\\n* RELATIONAL DATABASE MANAGEMENT SYSTEM (RDBMS)\\t        \\n* These databases have fixed or static or predefined schema\\t\\n* These databases are not suited for hierarchical data storage.\\t\\n* These databases are best suited for complex queries\\t\\n* Vertically Scalable\\t\\n* Follows ACID property\\t\\n* Examples: MySQL, PostgreSQL, Oracle, MS-SQL Server, etc\\t\\n\\nNoSQL\\n* They have a dynamic schema\\n* Follows CAP(consistency, availability, partition tolerance)\\n* These databases are best suited for hierarchical data storage.\\n* Non-relational or distributed database system.\\n* These databases are not so good for complex queries\\n* Horizontally scalable\\n* Examples: MongoDB, GraphQL, HBase, Neo4j, Cassandra, etc'"
      ]
     },
     "execution_count": 2,
     "metadata": {},
     "output_type": "execute_result"
    }
   ],
   "source": [
    "'''A database is an organized collection of structured information, or data, typically stored electronically in a computer system. A database is usually controlled by a database management system (DBMS). \n",
    "SQL\n",
    "* RELATIONAL DATABASE MANAGEMENT SYSTEM (RDBMS)\t        \n",
    "* These databases have fixed or static or predefined schema\t\n",
    "* These databases are not suited for hierarchical data storage.\t\n",
    "* These databases are best suited for complex queries\t\n",
    "* Vertically Scalable\t\n",
    "* Follows ACID property\t\n",
    "* Examples: MySQL, PostgreSQL, Oracle, MS-SQL Server, etc\t\n",
    "\n",
    "NoSQL\n",
    "* They have a dynamic schema\n",
    "* Follows CAP(consistency, availability, partition tolerance)\n",
    "* These databases are best suited for hierarchical data storage.\n",
    "* Non-relational or distributed database system.\n",
    "* These databases are not so good for complex queries\n",
    "* Horizontally scalable\n",
    "* Examples: MongoDB, GraphQL, HBase, Neo4j, Cassandra, etc'''"
   ]
  },
  {
   "cell_type": "code",
   "execution_count": 3,
   "id": "f4c0241e-745f-4376-a6bb-1ba671cdeefd",
   "metadata": {},
   "outputs": [
    {
     "data": {
      "text/plain": [
       "'2. What is DDL? Explain why CREATE, DROP, ALTER, and TRUNCATE are used with an example.'"
      ]
     },
     "execution_count": 3,
     "metadata": {},
     "output_type": "execute_result"
    }
   ],
   "source": [
    "'''2. What is DDL? Explain why CREATE, DROP, ALTER, and TRUNCATE are used with an example.'''"
   ]
  },
  {
   "cell_type": "code",
   "execution_count": 4,
   "id": "66c275ee-7580-42aa-85ab-888d0c5a1c97",
   "metadata": {},
   "outputs": [
    {
     "data": {
      "text/plain": [
       "'Data Definition Language(DDL) is a type of SQL command used to define the components of databases using Database Management Systems. DDL in DBMS is used to create or modify the database objects like tables, views etc.\\n* CREATE is used to create DATABASE or Table.\\n* DROP is used to delete database or table.\\n* ALTER is used to add, delete, change the column of a table.\\n* TRUNCATE is used removes the data by deallocating the data pages used to store the table data and records only the page deallocations in the transaction log.'"
      ]
     },
     "execution_count": 4,
     "metadata": {},
     "output_type": "execute_result"
    }
   ],
   "source": [
    "'''Data Definition Language(DDL) is a type of SQL command used to define the components of databases using Database Management Systems. DDL in DBMS is used to create or modify the database objects like tables, views etc.\n",
    "* CREATE is used to create DATABASE or Table.\n",
    "* DROP is used to delete database or table.\n",
    "* ALTER is used to add, delete, change the column of a table.\n",
    "* TRUNCATE is used removes the data by deallocating the data pages used to store the table data and records only the page deallocations in the transaction log.'''"
   ]
  },
  {
   "cell_type": "code",
   "execution_count": 5,
   "id": "3575b4ad-03bf-4393-acd8-db20dfc3ef52",
   "metadata": {},
   "outputs": [
    {
     "data": {
      "text/plain": [
       "'3. What is DML? Explain INSERT, UPDATE, and DELETE with an example.'"
      ]
     },
     "execution_count": 5,
     "metadata": {},
     "output_type": "execute_result"
    }
   ],
   "source": [
    "'''3. What is DML? Explain INSERT, UPDATE, and DELETE with an example.'''"
   ]
  },
  {
   "cell_type": "code",
   "execution_count": 6,
   "id": "3a6f9c73-5fb6-49d3-8ccd-ed3fd306e3e8",
   "metadata": {},
   "outputs": [
    {
     "data": {
      "text/plain": [
       "' DATA MANIPULATION LANGUAGE is used to make changes to the database. \\n* INSERT is used to insert values in table.\\n* UPDATE is used to add values in table.\\n* DELETE is used to delete column of a table.'"
      ]
     },
     "execution_count": 6,
     "metadata": {},
     "output_type": "execute_result"
    }
   ],
   "source": [
    "''' DATA MANIPULATION LANGUAGE is used to make changes to the database. \n",
    "* INSERT is used to insert values in table.\n",
    "* UPDATE is used to add values in table.\n",
    "* DELETE is used to delete column of a table.'''"
   ]
  },
  {
   "cell_type": "code",
   "execution_count": 7,
   "id": "245da909-aa0e-4e2a-9ea6-60cc5f6221e2",
   "metadata": {},
   "outputs": [
    {
     "data": {
      "text/plain": [
       "'4. What is DQL? Explain SELECT with an example.'"
      ]
     },
     "execution_count": 7,
     "metadata": {},
     "output_type": "execute_result"
    }
   ],
   "source": [
    "'''4. What is DQL? Explain SELECT with an example.'''"
   ]
  },
  {
   "cell_type": "code",
   "execution_count": 8,
   "id": "9846adf3-2fb2-4548-b1c5-5ecb994b1910",
   "metadata": {},
   "outputs": [
    {
     "data": {
      "text/plain": [
       "' DATA QUERRY LANGUAGE(DQL) statements are used for performing queries on the data within schema objects. The purpose of DQL commands is to get the schema relation based on the query passed to it.\\nSELECT statement is used to select data from a database.'"
      ]
     },
     "execution_count": 8,
     "metadata": {},
     "output_type": "execute_result"
    }
   ],
   "source": [
    "''' DATA QUERRY LANGUAGE(DQL) statements are used for performing queries on the data within schema objects. The purpose of DQL commands is to get the schema relation based on the query passed to it.\n",
    "SELECT statement is used to select data from a database.'''"
   ]
  },
  {
   "cell_type": "code",
   "execution_count": 9,
   "id": "e2854207-1ad5-4a7a-870a-01f22e88e78f",
   "metadata": {},
   "outputs": [
    {
     "data": {
      "text/plain": [
       "' 5. Explain Primary Key and Foreign Key.'"
      ]
     },
     "execution_count": 9,
     "metadata": {},
     "output_type": "execute_result"
    }
   ],
   "source": [
    "''' 5. Explain Primary Key and Foreign Key.'''"
   ]
  },
  {
   "cell_type": "code",
   "execution_count": 10,
   "id": "5a8e3cdb-2e96-4a26-ad20-1b39cefee4ec",
   "metadata": {},
   "outputs": [
    {
     "data": {
      "text/plain": [
       "'PRIMARY KEY constraint uniquely identifies each record in a table. Primary keys must contain UNIQUE values, and cannot contain NULL values. A table can have only ONE primary key and in the table, this primary key can consist of single or multiple columns (fields).\\nFOREIGN KEY constraint is used to prevent actions that would destroy links between tables. FOREIGN KEY is a field (or collection of fields) in one table, that refers to the PRIMARY KEY in another table.'"
      ]
     },
     "execution_count": 10,
     "metadata": {},
     "output_type": "execute_result"
    }
   ],
   "source": [
    "'''PRIMARY KEY constraint uniquely identifies each record in a table. Primary keys must contain UNIQUE values, and cannot contain NULL values. A table can have only ONE primary key and in the table, this primary key can consist of single or multiple columns (fields).\n",
    "FOREIGN KEY constraint is used to prevent actions that would destroy links between tables. FOREIGN KEY is a field (or collection of fields) in one table, that refers to the PRIMARY KEY in another table.'''"
   ]
  },
  {
   "cell_type": "code",
   "execution_count": 11,
   "id": "91e21d69-a2d6-49a8-9bbd-8c1290a97000",
   "metadata": {},
   "outputs": [
    {
     "data": {
      "text/plain": [
       "'6. Write a python code to connect MySQL to python. Explain the cursor() and execute() method.'"
      ]
     },
     "execution_count": 11,
     "metadata": {},
     "output_type": "execute_result"
    }
   ],
   "source": [
    "'''6. Write a python code to connect MySQL to python. Explain the cursor() and execute() method.'''"
   ]
  },
  {
   "cell_type": "code",
   "execution_count": null,
   "id": "4fe71510-ba79-4c7a-bec0-80d33dda3a0a",
   "metadata": {},
   "outputs": [],
   "source": [
    "import mysql.connector\n",
    "mydb = mysql.connector.connect(\n",
    "  host=\"localhost\",\n",
    "  user=\"abc\",\n",
    "  password=\"password\"\n",
    ")\n",
    "mycursor = mydb.cursor()\n",
    "mycursor.execute(\"SHOW DATABASES\")\n",
    "for x in mycursor:\n",
    "  print(x)"
   ]
  }
 ],
 "metadata": {
  "kernelspec": {
   "display_name": "Python 3 (ipykernel)",
   "language": "python",
   "name": "python3"
  },
  "language_info": {
   "codemirror_mode": {
    "name": "ipython",
    "version": 3
   },
   "file_extension": ".py",
   "mimetype": "text/x-python",
   "name": "python",
   "nbconvert_exporter": "python",
   "pygments_lexer": "ipython3",
   "version": "3.10.8"
  }
 },
 "nbformat": 4,
 "nbformat_minor": 5
}
