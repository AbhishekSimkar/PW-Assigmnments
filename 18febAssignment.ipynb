{
 "cells": [
  {
   "cell_type": "code",
   "execution_count": 1,
   "id": "27462083-7592-4cde-9543-d371d7132a60",
   "metadata": {},
   "outputs": [
    {
     "data": {
      "text/plain": [
       "'1. What is an API? Give an example, where an API is used in real life.'"
      ]
     },
     "execution_count": 1,
     "metadata": {},
     "output_type": "execute_result"
    }
   ],
   "source": [
    "'''1. What is an API? Give an example, where an API is used in real life.'''"
   ]
  },
  {
   "cell_type": "code",
   "execution_count": 4,
   "id": "701011d1-73ca-49ba-8e84-8356d79ffd6b",
   "metadata": {},
   "outputs": [
    {
     "data": {
      "text/plain": [
       "'API stands for Application Programming Interface. It is a way for two or more programs to communicate with each other using a set of protocols.\\nAPI is used in gmail, Facebook, Instagram log in interfaces, PhonePe payment gateways, etc.'"
      ]
     },
     "execution_count": 4,
     "metadata": {},
     "output_type": "execute_result"
    }
   ],
   "source": [
    "'''API stands for Application Programming Interface. It is a way for two or more programs to communicate with each other using a set of protocols.\n",
    "API is used in gmail, Facebook, Instagram log in interfaces, PhonePe payment gateways, etc.'''\n"
   ]
  },
  {
   "cell_type": "code",
   "execution_count": 3,
   "id": "e91ad4cc-7d8b-456d-9677-5546724d5487",
   "metadata": {},
   "outputs": [
    {
     "data": {
      "text/plain": [
       "'2. Give advantages and disadvantages of using API.'"
      ]
     },
     "execution_count": 3,
     "metadata": {},
     "output_type": "execute_result"
    }
   ],
   "source": [
    "'''2. Give advantages and disadvantages of using API.'''"
   ]
  },
  {
   "cell_type": "code",
   "execution_count": 5,
   "id": "7c0b3997-bc96-4a42-a657-31d53e3dec40",
   "metadata": {},
   "outputs": [
    {
     "data": {
      "text/plain": [
       "'ADVANTAGES:\\n* Easy to use.\\n* Require less efforts to use.\\n* We can access and connect with different plateforms.\\n* Take less time.\\n* Data is secured.\\n\\nDISADVANTAGES:\\n* Data may be lossed if there is some issues.\\n* Attacks can take place.\\n* Data security may be issue.'"
      ]
     },
     "execution_count": 5,
     "metadata": {},
     "output_type": "execute_result"
    }
   ],
   "source": [
    "'''ADVANTAGES:\n",
    "* Easy to use.\n",
    "* Require less efforts to use.\n",
    "* We can access and connect with different plateforms.\n",
    "* Take less time.\n",
    "* Data is secured.\n",
    "\n",
    "DISADVANTAGES:\n",
    "* Data may be lossed if there is some issues.\n",
    "* Attacks can take place.\n",
    "* Data security may be issue.'''"
   ]
  },
  {
   "cell_type": "code",
   "execution_count": 6,
   "id": "99434063-7b43-4f55-96ed-9caf90a218f1",
   "metadata": {},
   "outputs": [
    {
     "data": {
      "text/plain": [
       "'3. What is a Web API? Differentiate between API and Web API.'"
      ]
     },
     "execution_count": 6,
     "metadata": {},
     "output_type": "execute_result"
    }
   ],
   "source": [
    "'''3. What is a Web API? Differentiate between API and Web API.'''"
   ]
  },
  {
   "cell_type": "code",
   "execution_count": 7,
   "id": "0e4a2640-3bdd-4cab-ad44-ea0b9479c00f",
   "metadata": {},
   "outputs": [
    {
     "data": {
      "text/plain": [
       "'Web API is an extensible framework for building HTTP based services that can be accessed in different applications on different platforms such as web, windows, mobile etc.\\n\\nDifference between API and Web API:\\n* Web API is a collection of open source protocols and standards used for exchanging data between systems or applications, whereas API is a software interface that allows two applications to interact with each other without any user involvement.\\n* Web API is used for REST, SOAP, and XML-RPC for communication, while API is used for any style of communication.\\n* Web API supports only HTTP protocol, whereas API supports HTTP/HTTPS protocol.\\n* Web API supports XML, while API supports XML and JSON.\\n* All Web API are APIs, but all APIs are not web API.'"
      ]
     },
     "execution_count": 7,
     "metadata": {},
     "output_type": "execute_result"
    }
   ],
   "source": [
    "'''Web API is an extensible framework for building HTTP based services that can be accessed in different applications on different platforms such as web, windows, mobile etc.\n",
    "\n",
    "Difference between API and Web API:\n",
    "* Web API is a collection of open source protocols and standards used for exchanging data between systems or applications, whereas API is a software interface that allows two applications to interact with each other without any user involvement.\n",
    "* Web API is used for REST, SOAP, and XML-RPC for communication, while API is used for any style of communication.\n",
    "* Web API supports only HTTP protocol, whereas API supports HTTP/HTTPS protocol.\n",
    "* Web API supports XML, while API supports XML and JSON.\n",
    "* All Web API are APIs, but all APIs are not web API.'''"
   ]
  },
  {
   "cell_type": "code",
   "execution_count": 8,
   "id": "ab922028-a544-479a-b185-af43a00ba02a",
   "metadata": {},
   "outputs": [
    {
     "data": {
      "text/plain": [
       "'4. Explain REST and SOAP Architecture. Mention shortcomings of SOAP.'"
      ]
     },
     "execution_count": 8,
     "metadata": {},
     "output_type": "execute_result"
    }
   ],
   "source": [
    "'''4. Explain REST and SOAP Architecture. Mention shortcomings of SOAP.'''"
   ]
  },
  {
   "cell_type": "code",
   "execution_count": 10,
   "id": "824a312b-3888-4a3c-9bfd-6e791bd7b3c3",
   "metadata": {},
   "outputs": [
    {
     "data": {
      "text/plain": [
       "'REST is a set of guidelines that offers flexible implementation, whereas SOAP is a protocol with specific requirements like XML messaging.\\na SOAP API that exposes functionality to create a user might include a function called \"CreateUser\" that would be specified in the SOAP body. A REST API would instead expose a URL /users, and a POST request towards that URL would create a user.\\n\\nSHORTCOMINGS OF SOAP\\n* Highly complex. In comparison to Rest, SOAP is significantly more complex.\\n* No variety of data formats. SOAP is also extremely limited in its support of data formats.\\n* API calls are not cached.\\n* Uses more bandwidth.\\n'"
      ]
     },
     "execution_count": 10,
     "metadata": {},
     "output_type": "execute_result"
    }
   ],
   "source": [
    "'''REST is a set of guidelines that offers flexible implementation, whereas SOAP is a protocol with specific requirements like XML messaging.\n",
    "a SOAP API that exposes functionality to create a user might include a function called \"CreateUser\" that would be specified in the SOAP body. A REST API would instead expose a URL /users, and a POST request towards that URL would create a user.\n",
    "\n",
    "SHORTCOMINGS OF SOAP\n",
    "* Highly complex. In comparison to Rest, SOAP is significantly more complex.\n",
    "* No variety of data formats. SOAP is also extremely limited in its support of data formats.\n",
    "* API calls are not cached.\n",
    "* Uses more bandwidth.\n",
    "'''"
   ]
  },
  {
   "cell_type": "code",
   "execution_count": 11,
   "id": "e8961a49-0716-4462-a2c0-9f54a98eb8e7",
   "metadata": {},
   "outputs": [
    {
     "data": {
      "text/plain": [
       "'5. Differentiate between REST and SOAP.'"
      ]
     },
     "execution_count": 11,
     "metadata": {},
     "output_type": "execute_result"
    }
   ],
   "source": [
    "'''5. Differentiate between REST and SOAP.'''"
   ]
  },
  {
   "cell_type": "code",
   "execution_count": 12,
   "id": "510995b4-9b48-44b0-acbe-f490c70a1adf",
   "metadata": {},
   "outputs": [
    {
     "data": {
      "text/plain": [
       "'Representational state transfer (REST) is a set of architectural principles. Simple object access protocol (SOAP) is an official protocol maintained by the World Wide Web Consortium (W3C). The main difference is that SOAP is a protocol while REST is not. '"
      ]
     },
     "execution_count": 12,
     "metadata": {},
     "output_type": "execute_result"
    }
   ],
   "source": [
    "'''Representational state transfer (REST) is a set of architectural principles. Simple object access protocol (SOAP) is an official protocol maintained by the World Wide Web Consortium (W3C). The main difference is that SOAP is a protocol while REST is not. '''"
   ]
  },
  {
   "cell_type": "code",
   "execution_count": null,
   "id": "a9a2b724-512c-4d65-8005-ce29940edf4c",
   "metadata": {},
   "outputs": [],
   "source": []
  }
 ],
 "metadata": {
  "kernelspec": {
   "display_name": "Python 3 (ipykernel)",
   "language": "python",
   "name": "python3"
  },
  "language_info": {
   "codemirror_mode": {
    "name": "ipython",
    "version": 3
   },
   "file_extension": ".py",
   "mimetype": "text/x-python",
   "name": "python",
   "nbconvert_exporter": "python",
   "pygments_lexer": "ipython3",
   "version": "3.10.8"
  }
 },
 "nbformat": 4,
 "nbformat_minor": 5
}
