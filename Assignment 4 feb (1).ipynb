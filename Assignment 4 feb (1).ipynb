{
 "cells": [
  {
   "cell_type": "code",
   "execution_count": null,
   "id": "8f4ee8e9-8aca-4db5-8c20-5c809088512c",
   "metadata": {},
   "outputs": [],
   "source": [
    "''' 1. Create a python program to sort the given list of tuples based on integer value using a lambda function. \n",
    "[('Sachin Tendulkar', 34357), ('Ricky Ponting', 27483), ('Jack Kallis', 25534), ('Virat Kohli', 24936)]'''"
   ]
  },
  {
   "cell_type": "code",
   "execution_count": 10,
   "id": "13698ba2-0ee8-4d7f-8a68-8c7d8e1a1c89",
   "metadata": {},
   "outputs": [
    {
     "name": "stdout",
     "output_type": "stream",
     "text": [
      "[('Virat Kohli', 24936), ('Jack Kallis', 25534), ('Ricky Ponting', 27483), ('Sachin Tendulkar', 34357)]\n"
     ]
    }
   ],
   "source": [
    "lst=[('Sachin Tendulkar', 34357), ('Ricky Ponting', 27483), ('Jack Kallis', 25534), ('Virat Kohli', 24936)]\n",
    "lst.sort(key= lambda x: x[1])\n",
    "print(lst)"
   ]
  },
  {
   "cell_type": "code",
   "execution_count": null,
   "id": "34497903-de18-458f-add0-2bdb5a41c637",
   "metadata": {},
   "outputs": [],
   "source": [
    "''' 2. Write a Python Program to find the squares of all the numbers in the given list of integers using lambda and map functions.\n",
    "[1, 2, 3, 4, 5, 6, 7, 8, 9, 10]'''"
   ]
  },
  {
   "cell_type": "code",
   "execution_count": 18,
   "id": "03334f1e-3524-4ea6-81f2-dbe37da26027",
   "metadata": {
    "tags": []
   },
   "outputs": [
    {
     "name": "stdout",
     "output_type": "stream",
     "text": [
      "[1, 4, 9, 16, 25, 36, 49, 64, 81, 100]\n"
     ]
    }
   ],
   "source": [
    "l=[1, 2, 3, 4, 5, 6, 7, 8, 9, 10]\n",
    "l1=[]\n",
    "sqr= lambda x: x**2\n",
    "for i in l:\n",
    "    l1.append(sqr(i))\n",
    "print(l1)"
   ]
  },
  {
   "cell_type": "code",
   "execution_count": 17,
   "id": "038aad91-451c-4386-b367-dc2a05876c0f",
   "metadata": {},
   "outputs": [
    {
     "data": {
      "text/plain": [
       "[1, 4, 9, 16, 25, 36, 49, 64, 81, 100]"
      ]
     },
     "execution_count": 17,
     "metadata": {},
     "output_type": "execute_result"
    }
   ],
   "source": [
    "l=[1, 2, 3, 4, 5, 6, 7, 8, 9, 10]\n",
    "def sq(x):\n",
    "    return x**2\n",
    "list(map(sq,l))"
   ]
  },
  {
   "cell_type": "code",
   "execution_count": null,
   "id": "a258a433-8ac6-422d-a7b5-6e5c0becbfd8",
   "metadata": {},
   "outputs": [],
   "source": [
    "'''3. Write a python program to convert the given list of integers into a tuple of strings. Use map and lambda functions.\n",
    "\n",
    "Given String: [1, 2, 3, 4, 5, 6, 7, 8, 9, 10]\n",
    "Expected output: ('1', '2', '3', '4', '5', '6', '7', '8', '9', '10')'''"
   ]
  },
  {
   "cell_type": "code",
   "execution_count": 20,
   "id": "3ec7bf0b-f1ca-4bd8-b6dc-186af7ad97c9",
   "metadata": {},
   "outputs": [
    {
     "data": {
      "text/plain": [
       "('1', '2', '3', '4', '5', '6', '7', '8', '9', '10')"
      ]
     },
     "execution_count": 20,
     "metadata": {},
     "output_type": "execute_result"
    }
   ],
   "source": [
    "l=[1, 2, 3, 4, 5, 6, 7, 8, 9, 10]\n",
    "l1=[]\n",
    "st= lambda x: str(x)\n",
    "for i in l:\n",
    "    l1.append(st(i))\n",
    "tuple(l1)"
   ]
  },
  {
   "cell_type": "code",
   "execution_count": 21,
   "id": "916986c8-0a86-414b-82f1-489f8cf17cf1",
   "metadata": {},
   "outputs": [
    {
     "data": {
      "text/plain": [
       "('1', '2', '3', '4', '5', '6', '7', '8', '9', '10')"
      ]
     },
     "execution_count": 21,
     "metadata": {},
     "output_type": "execute_result"
    }
   ],
   "source": [
    "l=[1, 2, 3, 4, 5, 6, 7, 8, 9, 10]\n",
    "def st(x):\n",
    "    return str(x)\n",
    "tuple(map(st,l))"
   ]
  },
  {
   "cell_type": "code",
   "execution_count": null,
   "id": "6fb7a5a8-e13b-40ed-8ce5-c858958338fc",
   "metadata": {},
   "outputs": [],
   "source": [
    "'''4. Write a python program using reduce function to compute the product of a list containing numbers from 1 to 25.'''"
   ]
  },
  {
   "cell_type": "code",
   "execution_count": 24,
   "id": "38109bfd-dae7-48b8-91ec-ea3cd406ce63",
   "metadata": {},
   "outputs": [
    {
     "data": {
      "text/plain": [
       "15511210043330985984000000"
      ]
     },
     "execution_count": 24,
     "metadata": {},
     "output_type": "execute_result"
    }
   ],
   "source": [
    "from functools import reduce\n",
    "l=[]\n",
    "for i in range(1,26):\n",
    "    l.append(i)\n",
    "reduce(lambda x,y: x*y, l)"
   ]
  },
  {
   "cell_type": "code",
   "execution_count": null,
   "id": "3ee585d3-4a5c-447b-afa1-c22bb15cb331",
   "metadata": {},
   "outputs": [],
   "source": [
    "'''5. Write a python program to filter the numbers in a given list that are divisible by 2 and 3 using the filter function.\n",
    "\n",
    "[2, 3, 6, 9, 27, 60, 90, 120, 55, 46]'''"
   ]
  },
  {
   "cell_type": "code",
   "execution_count": 27,
   "id": "c327f212-ed22-42c2-b7ef-59ff2aca7fd3",
   "metadata": {},
   "outputs": [
    {
     "data": {
      "text/plain": [
       "[6, 60, 90, 120]"
      ]
     },
     "execution_count": 27,
     "metadata": {},
     "output_type": "execute_result"
    }
   ],
   "source": [
    "l=[2, 3, 6, 9, 27, 60, 90, 120, 55, 46]\n",
    "list(filter(lambda x: x%2==0 and x%3==0, l))"
   ]
  },
  {
   "cell_type": "code",
   "execution_count": null,
   "id": "cfd3b1a4-313c-4414-a77e-17f1b2616d96",
   "metadata": {},
   "outputs": [],
   "source": [
    "'''6. Write a python program to find palindromes in the given list of strings using lambda and filter function.\n",
    "\n",
    "['python', 'php', 'aba', 'radar', 'level']'''"
   ]
  },
  {
   "cell_type": "code",
   "execution_count": 29,
   "id": "e4456dae-2518-4cd5-b2b0-a5536d1ec522",
   "metadata": {},
   "outputs": [
    {
     "data": {
      "text/plain": [
       "['php', 'aba', 'radar', 'level']"
      ]
     },
     "execution_count": 29,
     "metadata": {},
     "output_type": "execute_result"
    }
   ],
   "source": [
    "l=['python', 'php', 'aba', 'radar', 'level']\n",
    "list(filter(lambda x: (x==\"\".join(reversed(x))),l))"
   ]
  },
  {
   "cell_type": "code",
   "execution_count": null,
   "id": "c5ca1d70-ba7c-42b0-add1-31558b362106",
   "metadata": {},
   "outputs": [],
   "source": []
  }
 ],
 "metadata": {
  "kernelspec": {
   "display_name": "Python 3 (ipykernel)",
   "language": "python",
   "name": "python3"
  },
  "language_info": {
   "codemirror_mode": {
    "name": "ipython",
    "version": 3
   },
   "file_extension": ".py",
   "mimetype": "text/x-python",
   "name": "python",
   "nbconvert_exporter": "python",
   "pygments_lexer": "ipython3",
   "version": "3.10.8"
  }
 },
 "nbformat": 4,
 "nbformat_minor": 5
}
