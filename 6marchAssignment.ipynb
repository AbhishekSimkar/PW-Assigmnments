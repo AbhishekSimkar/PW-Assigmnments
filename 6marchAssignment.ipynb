{
 "cells": [
  {
   "cell_type": "code",
   "execution_count": 1,
   "id": "9bf51466-fde2-4572-a793-d401bee6f913",
   "metadata": {},
   "outputs": [
    {
     "data": {
      "text/plain": [
       "'1. What is Statistics?'"
      ]
     },
     "execution_count": 1,
     "metadata": {},
     "output_type": "execute_result"
    }
   ],
   "source": [
    "'1. What is Statistics?'"
   ]
  },
  {
   "cell_type": "code",
   "execution_count": 2,
   "id": "8b3dc7d5-d350-47c0-b0e7-b8534709c68e",
   "metadata": {},
   "outputs": [
    {
     "data": {
      "text/plain": [
       "'Statistics is the science of collecting, organizing and analyzing of data.'"
      ]
     },
     "execution_count": 2,
     "metadata": {},
     "output_type": "execute_result"
    }
   ],
   "source": [
    "'Statistics is the science of collecting, organizing and analyzing of data.'"
   ]
  },
  {
   "cell_type": "code",
   "execution_count": 3,
   "id": "fb4a9b27-99f8-41b2-90c3-19afcd3ba175",
   "metadata": {},
   "outputs": [
    {
     "data": {
      "text/plain": [
       "'2. Define the different types of statistics and give an example of when each type might be used.'"
      ]
     },
     "execution_count": 3,
     "metadata": {},
     "output_type": "execute_result"
    }
   ],
   "source": [
    "'2. Define the different types of statistics and give an example of when each type might be used.'"
   ]
  },
  {
   "cell_type": "code",
   "execution_count": 14,
   "id": "fa6a0b97-f5ea-4937-8c3d-bd25b6e58ae7",
   "metadata": {},
   "outputs": [
    {
     "data": {
      "text/plain": [
       "'Descriptive stats:- It consists of organizing and summuring the data.\\nInferential stas: It consists of analyzing the data for making a conclusion.'"
      ]
     },
     "execution_count": 14,
     "metadata": {},
     "output_type": "execute_result"
    }
   ],
   "source": [
    "'''Descriptive stats:- It consists of organizing and summuring the data.\n",
    "Inferential stas: It consists of analyzing the data for making a conclusion.'''"
   ]
  },
  {
   "cell_type": "code",
   "execution_count": 5,
   "id": "7964804c-b251-49c6-9bad-df58ab80c141",
   "metadata": {},
   "outputs": [
    {
     "data": {
      "text/plain": [
       "'3.  What are the different types of data and how do they differ from each other? Provide an example of each type of data.'"
      ]
     },
     "execution_count": 5,
     "metadata": {},
     "output_type": "execute_result"
    }
   ],
   "source": [
    "'3.  What are the different types of data and how do they differ from each other? Provide an example of each type of data.'"
   ]
  },
  {
   "cell_type": "code",
   "execution_count": 6,
   "id": "952eedfc-d210-483c-b9c8-bd4c6fc53777",
   "metadata": {},
   "outputs": [
    {
     "data": {
      "text/plain": [
       "'There are two types of Datas:\\n    1.Qualitative:\\n        1. Nominal: Gender, Blood group\\n        2. ordinal: goods review\\n    2. Quantitative:\\n        1. Discreate: Marks obtained by students of a class.\\n        2. continuous: height, weight'"
      ]
     },
     "execution_count": 6,
     "metadata": {},
     "output_type": "execute_result"
    }
   ],
   "source": [
    "'''There are two types of Datas:\n",
    "    1.Qualitative:\n",
    "        1. Nominal: Gender, Blood group\n",
    "        2. ordinal: goods review\n",
    "    2. Quantitative:\n",
    "        1. Discreate: Marks obtained by students of a class.\n",
    "        2. continuous: height, weight'''\n"
   ]
  },
  {
   "cell_type": "code",
   "execution_count": 8,
   "id": "9d0bc465-804a-446d-8a4b-0fda4f59aa44",
   "metadata": {},
   "outputs": [
    {
     "data": {
      "text/plain": [
       "'4. Categorise the following datasets with respect to quantitative and qualitative data types:\\n(i)\\tGrading in exam: A+, A, B+, B, C+, C, D, E\\n(ii)Colour of mangoes: yellow, green, orange, red\\n(iii)Height data of a class: [178.9, 179, 179.5, 176, 177.2, 178.3, 175.8,...]\\n(iv)Number of mangoes exported by a farm: [500, 600, 478, 672, …]'"
      ]
     },
     "execution_count": 8,
     "metadata": {},
     "output_type": "execute_result"
    }
   ],
   "source": [
    "'''4. Categorise the following datasets with respect to quantitative and qualitative data types:\n",
    "(i)\tGrading in exam: A+, A, B+, B, C+, C, D, E\n",
    "(ii)Colour of mangoes: yellow, green, orange, red\n",
    "(iii)Height data of a class: [178.9, 179, 179.5, 176, 177.2, 178.3, 175.8,...]\n",
    "(iv)Number of mangoes exported by a farm: [500, 600, 478, 672, …]'''"
   ]
  },
  {
   "cell_type": "code",
   "execution_count": 9,
   "id": "c633ba97-8165-4390-851d-01fb932a2d75",
   "metadata": {},
   "outputs": [
    {
     "data": {
      "text/plain": [
       "'(i) Qualitative(Nominal)\\n(ii) Qualitative(Nominal)\\n(iii) Quantitative(Continuous)\\n(iv) Quantitative(Discreate)'"
      ]
     },
     "execution_count": 9,
     "metadata": {},
     "output_type": "execute_result"
    }
   ],
   "source": [
    "'''(i) Qualitative(Nominal)\n",
    "(ii) Qualitative(Nominal)\n",
    "(iii) Quantitative(Continuous)\n",
    "(iv) Quantitative(Discreate)'''"
   ]
  },
  {
   "cell_type": "code",
   "execution_count": 10,
   "id": "72bd3bc4-769f-441c-b990-450751c6523d",
   "metadata": {},
   "outputs": [
    {
     "data": {
      "text/plain": [
       "'5. Explain the concept of levels of measurement and give an example of a variable for each level.'"
      ]
     },
     "execution_count": 10,
     "metadata": {},
     "output_type": "execute_result"
    }
   ],
   "source": [
    "'''5. Explain the concept of levels of measurement and give an example of a variable for each level.'''"
   ]
  },
  {
   "cell_type": "code",
   "execution_count": 11,
   "id": "88457fa3-aeb7-44fa-b428-8be5b6d1312a",
   "metadata": {},
   "outputs": [
    {
     "data": {
      "text/plain": [
       "'Level of measurement consists of types of scales to measure data. \\ni) Nominal Scale Data: colors\\nii) Ordinal Scale Data: No of males and females living in a house.\\niii) Interval Scale Data: Temperature\\niv) Ratio Scale Data: Marks of students in a class.'"
      ]
     },
     "execution_count": 11,
     "metadata": {},
     "output_type": "execute_result"
    }
   ],
   "source": [
    "'''Level of measurement consists of types of scales to measure data. \n",
    "i) Nominal Scale Data: colors\n",
    "ii) Ordinal Scale Data: No of males and females living in a house.\n",
    "iii) Interval Scale Data: Temperature\n",
    "iv) Ratio Scale Data: Marks of students in a class.'''"
   ]
  },
  {
   "cell_type": "code",
   "execution_count": 12,
   "id": "558271b9-4442-4c5f-a25d-5593e94efd62",
   "metadata": {},
   "outputs": [
    {
     "data": {
      "text/plain": [
       "'6. Why is it important to understand the level of measurement when analyzing data? Provide an example to illustrate your answer.'"
      ]
     },
     "execution_count": 12,
     "metadata": {},
     "output_type": "execute_result"
    }
   ],
   "source": [
    "'''6. Why is it important to understand the level of measurement when analyzing data? Provide an example to illustrate your answer.'''"
   ]
  },
  {
   "cell_type": "code",
   "execution_count": 13,
   "id": "ccfd683d-75ef-4d4c-97dc-fcdda6a0f384",
   "metadata": {},
   "outputs": [
    {
     "data": {
      "text/plain": [
       "'By unserstanding the level of measurement we can make our analyzing process faster and may conclude or predict results easily.'"
      ]
     },
     "execution_count": 13,
     "metadata": {},
     "output_type": "execute_result"
    }
   ],
   "source": [
    "'''By unserstanding the level of measurement we can make our analyzing process faster and may conclude or predict results easily.'''"
   ]
  },
  {
   "cell_type": "code",
   "execution_count": 15,
   "id": "5aa8e220-961b-46cd-a76e-20bb0bfeed78",
   "metadata": {},
   "outputs": [
    {
     "data": {
      "text/plain": [
       "'7. How nominal data type is different from ordinal data type.'"
      ]
     },
     "execution_count": 15,
     "metadata": {},
     "output_type": "execute_result"
    }
   ],
   "source": [
    "'''7. How nominal data type is different from ordinal data type.'''"
   ]
  },
  {
   "cell_type": "code",
   "execution_count": null,
   "id": "3978c890-26ba-4c8b-9fee-bac67693a806",
   "metadata": {},
   "outputs": [],
   "source": [
    "'In Nominal data ty"
   ]
  }
 ],
 "metadata": {
  "kernelspec": {
   "display_name": "Python 3 (ipykernel)",
   "language": "python",
   "name": "python3"
  },
  "language_info": {
   "codemirror_mode": {
    "name": "ipython",
    "version": 3
   },
   "file_extension": ".py",
   "mimetype": "text/x-python",
   "name": "python",
   "nbconvert_exporter": "python",
   "pygments_lexer": "ipython3",
   "version": "3.10.8"
  }
 },
 "nbformat": 4,
 "nbformat_minor": 5
}
