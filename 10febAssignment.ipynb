{
 "cells": [
  {
   "cell_type": "code",
   "execution_count": 2,
   "id": "7a1687b9-2e7e-4b3c-bb90-ab3c0a74d714",
   "metadata": {},
   "outputs": [
    {
     "data": {
      "text/plain": [
       "'1. Which function is used to open a file? What are the different modes of opening a file? Explain each mode of file opening.'"
      ]
     },
     "execution_count": 2,
     "metadata": {},
     "output_type": "execute_result"
    }
   ],
   "source": [
    "'''1. Which function is used to open a file? What are the different modes of opening a file? Explain each mode of file opening.'''"
   ]
  },
  {
   "cell_type": "code",
   "execution_count": 3,
   "id": "1c632348-054f-4a0e-ae8f-96043661db5e",
   "metadata": {},
   "outputs": [
    {
     "data": {
      "text/plain": [
       "' open() method is used to open a file in python.\\nr: Open a file for reading. (default)\\nw: Open a file for writing. Creates a new file if it does not exist or truncates the file if it exists.\\nx: Open a file for exclusive creation. If the file already exists, the operation fails.\\na: Open a file for appending at the end of the file without truncating it. Creates a new file if it does not exist.\\nt: Open in text mode. (default)\\nb: Open in binary mode.'"
      ]
     },
     "execution_count": 3,
     "metadata": {},
     "output_type": "execute_result"
    }
   ],
   "source": [
    "''' open() method is used to open a file in python.\n",
    "r: Open a file for reading. (default)\n",
    "w: Open a file for writing. Creates a new file if it does not exist or truncates the file if it exists.\n",
    "x: Open a file for exclusive creation. If the file already exists, the operation fails.\n",
    "a: Open a file for appending at the end of the file without truncating it. Creates a new file if it does not exist.\n",
    "t: Open in text mode. (default)\n",
    "b: Open in binary mode.'''"
   ]
  },
  {
   "cell_type": "code",
   "execution_count": 4,
   "id": "35b31a05-d1ea-462c-9c61-43ecccc41c8d",
   "metadata": {},
   "outputs": [
    {
     "data": {
      "text/plain": [
       "' 2. Why close() function is used? Why is it important to close a file?'"
      ]
     },
     "execution_count": 4,
     "metadata": {},
     "output_type": "execute_result"
    }
   ],
   "source": [
    "''' 2. Why close() function is used? Why is it important to close a file?'''\n"
   ]
  },
  {
   "cell_type": "code",
   "execution_count": 5,
   "id": "22a01d4a-5f5d-43eb-bdd3-09502e4117fc",
   "metadata": {},
   "outputs": [
    {
     "data": {
      "text/plain": [
       "' The close() method is used to close an open file. The changes we made in a file will not be shown in file untils close() method is called. So we need to close the files '"
      ]
     },
     "execution_count": 5,
     "metadata": {},
     "output_type": "execute_result"
    }
   ],
   "source": [
    "''' The close() method is used to close an open file. The changes we made in a file will not be shown in file untils close() method is called. So we need to close the files '''"
   ]
  },
  {
   "cell_type": "code",
   "execution_count": 6,
   "id": "1380e8a8-e5d9-4aed-af0a-3db966d30285",
   "metadata": {},
   "outputs": [
    {
     "data": {
      "text/plain": [
       "' 3. Write a python program to create a text file. Write ‘I want to become a Data Scientist’ in that file. Then close the file. Open this file and read the content of the file.'"
      ]
     },
     "execution_count": 6,
     "metadata": {},
     "output_type": "execute_result"
    }
   ],
   "source": [
    "''' 3. Write a python program to create a text file. Write ‘I want to become a Data Scientist’ in that file. Then close the file. Open this file and read the content of the file.'''"
   ]
  },
  {
   "cell_type": "code",
   "execution_count": 9,
   "id": "a7b321b8-b956-4ac3-9e6d-7b403b831488",
   "metadata": {},
   "outputs": [],
   "source": [
    "f=open('text_file.txt','w')\n",
    "f.write(\"I want to become a Data Scientist\")\n",
    "f.close()"
   ]
  },
  {
   "cell_type": "code",
   "execution_count": 11,
   "id": "62dc541f-e5ae-4e73-8ce6-fdee14509c76",
   "metadata": {},
   "outputs": [
    {
     "data": {
      "text/plain": [
       "'I want to become a Data Scientist'"
      ]
     },
     "execution_count": 11,
     "metadata": {},
     "output_type": "execute_result"
    }
   ],
   "source": [
    "f=open('text_file.txt','r')\n",
    "f.read()"
   ]
  },
  {
   "cell_type": "code",
   "execution_count": 12,
   "id": "6a1d767a-7b6b-486f-aa22-b4b380efbeb0",
   "metadata": {},
   "outputs": [
    {
     "data": {
      "text/plain": [
       "' 4. Explain the following with python code: read(), readline() and readlines().'"
      ]
     },
     "execution_count": 12,
     "metadata": {},
     "output_type": "execute_result"
    }
   ],
   "source": [
    "''' 4. Explain the following with python code: read(), readline() and readlines().'''"
   ]
  },
  {
   "cell_type": "code",
   "execution_count": 14,
   "id": "c4fbd1e4-e199-4955-8bab-2044f4e1b590",
   "metadata": {},
   "outputs": [],
   "source": [
    "''' f.read(): read all data from the file.\n",
    "f.read(n): read n characters from the file.\n",
    "f.readline(): reads one line.\n",
    "f.readlines(): reads all lines in a list. '''\n",
    "f=open('text1.txt','w')\n",
    "f.write('Hello!! I am Abhishek \\nAnd i am here submitting my assignment')\n",
    "f.close()"
   ]
  },
  {
   "cell_type": "code",
   "execution_count": 16,
   "id": "6d0ada29-19ac-4b09-9573-dbd8c1aa7ec9",
   "metadata": {},
   "outputs": [
    {
     "data": {
      "text/plain": [
       "'Hello!! I am Abhishek \\n'"
      ]
     },
     "execution_count": 16,
     "metadata": {},
     "output_type": "execute_result"
    }
   ],
   "source": [
    "f=open('text1.txt','r')\n",
    "f.readline()"
   ]
  },
  {
   "cell_type": "code",
   "execution_count": 17,
   "id": "b83ffb85-8307-4374-a7e6-273257f4bbea",
   "metadata": {},
   "outputs": [
    {
     "data": {
      "text/plain": [
       "['Hello!! I am Abhishek \\n', 'And i am here submitting my assignment']"
      ]
     },
     "execution_count": 17,
     "metadata": {},
     "output_type": "execute_result"
    }
   ],
   "source": [
    "f=open('text1.txt','r')\n",
    "f.readlines()"
   ]
  },
  {
   "cell_type": "code",
   "execution_count": 18,
   "id": "2e7cf8bf-8204-4877-ba96-dd4d65f081ae",
   "metadata": {},
   "outputs": [
    {
     "data": {
      "text/plain": [
       "'5. Explain why with statement is used with open(). What is the advantage of using with statement and open() together?'"
      ]
     },
     "execution_count": 18,
     "metadata": {},
     "output_type": "execute_result"
    }
   ],
   "source": [
    "'''5. Explain why with statement is used with open(). What is the advantage of using with statement and open() together?'''"
   ]
  },
  {
   "cell_type": "code",
   "execution_count": 19,
   "id": "3399d6cc-80a9-4b1c-90ce-a4341a22b45c",
   "metadata": {},
   "outputs": [
    {
     "data": {
      "text/plain": [
       "' The benefit of using with statement is that you do not need to close the file explicitly. It will automatically get closed after completion of all the operations, even in the case of exceptions also. '"
      ]
     },
     "execution_count": 19,
     "metadata": {},
     "output_type": "execute_result"
    }
   ],
   "source": [
    "''' The benefit of using with statement is that you do not need to close the file explicitly. It will automatically get closed after completion of all the operations, even in the case of exceptions also. '''"
   ]
  },
  {
   "cell_type": "code",
   "execution_count": 20,
   "id": "7a271c17-1553-4f55-818a-1fca65c65749",
   "metadata": {},
   "outputs": [
    {
     "data": {
      "text/plain": [
       "'6. Explain the write() and writelines() functions. Give a suitable example'"
      ]
     },
     "execution_count": 20,
     "metadata": {},
     "output_type": "execute_result"
    }
   ],
   "source": [
    "'''6. Explain the write() and writelines() functions. Give a suitable example'''"
   ]
  },
  {
   "cell_type": "code",
   "execution_count": 21,
   "id": "2921a589-7748-47c0-a2b9-bc66432d9a60",
   "metadata": {},
   "outputs": [
    {
     "data": {
      "text/plain": [
       "'The write() method accepts a string as an argument and writes this string to the text file. Whereas, the writelines() method accepts an iterable i.e. a string or the list of strings as an argument and writes these strings to the text file'"
      ]
     },
     "execution_count": 21,
     "metadata": {},
     "output_type": "execute_result"
    }
   ],
   "source": [
    "'''The write() method accepts a string as an argument and writes this string to the text file. Whereas, the writelines() method accepts an iterable i.e. a string or the list of strings as an argument and writes these strings to the text file'''"
   ]
  },
  {
   "cell_type": "code",
   "execution_count": 2,
   "id": "7f6a458b-e211-45d0-9125-1489d99ca5b8",
   "metadata": {},
   "outputs": [],
   "source": [
    "# for write method\n",
    "f1=open('text2.txt','w')\n",
    "f1.write('Hello Everyone. I am doing my assignment here.')\n",
    "f1.close()"
   ]
  },
  {
   "cell_type": "code",
   "execution_count": 8,
   "id": "42ef4514-5ea8-4d77-90a3-515929d77e0e",
   "metadata": {},
   "outputs": [
    {
     "name": "stdout",
     "output_type": "stream",
     "text": [
      "Hello Everyone. I am doing my assignment here.\n"
     ]
    }
   ],
   "source": [
    "f1=open('text2.txt','r')\n",
    "print(f1.read())\n",
    "f1.close()"
   ]
  },
  {
   "cell_type": "code",
   "execution_count": 4,
   "id": "f072a2fe-4e8e-4782-920c-5c71943273f1",
   "metadata": {},
   "outputs": [],
   "source": [
    "#for writelines() method\n",
    "f2=open('text3.txt','w')\n",
    "f2.writelines(['Hello Everyone.', 'I am doing my assignment here.'])\n",
    "f2.close()"
   ]
  },
  {
   "cell_type": "code",
   "execution_count": 9,
   "id": "f0569bab-761d-4600-be2b-f54ac42ff566",
   "metadata": {},
   "outputs": [
    {
     "name": "stdout",
     "output_type": "stream",
     "text": [
      "Hello Everyone. I am doing my assignment here.\n"
     ]
    }
   ],
   "source": [
    "f2=open('text2.txt','r')\n",
    "print(f2.read())\n",
    "f2.close()"
   ]
  },
  {
   "cell_type": "code",
   "execution_count": null,
   "id": "6bb854ad-e2de-4142-94ad-d7c2d7309205",
   "metadata": {},
   "outputs": [],
   "source": []
  }
 ],
 "metadata": {
  "kernelspec": {
   "display_name": "Python 3 (ipykernel)",
   "language": "python",
   "name": "python3"
  },
  "language_info": {
   "codemirror_mode": {
    "name": "ipython",
    "version": 3
   },
   "file_extension": ".py",
   "mimetype": "text/x-python",
   "name": "python",
   "nbconvert_exporter": "python",
   "pygments_lexer": "ipython3",
   "version": "3.10.8"
  }
 },
 "nbformat": 4,
 "nbformat_minor": 5
}
