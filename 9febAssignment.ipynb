{
 "cells": [
  {
   "cell_type": "code",
   "execution_count": 22,
   "id": "cb593d52-c9aa-4e9f-824d-376d423defe7",
   "metadata": {},
   "outputs": [
    {
     "data": {
      "text/plain": [
       "' 1. Create a vehicle class with an init method having instance variables as name_of_vehicle, max_speed and average_of_vehicle. '"
      ]
     },
     "execution_count": 22,
     "metadata": {},
     "output_type": "execute_result"
    }
   ],
   "source": [
    "''' 1. Create a vehicle class with an init method having instance variables as name_of_vehicle, max_speed and average_of_vehicle. '''"
   ]
  },
  {
   "cell_type": "code",
   "execution_count": 6,
   "id": "9850e58f-12ba-4ae4-b93c-0bf8a9c10b9e",
   "metadata": {},
   "outputs": [],
   "source": [
    "class vehicle:\n",
    "    def __init__(self,name_of_vehicle, max_speed,average_of_vehicle):\n",
    "        self.name_of_vehicle=name_of_vehicle\n",
    "        self.max_speed=max_speed\n",
    "        self.average_of_vehicle= average_of_vehicle"
   ]
  },
  {
   "cell_type": "code",
   "execution_count": 21,
   "id": "92552ee2-d83b-4409-973a-6e80a2f90318",
   "metadata": {},
   "outputs": [
    {
     "data": {
      "text/plain": [
       "'2.  Create a child class car from the vehicle class created in Que 1, which will inherit the vehicle class. Create a method named seating_capacity which takes capacity as an argument and returns the name of the vehicle and its seating capacity.'"
      ]
     },
     "execution_count": 21,
     "metadata": {},
     "output_type": "execute_result"
    }
   ],
   "source": [
    "'''2.  Create a child class car from the vehicle class created in Que 1, which will inherit the vehicle class. Create a method named seating_capacity which takes capacity as an argument and returns the name of the vehicle and its seating capacity.'''"
   ]
  },
  {
   "cell_type": "code",
   "execution_count": 8,
   "id": "e5836190-5114-43da-a75f-30c9338c6a07",
   "metadata": {},
   "outputs": [],
   "source": [
    "class child(vehicle):\n",
    "    def sitting_capacity(self, capacity):\n",
    "        self.capacity=capacity\n",
    "    def return_(self):\n",
    "        return self.name_of_vehicle, self.capacity\n"
   ]
  },
  {
   "cell_type": "code",
   "execution_count": 10,
   "id": "df937f00-dc1b-4075-9536-bb3baa516dc0",
   "metadata": {},
   "outputs": [],
   "source": [
    "obj=child(\"Alto\",180,80)"
   ]
  },
  {
   "cell_type": "code",
   "execution_count": 11,
   "id": "c9bfd050-8634-40de-975c-a4005eb9f05c",
   "metadata": {},
   "outputs": [],
   "source": [
    "obj.sitting_capacity(4)"
   ]
  },
  {
   "cell_type": "code",
   "execution_count": 12,
   "id": "4b0bf416-c94f-436c-8043-1d4a632f7fbf",
   "metadata": {},
   "outputs": [
    {
     "data": {
      "text/plain": [
       "('Alto', 4)"
      ]
     },
     "execution_count": 12,
     "metadata": {},
     "output_type": "execute_result"
    }
   ],
   "source": [
    "obj.return_()"
   ]
  },
  {
   "cell_type": "code",
   "execution_count": 13,
   "id": "77ed9d01-6005-4910-910e-b91132de1b2a",
   "metadata": {},
   "outputs": [
    {
     "data": {
      "text/plain": [
       "' 3.What is multiple inheritance? Write a python code to demonstrate multiple inheritance.'"
      ]
     },
     "execution_count": 13,
     "metadata": {},
     "output_type": "execute_result"
    }
   ],
   "source": [
    "''' 3.What is multiple inheritance? Write a python code to demonstrate multiple inheritance.'''"
   ]
  },
  {
   "cell_type": "code",
   "execution_count": 14,
   "id": "e8a5e890-adc1-4813-8471-42ab50f68b48",
   "metadata": {},
   "outputs": [],
   "source": [
    "''' When we inherit the properties of two or more parent class in the child class is called multiple inheritance.'''\n",
    "\n",
    "class mumbai:\n",
    "    def place(self,name_of_place,hours_stayed):\n",
    "        self.name_of_place= name_of_place\n",
    "        self.hours_stayed= hours_stayed\n",
    "class food:\n",
    "    def cost(self,cost_of_food):\n",
    "        self.cost_of_food= cost_of_food\n",
    "class child(mumbai,food):\n",
    "    def return_(self):\n",
    "        return self.name_of_place, self.hours_stayed, self.cost_of_food"
   ]
  },
  {
   "cell_type": "code",
   "execution_count": 18,
   "id": "2a650d03-6532-4e08-8909-aefd4236e15c",
   "metadata": {},
   "outputs": [
    {
     "data": {
      "text/plain": [
       "('Hotel taj', 5, 6000)"
      ]
     },
     "execution_count": 18,
     "metadata": {},
     "output_type": "execute_result"
    }
   ],
   "source": [
    "obj=child()\n",
    "obj.place(\"Hotel taj\", 5)\n",
    "obj.cost(6000)\n",
    "obj.return_()"
   ]
  },
  {
   "cell_type": "code",
   "execution_count": 20,
   "id": "758e0145-08c4-4156-add8-21d8205170c4",
   "metadata": {},
   "outputs": [
    {
     "data": {
      "text/plain": [
       "' 4. What are getter and setter in python? Create a class and create a getter and a setter method in this class.'"
      ]
     },
     "execution_count": 20,
     "metadata": {},
     "output_type": "execute_result"
    }
   ],
   "source": [
    "''' 4. What are getter and setter in python? Create a class and create a getter and a setter method in this class.'''"
   ]
  },
  {
   "cell_type": "code",
   "execution_count": null,
   "id": "9600010f-e48a-4e0a-b078-720f1ddacf97",
   "metadata": {},
   "outputs": [],
   "source": [
    "''' Getter: A method that allows you to access an attribute in a given class.\n",
    "Setter: A method that allows you to set or mutate the value of an attribute in a class'''"
   ]
  },
  {
   "cell_type": "code",
   "execution_count": 36,
   "id": "7e862755-fb79-4f9d-93c4-3b92a3f6af0d",
   "metadata": {},
   "outputs": [
    {
     "name": "stdout",
     "output_type": "stream",
     "text": [
      "21\n",
      "21\n"
     ]
    }
   ],
   "source": [
    "class my_age:\n",
    "    def __init__(self, age = 0):\n",
    "         self._age = age\n",
    "    def get_age(self):\n",
    "        return self._age\n",
    "    def set_age(self, x):\n",
    "        self._age = x\n",
    "obj=my_age()\n",
    "obj.set_age(21)\n",
    "print(obj.get_age())  \n",
    "print(obj._age)"
   ]
  },
  {
   "cell_type": "code",
   "execution_count": 37,
   "id": "5da5f3c7-7690-464b-b9e1-e50a0e58ff69",
   "metadata": {},
   "outputs": [
    {
     "data": {
      "text/plain": [
       "' 5.What is method overriding in python? Write a python code to demonstrate method overriding.'"
      ]
     },
     "execution_count": 37,
     "metadata": {},
     "output_type": "execute_result"
    }
   ],
   "source": [
    "''' 5.What is method overriding in python? Write a python code to demonstrate method overriding.'''"
   ]
  },
  {
   "cell_type": "code",
   "execution_count": 40,
   "id": "3262994f-5e31-4a71-bb6d-6bf990a27d08",
   "metadata": {},
   "outputs": [
    {
     "name": "stdout",
     "output_type": "stream",
     "text": [
      "Avg speed of car in class car is 80\n",
      "Avg speed of bike in class bike is 60\n"
     ]
    }
   ],
   "source": [
    "''' Method overriding in Python is when you have two methods with the same name that each perform different tasks. This is an important feature of inheritance in Python. In method overriding, the child class can change its functions that are defined by its ancestral classes.'''\n",
    "class car:\n",
    "    def speed(self):\n",
    "        print(\"Avg speed of car in class car is 80\")\n",
    "class bike():\n",
    "    def speed(self):\n",
    "        print(\"Avg speed of bike in class bike is 60\")\n",
    "obj1=car()\n",
    "obj1.speed()\n",
    "obj2=bike()\n",
    "obj2.speed()"
   ]
  },
  {
   "cell_type": "code",
   "execution_count": null,
   "id": "9553e414-853d-41a1-a2f5-650ae11002ee",
   "metadata": {},
   "outputs": [],
   "source": []
  }
 ],
 "metadata": {
  "kernelspec": {
   "display_name": "Python 3 (ipykernel)",
   "language": "python",
   "name": "python3"
  },
  "language_info": {
   "codemirror_mode": {
    "name": "ipython",
    "version": 3
   },
   "file_extension": ".py",
   "mimetype": "text/x-python",
   "name": "python",
   "nbconvert_exporter": "python",
   "pygments_lexer": "ipython3",
   "version": "3.10.8"
  }
 },
 "nbformat": 4,
 "nbformat_minor": 5
}
