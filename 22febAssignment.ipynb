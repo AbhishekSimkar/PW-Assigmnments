{
 "cells": [
  {
   "cell_type": "code",
   "execution_count": 1,
   "id": "12750613-ef44-4247-b325-e46aad0589db",
   "metadata": {},
   "outputs": [
    {
     "data": {
      "text/plain": [
       "'1. Create a Pandas Series that contains the following data: 4, 8, 15, 16, 23, and 42. Then, print the series.'"
      ]
     },
     "execution_count": 1,
     "metadata": {},
     "output_type": "execute_result"
    }
   ],
   "source": [
    "'1. Create a Pandas Series that contains the following data: 4, 8, 15, 16, 23, and 42. Then, print the series.'"
   ]
  },
  {
   "cell_type": "code",
   "execution_count": 4,
   "id": "50c76409-7e81-4021-ba5d-77afe43e3b6d",
   "metadata": {},
   "outputs": [
    {
     "name": "stdout",
     "output_type": "stream",
     "text": [
      "0     4\n",
      "1     8\n",
      "2    15\n",
      "3    16\n",
      "4    23\n",
      "5    42\n",
      "dtype: int64\n"
     ]
    }
   ],
   "source": [
    "import pandas as pd\n",
    "import numpy as np\n",
    "data= np.array([4,8,15,16,23,42])\n",
    "series= pd.Series(data)\n",
    "print(series)"
   ]
  },
  {
   "cell_type": "code",
   "execution_count": 5,
   "id": "82ae09af-c5d2-4a45-ab1a-f4419984b0d2",
   "metadata": {},
   "outputs": [
    {
     "data": {
      "text/plain": [
       "'2. Create a variable of list type containing 10 elements in it, and apply pandas.Series function on the variable print it.'"
      ]
     },
     "execution_count": 5,
     "metadata": {},
     "output_type": "execute_result"
    }
   ],
   "source": [
    "'2. Create a variable of list type containing 10 elements in it, and apply pandas.Series function on the variable print it.'"
   ]
  },
  {
   "cell_type": "code",
   "execution_count": 6,
   "id": "987e5d3f-0507-4a22-9d07-983ba55838d9",
   "metadata": {},
   "outputs": [
    {
     "name": "stdout",
     "output_type": "stream",
     "text": [
      "0     1\n",
      "1     2\n",
      "2     3\n",
      "3     4\n",
      "4     5\n",
      "5     6\n",
      "6     7\n",
      "7     8\n",
      "8     9\n",
      "9    10\n",
      "dtype: int64\n"
     ]
    }
   ],
   "source": [
    "import pandas as pd\n",
    "lst=[1,2,3,4,5,6,7,8,9,10]\n",
    "series1= pd.Series(lst)\n",
    "print(series1)"
   ]
  },
  {
   "cell_type": "code",
   "execution_count": 7,
   "id": "3fb85e71-5945-46c4-a545-fa1b1b4c564a",
   "metadata": {},
   "outputs": [
    {
     "data": {
      "text/plain": [
       "' Create a Pandas DataFrame that contains the following data: \\nName\\nAlice\\nBob\\nClaire\\nAge\\n25\\n30\\n27\\nGender\\nFemale\\nMale\\nFemale\\nThen, print the DataFrame.'"
      ]
     },
     "execution_count": 7,
     "metadata": {},
     "output_type": "execute_result"
    }
   ],
   "source": [
    "''' Create a Pandas DataFrame that contains the following data: \n",
    "Name\n",
    "Alice\n",
    "Bob\n",
    "Claire\n",
    "Age\n",
    "25\n",
    "30\n",
    "27\n",
    "Gender\n",
    "Female\n",
    "Male\n",
    "Female\n",
    "Then, print the DataFrame.'''"
   ]
  },
  {
   "cell_type": "code",
   "execution_count": 13,
   "id": "f7a2e203-90ba-4140-bf49-201a3f6a789c",
   "metadata": {},
   "outputs": [
    {
     "name": "stdout",
     "output_type": "stream",
     "text": [
      "     Name  Age  Gender\n",
      "0   Alice   25  Female\n",
      "1     Bob   30    Male\n",
      "2  Claire   27  Female\n"
     ]
    }
   ],
   "source": [
    "import pandas as pd\n",
    "data=[['Alice',25,'Female'],['Bob',30,'Male'],['Claire',27,'Female']]\n",
    "df=pd.DataFrame(data,columns=['Name','Age','Gender'])\n",
    "print(df)"
   ]
  },
  {
   "cell_type": "code",
   "execution_count": 9,
   "id": "2cd28361-e7bc-4736-84f2-c805be1725ba",
   "metadata": {},
   "outputs": [
    {
     "data": {
      "text/plain": [
       "'4. What is ‘DataFrame’ in pandas and how is it different from pandas.series? Explain with an example.'"
      ]
     },
     "execution_count": 9,
     "metadata": {},
     "output_type": "execute_result"
    }
   ],
   "source": [
    "'4. What is ‘DataFrame’ in pandas and how is it different from pandas.series? Explain with an example.'"
   ]
  },
  {
   "cell_type": "code",
   "execution_count": 10,
   "id": "6e921739-1a03-4741-bbb9-75ce47f9e10e",
   "metadata": {},
   "outputs": [
    {
     "data": {
      "text/plain": [
       "'A Pandas DataFrame is a 2 dimensional data structure, like a 2 dimensional array, or a table with rows and columns\\nA Pandas Series is like a column in a table.It is a one-dimensional array holding data of any type.\\n\\nAbove two questions may be considered as example of Series and DataFrame respectively'"
      ]
     },
     "execution_count": 10,
     "metadata": {},
     "output_type": "execute_result"
    }
   ],
   "source": [
    "'''A Pandas DataFrame is a 2 dimensional data structure, like a 2 dimensional array, or a table with rows and columns\n",
    "A Pandas Series is like a column in a table.It is a one-dimensional array holding data of any type.\n",
    "\n",
    "Above two questions may be considered as example of Series and DataFrame respectively'''\n"
   ]
  },
  {
   "cell_type": "code",
   "execution_count": 11,
   "id": "0c7b0185-6987-43ad-8dc1-f35aaa9b5bed",
   "metadata": {},
   "outputs": [
    {
     "data": {
      "text/plain": [
       "'5. What are some common functions you can use to manipulate data in a Pandas DataFrame? Can you give an example of when you might use one of these functions?'"
      ]
     },
     "execution_count": 11,
     "metadata": {},
     "output_type": "execute_result"
    }
   ],
   "source": [
    "'5. What are some common functions you can use to manipulate data in a Pandas DataFrame? Can you give an example of when you might use one of these functions?'"
   ]
  },
  {
   "cell_type": "code",
   "execution_count": 14,
   "id": "0e0bd70c-dadd-4b32-adbe-bf6c10eb19d8",
   "metadata": {},
   "outputs": [
    {
     "data": {
      "text/html": [
       "<div>\n",
       "<style scoped>\n",
       "    .dataframe tbody tr th:only-of-type {\n",
       "        vertical-align: middle;\n",
       "    }\n",
       "\n",
       "    .dataframe tbody tr th {\n",
       "        vertical-align: top;\n",
       "    }\n",
       "\n",
       "    .dataframe thead th {\n",
       "        text-align: right;\n",
       "    }\n",
       "</style>\n",
       "<table border=\"1\" class=\"dataframe\">\n",
       "  <thead>\n",
       "    <tr style=\"text-align: right;\">\n",
       "      <th></th>\n",
       "      <th>Name</th>\n",
       "      <th>Age</th>\n",
       "      <th>Gender</th>\n",
       "    </tr>\n",
       "  </thead>\n",
       "  <tbody>\n",
       "    <tr>\n",
       "      <th>0</th>\n",
       "      <td>Alice</td>\n",
       "      <td>25</td>\n",
       "      <td>Female</td>\n",
       "    </tr>\n",
       "    <tr>\n",
       "      <th>1</th>\n",
       "      <td>Bob</td>\n",
       "      <td>30</td>\n",
       "      <td>Male</td>\n",
       "    </tr>\n",
       "  </tbody>\n",
       "</table>\n",
       "</div>"
      ],
      "text/plain": [
       "    Name  Age  Gender\n",
       "0  Alice   25  Female\n",
       "1    Bob   30    Male"
      ]
     },
     "execution_count": 14,
     "metadata": {},
     "output_type": "execute_result"
    }
   ],
   "source": [
    "'''Some of the most common functions are:\n",
    "head(), tail(), columns, dtypes'''\n",
    "df.head(2)"
   ]
  },
  {
   "cell_type": "code",
   "execution_count": 15,
   "id": "b515206d-08c0-4603-8155-59a9d21237cf",
   "metadata": {},
   "outputs": [
    {
     "data": {
      "text/plain": [
       "'6. Which of the following is mutable in nature Series, DataFrame, Panel?'"
      ]
     },
     "execution_count": 15,
     "metadata": {},
     "output_type": "execute_result"
    }
   ],
   "source": [
    "'''6. Which of the following is mutable in nature Series, DataFrame, Panel?'''"
   ]
  },
  {
   "cell_type": "code",
   "execution_count": 16,
   "id": "ff1128a2-1d3b-45ca-bdfe-538b4ce0b083",
   "metadata": {},
   "outputs": [
    {
     "data": {
      "text/plain": [
       "'DataFrame and Pandas panel are mutable'"
      ]
     },
     "execution_count": 16,
     "metadata": {},
     "output_type": "execute_result"
    }
   ],
   "source": [
    "'''DataFrame and Pandas panel are mutable'''"
   ]
  },
  {
   "cell_type": "code",
   "execution_count": 17,
   "id": "d44aec1d-2c6f-4d38-a3f0-8e4a5afd43ad",
   "metadata": {},
   "outputs": [
    {
     "data": {
      "text/plain": [
       "'7. Create a DataFrame using multiple Series. Explain with an example.'"
      ]
     },
     "execution_count": 17,
     "metadata": {},
     "output_type": "execute_result"
    }
   ],
   "source": [
    "'''7. Create a DataFrame using multiple Series. Explain with an example.'''"
   ]
  },
  {
   "cell_type": "code",
   "execution_count": 23,
   "id": "f3f6f228-9151-44a0-b206-602c1a61f653",
   "metadata": {},
   "outputs": [
    {
     "name": "stdout",
     "output_type": "stream",
     "text": [
      "        Name  Marks   Branch\n",
      "0   Abhishek     95      MME\n",
      "1     Rajesh     75  Bio Med\n",
      "2     Garima     78     Mech\n",
      "3     Gaurav     83      ECE\n",
      "4  Shreyansh     65   MIning\n",
      "5   Akanksha     59       IT\n"
     ]
    }
   ],
   "source": [
    "import pandas as pd\n",
    "Name=pd.Series(['Abhishek','Rajesh','Garima','Gaurav','Shreyansh','Akanksha'],name='Name')\n",
    "Marks=pd.Series([95,75,78,83,65,59],name='Marks')\n",
    "Branch=pd.Series(['MME','Bio Med','Mech','ECE','MIning','IT'],name='Branch')\n",
    "df=pd.concat([Name,Marks,Branch],axis=1)\n",
    "print(df)"
   ]
  },
  {
   "cell_type": "code",
   "execution_count": null,
   "id": "216416eb-d967-47a8-9650-b1e176c3aa92",
   "metadata": {},
   "outputs": [],
   "source": []
  }
 ],
 "metadata": {
  "kernelspec": {
   "display_name": "Python 3 (ipykernel)",
   "language": "python",
   "name": "python3"
  },
  "language_info": {
   "codemirror_mode": {
    "name": "ipython",
    "version": 3
   },
   "file_extension": ".py",
   "mimetype": "text/x-python",
   "name": "python",
   "nbconvert_exporter": "python",
   "pygments_lexer": "ipython3",
   "version": "3.10.8"
  }
 },
 "nbformat": 4,
 "nbformat_minor": 5
}
