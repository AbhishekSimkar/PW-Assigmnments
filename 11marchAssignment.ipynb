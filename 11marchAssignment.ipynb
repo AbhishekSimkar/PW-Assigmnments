{
 "cells": [
  {
   "cell_type": "code",
   "execution_count": 1,
   "id": "2de2da0f-fd13-4c17-9cf4-baf839ec674b",
   "metadata": {},
   "outputs": [
    {
     "data": {
      "text/plain": [
       "'1: What is the difference between a t-test and a z-test? Provide an example scenario where you would use each type of test.'"
      ]
     },
     "execution_count": 1,
     "metadata": {},
     "output_type": "execute_result"
    }
   ],
   "source": [
    "'1: What is the difference between a t-test and a z-test? Provide an example scenario where you would use each type of test.'"
   ]
  },
  {
   "cell_type": "code",
   "execution_count": 2,
   "id": "7fe0c062-3d30-46de-92b3-7cc082c43144",
   "metadata": {},
   "outputs": [
    {
     "data": {
      "text/plain": [
       "'z-test is used when we know population stadard deviation and sample size is greater than 30 whereas t-test is used \\n1) if we do not know population standard deviation.\\n2) if we know population standard deviation but sample size is less than 30.'"
      ]
     },
     "execution_count": 2,
     "metadata": {},
     "output_type": "execute_result"
    }
   ],
   "source": [
    "'''z-test is used when we know population stadard deviation and sample size is greater than 30 whereas t-test is used \n",
    "1) if we do not know population standard deviation.\n",
    "2) if we know population standard deviation but sample size is less than 30.'''"
   ]
  },
  {
   "cell_type": "code",
   "execution_count": 3,
   "id": "a01a0292-5961-48af-9095-ba0520a267d8",
   "metadata": {},
   "outputs": [
    {
     "data": {
      "text/plain": [
       "'2: Differentiate between one-tailed and two-tailed tests.'"
      ]
     },
     "execution_count": 3,
     "metadata": {},
     "output_type": "execute_result"
    }
   ],
   "source": [
    "'2: Differentiate between one-tailed and two-tailed tests.'"
   ]
  },
  {
   "cell_type": "code",
   "execution_count": 4,
   "id": "d912fa87-9ec8-4e9c-bbeb-7ed4641b4e04",
   "metadata": {},
   "outputs": [
    {
     "data": {
      "text/plain": [
       "'In one-tailed test is used when we have to check one side of the mean value whereas in two-tailed test we have to check both sides of the mean value.'"
      ]
     },
     "execution_count": 4,
     "metadata": {},
     "output_type": "execute_result"
    }
   ],
   "source": [
    "'''In one-tailed test is used when we have to check one side of the mean value whereas in two-tailed test we have to check both sides of the mean value.'''"
   ]
  },
  {
   "cell_type": "code",
   "execution_count": 5,
   "id": "1a5e45ec-1eb7-451d-b408-127111997a7b",
   "metadata": {},
   "outputs": [
    {
     "data": {
      "text/plain": [
       "'3: Explain the concept of Type 1 and Type 2 errors in hypothesis testing. Provide an example scenario for each type of error.'"
      ]
     },
     "execution_count": 5,
     "metadata": {},
     "output_type": "execute_result"
    }
   ],
   "source": [
    "'3: Explain the concept of Type 1 and Type 2 errors in hypothesis testing. Provide an example scenario for each type of error.'"
   ]
  },
  {
   "cell_type": "code",
   "execution_count": 6,
   "id": "497d4b61-a6ca-4cba-a64a-fa3b043faf68",
   "metadata": {},
   "outputs": [
    {
     "data": {
      "text/plain": [
       "' Type 1 error: When we decline the null hypothesis but it is True.\\nType 2 error: When we retain the null hypothesis but it is False.'"
      ]
     },
     "execution_count": 6,
     "metadata": {},
     "output_type": "execute_result"
    }
   ],
   "source": [
    "''' Type 1 error: When we decline the null hypothesis but it is True.\n",
    "Type 2 error: When we retain the null hypothesis but it is False.'''"
   ]
  },
  {
   "cell_type": "code",
   "execution_count": 7,
   "id": "bd19f9a3-630a-4ecd-91f0-8465a2e507dd",
   "metadata": {},
   "outputs": [
    {
     "data": {
      "text/plain": [
       "'4:  Explain Bayess theorem with an example.'"
      ]
     },
     "execution_count": 7,
     "metadata": {},
     "output_type": "execute_result"
    }
   ],
   "source": [
    "'4:  Explain Bayess theorem with an example.'"
   ]
  },
  {
   "cell_type": "code",
   "execution_count": 8,
   "id": "82baa32d-3129-49a0-8f01-1bb6317b678c",
   "metadata": {},
   "outputs": [
    {
     "data": {
      "text/plain": [
       "'Bayes theorem is a fundamental concept in probability theory and statistics that relates conditional probabilities. It allows us to update our beliefs about an event based on new evidence or information.\\nIt can be stated as follows:\\nP(A|B) = (P(B|A) * P(A)) / P(B)'"
      ]
     },
     "execution_count": 8,
     "metadata": {},
     "output_type": "execute_result"
    }
   ],
   "source": [
    "'''Bayes theorem is a fundamental concept in probability theory and statistics that relates conditional probabilities. It allows us to update our beliefs about an event based on new evidence or information.\n",
    "It can be stated as follows:\n",
    "P(A|B) = (P(B|A) * P(A)) / P(B)'''"
   ]
  },
  {
   "cell_type": "code",
   "execution_count": 9,
   "id": "780c01aa-cc8c-42fd-a84f-87d6687d5295",
   "metadata": {},
   "outputs": [
    {
     "data": {
      "text/plain": [
       "'5: What is a confidence interval? How to calculate the confidence interval, explain with an example.'"
      ]
     },
     "execution_count": 9,
     "metadata": {},
     "output_type": "execute_result"
    }
   ],
   "source": [
    "'5: What is a confidence interval? How to calculate the confidence interval, explain with an example.'"
   ]
  },
  {
   "cell_type": "code",
   "execution_count": 10,
   "id": "8247d233-065f-469f-b3d6-962683988b1e",
   "metadata": {},
   "outputs": [
    {
     "data": {
      "text/plain": [
       "'The interval in which we can be confident that the null hypothesis will be true is called null hypothesis. It can be calculated using marging of error.\\nlower Confidence interval = mean - margin of error.\\nupper Confidence interval = mean + margin of error.'"
      ]
     },
     "execution_count": 10,
     "metadata": {},
     "output_type": "execute_result"
    }
   ],
   "source": [
    "'''The interval in which we can be confident that the null hypothesis will be true is called null hypothesis. It can be calculated using marging of error.\n",
    "lower Confidence interval = mean - margin of error.\n",
    "upper Confidence interval = mean + margin of error.'''"
   ]
  },
  {
   "cell_type": "code",
   "execution_count": 11,
   "id": "93c96899-4fa4-4bd3-aad2-949c8eaaff08",
   "metadata": {},
   "outputs": [
    {
     "data": {
      "text/plain": [
       "'6. Use Bayes Theorem to calculate the probability of an event occurring given prior knowledge of the events probability and new evidence. Provide a sample problem and solution.'"
      ]
     },
     "execution_count": 11,
     "metadata": {},
     "output_type": "execute_result"
    }
   ],
   "source": [
    "'6. Use Bayes Theorem to calculate the probability of an event occurring given prior knowledge of the events probability and new evidence. Provide a sample problem and solution.'"
   ]
  },
  {
   "cell_type": "code",
   "execution_count": 12,
   "id": "bbea18ae-d4de-4cb6-bfa4-0d1f2393d1ea",
   "metadata": {},
   "outputs": [
    {
     "data": {
      "text/plain": [
       "\" Let us consider a problem:\\nIn a standard deck of playing cards, there are 52 cards, with 26 red cards (13 hearts and 13 diamonds) and 26 black cards (13 spades and 13 clubs). You randomly draw a card from the deck, and you know that the probability of drawing a red card is 0.5 (P(R) = 0.5).\\nNow, let's say you receive new evidence that the card you drew is a heart. Given this new information, what is the probability that the card is red (P(R|H))?\\n\\nNow solution: P(R|H) = (P(H|R) * P(R)) / P(H)\\nP(R|H) = (0.25 * 0.5) / 0.25\\nP(R|H) = 0.5\\nTherefore, the probability of the card being red, given that it is a heart, is 0.5 \""
      ]
     },
     "execution_count": 12,
     "metadata": {},
     "output_type": "execute_result"
    }
   ],
   "source": [
    "''' Let us consider a problem:\n",
    "In a standard deck of playing cards, there are 52 cards, with 26 red cards (13 hearts and 13 diamonds) and 26 black cards (13 spades and 13 clubs). You randomly draw a card from the deck, and you know that the probability of drawing a red card is 0.5 (P(R) = 0.5).\n",
    "Now, let's say you receive new evidence that the card you drew is a heart. Given this new information, what is the probability that the card is red (P(R|H))?\n",
    "\n",
    "Now solution: P(R|H) = (P(H|R) * P(R)) / P(H)\n",
    "P(R|H) = (0.25 * 0.5) / 0.25\n",
    "P(R|H) = 0.5\n",
    "Therefore, the probability of the card being red, given that it is a heart, is 0.5 '''"
   ]
  },
  {
   "cell_type": "code",
   "execution_count": 13,
   "id": "6230d39d-79aa-49ff-ab24-047be0a07f6f",
   "metadata": {},
   "outputs": [
    {
     "data": {
      "text/plain": [
       "'7. Calculate the 95% confidence interval for a sample of data with a mean of 50 and a standard deviation of 5. Interpret the results.'"
      ]
     },
     "execution_count": 13,
     "metadata": {},
     "output_type": "execute_result"
    }
   ],
   "source": [
    "'7. Calculate the 95% confidence interval for a sample of data with a mean of 50 and a standard deviation of 5. Interpret the results.'"
   ]
  },
  {
   "cell_type": "code",
   "execution_count": 14,
   "id": "f43dd74e-b2ed-46be-873e-9870a39f7a1e",
   "metadata": {},
   "outputs": [
    {
     "data": {
      "text/plain": [
       "'given mean= 50, std=5, CI=95 ==> alpha= 0.05.\\nlet n= 36\\nmargin of error= Z * (std/ (n**(1/2)))\\nso, moe= 1.96 * 5/6 = 1.633\\ntherefore confidence interval will be 48.367 and 51.633.'"
      ]
     },
     "execution_count": 14,
     "metadata": {},
     "output_type": "execute_result"
    }
   ],
   "source": [
    "'''given mean= 50, std=5, CI=95 ==> alpha= 0.05.\n",
    "let n= 36\n",
    "margin of error= Z * (std/ (n**(1/2)))\n",
    "so, moe= 1.96 * 5/6 = 1.633\n",
    "therefore confidence interval will be 48.367 and 51.633.'''"
   ]
  },
  {
   "cell_type": "code",
   "execution_count": 15,
   "id": "cd6a1d05-f609-4a12-9c66-dbb56d1fa793",
   "metadata": {},
   "outputs": [
    {
     "data": {
      "text/plain": [
       "'8. What is the margin of error in a confidence interval? How does sample size affect the margin of error? Provide an example of a scenario where a larger sample size would result in a smaller margin of error.'"
      ]
     },
     "execution_count": 15,
     "metadata": {},
     "output_type": "execute_result"
    }
   ],
   "source": [
    "'8. What is the margin of error in a confidence interval? How does sample size affect the margin of error? Provide an example of a scenario where a larger sample size would result in a smaller margin of error.'"
   ]
  },
  {
   "cell_type": "code",
   "execution_count": 16,
   "id": "fb91addd-7fa8-4957-be6c-ab59ce6dec55",
   "metadata": {},
   "outputs": [
    {
     "data": {
      "text/plain": [
       "' Margin of error is a measure of the uncertainty or variability associated with estimating a population parameter based on a sample.'"
      ]
     },
     "execution_count": 16,
     "metadata": {},
     "output_type": "execute_result"
    }
   ],
   "source": [
    "''' Margin of error is a measure of the uncertainty or variability associated with estimating a population parameter based on a sample.'''"
   ]
  },
  {
   "cell_type": "code",
   "execution_count": 17,
   "id": "3807fb67-97cf-464d-9086-b414272497b6",
   "metadata": {},
   "outputs": [
    {
     "data": {
      "text/plain": [
       "'9. Calculate the z-score for a data point with a value of 75, a population mean of 70, and a population standard deviation of 5. Interpret the results.'"
      ]
     },
     "execution_count": 17,
     "metadata": {},
     "output_type": "execute_result"
    }
   ],
   "source": [
    "'9. Calculate the z-score for a data point with a value of 75, a population mean of 70, and a population standard deviation of 5. Interpret the results.'"
   ]
  },
  {
   "cell_type": "code",
   "execution_count": 18,
   "id": "381f3bd8-1baa-48ab-a228-6797494082cd",
   "metadata": {},
   "outputs": [
    {
     "data": {
      "text/plain": [
       "' Z score = (data point - mean )/ standard deviation\\nz score= (75-70)/5\\nz score= 1'"
      ]
     },
     "execution_count": 18,
     "metadata": {},
     "output_type": "execute_result"
    }
   ],
   "source": [
    "''' Z score = (data point - mean )/ standard deviation\n",
    "z score= (75-70)/5\n",
    "z score= 1'''"
   ]
  },
  {
   "cell_type": "code",
   "execution_count": null,
   "id": "acaa69bf-7640-4777-bc6b-6c62e55d07a8",
   "metadata": {},
   "outputs": [],
   "source": []
  }
 ],
 "metadata": {
  "kernelspec": {
   "display_name": "Python 3 (ipykernel)",
   "language": "python",
   "name": "python3"
  },
  "language_info": {
   "codemirror_mode": {
    "name": "ipython",
    "version": 3
   },
   "file_extension": ".py",
   "mimetype": "text/x-python",
   "name": "python",
   "nbconvert_exporter": "python",
   "pygments_lexer": "ipython3",
   "version": "3.10.8"
  }
 },
 "nbformat": 4,
 "nbformat_minor": 5
}
