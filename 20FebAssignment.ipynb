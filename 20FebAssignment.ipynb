{
 "cells": [
  {
   "cell_type": "code",
   "execution_count": 1,
   "id": "86fed891-73fb-4e3b-bfd6-230226c739b2",
   "metadata": {},
   "outputs": [
    {
     "data": {
      "text/plain": [
       "'1. Explain GET and POST methods.'"
      ]
     },
     "execution_count": 1,
     "metadata": {},
     "output_type": "execute_result"
    }
   ],
   "source": [
    "'''1. Explain GET and POST methods.'''"
   ]
  },
  {
   "cell_type": "code",
   "execution_count": 2,
   "id": "2c0091de-00e7-49b3-8ae5-7b6cd870458c",
   "metadata": {},
   "outputs": [
    {
     "data": {
      "text/plain": [
       "'GET Sends data in unencrypted form to the server. Most common method.\\nPOST Used to send HTML form data to server. Data received by POST method is not cached by server.'"
      ]
     },
     "execution_count": 2,
     "metadata": {},
     "output_type": "execute_result"
    }
   ],
   "source": [
    "'''GET Sends data in unencrypted form to the server. Most common method.\n",
    "POST Used to send HTML form data to server. Data received by POST method is not cached by server.'''"
   ]
  },
  {
   "cell_type": "code",
   "execution_count": 3,
   "id": "82049754-d068-4506-8dde-836437e3e91e",
   "metadata": {},
   "outputs": [
    {
     "data": {
      "text/plain": [
       "'2. Why is request used in Flask?'"
      ]
     },
     "execution_count": 3,
     "metadata": {},
     "output_type": "execute_result"
    }
   ],
   "source": [
    "'''2. Why is request used in Flask?'''"
   ]
  },
  {
   "cell_type": "code",
   "execution_count": 4,
   "id": "d40981bc-0c50-4f52-919c-bb508fa9c10e",
   "metadata": {},
   "outputs": [
    {
     "data": {
      "text/plain": [
       "'In the client-server architecture, the request object contains all the data that is sent from the client to the server. As we have already discussed in the tutorial, we can retrieve the data at the server side using the HTTP methods.'"
      ]
     },
     "execution_count": 4,
     "metadata": {},
     "output_type": "execute_result"
    }
   ],
   "source": [
    "'''In the client-server architecture, the request object contains all the data that is sent from the client to the server. As we have already discussed in the tutorial, we can retrieve the data at the server side using the HTTP methods.'''"
   ]
  },
  {
   "cell_type": "code",
   "execution_count": 5,
   "id": "420e62fe-f0c3-46b7-b231-8cae364b9031",
   "metadata": {},
   "outputs": [
    {
     "data": {
      "text/plain": [
       "'3. Why is redirect() used in Flask?'"
      ]
     },
     "execution_count": 5,
     "metadata": {},
     "output_type": "execute_result"
    }
   ],
   "source": [
    "'''3. Why is redirect() used in Flask?'''"
   ]
  },
  {
   "cell_type": "code",
   "execution_count": 6,
   "id": "8f34b734-e939-4055-bb90-74ccd8f5006c",
   "metadata": {},
   "outputs": [
    {
     "data": {
      "text/plain": [
       "'it returns a response object and redirects the user to another target location with specified status code. location parameter is the URL where response should be redirected.'"
      ]
     },
     "execution_count": 6,
     "metadata": {},
     "output_type": "execute_result"
    }
   ],
   "source": [
    "'''it returns a response object and redirects the user to another target location with specified status code. location parameter is the URL where response should be redirected.'''"
   ]
  },
  {
   "cell_type": "code",
   "execution_count": 8,
   "id": "ca205388-af46-491d-8a99-fce4bb19e07c",
   "metadata": {},
   "outputs": [
    {
     "data": {
      "text/plain": [
       "'4. What are templates in Flask? Why is the render_template() function used?'"
      ]
     },
     "execution_count": 8,
     "metadata": {},
     "output_type": "execute_result"
    }
   ],
   "source": [
    "'''4. What are templates in Flask? Why is the render_template() function used?'''"
   ]
  },
  {
   "cell_type": "code",
   "execution_count": 9,
   "id": "7d3924c0-d66f-44e4-9f75-2d2f4276509f",
   "metadata": {},
   "outputs": [
    {
     "data": {
      "text/plain": [
       "\"Templates are files that contain static data as well as placeholders for dynamic data. A template is rendered with specific data to produce a final document.\\nrender_template is used to generate output from a template file based on the Jinja2 engine that is found in the application's templates folder.\""
      ]
     },
     "execution_count": 9,
     "metadata": {},
     "output_type": "execute_result"
    }
   ],
   "source": [
    "'''Templates are files that contain static data as well as placeholders for dynamic data. A template is rendered with specific data to produce a final document.\n",
    "render_template is used to generate output from a template file based on the Jinja2 engine that is found in the application's templates folder.'''"
   ]
  },
  {
   "cell_type": "code",
   "execution_count": 10,
   "id": "32edd522-381a-49e9-9604-969d752bb775",
   "metadata": {},
   "outputs": [
    {
     "data": {
      "text/plain": [
       "'5. Create a simple API. Use Postman to test it. Attach the screenshot of the output in the Jupyter Notebook.'"
      ]
     },
     "execution_count": 10,
     "metadata": {},
     "output_type": "execute_result"
    }
   ],
   "source": [
    "'''5. Create a simple API. Use Postman to test it. Attach the screenshot of the output in the Jupyter Notebook.'''"
   ]
  },
  {
   "cell_type": "code",
   "execution_count": null,
   "id": "a7e823bc-5460-438f-8085-97dd6badbb3c",
   "metadata": {},
   "outputs": [],
   "source": []
  }
 ],
 "metadata": {
  "kernelspec": {
   "display_name": "Python 3 (ipykernel)",
   "language": "python",
   "name": "python3"
  },
  "language_info": {
   "codemirror_mode": {
    "name": "ipython",
    "version": 3
   },
   "file_extension": ".py",
   "mimetype": "text/x-python",
   "name": "python",
   "nbconvert_exporter": "python",
   "pygments_lexer": "ipython3",
   "version": "3.10.8"
  }
 },
 "nbformat": 4,
 "nbformat_minor": 5
}
