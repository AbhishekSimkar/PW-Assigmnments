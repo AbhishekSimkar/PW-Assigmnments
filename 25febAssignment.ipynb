{
 "cells": [
  {
   "cell_type": "code",
   "execution_count": 1,
   "id": "049ebd76-e7c0-49cc-886b-593d63dcb4a7",
   "metadata": {},
   "outputs": [
    {
     "data": {
      "text/plain": [
       "'Consider following code to answer further questions:'"
      ]
     },
     "execution_count": 1,
     "metadata": {},
     "output_type": "execute_result"
    }
   ],
   "source": [
    "'''Consider following code to answer further questions:'''"
   ]
  },
  {
   "cell_type": "code",
   "execution_count": 2,
   "id": "36177f27-7d6b-4b84-aeda-b55cebabf15f",
   "metadata": {},
   "outputs": [
    {
     "name": "stdout",
     "output_type": "stream",
     "text": [
      "        course_name  duration\n",
      "0      Data Science         2\n",
      "1  Machine Learning         3\n",
      "2          Big Data         6\n",
      "3     Data Engineer         4\n"
     ]
    }
   ],
   "source": [
    "import pandas as pd\n",
    "course_name = ['Data Science', 'Machine Learning', 'Big Data', 'Data Engineer']\n",
    "duration =  [2,3,6,4]\n",
    "df = pd.DataFrame(data = {'course_name' : course_name, 'duration' : duration})\n",
    "print(df)"
   ]
  },
  {
   "cell_type": "code",
   "execution_count": 3,
   "id": "c67425cf-6896-47f0-b951-36b913cfa1ec",
   "metadata": {},
   "outputs": [
    {
     "data": {
      "text/plain": [
       "'Q1. Write a code to print the data present in the second row of the dataframe, df.'"
      ]
     },
     "execution_count": 3,
     "metadata": {},
     "output_type": "execute_result"
    }
   ],
   "source": [
    "'''Q1. Write a code to print the data present in the second row of the dataframe, df.'''"
   ]
  },
  {
   "cell_type": "code",
   "execution_count": 4,
   "id": "b24073ce-7739-4148-a826-77f72e6fc41c",
   "metadata": {},
   "outputs": [
    {
     "data": {
      "text/plain": [
       "course_name    Machine Learning\n",
       "duration                      3\n",
       "Name: 1, dtype: object"
      ]
     },
     "execution_count": 4,
     "metadata": {},
     "output_type": "execute_result"
    }
   ],
   "source": [
    "df.iloc[1]"
   ]
  },
  {
   "cell_type": "code",
   "execution_count": 5,
   "id": "cfb14672-1a60-42db-b579-cab5b1e5b1a2",
   "metadata": {},
   "outputs": [
    {
     "data": {
      "text/plain": [
       "'2. What is the difference between the functions loc and iloc in pandas.DataFrame?'"
      ]
     },
     "execution_count": 5,
     "metadata": {},
     "output_type": "execute_result"
    }
   ],
   "source": [
    "'''2. What is the difference between the functions loc and iloc in pandas.DataFrame?'''"
   ]
  },
  {
   "cell_type": "code",
   "execution_count": 6,
   "id": "b82b79bb-40c7-4f4e-a57d-ed0fb81c7a82",
   "metadata": {},
   "outputs": [
    {
     "data": {
      "text/plain": [
       "'loc is primarily used for label indexing, while . iloc is mainly used for integer indexing.'"
      ]
     },
     "execution_count": 6,
     "metadata": {},
     "output_type": "execute_result"
    }
   ],
   "source": [
    "'''loc is primarily used for label indexing, while . iloc is mainly used for integer indexing.'''"
   ]
  },
  {
   "cell_type": "code",
   "execution_count": 7,
   "id": "5823a36d-9899-4af0-8abd-e29e43fc1b77",
   "metadata": {},
   "outputs": [
    {
     "data": {
      "text/plain": [
       "'Q3. Reindex the given dataframe using a variable, reindex = [3,0,1,2] and store it in the variable, new_df then find the output for both new_df.loc[2] and new_df.iloc[2].\\nDid you observe any difference in both the outputs? If so then explain it.'"
      ]
     },
     "execution_count": 7,
     "metadata": {},
     "output_type": "execute_result"
    }
   ],
   "source": [
    "'''Q3. Reindex the given dataframe using a variable, reindex = [3,0,1,2] and store it in the variable, new_df then find the output for both new_df.loc[2] and new_df.iloc[2].\n",
    "Did you observe any difference in both the outputs? If so then explain it.'''"
   ]
  },
  {
   "cell_type": "code",
   "execution_count": 8,
   "id": "e5bffb3d-bb62-4908-a8d2-b91490a14d3f",
   "metadata": {},
   "outputs": [
    {
     "name": "stdout",
     "output_type": "stream",
     "text": [
      "        course_name  duration\n",
      "3     Data Engineer         4\n",
      "0      Data Science         2\n",
      "1  Machine Learning         3\n",
      "2          Big Data         6\n",
      "\n",
      " Output of loc[2] is\n",
      " course_name    Big Data\n",
      "duration              6\n",
      "Name: 2, dtype: object\n",
      "\n",
      " Output of iloc[2] is\n",
      " course_name    Machine Learning\n",
      "duration                      3\n",
      "Name: 1, dtype: object\n"
     ]
    },
    {
     "data": {
      "text/plain": [
       "'There is a differndifference in both the outputs. Since, loc is used for integeral indexing we are getting output according to indexing we have given. But iloc can\\'t read integral indexes it reads strings therefore we are getting indexed output from  \"course_name\" column'"
      ]
     },
     "execution_count": 8,
     "metadata": {},
     "output_type": "execute_result"
    }
   ],
   "source": [
    "new_index=[3,0,1,2]\n",
    "new_df=df.reindex(new_index)\n",
    "print(new_df)\n",
    "print('\\n Output of loc[2] is\\n', new_df.loc[2])\n",
    "print('\\n Output of iloc[2] is\\n', new_df.iloc[2])\n",
    "'''There is a differndifference in both the outputs. Since, loc is used for integeral indexing we are getting output according to indexing we have given. But iloc can't read integral indexes it reads strings therefore we are getting indexed output from  \"course_name\" column'''"
   ]
  },
  {
   "cell_type": "code",
   "execution_count": 9,
   "id": "cbd7e94f-c5d6-456b-bbc5-2beff3468a2e",
   "metadata": {},
   "outputs": [
    {
     "name": "stdout",
     "output_type": "stream",
     "text": [
      "   column_1  column_2  column_3  column_4  column_5  column_6\n",
      "1  0.149407  0.439317  0.314686  0.615955  0.161157  0.338780\n",
      "2  0.177464  0.317755  0.893415  0.011013  0.245647  0.771330\n",
      "3  0.940970  0.104782  0.146457  0.668064  0.079373  0.688222\n",
      "4  0.329717  0.746347  0.455909  0.344752  0.207894  0.290873\n",
      "5  0.061823  0.332157  0.839199  0.122972  0.079377  0.795866\n",
      "6  0.047552  0.817677  0.350752  0.343216  0.698117  0.875157\n"
     ]
    }
   ],
   "source": [
    "'''Consider the below code to answer further questions:'''\n",
    "import pandas as pd\n",
    "import numpy as np\n",
    "columns = ['column_1', 'column_2', 'column_3', 'column_4', 'column_5', 'column_6']\n",
    "indices = [1,2,3,4,5,6]\n",
    "#Creating a dataframe:\n",
    "df1 = pd.DataFrame(np.random.rand(6,6), columns = columns, index = indices)\n",
    "print(df1)"
   ]
  },
  {
   "cell_type": "code",
   "execution_count": 10,
   "id": "aad48712-f641-46fd-950b-d9a1e105abbe",
   "metadata": {},
   "outputs": [
    {
     "data": {
      "text/plain": [
       "'4. Write a code to find the following statistical measurements for the above dataframe df1:\\n(i) mean of each and every column present in the dataframe.\\n(ii) standard deviation of column, ‘column_2’'"
      ]
     },
     "execution_count": 10,
     "metadata": {},
     "output_type": "execute_result"
    }
   ],
   "source": [
    "'''4. Write a code to find the following statistical measurements for the above dataframe df1:\n",
    "(i) mean of each and every column present in the dataframe.\n",
    "(ii) standard deviation of column, ‘column_2’'''"
   ]
  },
  {
   "cell_type": "code",
   "execution_count": 11,
   "id": "076021f5-da37-4e88-8cd3-9b0b2147f401",
   "metadata": {},
   "outputs": [
    {
     "name": "stdout",
     "output_type": "stream",
     "text": [
      "\n",
      " mean of column 1 is :  0.2844889689146249\n",
      "\n",
      " mean of column 2 is :  0.45967246208314333\n",
      "\n",
      " mean of column 3 is :  0.5000695471397993\n",
      "\n",
      " mean of column 4 is :  0.3509952061232117\n",
      "\n",
      " mean of column 5 is :  0.24526085068167477\n",
      "\n",
      " mean of column 6 is :  0.6267046756313375\n",
      "\n",
      " standard deviation of column 2 is :  0.27317112368514557\n"
     ]
    }
   ],
   "source": [
    "print('\\n mean of column 1 is : ',df1['column_1'].mean())\n",
    "print('\\n mean of column 2 is : ',df1['column_2'].mean())\n",
    "print('\\n mean of column 3 is : ',df1['column_3'].mean())\n",
    "print('\\n mean of column 4 is : ',df1['column_4'].mean())\n",
    "print('\\n mean of column 5 is : ',df1['column_5'].mean())\n",
    "print('\\n mean of column 6 is : ',df1['column_6'].mean())\n",
    "print('\\n standard deviation of column 2 is : ',df1['column_2'].std())"
   ]
  },
  {
   "cell_type": "code",
   "execution_count": 12,
   "id": "66bb024f-cae7-4769-8e2e-b30bc4d368f5",
   "metadata": {},
   "outputs": [
    {
     "data": {
      "text/plain": [
       "'5. Replace the data present in the second row of column, ‘column_2’ by a string variable then find the mean of column, column_2.\\nIf you are getting errors in executing it then explain why.\\n[Hint: To replace the data use df1.loc[] and equate this to string data of your choice.]'"
      ]
     },
     "execution_count": 12,
     "metadata": {},
     "output_type": "execute_result"
    }
   ],
   "source": [
    "'''5. Replace the data present in the second row of column, ‘column_2’ by a string variable then find the mean of column, column_2.\n",
    "If you are getting errors in executing it then explain why.\n",
    "[Hint: To replace the data use df1.loc[] and equate this to string data of your choice.]'''"
   ]
  },
  {
   "cell_type": "code",
   "execution_count": 13,
   "id": "19b21be3-e083-4bf2-9e82-76892a298ee2",
   "metadata": {},
   "outputs": [
    {
     "data": {
      "text/plain": [
       "column_1    False\n",
       "column_2    False\n",
       "column_3    False\n",
       "column_4    False\n",
       "column_5    False\n",
       "column_6    False\n",
       "Name: 2, dtype: bool"
      ]
     },
     "execution_count": 13,
     "metadata": {},
     "output_type": "execute_result"
    }
   ],
   "source": [
    "df1.loc[2]== 'abhi'\n",
    "#print('\\n mean of column 2 is : ',df1['column_2'].mean())"
   ]
  },
  {
   "cell_type": "code",
   "execution_count": 14,
   "id": "65d74350-241c-4b3f-9598-44461394c57a",
   "metadata": {},
   "outputs": [
    {
     "data": {
      "text/plain": [
       "'6. What do you understand about the windows function in pandas and list the types of windows functions?'"
      ]
     },
     "execution_count": 14,
     "metadata": {},
     "output_type": "execute_result"
    }
   ],
   "source": [
    "'''6. What do you understand about the windows function in pandas and list the types of windows functions?'''"
   ]
  },
  {
   "cell_type": "code",
   "execution_count": 15,
   "id": "1c2ef48b-c12a-4781-b94a-6dad6efce5f3",
   "metadata": {},
   "outputs": [
    {
     "data": {
      "text/plain": [
       "'the window functions are used for calculating and analyzing data over a sliding or rolling window. A window function allows you to perform calculations on a subset of data within a specified window size.\\nTypes of window functions are: rolling(), mean(), std(), median(), etc'"
      ]
     },
     "execution_count": 15,
     "metadata": {},
     "output_type": "execute_result"
    }
   ],
   "source": [
    "'''the window functions are used for calculating and analyzing data over a sliding or rolling window. A window function allows you to perform calculations on a subset of data within a specified window size.\n",
    "Types of window functions are: rolling(), mean(), std(), median(), etc'''"
   ]
  },
  {
   "cell_type": "code",
   "execution_count": 16,
   "id": "ca5061b1-86d5-4e4f-bd2a-4cc32f371b3e",
   "metadata": {},
   "outputs": [
    {
     "data": {
      "text/plain": [
       "'7. Write a code to print only the current month and year at the time of answering this question.\\n[Hint: Use pandas.datetime function]'"
      ]
     },
     "execution_count": 16,
     "metadata": {},
     "output_type": "execute_result"
    }
   ],
   "source": [
    "'''7. Write a code to print only the current month and year at the time of answering this question.\n",
    "[Hint: Use pandas.datetime function]'''"
   ]
  },
  {
   "cell_type": "code",
   "execution_count": 17,
   "id": "0da4dee6-46f3-40e9-9014-71ceb50c074d",
   "metadata": {},
   "outputs": [
    {
     "name": "stdout",
     "output_type": "stream",
     "text": [
      "Current date:  2023-06-23\n",
      "Current year: 2023\n",
      "Current month: 6\n",
      "Current day: 23\n"
     ]
    }
   ],
   "source": [
    "from datetime import date\n",
    "todays_date = date.today()\n",
    "print(\"Current date: \", todays_date)\n",
    "print(\"Current year:\", todays_date.year)\n",
    "print(\"Current month:\", todays_date.month)\n",
    "print(\"Current day:\", todays_date.day)"
   ]
  }
 ],
 "metadata": {
  "kernelspec": {
   "display_name": "Python 3 (ipykernel)",
   "language": "python",
   "name": "python3"
  },
  "language_info": {
   "codemirror_mode": {
    "name": "ipython",
    "version": 3
   },
   "file_extension": ".py",
   "mimetype": "text/x-python",
   "name": "python",
   "nbconvert_exporter": "python",
   "pygments_lexer": "ipython3",
   "version": "3.10.8"
  }
 },
 "nbformat": 4,
 "nbformat_minor": 5
}
