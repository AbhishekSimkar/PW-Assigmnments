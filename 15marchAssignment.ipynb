{
 "cells": [
  {
   "cell_type": "code",
   "execution_count": 2,
   "id": "19032ca3-bbe2-4bfa-a6d3-a34373627380",
   "metadata": {},
   "outputs": [
    {
     "data": {
      "text/plain": [
       "'1- Explain the following with an example:\\n1) Artificial Inteligence\\n2) Machine Learning\\n3) Deep Learning'"
      ]
     },
     "execution_count": 2,
     "metadata": {},
     "output_type": "execute_result"
    }
   ],
   "source": [
    "'''1- Explain the following with an example:\n",
    "1) Artificial Inteligence\n",
    "2) Machine Learning\n",
    "3) Deep Learning'''"
   ]
  },
  {
   "cell_type": "code",
   "execution_count": 3,
   "id": "45641a1a-e30a-4569-83c2-a4732d8d177c",
   "metadata": {},
   "outputs": [
    {
     "data": {
      "text/plain": [
       "'1) Artificial Intelligence: It  aims to create intelligent machines capable of performing tasks that typically require human intelligence. Example: Google Assistent.\\n2) Machine learning: Machine Learning is a subset of AI that focuses on developing algorithms and statistical models that enable computers to learn from data and improve their performance on a specific task without being explicitly programmed. Example: Suppose you have 5 parameters to guess the price of house, you can follow certain parameters to obtain it.\\n3) Deep Learning: Deep learning algorithms attempt to mimic the structure and function of the human brain by using multiple layers of interconnected nodes (neurons) to process and transform data. Example: : Image recognition '"
      ]
     },
     "execution_count": 3,
     "metadata": {},
     "output_type": "execute_result"
    }
   ],
   "source": [
    "'''1) Artificial Intelligence: It  aims to create intelligent machines capable of performing tasks that typically require human intelligence. Example: Google Assistent.\n",
    "2) Machine learning: Machine Learning is a subset of AI that focuses on developing algorithms and statistical models that enable computers to learn from data and improve their performance on a specific task without being explicitly programmed. Example: Suppose you have 5 parameters to guess the price of house, you can follow certain parameters to obtain it.\n",
    "3) Deep Learning: Deep learning algorithms attempt to mimic the structure and function of the human brain by using multiple layers of interconnected nodes (neurons) to process and transform data. Example: : Image recognition '''"
   ]
  },
  {
   "cell_type": "code",
   "execution_count": 4,
   "id": "95343ec3-b06c-425c-bdf4-271f9039d621",
   "metadata": {},
   "outputs": [
    {
     "data": {
      "text/plain": [
       "'2- What is supervised learning? List some examples of supervised learning.'"
      ]
     },
     "execution_count": 4,
     "metadata": {},
     "output_type": "execute_result"
    }
   ],
   "source": [
    "'2- What is supervised learning? List some examples of supervised learning.'"
   ]
  },
  {
   "cell_type": "code",
   "execution_count": 5,
   "id": "e8da6147-5eef-4b29-96db-38d7ff325f2d",
   "metadata": {},
   "outputs": [
    {
     "data": {
      "text/plain": [
       "'It is a type of machine learning in which the algorithm is trained on a labeled dataset, where each data point is associated with a corresponding target or output. \\nimage recognition, language translation, speech recognition, medical diagnosis'"
      ]
     },
     "execution_count": 5,
     "metadata": {},
     "output_type": "execute_result"
    }
   ],
   "source": [
    "'''It is a type of machine learning in which the algorithm is trained on a labeled dataset, where each data point is associated with a corresponding target or output. \n",
    "image recognition, language translation, speech recognition, medical diagnosis'''"
   ]
  },
  {
   "cell_type": "code",
   "execution_count": 6,
   "id": "b72b2657-8233-4b36-bda8-29dcd9f9933b",
   "metadata": {},
   "outputs": [
    {
     "data": {
      "text/plain": [
       "'2- What is unsupervised learning? List some examples of unsupervised learning.'"
      ]
     },
     "execution_count": 6,
     "metadata": {},
     "output_type": "execute_result"
    }
   ],
   "source": [
    "'2- What is unsupervised learning? List some examples of unsupervised learning.'"
   ]
  },
  {
   "cell_type": "code",
   "execution_count": 7,
   "id": "a38afb56-3880-4d81-b64b-8657025da14f",
   "metadata": {},
   "outputs": [
    {
     "data": {
      "text/plain": [
       "'It is a type of machine learning where the algorithm is trained on an unlabeled dataset, meaning that the input data does not have corresponding target or output labels.'"
      ]
     },
     "execution_count": 7,
     "metadata": {},
     "output_type": "execute_result"
    }
   ],
   "source": [
    "'''It is a type of machine learning where the algorithm is trained on an unlabeled dataset, meaning that the input data does not have corresponding target or output labels.'''"
   ]
  },
  {
   "cell_type": "code",
   "execution_count": 8,
   "id": "d6d5609f-47b9-4786-a578-1a5845ae09f7",
   "metadata": {},
   "outputs": [
    {
     "data": {
      "text/plain": [
       "'4- What is the difference between AI, ML, DL, and DS?'"
      ]
     },
     "execution_count": 8,
     "metadata": {},
     "output_type": "execute_result"
    }
   ],
   "source": [
    "'4- What is the difference between AI, ML, DL, and DS?'"
   ]
  },
  {
   "cell_type": "code",
   "execution_count": 9,
   "id": "f29f762e-85d4-4be2-be62-d0cfd541fc50",
   "metadata": {},
   "outputs": [
    {
     "data": {
      "text/plain": [
       "'AI is a broad field of computer science that focuses on creating machines or systems capable of performing tasks that typically require human intelligence.\\nMachine Learning is a subset of AI that involves the development of algorithms and statistical models that enable computers to learn and improve their performance on a specific task without being explicitly programmed.\\nDeep Learning is a specialized subfield of Machine Learning that is based on artificial neural networks. It involves training deep neural networks with multiple layers to learn hierarchical representations of data.\\nData Science is an interdisciplinary field that combines techniques from statistics, mathematics, computer science, and domain knowledge to extract insights and knowledge from data.'"
      ]
     },
     "execution_count": 9,
     "metadata": {},
     "output_type": "execute_result"
    }
   ],
   "source": [
    "'''AI is a broad field of computer science that focuses on creating machines or systems capable of performing tasks that typically require human intelligence.\n",
    "Machine Learning is a subset of AI that involves the development of algorithms and statistical models that enable computers to learn and improve their performance on a specific task without being explicitly programmed.\n",
    "Deep Learning is a specialized subfield of Machine Learning that is based on artificial neural networks. It involves training deep neural networks with multiple layers to learn hierarchical representations of data.\n",
    "Data Science is an interdisciplinary field that combines techniques from statistics, mathematics, computer science, and domain knowledge to extract insights and knowledge from data.'''"
   ]
  },
  {
   "cell_type": "code",
   "execution_count": 11,
   "id": "42a78b44-0662-453d-a24b-e84cc50837d7",
   "metadata": {},
   "outputs": [
    {
     "data": {
      "text/plain": [
       "'5- What are the main difference between supervised, unsupervised and semi-supervised learning?'"
      ]
     },
     "execution_count": 11,
     "metadata": {},
     "output_type": "execute_result"
    }
   ],
   "source": [
    "'5- What are the main difference between supervised, unsupervised and semi-supervised learning?'"
   ]
  },
  {
   "cell_type": "code",
   "execution_count": 12,
   "id": "bf9d6abc-18f1-4177-82d4-59f580c6162f",
   "metadata": {},
   "outputs": [
    {
     "data": {
      "text/plain": [
       "'supervised learning relies on labeled data to learn patterns and make predictions, unsupervised learning seeks patterns and structures in unlabeled data, and semi-supervised learning combines both labeled and unlabeled data to enhance learning performance in scenarios where fully labeled data may be scarce.'"
      ]
     },
     "execution_count": 12,
     "metadata": {},
     "output_type": "execute_result"
    }
   ],
   "source": [
    "'''supervised learning relies on labeled data to learn patterns and make predictions, unsupervised learning seeks patterns and structures in unlabeled data, and semi-supervised learning combines both labeled and unlabeled data to enhance learning performance in scenarios where fully labeled data may be scarce.'''"
   ]
  },
  {
   "cell_type": "code",
   "execution_count": 13,
   "id": "84cfea88-2865-4dec-bf2a-4600d66fe4d8",
   "metadata": {},
   "outputs": [
    {
     "data": {
      "text/plain": [
       "'6- What is train, test and validation split? Explain the importance of each term.'"
      ]
     },
     "execution_count": 13,
     "metadata": {},
     "output_type": "execute_result"
    }
   ],
   "source": [
    "'6- What is train, test and validation split? Explain the importance of each term.'"
   ]
  },
  {
   "cell_type": "code",
   "execution_count": 14,
   "id": "3ec573c0-3bd7-4301-9061-83d0f7b3972a",
   "metadata": {},
   "outputs": [
    {
     "data": {
      "text/plain": [
       "' The training set is a portion of the dataset used to train the machine learning model. It contains input data (features) and their corresponding target labels (in supervised learning) or raw data (in unsupervised learning).\\nThe test set is a separate subset of the dataset that the model has never seen during training. It contains input data but lacks the corresponding target labels (or the target labels are kept hidden during evaluation).\\nThe validation set is a subset of the training data, usually taken from the training set, but not used during the actual training process. It is used for hyperparameter tuning and model selection.'"
      ]
     },
     "execution_count": 14,
     "metadata": {},
     "output_type": "execute_result"
    }
   ],
   "source": [
    "''' The training set is a portion of the dataset used to train the machine learning model. It contains input data (features) and their corresponding target labels (in supervised learning) or raw data (in unsupervised learning).\n",
    "The test set is a separate subset of the dataset that the model has never seen during training. It contains input data but lacks the corresponding target labels (or the target labels are kept hidden during evaluation).\n",
    "The validation set is a subset of the training data, usually taken from the training set, but not used during the actual training process. It is used for hyperparameter tuning and model selection.'''"
   ]
  },
  {
   "cell_type": "code",
   "execution_count": null,
   "id": "ed427c1d-e452-4a43-91b2-08f2b2f48f25",
   "metadata": {},
   "outputs": [],
   "source": []
  }
 ],
 "metadata": {
  "kernelspec": {
   "display_name": "Python 3 (ipykernel)",
   "language": "python",
   "name": "python3"
  },
  "language_info": {
   "codemirror_mode": {
    "name": "ipython",
    "version": 3
   },
   "file_extension": ".py",
   "mimetype": "text/x-python",
   "name": "python",
   "nbconvert_exporter": "python",
   "pygments_lexer": "ipython3",
   "version": "3.10.8"
  }
 },
 "nbformat": 4,
 "nbformat_minor": 5
}
