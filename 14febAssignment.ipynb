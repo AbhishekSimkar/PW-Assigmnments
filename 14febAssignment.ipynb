{
 "cells": [
  {
   "cell_type": "code",
   "execution_count": 1,
   "id": "303914c7-ef56-4c23-9b5b-b98df632afd4",
   "metadata": {},
   "outputs": [
    {
     "data": {
      "text/plain": [
       "'1. What is multithreading in python? Why is it used? Name the module used to handle threads in python?'"
      ]
     },
     "execution_count": 1,
     "metadata": {},
     "output_type": "execute_result"
    }
   ],
   "source": [
    "'''1. What is multithreading in python? Why is it used? Name the module used to handle threads in python?'''"
   ]
  },
  {
   "cell_type": "code",
   "execution_count": 2,
   "id": "af2e5ad2-775d-4c8c-b1e3-7eaea6b14e4a",
   "metadata": {},
   "outputs": [
    {
     "data": {
      "text/plain": [
       "' Multithreading refers to concurrently executing multiple threads by rapidly switching the control of the CPU between threads. \\nPython multithreading enables efficient utilization of the resources as the threads share the data space and memory. Multithreading in Python allows the concurrent and parallel occurrence of various tasks. It causes a reduction in time consumption or response time, thereby increasing the performance.\\ntreading module is used to handle threads in python.'"
      ]
     },
     "execution_count": 2,
     "metadata": {},
     "output_type": "execute_result"
    }
   ],
   "source": [
    "''' Multithreading refers to concurrently executing multiple threads by rapidly switching the control of the CPU between threads. \n",
    "Python multithreading enables efficient utilization of the resources as the threads share the data space and memory. Multithreading in Python allows the concurrent and parallel occurrence of various tasks. It causes a reduction in time consumption or response time, thereby increasing the performance.\n",
    "treading module is used to handle threads in python.'''"
   ]
  },
  {
   "cell_type": "code",
   "execution_count": 3,
   "id": "18d4f1cd-4509-47a4-b1ea-760d400389ae",
   "metadata": {},
   "outputs": [
    {
     "data": {
      "text/plain": [
       "'2. why threading module used? write the use of the following functions:\\n1. activeCount()\\n2. currentThread()\\n3. enumerate() '"
      ]
     },
     "execution_count": 3,
     "metadata": {},
     "output_type": "execute_result"
    }
   ],
   "source": [
    "'''2. why threading module used? write the use of the following functions:\n",
    "1. activeCount()\n",
    "2. currentThread()\n",
    "3. enumerate() '''"
   ]
  },
  {
   "cell_type": "code",
   "execution_count": 4,
   "id": "707e0885-0b2a-4043-9f15-05725beff8e3",
   "metadata": {},
   "outputs": [
    {
     "data": {
      "text/plain": [
       "\"Python threading allows you to have different parts of your program run concurrently and can simplify your design.\\n1. activeCount(): used to return the number of active threads in the current thread's thread group.\\n2. currentThread(): used to return a reference to the currently executing thread object.\\n3. enumerate() : it allows you to iterate through a sequence and keep track of the index of each element.\""
      ]
     },
     "execution_count": 4,
     "metadata": {},
     "output_type": "execute_result"
    }
   ],
   "source": [
    "'''Python threading allows you to have different parts of your program run concurrently and can simplify your design.\n",
    "1. activeCount(): used to return the number of active threads in the current thread's thread group.\n",
    "2. currentThread(): used to return a reference to the currently executing thread object.\n",
    "3. enumerate() : it allows you to iterate through a sequence and keep track of the index of each element.'''"
   ]
  },
  {
   "cell_type": "code",
   "execution_count": 5,
   "id": "53d51bb2-0859-4179-9571-cc76deb95f10",
   "metadata": {},
   "outputs": [
    {
     "data": {
      "text/plain": [
       "' 3. Explain the following functions:\\n1. run()\\n2. start()\\n3. join()\\n4. isAlive()'"
      ]
     },
     "execution_count": 5,
     "metadata": {},
     "output_type": "execute_result"
    }
   ],
   "source": [
    "''' 3. Explain the following functions:\n",
    "1. run()\n",
    "2. start()\n",
    "3. join()\n",
    "4. isAlive()'''"
   ]
  },
  {
   "cell_type": "code",
   "execution_count": 6,
   "id": "70280b93-aa51-4c01-a685-e94740382eec",
   "metadata": {},
   "outputs": [
    {
     "data": {
      "text/plain": [
       "\" 1. run(): it invokes the callable object passed to the object's constructor as the target argument, if any, with positional and keyword arguments taken from the args and kwargs arguments, respectively. Using list or tuple as the args argument which passed to the Thread could achieve the same effect.\\n2. start(): it will return immediately and the operating system will execute the function in a separate thread as soon as it is able.\\n3. join(): delays a program's flow of execution until the target thread has been completely read.\\n4. isAlive(): it checks whether a thread is still executing or not. \""
      ]
     },
     "execution_count": 6,
     "metadata": {},
     "output_type": "execute_result"
    }
   ],
   "source": [
    "''' 1. run(): it invokes the callable object passed to the object's constructor as the target argument, if any, with positional and keyword arguments taken from the args and kwargs arguments, respectively. Using list or tuple as the args argument which passed to the Thread could achieve the same effect.\n",
    "2. start(): it will return immediately and the operating system will execute the function in a separate thread as soon as it is able.\n",
    "3. join(): delays a program's flow of execution until the target thread has been completely read.\n",
    "4. isAlive(): it checks whether a thread is still executing or not. '''"
   ]
  },
  {
   "cell_type": "code",
   "execution_count": 7,
   "id": "7c2bd33a-0fb3-4077-aff1-ca803be246b9",
   "metadata": {},
   "outputs": [
    {
     "data": {
      "text/plain": [
       "' 4. Write a python program to create two threads. Thread one must print the list of squares and thread\\ntwo must print the list of cubes.'"
      ]
     },
     "execution_count": 7,
     "metadata": {},
     "output_type": "execute_result"
    }
   ],
   "source": [
    "''' 4. Write a python program to create two threads. Thread one must print the list of squares and thread\n",
    "two must print the list of cubes.'''"
   ]
  },
  {
   "cell_type": "code",
   "execution_count": 14,
   "id": "e0473571-2cc2-4bd1-9e7c-892e26383fcb",
   "metadata": {},
   "outputs": [
    {
     "name": "stdout",
     "output_type": "stream",
     "text": [
      "square of 1 is 1\n",
      "square of 2 is 4\n",
      "square of 3 is 9\n",
      "square of 4 is 16\n",
      "square of 5 is 25\n",
      "square of 6 is 36\n",
      "square of 7 is 49\n",
      "square of 8 is 64\n"
     ]
    }
   ],
   "source": [
    "import threading\n",
    "def sq(x):\n",
    "    print('square of %d is %d' %(x,x**2))\n",
    "thread1= [threading.Thread(target=sq , args=(i,)) for i in [1,2,3,4,5,6,7,8]]\n",
    "for j in thread1:\n",
    "    j.start()"
   ]
  },
  {
   "cell_type": "code",
   "execution_count": 15,
   "id": "cb32bac5-b8a0-4f1e-8e1c-5219a5ef50b5",
   "metadata": {},
   "outputs": [
    {
     "name": "stdout",
     "output_type": "stream",
     "text": [
      "cube of 1 is 1\n",
      "cube of 2 is 8\n",
      "cube of 3 is 27\n",
      "cube of 4 is 64\n",
      "cube of 5 is 125\n",
      "cube of 6 is 216\n",
      "cube of 7 is 343\n",
      "cube of 8 is 512\n"
     ]
    }
   ],
   "source": [
    "def cube_(x):\n",
    "    print('cube of %d is %d' %(x,x**3))\n",
    "thread2= [threading.Thread(target=cube_ , args=(i,)) for i in [1,2,3,4,5,6,7,8]]\n",
    "for j in thread2:\n",
    "    j.start()"
   ]
  },
  {
   "cell_type": "code",
   "execution_count": 16,
   "id": "ce74cfdc-3537-485a-b01d-14d8821480d8",
   "metadata": {},
   "outputs": [
    {
     "data": {
      "text/plain": [
       "' 5. State advantages and disadvantages of multithreading?'"
      ]
     },
     "execution_count": 16,
     "metadata": {},
     "output_type": "execute_result"
    }
   ],
   "source": [
    "''' 5. State advantages and disadvantages of multithreading?'''"
   ]
  },
  {
   "cell_type": "code",
   "execution_count": 17,
   "id": "9708983b-0274-485b-9788-53da366aaf2b",
   "metadata": {},
   "outputs": [
    {
     "data": {
      "text/plain": [
       "' Advantages:\\na. Python multithreading enables efficient utilization of the resources as the threads share the data space and memory.\\nb. Multithreading in Python allows the concurrent and parallel occurrence of various tasks.\\nc. It causes a reduction in time consumption or response time, thereby increasing the performance.\\n\\nDisadvantages:\\na. Difficulty of writing code.\\nb. Difficulty of debugging.'"
      ]
     },
     "execution_count": 17,
     "metadata": {},
     "output_type": "execute_result"
    }
   ],
   "source": [
    "''' Advantages:\n",
    "a. Python multithreading enables efficient utilization of the resources as the threads share the data space and memory.\n",
    "b. Multithreading in Python allows the concurrent and parallel occurrence of various tasks.\n",
    "c. It causes a reduction in time consumption or response time, thereby increasing the performance.\n",
    "\n",
    "Disadvantages:\n",
    "a. Difficulty of writing code.\n",
    "b. Difficulty of debugging.'''"
   ]
  },
  {
   "cell_type": "code",
   "execution_count": 18,
   "id": "27072fb6-ce7e-4cd1-84b4-6194c375fdee",
   "metadata": {},
   "outputs": [
    {
     "data": {
      "text/plain": [
       "'6. Explain deadlocks and race conditions.'"
      ]
     },
     "execution_count": 18,
     "metadata": {},
     "output_type": "execute_result"
    }
   ],
   "source": [
    "'''6. Explain deadlocks and race conditions.'''"
   ]
  },
  {
   "cell_type": "code",
   "execution_count": 19,
   "id": "36db22e1-64fc-4d71-8de6-e85f67a416b7",
   "metadata": {},
   "outputs": [
    {
     "data": {
      "text/plain": [
       "'A race condition occurs when two threads use the same variable at a given time. Deadlock exists when two threads seek one lock simultaneously. This situation will stop both threads from processing or executing the functions.'"
      ]
     },
     "execution_count": 19,
     "metadata": {},
     "output_type": "execute_result"
    }
   ],
   "source": [
    "'''A race condition occurs when two threads use the same variable at a given time. Deadlock exists when two threads seek one lock simultaneously. This situation will stop both threads from processing or executing the functions.'''"
   ]
  },
  {
   "cell_type": "code",
   "execution_count": null,
   "id": "9a24585a-3610-4c64-858f-0ac400d41af9",
   "metadata": {},
   "outputs": [],
   "source": []
  }
 ],
 "metadata": {
  "kernelspec": {
   "display_name": "Python 3 (ipykernel)",
   "language": "python",
   "name": "python3"
  },
  "language_info": {
   "codemirror_mode": {
    "name": "ipython",
    "version": 3
   },
   "file_extension": ".py",
   "mimetype": "text/x-python",
   "name": "python",
   "nbconvert_exporter": "python",
   "pygments_lexer": "ipython3",
   "version": "3.10.8"
  }
 },
 "nbformat": 4,
 "nbformat_minor": 5
}
