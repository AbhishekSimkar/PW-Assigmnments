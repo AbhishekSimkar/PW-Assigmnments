{
 "cells": [
  {
   "cell_type": "raw",
   "id": "aa3c8f5d-9cde-48d7-82b7-2046883927e0",
   "metadata": {},
   "source": [
    "1. Who developed python programming language?\n",
    "Guido Van Rossum."
   ]
  },
  {
   "cell_type": "raw",
   "id": "3b4d28e5-e59e-4f4e-b3c1-602763c9b228",
   "metadata": {},
   "source": [
    "2. Which type of programming does python Support?\n",
    "Dynamic type."
   ]
  },
  {
   "cell_type": "raw",
   "id": "e50e49bf-b744-4b64-8a19-8ea536c5eb35",
   "metadata": {},
   "source": [
    "3. Is pyhon case sensitive when dealing with identifiers?\n",
    "Yes."
   ]
  },
  {
   "cell_type": "raw",
   "id": "f3ecf6e5-9d43-4a93-860b-c8b4b6d51f3e",
   "metadata": {},
   "source": [
    "4. What is the correct extension of python file?\n",
    ".py"
   ]
  },
  {
   "cell_type": "raw",
   "id": "5c0e8142-2d26-42c4-b569-d809f61cf928",
   "metadata": {},
   "source": [
    "5. Is python code compiled or interpreted?\n",
    "Interpreted."
   ]
  },
  {
   "cell_type": "raw",
   "id": "55b414cf-0034-447a-b4b0-50b1427ad61f",
   "metadata": {},
   "source": [
    "6. Name a few blocks of code used to define in python language?\n",
    "Indentation is Used."
   ]
  },
  {
   "cell_type": "raw",
   "id": "e83b7866-5948-45c8-8c4c-6629eb0bbf8e",
   "metadata": {},
   "source": [
    "7. State a character used to give single line comment in python?\n",
    "#"
   ]
  },
  {
   "cell_type": "raw",
   "id": "15429753-cc74-4f7e-90cb-38e3d0e1d9cf",
   "metadata": {},
   "source": [
    "8. Mention functions which can help us to find the version of python that we are currently working on?\n",
    "a. sys,version\n",
    "b. python_version()\n",
    "c. python_v"
   ]
  },
  {
   "cell_type": "raw",
   "id": "682f7129-1145-4ef5-8202-f7b8215061ed",
   "metadata": {},
   "source": [
    "9. python supports ythe creation of anonymous function at runtime, using a constant called?\n",
    "def"
   ]
  },
  {
   "cell_type": "raw",
   "id": "ca52dd76-54d1-438d-ac71-40198de28c07",
   "metadata": {},
   "source": [
    "10. What is pip stand for in python?\n",
    "Preffered installer program."
   ]
  },
  {
   "cell_type": "raw",
   "id": "4087c57d-df8d-42ff-b6ce-80b5061dbc79",
   "metadata": {},
   "source": [
    "11. Mention a few built-in functions in python?\n",
    "bool(),len(),print(),type(),input(),max(),etc."
   ]
  },
  {
   "cell_type": "raw",
   "id": "74d4a117-cef5-424c-b570-fd32f3f31938",
   "metadata": {},
   "source": [
    "12. What is the maximum possible lenth of an identifier in python?\n",
    "79 characters"
   ]
  },
  {
   "cell_type": "raw",
   "id": "bf43fc6b-cda2-452f-856a-7b2034a14ed0",
   "metadata": {},
   "source": [
    "13. What are the benefits of using python?\n",
    "a. Easy to use.\n",
    "b. Dynamically typed.\n",
    "c. Free and open source.\n",
    "d. Interpreted language.\n",
    "e. Extensive library.\n",
    "f. Supportive community.\n",
    "g. Has good portability."
   ]
  },
  {
   "cell_type": "raw",
   "id": "741b030d-c063-41b8-a229-409525138a1f",
   "metadata": {},
   "source": [
    "14. How is memory managed in python?\n",
    "Memory in python is managed by python private heap space."
   ]
  },
  {
   "cell_type": "raw",
   "id": "f9539ce2-3778-4518-8d4c-de977bd92621",
   "metadata": {},
   "source": [
    "15. how to install python on windows and set path variables?\n",
    "\n",
    "    For installing \n",
    "1: Select the Python's version to download.\n",
    "2: Click on the Install Now.\n",
    "3: Installation in Process.\n",
    "\n",
    "   For setting path variables\n",
    "1. Right click on My Computer and click on properties.\n",
    "2. Click on Advanced System settings.\n",
    "3. Click on Environment Variable tab.\n",
    "4. Click on new tab of user variables.\n",
    "5. Write path in variable name.\n",
    "6. Copy the path of Python folder.\n",
    "7. Paste path of Python in variable value.\n",
    "8. Click on Ok button."
   ]
  },
  {
   "cell_type": "raw",
   "id": "d15a8b40-883f-4bbe-8d04-67baa71f5e21",
   "metadata": {},
   "source": [
    "16. Is indentation required in python?\n",
    "Yes"
   ]
  }
 ],
 "metadata": {
  "kernelspec": {
   "display_name": "Python 3 (ipykernel)",
   "language": "python",
   "name": "python3"
  },
  "language_info": {
   "codemirror_mode": {
    "name": "ipython",
    "version": 3
   },
   "file_extension": ".py",
   "mimetype": "text/x-python",
   "name": "python",
   "nbconvert_exporter": "python",
   "pygments_lexer": "ipython3",
   "version": "3.10.8"
  }
 },
 "nbformat": 4,
 "nbformat_minor": 5
}
